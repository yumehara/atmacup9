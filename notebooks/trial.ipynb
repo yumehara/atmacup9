{
 "cells": [
  {
   "cell_type": "code",
   "execution_count": 1,
   "metadata": {},
   "outputs": [],
   "source": [
    "import numpy as np\n",
    "import matplotlib.pyplot as plt\n",
    "import pandas as pd\n",
    "import feather\n",
    "import datetime\n",
    "from matplotlib_venn import venn2\n",
    "from sklearn import preprocessing\n",
    "from sklearn.model_selection import KFold\n",
    "from sklearn.model_selection import StratifiedKFold\n",
    "import lightgbm as lgbm\n",
    "from sklearn.model_selection import train_test_split\n",
    "from sklearn.metrics import roc_auc_score\n",
    "pd.set_option('display.max_Columns', 100)"
   ]
  },
  {
   "cell_type": "code",
   "execution_count": 2,
   "metadata": {},
   "outputs": [],
   "source": [
    "cartlog = pd.read_feather('../inputs/cartlog.f')\n",
    "product_master = pd.read_feather('../inputs/product_master.f')\n",
    "meta = pd.read_feather('../inputs/meta.f')\n",
    "user_master = pd.read_feather('../inputs/user_master.f')\n",
    "test = pd.read_csv('../inputs/test.csv')\n",
    "display_action_id = pd.read_csv('../inputs/display_action_id.csv')\n",
    "\n",
    "product_master['JAN'] = product_master['JAN'].astype(str)"
   ]
  },
  {
   "cell_type": "code",
   "execution_count": 3,
   "metadata": {},
   "outputs": [
    {
     "name": "stdout",
     "output_type": "stream",
     "text": [
      "56486\n"
     ]
    }
   ],
   "source": [
    "test_sessions = test[\"session_id\"].unique()\n",
    "print(len(test_sessions))\n",
    "test_input_log = cartlog[cartlog[\"session_id\"].isin(test_sessions)]"
   ]
  },
  {
   "cell_type": "code",
   "execution_count": 4,
   "metadata": {},
   "outputs": [],
   "source": [
    "class RetailDataset:\n",
    "    def __init__(self, thres_sec, cartlog, product, meta):\n",
    "        self.thres_sec = thres_sec\n",
    "        self.cartlog = cartlog\n",
    "        self.product_master = product\n",
    "        self.meta = meta.copy()\n",
    "        \n",
    "        meta['time_elapsed_sec'] = meta['time_elapsed'] * 60\n",
    "        self.meta.loc[self.meta['time_elapsed_sec'].isnull(), 'time_elapsed_sec'] = thres_sec\n",
    "        self.target_category_ids = [\n",
    "            38,  # アイスクリーム__ノベルティー\n",
    "            110,  # スナック・キャンディー__ガム\n",
    "            113,  # スナック・キャンディー__シリアル\n",
    "            114,  # スナック・キャンディー__スナック\n",
    "            134,  # チョコ・ビスクラ__チョコレート\n",
    "            171,  # ビール系__RTD\n",
    "            172,  # ビール系__ノンアルコール\n",
    "            173,  # ビール系__ビール系\n",
    "            376,  # 和菓子__米菓\n",
    "            435,  # 大型PET__無糖茶（大型PET）\n",
    "            467,  # 小型PET__コーヒー（小型PET）\n",
    "            537,  # 水・炭酸水__大型PET（炭酸水）\n",
    "            539,  # 水・炭酸水__小型PET（炭酸水）\n",
    "            629,  # 缶飲料__コーヒー（缶）\n",
    "            768,  # 麺類__カップ麺\n",
    "        ]\n",
    "\n",
    "    \n",
    "    def get_log_first_half(self) -> pd.DataFrame:\n",
    "        \"\"\"以下の条件を満たすログを取得する\n",
    "        - 学習期間(2020-08-01の前日まで)のセッションである\n",
    "        \"\"\"\n",
    "        first_half_sessions = set(\n",
    "            self.meta.query(\"date < '2020-08-01'\")[\"session_id\"].unique()\n",
    "        )\n",
    "        return self.cartlog[self.cartlog[\"session_id\"].isin(first_half_sessions)]\n",
    "\n",
    "    def get_train_output_log(self) -> pd.DataFrame:\n",
    "        \"\"\"以下の条件を満たすログを取得する\n",
    "        - 学習期間(2020-08-01の前日まで)のセッションである\n",
    "        - 指定した時間(thres_sec)以降にログが存在している\n",
    "        \"\"\"\n",
    "        return pd.merge(\n",
    "            self.get_log_first_half(),\n",
    "            self.meta[[\"session_id\", \"time_elapsed_sec\"]],\n",
    "            on=[\"session_id\"],\n",
    "            how=\"inner\",\n",
    "        ).query(\"spend_time > time_elapsed_sec\")\n",
    "\n",
    "    def get_train_sessions(self) -> set:\n",
    "        \"\"\"以下の条件を満たすセッションを取得する\n",
    "        - 学習期間(2020-08-01の前日まで)のセッションである\n",
    "        - 指定した時間(thres_sec)以降にログが存在している\n",
    "        \"\"\"\n",
    "        return set(self.get_train_output_log()[\"session_id\"].unique())\n",
    "\n",
    "    def get_train_input_log(self) -> pd.DataFrame:\n",
    "        \"\"\"以下の条件を満たすログを取得する\n",
    "        - 学習期間(2020-08-01の前日まで)のセッションである\n",
    "        - 指定した時間(thres_sec)以降にログが存在している\n",
    "        - 指定した時間(thres_sec)より前のログである\n",
    "        \"\"\"\n",
    "        train_sessions = self.get_train_sessions()\n",
    "        return pd.merge(\n",
    "            self.get_log_first_half()[\n",
    "                self.get_log_first_half()[\"session_id\"].isin(train_sessions)\n",
    "            ],\n",
    "            self.meta[[\"session_id\", \"time_elapsed_sec\"]],\n",
    "            on=[\"session_id\"],\n",
    "            how=\"inner\",\n",
    "        ).query(\"spend_time <= time_elapsed_sec\")\n",
    "\n",
    "    def get_payment_sessions(self) -> set:\n",
    "        \"\"\"以下の条件を満たすセッションを取得する\n",
    "        - 決済を行った\n",
    "        \"\"\"\n",
    "        return set(self.cartlog.query(\"is_payment == 1\")[\"session_id\"].unique())\n",
    "\n",
    "    def agg_payment(self, cartlog) -> pd.DataFrame:\n",
    "        \"\"\"セッションごと・商品ごとの購買個数を集計する\"\"\"\n",
    "        # 購買情報は商品のものだけ.\n",
    "        target_index = cartlog[\"kind_1\"] == \"商品\"\n",
    "\n",
    "        # JANコード (vale_1)ごとに商品の購入個数(n_items)を足し算\n",
    "        agg = (\n",
    "            cartlog.loc[target_index]\n",
    "            .groupby([\"session_id\", \"value_1\"])[\"n_items\"]\n",
    "            .sum()\n",
    "            .reset_index()\n",
    "        )\n",
    "        agg = agg.rename(columns={\"value_1\": \"JAN\"})\n",
    "#         agg = agg.astype({\"JAN\": int})\n",
    "        return agg\n",
    "\n",
    "    def get_train_target(self) -> pd.DataFrame:\n",
    "        \"\"\"学習で使用するセッションの目的変数を取得する\"\"\"\n",
    "        # 空のターゲット用データフレームを用意する\n",
    "        train_sessions = self.get_train_sessions()\n",
    "        train_target = pd.DataFrame(\n",
    "            np.zeros((len(train_sessions), len(self.target_category_ids))),\n",
    "            index=train_sessions,\n",
    "            columns=self.target_category_ids,\n",
    "        ).astype(int)\n",
    "        train_target.index.name = \"session_id\"\n",
    "\n",
    "        # 集計する\n",
    "        train_output_log = self.get_train_output_log()\n",
    "        train_items_per_session_jan = self.agg_payment(train_output_log)\n",
    "        train_items_per_session_target_jan = pd.merge(\n",
    "            train_items_per_session_jan,\n",
    "            self.product_master[[\"JAN\", \"category_id\"]],\n",
    "            on=\"JAN\",\n",
    "            how=\"inner\",\n",
    "        ).query(\"category_id in @self.target_category_ids\")\n",
    "        train_target_pos = (\n",
    "            train_items_per_session_target_jan.groupby([\"session_id\", \"category_id\"])[\n",
    "                \"n_items\"\n",
    "            ]\n",
    "            .sum()\n",
    "            .unstack()\n",
    "            .fillna(0)\n",
    "            .astype(int)\n",
    "        )\n",
    "        train_target_pos[train_target_pos > 0] = 1\n",
    "        train_target_pos[train_target_pos <= 0] = 0\n",
    "\n",
    "        train_target.loc[train_target_pos.index] = train_target_pos.values\n",
    "        return train_target[self.target_category_ids].reset_index()"
   ]
  },
  {
   "cell_type": "code",
   "execution_count": 5,
   "metadata": {},
   "outputs": [],
   "source": [
    "def get_train_log(elapsed_min):\n",
    "    dataset = RetailDataset(elapsed_min*60, cartlog, product_master, meta)\n",
    "    train_input_log = dataset.get_train_input_log()\n",
    "    y_train = dataset.get_train_target()\n",
    "    print('train_session', y_train.shape)\n",
    "    return train_input_log, y_train"
   ]
  },
  {
   "cell_type": "code",
   "execution_count": 6,
   "metadata": {},
   "outputs": [],
   "source": [
    "ELAPSED_MIN = [0, 3, 5, 10]"
   ]
  },
  {
   "cell_type": "code",
   "execution_count": 7,
   "metadata": {},
   "outputs": [],
   "source": [
    "def save_train_log():\n",
    "    for elap_min in ELAPSED_MIN:\n",
    "        train_log, train_y = get_train_log(elap_min)\n",
    "        train_log = train_log.reset_index(drop=True)\n",
    "        train_y = train_y.reset_index(drop=True)\n",
    "        train_y.columns = [str(c) for c in train_y.columns]\n",
    "        train_log.to_feather('../inputs/train_log_{}.f'.format(elap_min))\n",
    "        train_y.to_feather('../inputs/train_y_{}.f'.format(elap_min))"
   ]
  },
  {
   "cell_type": "code",
   "execution_count": 8,
   "metadata": {},
   "outputs": [],
   "source": [
    "def load_train_log():\n",
    "    train_log = {}\n",
    "    train_y = {}\n",
    "    for elap_min in ELAPSED_MIN:\n",
    "        log = pd.read_feather('../inputs/train_log_{}.f'.format(elap_min))\n",
    "        y = pd.read_feather('../inputs/train_y_{}.f'.format(elap_min))\n",
    "        train_log[elap_min] = log\n",
    "        train_y[elap_min] = y\n",
    "    return train_log, train_y"
   ]
  },
  {
   "cell_type": "code",
   "execution_count": 9,
   "metadata": {},
   "outputs": [],
   "source": [
    "# save_train_log()"
   ]
  },
  {
   "cell_type": "markdown",
   "metadata": {},
   "source": [
    "### ユーザ情報"
   ]
  },
  {
   "cell_type": "code",
   "execution_count": 10,
   "metadata": {},
   "outputs": [],
   "source": [
    "user_features = pd.merge(meta[[\"session_id\", \"user_id\"]], user_master, on=\"user_id\", how=\"left\").drop(columns=[\"user_id\"])\n",
    "user_features.loc[user_features['age'] >= 80, 'age'] = np.NaN\n",
    "user_features.loc[user_features['age'] < 10, 'age'] = np.NaN\n",
    "user_features.loc[user_features['gender'] > 1, 'gender'] = np.NaN"
   ]
  },
  {
   "cell_type": "markdown",
   "metadata": {},
   "source": [
    "### メタ情報"
   ]
  },
  {
   "cell_type": "code",
   "execution_count": 11,
   "metadata": {},
   "outputs": [],
   "source": [
    "meta_features = meta.copy()\n",
    "meta_features['year'] = meta_features['date'].dt.year\n",
    "meta_features['month'] = meta_features['date'].dt.month\n",
    "meta_features['day'] = meta_features['date'].dt.day\n",
    "meta_features['dow'] = meta_features['date'].dt.dayofweek\n",
    "meta_features['doy'] = meta_features['date'].dt.dayofyear\n",
    "le = preprocessing.LabelEncoder()\n",
    "meta_features['userid'] = le.fit_transform(meta_features['user_id'])\n",
    "meta_features.drop(columns=['user_id', 'date', 'time_elapsed', 'date_str'], inplace=True)"
   ]
  },
  {
   "cell_type": "markdown",
   "metadata": {},
   "source": [
    "### ディスプレイアクション"
   ]
  },
  {
   "cell_type": "code",
   "execution_count": 12,
   "metadata": {},
   "outputs": [],
   "source": [
    "disp_name_dic = {}\n",
    "for i, disp in enumerate(display_action_id['display_name'].unique()):\n",
    "    disp_name_dic[disp] = 'disp_cnt_{}'.format(i)\n",
    "    \n",
    "act_name_dic = {}\n",
    "for i, action in enumerate(display_action_id['action_name'].unique()):\n",
    "    act_name_dic[action] = 'act_cnt_{}'.format(i)"
   ]
  },
  {
   "cell_type": "code",
   "execution_count": 13,
   "metadata": {},
   "outputs": [],
   "source": [
    "def get_display_name_feature(input_log):\n",
    "    merge = pd.merge(input_log, display_action_id, on='display_action_id', how='left')\n",
    "    disp_group_count = merge.groupby(['session_id', 'display_name']).size().reset_index().rename(columns={0:'disp_name_count'})\n",
    "    disp_name_pivot = disp_group_count.pivot_table(index='session_id', columns='display_name', values='disp_name_count', aggfunc='sum')\n",
    "    disp_name_pivot = disp_name_pivot.reset_index().fillna(0).rename(columns=disp_name_dic)\n",
    "    \n",
    "    disp_out = disp_name_pivot[['session_id']].copy()\n",
    "    for val in disp_name_dic.values():\n",
    "        disp_out[val] = 0\n",
    "    \n",
    "    for col in disp_name_pivot.columns:\n",
    "        if col == 'session_id':\n",
    "            continue\n",
    "        disp_out[col] = disp_name_pivot[col]\n",
    "    \n",
    "    return disp_out"
   ]
  },
  {
   "cell_type": "code",
   "execution_count": 14,
   "metadata": {},
   "outputs": [],
   "source": [
    "def get_action_name_feature(input_log):\n",
    "    merge = pd.merge(input_log, display_action_id, on='display_action_id', how='left')\n",
    "    act_group_count = merge.groupby(['session_id', 'action_name']).size().reset_index().rename(columns={0:'act_name_count'})\n",
    "    act_name_pivot = act_group_count.pivot_table(index='session_id', columns='action_name', values='act_name_count', aggfunc='sum')\n",
    "    act_name_pivot = act_name_pivot.reset_index().fillna(0).rename(columns=act_name_dic)\n",
    "    \n",
    "    act_out = act_name_pivot[['session_id']].copy()\n",
    "    for val in act_name_dic.values():\n",
    "        act_out[val] = 0\n",
    "    \n",
    "    for col in act_name_pivot.columns:\n",
    "        if col == 'session_id':\n",
    "            continue\n",
    "        act_out[col] = act_name_pivot[col]\n",
    "    \n",
    "    return act_out"
   ]
  },
  {
   "cell_type": "markdown",
   "metadata": {},
   "source": [
    "### セッション単位の特徴量"
   ]
  },
  {
   "cell_type": "code",
   "execution_count": 15,
   "metadata": {},
   "outputs": [],
   "source": [
    "def get_session_kind_group(input_log):\n",
    "    kind_name ={\n",
    "        'クーポン': 'coupon',\n",
    "        '会計': 'kaikei',\n",
    "        'キー': 'key',\n",
    "        'カテゴリ': 'categry',\n",
    "        'バーコードスキャン': 'barcode',\n",
    "        'UUID': 'uuid',\n",
    "        '使用ポイント': 'usedpoint',\n",
    "        '確認': 'confirm',\n",
    "        'ブランドスイッチ': 'bland',\n",
    "        'レシピ': 'recipe',\n",
    "        'スマホスキャン': 'smartphone',\n",
    "        '磁気スキャン': 'magnetic',\n",
    "        'レコメンド': 'recommend',\n",
    "        '倍率ポイント': 'point',\n",
    "    }\n",
    "    group_count = input_log[input_log['kind_1'] == '商品'].groupby([\"session_id\"]).size().rename('group_count_'+'item')\n",
    "    for kind, name in kind_name.items():\n",
    "        tmp = input_log[input_log['kind_1'] == kind].groupby([\"session_id\"]).size().rename('group_count_'+name)\n",
    "        group_count = pd.concat([group_count, tmp], axis=1)\n",
    "        \n",
    "    return group_count.reset_index()"
   ]
  },
  {
   "cell_type": "code",
   "execution_count": 16,
   "metadata": {},
   "outputs": [],
   "source": [
    "def get_session_info(input_log):\n",
    "    # アクション数\n",
    "    n_actions = input_log.groupby([\"session_id\"]).size().rename(\"n_actions\")\n",
    "    # 経過時間の平均\n",
    "    mean_spend_time = input_log.groupby([\"session_id\"])[\"spend_time\"].mean()\n",
    "    \n",
    "    session_features = pd.concat([\n",
    "        n_actions,\n",
    "        mean_spend_time,\n",
    "    ], axis=1)\n",
    "    return session_features.reset_index()"
   ]
  },
  {
   "cell_type": "markdown",
   "metadata": {},
   "source": [
    "### セッション単位で集計"
   ]
  },
  {
   "cell_type": "code",
   "execution_count": 17,
   "metadata": {},
   "outputs": [],
   "source": [
    "def get_session_features(input_log):\n",
    "    df_ses = pd.DataFrame(columns=['session_id'])\n",
    "    \n",
    "    session_feat = [\n",
    "        get_session_info(input_log),\n",
    "        get_session_kind_group(input_log),\n",
    "        get_display_name_feature(input_log),\n",
    "        get_action_name_feature(input_log),\n",
    "    ]\n",
    "    \n",
    "    for feat in session_feat:\n",
    "        df_ses = pd.merge(df_ses, feat, on='session_id', how='outer')\n",
    "        \n",
    "    return df_ses"
   ]
  },
  {
   "cell_type": "markdown",
   "metadata": {},
   "source": [
    "### 特徴量を集約する"
   ]
  },
  {
   "cell_type": "code",
   "execution_count": 18,
   "metadata": {},
   "outputs": [],
   "source": [
    "def merge_features(input_log, session):\n",
    "    feat_list = [\n",
    "        get_session_features(input_log),\n",
    "        user_features,\n",
    "        meta_features,\n",
    "    ]\n",
    "    out = pd.DataFrame({\"session_id\": session})\n",
    "    for feat in feat_list:\n",
    "        out = pd.merge(out, feat, on=\"session_id\", how=\"left\")\n",
    "\n",
    "    assert len(session) == len(out)\n",
    "    return out"
   ]
  },
  {
   "cell_type": "code",
   "execution_count": 19,
   "metadata": {},
   "outputs": [],
   "source": [
    "def get_train_all_features(elapsed_min, train_log_list, train_y_list):\n",
    "    train_input_log = train_log_list[elapsed_min]\n",
    "    y_train = train_y_list[elapsed_min]\n",
    "    \n",
    "    train_features = merge_features(train_input_log, y_train['session_id'])\n",
    "    print('train_session', len(y_train.shape))\n",
    "    return train_features, y_train"
   ]
  },
  {
   "cell_type": "code",
   "execution_count": 20,
   "metadata": {},
   "outputs": [],
   "source": [
    "def get_test_all_feature(elapsed_min):\n",
    "    test_meta = meta[meta['session_id'].isin(test_sessions)]\n",
    "    test_meta = test_meta[test_meta['time_elapsed'] == elapsed_min]\n",
    "    test_input_elapsed = pd.merge(test_input_log, test_meta[['session_id']], on='session_id', how='left')\n",
    "    \n",
    "    test_features = merge_features(test_input_elapsed, test_meta['session_id'])\n",
    "    print('test_session', len(test_meta))\n",
    "    return test_features"
   ]
  },
  {
   "cell_type": "code",
   "execution_count": 21,
   "metadata": {},
   "outputs": [],
   "source": [
    "n_fold = 4"
   ]
  },
  {
   "cell_type": "code",
   "execution_count": 22,
   "metadata": {},
   "outputs": [],
   "source": [
    "lgbm_param = {\n",
    "    'objective' : 'binary',\n",
    "    'boosting_type': 'gbdt',\n",
    "    'metric': 'auc',\n",
    "    'seed' : 0,\n",
    "    'learning_rate':  0.1,\n",
    "    'verbose': -1\n",
    "}"
   ]
  },
  {
   "cell_type": "code",
   "execution_count": 23,
   "metadata": {},
   "outputs": [],
   "source": [
    "def train_lgbm(X, y, params=lgbm_param):\n",
    "\n",
    "    fold = StratifiedKFold(n_splits=n_fold, shuffle=True, random_state=0)\n",
    "    cv = fold.split(X, y)\n",
    "    \n",
    "    models = []\n",
    "    oof_pred = np.zeros_like(y, dtype=np.float)\n",
    "    \n",
    "    cat_feat = ['age', 'gender', 'dow']\n",
    "\n",
    "    for i, (idx_train, idx_valid) in enumerate(cv): \n",
    "        x_train, y_train = X.iloc[idx_train], y.iloc[idx_train]\n",
    "        x_valid, y_valid = X.iloc[idx_valid], y.iloc[idx_valid]\n",
    "        \n",
    "        lgbm_train = lgbm.Dataset(x_train, y_train, categorical_feature = cat_feat)\n",
    "        lgbm_eval = lgbm.Dataset(x_valid, y_valid, reference=lgbm_train, categorical_feature = cat_feat)\n",
    "        \n",
    "        lgbm_model = lgbm.train(params, \n",
    "                                                    lgbm_train, \n",
    "                                                    valid_sets=lgbm_eval,\n",
    "                                                    categorical_feature = cat_feat,\n",
    "                                                    num_boost_round=10000,\n",
    "                                                    early_stopping_rounds=100,\n",
    "                                                    verbose_eval=-1)\n",
    "        y_pred = lgbm_model.predict(x_valid, num_iteration=lgbm_model.best_iteration)\n",
    "        \n",
    "        oof_pred[idx_valid] = y_pred\n",
    "        models.append(lgbm_model)\n",
    "\n",
    "    score = roc_auc_score(y, oof_pred)\n",
    "    print('--- FINISHED \\ whole score: {:.4f} ---'.format(score))\n",
    "    return oof_pred, models, score"
   ]
  },
  {
   "cell_type": "code",
   "execution_count": 24,
   "metadata": {},
   "outputs": [],
   "source": [
    "def predict(models, feature):\n",
    "    pred_list = []\n",
    "    for i, model in enumerate(models):\n",
    "        pred = model.predict(feature, num_iteration = model.best_iteration)\n",
    "        pred_list.append(pred)\n",
    "    \n",
    "    score = np.mean(pred_list, axis=0)\n",
    "    return score"
   ]
  },
  {
   "cell_type": "code",
   "execution_count": 25,
   "metadata": {},
   "outputs": [],
   "source": [
    "train_log_list, train_y_list = load_train_log()"
   ]
  },
  {
   "cell_type": "code",
   "execution_count": 26,
   "metadata": {
    "scrolled": false
   },
   "outputs": [
    {
     "name": "stdout",
     "output_type": "stream",
     "text": [
      "===== 0 =====\n",
      "train_session 2\n",
      "test_session 14277\n",
      "---- id = 38 -----\n"
     ]
    },
    {
     "name": "stderr",
     "output_type": "stream",
     "text": [
      "/home/umhrysnb/anaconda3/lib/python3.8/site-packages/lightgbm/basic.py:1286: UserWarning: Overriding the parameters from Reference Dataset.\n",
      "  warnings.warn('Overriding the parameters from Reference Dataset.')\n",
      "/home/umhrysnb/anaconda3/lib/python3.8/site-packages/lightgbm/basic.py:1098: UserWarning: categorical_column in param dict is overridden.\n",
      "  warnings.warn('{} in param dict is overridden.'.format(cat_alias))\n"
     ]
    },
    {
     "name": "stdout",
     "output_type": "stream",
     "text": [
      "Training until validation scores don't improve for 100 rounds\n",
      "Early stopping, best iteration is:\n",
      "[833]\tvalid_0's auc: 0.724425\n",
      "Training until validation scores don't improve for 100 rounds\n",
      "Early stopping, best iteration is:\n",
      "[1455]\tvalid_0's auc: 0.72548\n",
      "Training until validation scores don't improve for 100 rounds\n",
      "Early stopping, best iteration is:\n",
      "[998]\tvalid_0's auc: 0.721729\n",
      "Training until validation scores don't improve for 100 rounds\n",
      "Early stopping, best iteration is:\n",
      "[1370]\tvalid_0's auc: 0.72664\n",
      "--- FINISHED \\ whole score: 0.7245 ---\n",
      "---- id = 110 -----\n"
     ]
    },
    {
     "name": "stderr",
     "output_type": "stream",
     "text": [
      "/home/umhrysnb/anaconda3/lib/python3.8/site-packages/lightgbm/basic.py:1286: UserWarning: Overriding the parameters from Reference Dataset.\n",
      "  warnings.warn('Overriding the parameters from Reference Dataset.')\n",
      "/home/umhrysnb/anaconda3/lib/python3.8/site-packages/lightgbm/basic.py:1098: UserWarning: categorical_column in param dict is overridden.\n",
      "  warnings.warn('{} in param dict is overridden.'.format(cat_alias))\n"
     ]
    },
    {
     "name": "stdout",
     "output_type": "stream",
     "text": [
      "Training until validation scores don't improve for 100 rounds\n",
      "Early stopping, best iteration is:\n",
      "[342]\tvalid_0's auc: 0.659164\n",
      "Training until validation scores don't improve for 100 rounds\n",
      "Early stopping, best iteration is:\n",
      "[356]\tvalid_0's auc: 0.659008\n",
      "Training until validation scores don't improve for 100 rounds\n",
      "Early stopping, best iteration is:\n",
      "[335]\tvalid_0's auc: 0.663838\n",
      "Training until validation scores don't improve for 100 rounds\n",
      "Early stopping, best iteration is:\n",
      "[466]\tvalid_0's auc: 0.668645\n",
      "--- FINISHED \\ whole score: 0.6627 ---\n",
      "---- id = 113 -----\n"
     ]
    },
    {
     "name": "stderr",
     "output_type": "stream",
     "text": [
      "/home/umhrysnb/anaconda3/lib/python3.8/site-packages/lightgbm/basic.py:1286: UserWarning: Overriding the parameters from Reference Dataset.\n",
      "  warnings.warn('Overriding the parameters from Reference Dataset.')\n",
      "/home/umhrysnb/anaconda3/lib/python3.8/site-packages/lightgbm/basic.py:1098: UserWarning: categorical_column in param dict is overridden.\n",
      "  warnings.warn('{} in param dict is overridden.'.format(cat_alias))\n"
     ]
    },
    {
     "name": "stdout",
     "output_type": "stream",
     "text": [
      "Training until validation scores don't improve for 100 rounds\n",
      "Early stopping, best iteration is:\n",
      "[580]\tvalid_0's auc: 0.696352\n",
      "Training until validation scores don't improve for 100 rounds\n",
      "Early stopping, best iteration is:\n",
      "[703]\tvalid_0's auc: 0.690994\n",
      "Training until validation scores don't improve for 100 rounds\n",
      "Early stopping, best iteration is:\n",
      "[588]\tvalid_0's auc: 0.696139\n",
      "Training until validation scores don't improve for 100 rounds\n",
      "Early stopping, best iteration is:\n",
      "[336]\tvalid_0's auc: 0.683925\n",
      "--- FINISHED \\ whole score: 0.6918 ---\n",
      "---- id = 114 -----\n"
     ]
    },
    {
     "name": "stderr",
     "output_type": "stream",
     "text": [
      "/home/umhrysnb/anaconda3/lib/python3.8/site-packages/lightgbm/basic.py:1286: UserWarning: Overriding the parameters from Reference Dataset.\n",
      "  warnings.warn('Overriding the parameters from Reference Dataset.')\n",
      "/home/umhrysnb/anaconda3/lib/python3.8/site-packages/lightgbm/basic.py:1098: UserWarning: categorical_column in param dict is overridden.\n",
      "  warnings.warn('{} in param dict is overridden.'.format(cat_alias))\n"
     ]
    },
    {
     "name": "stdout",
     "output_type": "stream",
     "text": [
      "Training until validation scores don't improve for 100 rounds\n",
      "Early stopping, best iteration is:\n",
      "[1391]\tvalid_0's auc: 0.68222\n",
      "Training until validation scores don't improve for 100 rounds\n",
      "Early stopping, best iteration is:\n",
      "[1722]\tvalid_0's auc: 0.681871\n",
      "Training until validation scores don't improve for 100 rounds\n",
      "Early stopping, best iteration is:\n",
      "[1165]\tvalid_0's auc: 0.685277\n",
      "Training until validation scores don't improve for 100 rounds\n",
      "Early stopping, best iteration is:\n",
      "[809]\tvalid_0's auc: 0.679501\n",
      "--- FINISHED \\ whole score: 0.6822 ---\n",
      "---- id = 134 -----\n"
     ]
    },
    {
     "name": "stderr",
     "output_type": "stream",
     "text": [
      "/home/umhrysnb/anaconda3/lib/python3.8/site-packages/lightgbm/basic.py:1286: UserWarning: Overriding the parameters from Reference Dataset.\n",
      "  warnings.warn('Overriding the parameters from Reference Dataset.')\n",
      "/home/umhrysnb/anaconda3/lib/python3.8/site-packages/lightgbm/basic.py:1098: UserWarning: categorical_column in param dict is overridden.\n",
      "  warnings.warn('{} in param dict is overridden.'.format(cat_alias))\n"
     ]
    },
    {
     "name": "stdout",
     "output_type": "stream",
     "text": [
      "Training until validation scores don't improve for 100 rounds\n",
      "Early stopping, best iteration is:\n",
      "[819]\tvalid_0's auc: 0.666278\n",
      "Training until validation scores don't improve for 100 rounds\n",
      "Early stopping, best iteration is:\n",
      "[1181]\tvalid_0's auc: 0.666908\n",
      "Training until validation scores don't improve for 100 rounds\n",
      "Early stopping, best iteration is:\n",
      "[1068]\tvalid_0's auc: 0.66652\n",
      "Training until validation scores don't improve for 100 rounds\n",
      "Early stopping, best iteration is:\n",
      "[981]\tvalid_0's auc: 0.670966\n",
      "--- FINISHED \\ whole score: 0.6676 ---\n",
      "---- id = 171 -----\n"
     ]
    },
    {
     "name": "stderr",
     "output_type": "stream",
     "text": [
      "/home/umhrysnb/anaconda3/lib/python3.8/site-packages/lightgbm/basic.py:1286: UserWarning: Overriding the parameters from Reference Dataset.\n",
      "  warnings.warn('Overriding the parameters from Reference Dataset.')\n",
      "/home/umhrysnb/anaconda3/lib/python3.8/site-packages/lightgbm/basic.py:1098: UserWarning: categorical_column in param dict is overridden.\n",
      "  warnings.warn('{} in param dict is overridden.'.format(cat_alias))\n"
     ]
    },
    {
     "name": "stdout",
     "output_type": "stream",
     "text": [
      "Training until validation scores don't improve for 100 rounds\n",
      "Early stopping, best iteration is:\n",
      "[1208]\tvalid_0's auc: 0.757398\n",
      "Training until validation scores don't improve for 100 rounds\n",
      "Early stopping, best iteration is:\n",
      "[1195]\tvalid_0's auc: 0.758317\n",
      "Training until validation scores don't improve for 100 rounds\n",
      "Early stopping, best iteration is:\n",
      "[1987]\tvalid_0's auc: 0.760366\n",
      "Training until validation scores don't improve for 100 rounds\n",
      "Early stopping, best iteration is:\n",
      "[1105]\tvalid_0's auc: 0.757103\n",
      "--- FINISHED \\ whole score: 0.7582 ---\n",
      "---- id = 172 -----\n"
     ]
    },
    {
     "name": "stderr",
     "output_type": "stream",
     "text": [
      "/home/umhrysnb/anaconda3/lib/python3.8/site-packages/lightgbm/basic.py:1286: UserWarning: Overriding the parameters from Reference Dataset.\n",
      "  warnings.warn('Overriding the parameters from Reference Dataset.')\n",
      "/home/umhrysnb/anaconda3/lib/python3.8/site-packages/lightgbm/basic.py:1098: UserWarning: categorical_column in param dict is overridden.\n",
      "  warnings.warn('{} in param dict is overridden.'.format(cat_alias))\n"
     ]
    },
    {
     "name": "stdout",
     "output_type": "stream",
     "text": [
      "Training until validation scores don't improve for 100 rounds\n",
      "Early stopping, best iteration is:\n",
      "[966]\tvalid_0's auc: 0.739578\n",
      "Training until validation scores don't improve for 100 rounds\n",
      "Early stopping, best iteration is:\n",
      "[385]\tvalid_0's auc: 0.746108\n",
      "Training until validation scores don't improve for 100 rounds\n",
      "Early stopping, best iteration is:\n",
      "[539]\tvalid_0's auc: 0.729696\n",
      "Training until validation scores don't improve for 100 rounds\n",
      "Early stopping, best iteration is:\n",
      "[576]\tvalid_0's auc: 0.741391\n",
      "--- FINISHED \\ whole score: 0.7386 ---\n",
      "---- id = 173 -----\n"
     ]
    },
    {
     "name": "stderr",
     "output_type": "stream",
     "text": [
      "/home/umhrysnb/anaconda3/lib/python3.8/site-packages/lightgbm/basic.py:1286: UserWarning: Overriding the parameters from Reference Dataset.\n",
      "  warnings.warn('Overriding the parameters from Reference Dataset.')\n",
      "/home/umhrysnb/anaconda3/lib/python3.8/site-packages/lightgbm/basic.py:1098: UserWarning: categorical_column in param dict is overridden.\n",
      "  warnings.warn('{} in param dict is overridden.'.format(cat_alias))\n"
     ]
    },
    {
     "name": "stdout",
     "output_type": "stream",
     "text": [
      "Training until validation scores don't improve for 100 rounds\n",
      "Early stopping, best iteration is:\n",
      "[1544]\tvalid_0's auc: 0.744495\n",
      "Training until validation scores don't improve for 100 rounds\n",
      "Early stopping, best iteration is:\n",
      "[1999]\tvalid_0's auc: 0.748492\n",
      "Training until validation scores don't improve for 100 rounds\n",
      "Early stopping, best iteration is:\n",
      "[1224]\tvalid_0's auc: 0.744683\n",
      "Training until validation scores don't improve for 100 rounds\n",
      "Early stopping, best iteration is:\n",
      "[1283]\tvalid_0's auc: 0.74352\n",
      "--- FINISHED \\ whole score: 0.7453 ---\n",
      "---- id = 376 -----\n"
     ]
    },
    {
     "name": "stderr",
     "output_type": "stream",
     "text": [
      "/home/umhrysnb/anaconda3/lib/python3.8/site-packages/lightgbm/basic.py:1286: UserWarning: Overriding the parameters from Reference Dataset.\n",
      "  warnings.warn('Overriding the parameters from Reference Dataset.')\n",
      "/home/umhrysnb/anaconda3/lib/python3.8/site-packages/lightgbm/basic.py:1098: UserWarning: categorical_column in param dict is overridden.\n",
      "  warnings.warn('{} in param dict is overridden.'.format(cat_alias))\n"
     ]
    },
    {
     "name": "stdout",
     "output_type": "stream",
     "text": [
      "Training until validation scores don't improve for 100 rounds\n",
      "Early stopping, best iteration is:\n",
      "[697]\tvalid_0's auc: 0.658343\n",
      "Training until validation scores don't improve for 100 rounds\n",
      "Early stopping, best iteration is:\n",
      "[741]\tvalid_0's auc: 0.658861\n",
      "Training until validation scores don't improve for 100 rounds\n",
      "Early stopping, best iteration is:\n",
      "[783]\tvalid_0's auc: 0.657964\n",
      "Training until validation scores don't improve for 100 rounds\n",
      "Early stopping, best iteration is:\n",
      "[516]\tvalid_0's auc: 0.657504\n",
      "--- FINISHED \\ whole score: 0.6581 ---\n",
      "---- id = 435 -----\n"
     ]
    },
    {
     "name": "stderr",
     "output_type": "stream",
     "text": [
      "/home/umhrysnb/anaconda3/lib/python3.8/site-packages/lightgbm/basic.py:1286: UserWarning: Overriding the parameters from Reference Dataset.\n",
      "  warnings.warn('Overriding the parameters from Reference Dataset.')\n",
      "/home/umhrysnb/anaconda3/lib/python3.8/site-packages/lightgbm/basic.py:1098: UserWarning: categorical_column in param dict is overridden.\n",
      "  warnings.warn('{} in param dict is overridden.'.format(cat_alias))\n"
     ]
    },
    {
     "name": "stdout",
     "output_type": "stream",
     "text": [
      "Training until validation scores don't improve for 100 rounds\n",
      "Early stopping, best iteration is:\n",
      "[1315]\tvalid_0's auc: 0.736342\n",
      "Training until validation scores don't improve for 100 rounds\n",
      "Early stopping, best iteration is:\n",
      "[1667]\tvalid_0's auc: 0.731116\n",
      "Training until validation scores don't improve for 100 rounds\n",
      "Early stopping, best iteration is:\n",
      "[1840]\tvalid_0's auc: 0.733517\n",
      "Training until validation scores don't improve for 100 rounds\n",
      "Early stopping, best iteration is:\n",
      "[1306]\tvalid_0's auc: 0.730445\n",
      "--- FINISHED \\ whole score: 0.7328 ---\n",
      "---- id = 467 -----\n"
     ]
    },
    {
     "name": "stderr",
     "output_type": "stream",
     "text": [
      "/home/umhrysnb/anaconda3/lib/python3.8/site-packages/lightgbm/basic.py:1286: UserWarning: Overriding the parameters from Reference Dataset.\n",
      "  warnings.warn('Overriding the parameters from Reference Dataset.')\n",
      "/home/umhrysnb/anaconda3/lib/python3.8/site-packages/lightgbm/basic.py:1098: UserWarning: categorical_column in param dict is overridden.\n",
      "  warnings.warn('{} in param dict is overridden.'.format(cat_alias))\n"
     ]
    },
    {
     "name": "stdout",
     "output_type": "stream",
     "text": [
      "Training until validation scores don't improve for 100 rounds\n",
      "Early stopping, best iteration is:\n",
      "[530]\tvalid_0's auc: 0.735925\n",
      "Training until validation scores don't improve for 100 rounds\n",
      "Early stopping, best iteration is:\n",
      "[796]\tvalid_0's auc: 0.740333\n",
      "Training until validation scores don't improve for 100 rounds\n",
      "Early stopping, best iteration is:\n",
      "[1010]\tvalid_0's auc: 0.735093\n",
      "Training until validation scores don't improve for 100 rounds\n",
      "Early stopping, best iteration is:\n",
      "[853]\tvalid_0's auc: 0.731986\n",
      "--- FINISHED \\ whole score: 0.7355 ---\n",
      "---- id = 537 -----\n"
     ]
    },
    {
     "name": "stderr",
     "output_type": "stream",
     "text": [
      "/home/umhrysnb/anaconda3/lib/python3.8/site-packages/lightgbm/basic.py:1286: UserWarning: Overriding the parameters from Reference Dataset.\n",
      "  warnings.warn('Overriding the parameters from Reference Dataset.')\n",
      "/home/umhrysnb/anaconda3/lib/python3.8/site-packages/lightgbm/basic.py:1098: UserWarning: categorical_column in param dict is overridden.\n",
      "  warnings.warn('{} in param dict is overridden.'.format(cat_alias))\n"
     ]
    },
    {
     "name": "stdout",
     "output_type": "stream",
     "text": [
      "Training until validation scores don't improve for 100 rounds\n",
      "Early stopping, best iteration is:\n",
      "[1014]\tvalid_0's auc: 0.7828\n",
      "Training until validation scores don't improve for 100 rounds\n",
      "Early stopping, best iteration is:\n",
      "[740]\tvalid_0's auc: 0.777901\n",
      "Training until validation scores don't improve for 100 rounds\n",
      "Early stopping, best iteration is:\n",
      "[416]\tvalid_0's auc: 0.766632\n",
      "Training until validation scores don't improve for 100 rounds\n",
      "Early stopping, best iteration is:\n",
      "[750]\tvalid_0's auc: 0.78868\n",
      "--- FINISHED \\ whole score: 0.7790 ---\n",
      "---- id = 539 -----\n"
     ]
    },
    {
     "name": "stderr",
     "output_type": "stream",
     "text": [
      "/home/umhrysnb/anaconda3/lib/python3.8/site-packages/lightgbm/basic.py:1286: UserWarning: Overriding the parameters from Reference Dataset.\n",
      "  warnings.warn('Overriding the parameters from Reference Dataset.')\n",
      "/home/umhrysnb/anaconda3/lib/python3.8/site-packages/lightgbm/basic.py:1098: UserWarning: categorical_column in param dict is overridden.\n",
      "  warnings.warn('{} in param dict is overridden.'.format(cat_alias))\n"
     ]
    },
    {
     "name": "stdout",
     "output_type": "stream",
     "text": [
      "Training until validation scores don't improve for 100 rounds\n",
      "Early stopping, best iteration is:\n",
      "[661]\tvalid_0's auc: 0.729304\n",
      "Training until validation scores don't improve for 100 rounds\n",
      "Early stopping, best iteration is:\n",
      "[440]\tvalid_0's auc: 0.723448\n",
      "Training until validation scores don't improve for 100 rounds\n",
      "Early stopping, best iteration is:\n",
      "[544]\tvalid_0's auc: 0.717674\n",
      "Training until validation scores don't improve for 100 rounds\n",
      "Early stopping, best iteration is:\n",
      "[1395]\tvalid_0's auc: 0.73981\n",
      "--- FINISHED \\ whole score: 0.7276 ---\n",
      "---- id = 629 -----\n"
     ]
    },
    {
     "name": "stderr",
     "output_type": "stream",
     "text": [
      "/home/umhrysnb/anaconda3/lib/python3.8/site-packages/lightgbm/basic.py:1286: UserWarning: Overriding the parameters from Reference Dataset.\n",
      "  warnings.warn('Overriding the parameters from Reference Dataset.')\n",
      "/home/umhrysnb/anaconda3/lib/python3.8/site-packages/lightgbm/basic.py:1098: UserWarning: categorical_column in param dict is overridden.\n",
      "  warnings.warn('{} in param dict is overridden.'.format(cat_alias))\n"
     ]
    },
    {
     "name": "stdout",
     "output_type": "stream",
     "text": [
      "Training until validation scores don't improve for 100 rounds\n",
      "Early stopping, best iteration is:\n",
      "[509]\tvalid_0's auc: 0.785339\n",
      "Training until validation scores don't improve for 100 rounds\n",
      "Early stopping, best iteration is:\n",
      "[217]\tvalid_0's auc: 0.768899\n",
      "Training until validation scores don't improve for 100 rounds\n",
      "Early stopping, best iteration is:\n",
      "[469]\tvalid_0's auc: 0.784763\n",
      "Training until validation scores don't improve for 100 rounds\n",
      "Early stopping, best iteration is:\n",
      "[531]\tvalid_0's auc: 0.793686\n",
      "--- FINISHED \\ whole score: 0.7833 ---\n",
      "---- id = 768 -----\n"
     ]
    },
    {
     "name": "stderr",
     "output_type": "stream",
     "text": [
      "/home/umhrysnb/anaconda3/lib/python3.8/site-packages/lightgbm/basic.py:1286: UserWarning: Overriding the parameters from Reference Dataset.\n",
      "  warnings.warn('Overriding the parameters from Reference Dataset.')\n",
      "/home/umhrysnb/anaconda3/lib/python3.8/site-packages/lightgbm/basic.py:1098: UserWarning: categorical_column in param dict is overridden.\n",
      "  warnings.warn('{} in param dict is overridden.'.format(cat_alias))\n"
     ]
    },
    {
     "name": "stdout",
     "output_type": "stream",
     "text": [
      "Training until validation scores don't improve for 100 rounds\n",
      "Early stopping, best iteration is:\n",
      "[1084]\tvalid_0's auc: 0.651519\n",
      "Training until validation scores don't improve for 100 rounds\n",
      "Early stopping, best iteration is:\n",
      "[1116]\tvalid_0's auc: 0.652815\n",
      "Training until validation scores don't improve for 100 rounds\n",
      "Early stopping, best iteration is:\n",
      "[983]\tvalid_0's auc: 0.653605\n",
      "Training until validation scores don't improve for 100 rounds\n",
      "Early stopping, best iteration is:\n",
      "[622]\tvalid_0's auc: 0.655223\n",
      "--- FINISHED \\ whole score: 0.6532 ---\n",
      "14277\n",
      "===== 3 =====\n",
      "train_session 2\n",
      "test_session 11304\n",
      "---- id = 38 -----\n"
     ]
    },
    {
     "name": "stderr",
     "output_type": "stream",
     "text": [
      "/home/umhrysnb/anaconda3/lib/python3.8/site-packages/lightgbm/basic.py:1286: UserWarning: Overriding the parameters from Reference Dataset.\n",
      "  warnings.warn('Overriding the parameters from Reference Dataset.')\n",
      "/home/umhrysnb/anaconda3/lib/python3.8/site-packages/lightgbm/basic.py:1098: UserWarning: categorical_column in param dict is overridden.\n",
      "  warnings.warn('{} in param dict is overridden.'.format(cat_alias))\n"
     ]
    },
    {
     "name": "stdout",
     "output_type": "stream",
     "text": [
      "Training until validation scores don't improve for 100 rounds\n",
      "Early stopping, best iteration is:\n",
      "[463]\tvalid_0's auc: 0.687246\n",
      "Training until validation scores don't improve for 100 rounds\n",
      "Early stopping, best iteration is:\n",
      "[655]\tvalid_0's auc: 0.693901\n",
      "Training until validation scores don't improve for 100 rounds\n",
      "Early stopping, best iteration is:\n",
      "[873]\tvalid_0's auc: 0.69142\n",
      "Training until validation scores don't improve for 100 rounds\n",
      "Early stopping, best iteration is:\n",
      "[835]\tvalid_0's auc: 0.692919\n",
      "--- FINISHED \\ whole score: 0.6913 ---\n",
      "---- id = 110 -----\n"
     ]
    },
    {
     "name": "stderr",
     "output_type": "stream",
     "text": [
      "/home/umhrysnb/anaconda3/lib/python3.8/site-packages/lightgbm/basic.py:1286: UserWarning: Overriding the parameters from Reference Dataset.\n",
      "  warnings.warn('Overriding the parameters from Reference Dataset.')\n",
      "/home/umhrysnb/anaconda3/lib/python3.8/site-packages/lightgbm/basic.py:1098: UserWarning: categorical_column in param dict is overridden.\n",
      "  warnings.warn('{} in param dict is overridden.'.format(cat_alias))\n"
     ]
    },
    {
     "name": "stdout",
     "output_type": "stream",
     "text": [
      "Training until validation scores don't improve for 100 rounds\n",
      "Early stopping, best iteration is:\n",
      "[132]\tvalid_0's auc: 0.635261\n",
      "Training until validation scores don't improve for 100 rounds\n",
      "Early stopping, best iteration is:\n",
      "[182]\tvalid_0's auc: 0.633294\n",
      "Training until validation scores don't improve for 100 rounds\n",
      "Early stopping, best iteration is:\n",
      "[139]\tvalid_0's auc: 0.636577\n",
      "Training until validation scores don't improve for 100 rounds\n",
      "Early stopping, best iteration is:\n",
      "[82]\tvalid_0's auc: 0.638187\n",
      "--- FINISHED \\ whole score: 0.6355 ---\n",
      "---- id = 113 -----\n"
     ]
    },
    {
     "name": "stderr",
     "output_type": "stream",
     "text": [
      "/home/umhrysnb/anaconda3/lib/python3.8/site-packages/lightgbm/basic.py:1286: UserWarning: Overriding the parameters from Reference Dataset.\n",
      "  warnings.warn('Overriding the parameters from Reference Dataset.')\n",
      "/home/umhrysnb/anaconda3/lib/python3.8/site-packages/lightgbm/basic.py:1098: UserWarning: categorical_column in param dict is overridden.\n",
      "  warnings.warn('{} in param dict is overridden.'.format(cat_alias))\n"
     ]
    },
    {
     "name": "stdout",
     "output_type": "stream",
     "text": [
      "Training until validation scores don't improve for 100 rounds\n",
      "Early stopping, best iteration is:\n",
      "[249]\tvalid_0's auc: 0.650211\n",
      "Training until validation scores don't improve for 100 rounds\n",
      "Early stopping, best iteration is:\n",
      "[148]\tvalid_0's auc: 0.645289\n",
      "Training until validation scores don't improve for 100 rounds\n",
      "Early stopping, best iteration is:\n",
      "[165]\tvalid_0's auc: 0.645115\n",
      "Training until validation scores don't improve for 100 rounds\n",
      "Early stopping, best iteration is:\n",
      "[171]\tvalid_0's auc: 0.646271\n",
      "--- FINISHED \\ whole score: 0.6467 ---\n",
      "---- id = 114 -----\n"
     ]
    },
    {
     "name": "stderr",
     "output_type": "stream",
     "text": [
      "/home/umhrysnb/anaconda3/lib/python3.8/site-packages/lightgbm/basic.py:1286: UserWarning: Overriding the parameters from Reference Dataset.\n",
      "  warnings.warn('Overriding the parameters from Reference Dataset.')\n",
      "/home/umhrysnb/anaconda3/lib/python3.8/site-packages/lightgbm/basic.py:1098: UserWarning: categorical_column in param dict is overridden.\n",
      "  warnings.warn('{} in param dict is overridden.'.format(cat_alias))\n"
     ]
    },
    {
     "name": "stdout",
     "output_type": "stream",
     "text": [
      "Training until validation scores don't improve for 100 rounds\n",
      "Early stopping, best iteration is:\n",
      "[982]\tvalid_0's auc: 0.64842\n",
      "Training until validation scores don't improve for 100 rounds\n",
      "Early stopping, best iteration is:\n",
      "[788]\tvalid_0's auc: 0.647292\n",
      "Training until validation scores don't improve for 100 rounds\n",
      "Early stopping, best iteration is:\n",
      "[1067]\tvalid_0's auc: 0.652503\n",
      "Training until validation scores don't improve for 100 rounds\n",
      "Early stopping, best iteration is:\n",
      "[641]\tvalid_0's auc: 0.642931\n",
      "--- FINISHED \\ whole score: 0.6478 ---\n",
      "---- id = 134 -----\n"
     ]
    },
    {
     "name": "stderr",
     "output_type": "stream",
     "text": [
      "/home/umhrysnb/anaconda3/lib/python3.8/site-packages/lightgbm/basic.py:1286: UserWarning: Overriding the parameters from Reference Dataset.\n",
      "  warnings.warn('Overriding the parameters from Reference Dataset.')\n",
      "/home/umhrysnb/anaconda3/lib/python3.8/site-packages/lightgbm/basic.py:1098: UserWarning: categorical_column in param dict is overridden.\n",
      "  warnings.warn('{} in param dict is overridden.'.format(cat_alias))\n"
     ]
    },
    {
     "name": "stdout",
     "output_type": "stream",
     "text": [
      "Training until validation scores don't improve for 100 rounds\n",
      "Early stopping, best iteration is:\n",
      "[439]\tvalid_0's auc: 0.630864\n",
      "Training until validation scores don't improve for 100 rounds\n",
      "Early stopping, best iteration is:\n",
      "[630]\tvalid_0's auc: 0.630468\n",
      "Training until validation scores don't improve for 100 rounds\n",
      "Early stopping, best iteration is:\n",
      "[325]\tvalid_0's auc: 0.623335\n",
      "Training until validation scores don't improve for 100 rounds\n",
      "Early stopping, best iteration is:\n",
      "[184]\tvalid_0's auc: 0.62801\n",
      "--- FINISHED \\ whole score: 0.6281 ---\n",
      "---- id = 171 -----\n"
     ]
    },
    {
     "name": "stderr",
     "output_type": "stream",
     "text": [
      "/home/umhrysnb/anaconda3/lib/python3.8/site-packages/lightgbm/basic.py:1286: UserWarning: Overriding the parameters from Reference Dataset.\n",
      "  warnings.warn('Overriding the parameters from Reference Dataset.')\n",
      "/home/umhrysnb/anaconda3/lib/python3.8/site-packages/lightgbm/basic.py:1098: UserWarning: categorical_column in param dict is overridden.\n",
      "  warnings.warn('{} in param dict is overridden.'.format(cat_alias))\n"
     ]
    },
    {
     "name": "stdout",
     "output_type": "stream",
     "text": [
      "Training until validation scores don't improve for 100 rounds\n",
      "Early stopping, best iteration is:\n",
      "[764]\tvalid_0's auc: 0.704684\n",
      "Training until validation scores don't improve for 100 rounds\n",
      "Early stopping, best iteration is:\n",
      "[583]\tvalid_0's auc: 0.708259\n",
      "Training until validation scores don't improve for 100 rounds\n",
      "Early stopping, best iteration is:\n",
      "[862]\tvalid_0's auc: 0.710486\n",
      "Training until validation scores don't improve for 100 rounds\n",
      "Early stopping, best iteration is:\n",
      "[728]\tvalid_0's auc: 0.707244\n",
      "--- FINISHED \\ whole score: 0.7076 ---\n",
      "---- id = 172 -----\n"
     ]
    },
    {
     "name": "stderr",
     "output_type": "stream",
     "text": [
      "/home/umhrysnb/anaconda3/lib/python3.8/site-packages/lightgbm/basic.py:1286: UserWarning: Overriding the parameters from Reference Dataset.\n",
      "  warnings.warn('Overriding the parameters from Reference Dataset.')\n",
      "/home/umhrysnb/anaconda3/lib/python3.8/site-packages/lightgbm/basic.py:1098: UserWarning: categorical_column in param dict is overridden.\n",
      "  warnings.warn('{} in param dict is overridden.'.format(cat_alias))\n"
     ]
    },
    {
     "name": "stdout",
     "output_type": "stream",
     "text": [
      "Training until validation scores don't improve for 100 rounds\n",
      "Early stopping, best iteration is:\n",
      "[242]\tvalid_0's auc: 0.69009\n",
      "Training until validation scores don't improve for 100 rounds\n",
      "Early stopping, best iteration is:\n",
      "[76]\tvalid_0's auc: 0.68395\n",
      "Training until validation scores don't improve for 100 rounds\n",
      "Early stopping, best iteration is:\n",
      "[546]\tvalid_0's auc: 0.687489\n",
      "Training until validation scores don't improve for 100 rounds\n",
      "Early stopping, best iteration is:\n",
      "[418]\tvalid_0's auc: 0.68294\n",
      "--- FINISHED \\ whole score: 0.6850 ---\n",
      "---- id = 173 -----\n"
     ]
    },
    {
     "name": "stderr",
     "output_type": "stream",
     "text": [
      "/home/umhrysnb/anaconda3/lib/python3.8/site-packages/lightgbm/basic.py:1286: UserWarning: Overriding the parameters from Reference Dataset.\n",
      "  warnings.warn('Overriding the parameters from Reference Dataset.')\n",
      "/home/umhrysnb/anaconda3/lib/python3.8/site-packages/lightgbm/basic.py:1098: UserWarning: categorical_column in param dict is overridden.\n",
      "  warnings.warn('{} in param dict is overridden.'.format(cat_alias))\n"
     ]
    },
    {
     "name": "stdout",
     "output_type": "stream",
     "text": [
      "Training until validation scores don't improve for 100 rounds\n",
      "Early stopping, best iteration is:\n",
      "[1357]\tvalid_0's auc: 0.70149\n",
      "Training until validation scores don't improve for 100 rounds\n",
      "Early stopping, best iteration is:\n",
      "[732]\tvalid_0's auc: 0.696667\n",
      "Training until validation scores don't improve for 100 rounds\n",
      "Early stopping, best iteration is:\n",
      "[827]\tvalid_0's auc: 0.695122\n",
      "Training until validation scores don't improve for 100 rounds\n",
      "Early stopping, best iteration is:\n",
      "[569]\tvalid_0's auc: 0.679838\n",
      "--- FINISHED \\ whole score: 0.6934 ---\n",
      "---- id = 376 -----\n"
     ]
    },
    {
     "name": "stderr",
     "output_type": "stream",
     "text": [
      "/home/umhrysnb/anaconda3/lib/python3.8/site-packages/lightgbm/basic.py:1286: UserWarning: Overriding the parameters from Reference Dataset.\n",
      "  warnings.warn('Overriding the parameters from Reference Dataset.')\n",
      "/home/umhrysnb/anaconda3/lib/python3.8/site-packages/lightgbm/basic.py:1098: UserWarning: categorical_column in param dict is overridden.\n",
      "  warnings.warn('{} in param dict is overridden.'.format(cat_alias))\n"
     ]
    },
    {
     "name": "stdout",
     "output_type": "stream",
     "text": [
      "Training until validation scores don't improve for 100 rounds\n",
      "Early stopping, best iteration is:\n",
      "[487]\tvalid_0's auc: 0.62267\n",
      "Training until validation scores don't improve for 100 rounds\n",
      "Early stopping, best iteration is:\n",
      "[436]\tvalid_0's auc: 0.625957\n",
      "Training until validation scores don't improve for 100 rounds\n",
      "Early stopping, best iteration is:\n",
      "[734]\tvalid_0's auc: 0.629044\n",
      "Training until validation scores don't improve for 100 rounds\n",
      "Early stopping, best iteration is:\n",
      "[434]\tvalid_0's auc: 0.627869\n",
      "--- FINISHED \\ whole score: 0.6263 ---\n",
      "---- id = 435 -----\n"
     ]
    },
    {
     "name": "stderr",
     "output_type": "stream",
     "text": [
      "/home/umhrysnb/anaconda3/lib/python3.8/site-packages/lightgbm/basic.py:1286: UserWarning: Overriding the parameters from Reference Dataset.\n",
      "  warnings.warn('Overriding the parameters from Reference Dataset.')\n",
      "/home/umhrysnb/anaconda3/lib/python3.8/site-packages/lightgbm/basic.py:1098: UserWarning: categorical_column in param dict is overridden.\n",
      "  warnings.warn('{} in param dict is overridden.'.format(cat_alias))\n"
     ]
    },
    {
     "name": "stdout",
     "output_type": "stream",
     "text": [
      "Training until validation scores don't improve for 100 rounds\n",
      "Early stopping, best iteration is:\n",
      "[849]\tvalid_0's auc: 0.691367\n",
      "Training until validation scores don't improve for 100 rounds\n",
      "Early stopping, best iteration is:\n",
      "[617]\tvalid_0's auc: 0.678106\n",
      "Training until validation scores don't improve for 100 rounds\n",
      "Early stopping, best iteration is:\n",
      "[470]\tvalid_0's auc: 0.679661\n",
      "Training until validation scores don't improve for 100 rounds\n",
      "Early stopping, best iteration is:\n",
      "[829]\tvalid_0's auc: 0.686938\n",
      "--- FINISHED \\ whole score: 0.6841 ---\n",
      "---- id = 467 -----\n"
     ]
    },
    {
     "name": "stderr",
     "output_type": "stream",
     "text": [
      "/home/umhrysnb/anaconda3/lib/python3.8/site-packages/lightgbm/basic.py:1286: UserWarning: Overriding the parameters from Reference Dataset.\n",
      "  warnings.warn('Overriding the parameters from Reference Dataset.')\n",
      "/home/umhrysnb/anaconda3/lib/python3.8/site-packages/lightgbm/basic.py:1098: UserWarning: categorical_column in param dict is overridden.\n",
      "  warnings.warn('{} in param dict is overridden.'.format(cat_alias))\n"
     ]
    },
    {
     "name": "stdout",
     "output_type": "stream",
     "text": [
      "Training until validation scores don't improve for 100 rounds\n",
      "Early stopping, best iteration is:\n",
      "[320]\tvalid_0's auc: 0.685149\n",
      "Training until validation scores don't improve for 100 rounds\n",
      "Early stopping, best iteration is:\n",
      "[216]\tvalid_0's auc: 0.687061\n",
      "Training until validation scores don't improve for 100 rounds\n",
      "Early stopping, best iteration is:\n",
      "[138]\tvalid_0's auc: 0.686502\n",
      "Training until validation scores don't improve for 100 rounds\n",
      "Early stopping, best iteration is:\n",
      "[470]\tvalid_0's auc: 0.688023\n",
      "--- FINISHED \\ whole score: 0.6863 ---\n",
      "---- id = 537 -----\n"
     ]
    },
    {
     "name": "stderr",
     "output_type": "stream",
     "text": [
      "/home/umhrysnb/anaconda3/lib/python3.8/site-packages/lightgbm/basic.py:1286: UserWarning: Overriding the parameters from Reference Dataset.\n",
      "  warnings.warn('Overriding the parameters from Reference Dataset.')\n",
      "/home/umhrysnb/anaconda3/lib/python3.8/site-packages/lightgbm/basic.py:1098: UserWarning: categorical_column in param dict is overridden.\n",
      "  warnings.warn('{} in param dict is overridden.'.format(cat_alias))\n"
     ]
    },
    {
     "name": "stdout",
     "output_type": "stream",
     "text": [
      "Training until validation scores don't improve for 100 rounds\n",
      "Early stopping, best iteration is:\n",
      "[682]\tvalid_0's auc: 0.736283\n",
      "Training until validation scores don't improve for 100 rounds\n",
      "Early stopping, best iteration is:\n",
      "[478]\tvalid_0's auc: 0.736115\n",
      "Training until validation scores don't improve for 100 rounds\n",
      "Early stopping, best iteration is:\n",
      "[523]\tvalid_0's auc: 0.732668\n",
      "Training until validation scores don't improve for 100 rounds\n",
      "Early stopping, best iteration is:\n",
      "[309]\tvalid_0's auc: 0.721897\n",
      "--- FINISHED \\ whole score: 0.7317 ---\n",
      "---- id = 539 -----\n"
     ]
    },
    {
     "name": "stderr",
     "output_type": "stream",
     "text": [
      "/home/umhrysnb/anaconda3/lib/python3.8/site-packages/lightgbm/basic.py:1286: UserWarning: Overriding the parameters from Reference Dataset.\n",
      "  warnings.warn('Overriding the parameters from Reference Dataset.')\n",
      "/home/umhrysnb/anaconda3/lib/python3.8/site-packages/lightgbm/basic.py:1098: UserWarning: categorical_column in param dict is overridden.\n",
      "  warnings.warn('{} in param dict is overridden.'.format(cat_alias))\n"
     ]
    },
    {
     "name": "stdout",
     "output_type": "stream",
     "text": [
      "Training until validation scores don't improve for 100 rounds\n",
      "Early stopping, best iteration is:\n",
      "[726]\tvalid_0's auc: 0.690373\n",
      "Training until validation scores don't improve for 100 rounds\n",
      "Early stopping, best iteration is:\n",
      "[510]\tvalid_0's auc: 0.685079\n",
      "Training until validation scores don't improve for 100 rounds\n",
      "Early stopping, best iteration is:\n",
      "[464]\tvalid_0's auc: 0.685239\n",
      "Training until validation scores don't improve for 100 rounds\n",
      "Early stopping, best iteration is:\n",
      "[458]\tvalid_0's auc: 0.676335\n",
      "--- FINISHED \\ whole score: 0.6843 ---\n",
      "---- id = 629 -----\n"
     ]
    },
    {
     "name": "stderr",
     "output_type": "stream",
     "text": [
      "/home/umhrysnb/anaconda3/lib/python3.8/site-packages/lightgbm/basic.py:1286: UserWarning: Overriding the parameters from Reference Dataset.\n",
      "  warnings.warn('Overriding the parameters from Reference Dataset.')\n",
      "/home/umhrysnb/anaconda3/lib/python3.8/site-packages/lightgbm/basic.py:1098: UserWarning: categorical_column in param dict is overridden.\n",
      "  warnings.warn('{} in param dict is overridden.'.format(cat_alias))\n"
     ]
    },
    {
     "name": "stdout",
     "output_type": "stream",
     "text": [
      "Training until validation scores don't improve for 100 rounds\n",
      "Early stopping, best iteration is:\n",
      "[385]\tvalid_0's auc: 0.727486\n",
      "Training until validation scores don't improve for 100 rounds\n",
      "Early stopping, best iteration is:\n",
      "[104]\tvalid_0's auc: 0.716571\n",
      "Training until validation scores don't improve for 100 rounds\n",
      "Early stopping, best iteration is:\n",
      "[270]\tvalid_0's auc: 0.723863\n",
      "Training until validation scores don't improve for 100 rounds\n",
      "Early stopping, best iteration is:\n",
      "[128]\tvalid_0's auc: 0.710123\n",
      "--- FINISHED \\ whole score: 0.7188 ---\n",
      "---- id = 768 -----\n"
     ]
    },
    {
     "name": "stderr",
     "output_type": "stream",
     "text": [
      "/home/umhrysnb/anaconda3/lib/python3.8/site-packages/lightgbm/basic.py:1286: UserWarning: Overriding the parameters from Reference Dataset.\n",
      "  warnings.warn('Overriding the parameters from Reference Dataset.')\n",
      "/home/umhrysnb/anaconda3/lib/python3.8/site-packages/lightgbm/basic.py:1098: UserWarning: categorical_column in param dict is overridden.\n",
      "  warnings.warn('{} in param dict is overridden.'.format(cat_alias))\n"
     ]
    },
    {
     "name": "stdout",
     "output_type": "stream",
     "text": [
      "Training until validation scores don't improve for 100 rounds\n",
      "Early stopping, best iteration is:\n",
      "[995]\tvalid_0's auc: 0.611527\n",
      "Training until validation scores don't improve for 100 rounds\n",
      "Early stopping, best iteration is:\n",
      "[400]\tvalid_0's auc: 0.611638\n",
      "Training until validation scores don't improve for 100 rounds\n",
      "Early stopping, best iteration is:\n",
      "[469]\tvalid_0's auc: 0.614887\n",
      "Training until validation scores don't improve for 100 rounds\n",
      "Early stopping, best iteration is:\n",
      "[308]\tvalid_0's auc: 0.606589\n",
      "--- FINISHED \\ whole score: 0.6111 ---\n",
      "25581\n",
      "===== 5 =====\n",
      "train_session 2\n",
      "test_session 14072\n",
      "---- id = 38 -----\n"
     ]
    },
    {
     "name": "stderr",
     "output_type": "stream",
     "text": [
      "/home/umhrysnb/anaconda3/lib/python3.8/site-packages/lightgbm/basic.py:1286: UserWarning: Overriding the parameters from Reference Dataset.\n",
      "  warnings.warn('Overriding the parameters from Reference Dataset.')\n",
      "/home/umhrysnb/anaconda3/lib/python3.8/site-packages/lightgbm/basic.py:1098: UserWarning: categorical_column in param dict is overridden.\n",
      "  warnings.warn('{} in param dict is overridden.'.format(cat_alias))\n"
     ]
    },
    {
     "name": "stdout",
     "output_type": "stream",
     "text": [
      "Training until validation scores don't improve for 100 rounds\n",
      "Early stopping, best iteration is:\n",
      "[369]\tvalid_0's auc: 0.678097\n",
      "Training until validation scores don't improve for 100 rounds\n",
      "Early stopping, best iteration is:\n",
      "[337]\tvalid_0's auc: 0.669571\n",
      "Training until validation scores don't improve for 100 rounds\n",
      "Early stopping, best iteration is:\n",
      "[678]\tvalid_0's auc: 0.679457\n",
      "Training until validation scores don't improve for 100 rounds\n",
      "Early stopping, best iteration is:\n",
      "[774]\tvalid_0's auc: 0.685979\n",
      "--- FINISHED \\ whole score: 0.6783 ---\n",
      "---- id = 110 -----\n"
     ]
    },
    {
     "name": "stderr",
     "output_type": "stream",
     "text": [
      "/home/umhrysnb/anaconda3/lib/python3.8/site-packages/lightgbm/basic.py:1286: UserWarning: Overriding the parameters from Reference Dataset.\n",
      "  warnings.warn('Overriding the parameters from Reference Dataset.')\n",
      "/home/umhrysnb/anaconda3/lib/python3.8/site-packages/lightgbm/basic.py:1098: UserWarning: categorical_column in param dict is overridden.\n",
      "  warnings.warn('{} in param dict is overridden.'.format(cat_alias))\n"
     ]
    },
    {
     "name": "stdout",
     "output_type": "stream",
     "text": [
      "Training until validation scores don't improve for 100 rounds\n",
      "Early stopping, best iteration is:\n",
      "[95]\tvalid_0's auc: 0.63646\n",
      "Training until validation scores don't improve for 100 rounds\n",
      "Early stopping, best iteration is:\n",
      "[66]\tvalid_0's auc: 0.630463\n",
      "Training until validation scores don't improve for 100 rounds\n",
      "Early stopping, best iteration is:\n",
      "[140]\tvalid_0's auc: 0.619065\n",
      "Training until validation scores don't improve for 100 rounds\n",
      "Early stopping, best iteration is:\n",
      "[79]\tvalid_0's auc: 0.640921\n",
      "--- FINISHED \\ whole score: 0.6313 ---\n",
      "---- id = 113 -----\n"
     ]
    },
    {
     "name": "stderr",
     "output_type": "stream",
     "text": [
      "/home/umhrysnb/anaconda3/lib/python3.8/site-packages/lightgbm/basic.py:1286: UserWarning: Overriding the parameters from Reference Dataset.\n",
      "  warnings.warn('Overriding the parameters from Reference Dataset.')\n",
      "/home/umhrysnb/anaconda3/lib/python3.8/site-packages/lightgbm/basic.py:1098: UserWarning: categorical_column in param dict is overridden.\n",
      "  warnings.warn('{} in param dict is overridden.'.format(cat_alias))\n"
     ]
    },
    {
     "name": "stdout",
     "output_type": "stream",
     "text": [
      "Training until validation scores don't improve for 100 rounds\n",
      "Early stopping, best iteration is:\n",
      "[266]\tvalid_0's auc: 0.646249\n",
      "Training until validation scores don't improve for 100 rounds\n",
      "Early stopping, best iteration is:\n",
      "[250]\tvalid_0's auc: 0.638107\n",
      "Training until validation scores don't improve for 100 rounds\n",
      "Early stopping, best iteration is:\n",
      "[60]\tvalid_0's auc: 0.64093\n",
      "Training until validation scores don't improve for 100 rounds\n",
      "Early stopping, best iteration is:\n",
      "[111]\tvalid_0's auc: 0.634978\n",
      "--- FINISHED \\ whole score: 0.6398 ---\n",
      "---- id = 114 -----\n"
     ]
    },
    {
     "name": "stderr",
     "output_type": "stream",
     "text": [
      "/home/umhrysnb/anaconda3/lib/python3.8/site-packages/lightgbm/basic.py:1286: UserWarning: Overriding the parameters from Reference Dataset.\n",
      "  warnings.warn('Overriding the parameters from Reference Dataset.')\n",
      "/home/umhrysnb/anaconda3/lib/python3.8/site-packages/lightgbm/basic.py:1098: UserWarning: categorical_column in param dict is overridden.\n",
      "  warnings.warn('{} in param dict is overridden.'.format(cat_alias))\n"
     ]
    },
    {
     "name": "stdout",
     "output_type": "stream",
     "text": [
      "Training until validation scores don't improve for 100 rounds\n",
      "Early stopping, best iteration is:\n",
      "[443]\tvalid_0's auc: 0.638756\n",
      "Training until validation scores don't improve for 100 rounds\n",
      "Early stopping, best iteration is:\n",
      "[584]\tvalid_0's auc: 0.636988\n",
      "Training until validation scores don't improve for 100 rounds\n",
      "Early stopping, best iteration is:\n",
      "[809]\tvalid_0's auc: 0.639855\n",
      "Training until validation scores don't improve for 100 rounds\n",
      "Early stopping, best iteration is:\n",
      "[824]\tvalid_0's auc: 0.639786\n",
      "--- FINISHED \\ whole score: 0.6388 ---\n",
      "---- id = 134 -----\n"
     ]
    },
    {
     "name": "stderr",
     "output_type": "stream",
     "text": [
      "/home/umhrysnb/anaconda3/lib/python3.8/site-packages/lightgbm/basic.py:1286: UserWarning: Overriding the parameters from Reference Dataset.\n",
      "  warnings.warn('Overriding the parameters from Reference Dataset.')\n",
      "/home/umhrysnb/anaconda3/lib/python3.8/site-packages/lightgbm/basic.py:1098: UserWarning: categorical_column in param dict is overridden.\n",
      "  warnings.warn('{} in param dict is overridden.'.format(cat_alias))\n"
     ]
    },
    {
     "name": "stdout",
     "output_type": "stream",
     "text": [
      "Training until validation scores don't improve for 100 rounds\n",
      "Early stopping, best iteration is:\n",
      "[447]\tvalid_0's auc: 0.622245\n",
      "Training until validation scores don't improve for 100 rounds\n",
      "Early stopping, best iteration is:\n",
      "[411]\tvalid_0's auc: 0.622799\n",
      "Training until validation scores don't improve for 100 rounds\n",
      "Early stopping, best iteration is:\n",
      "[346]\tvalid_0's auc: 0.628195\n",
      "Training until validation scores don't improve for 100 rounds\n",
      "Early stopping, best iteration is:\n",
      "[436]\tvalid_0's auc: 0.620733\n",
      "--- FINISHED \\ whole score: 0.6234 ---\n",
      "---- id = 171 -----\n"
     ]
    },
    {
     "name": "stderr",
     "output_type": "stream",
     "text": [
      "/home/umhrysnb/anaconda3/lib/python3.8/site-packages/lightgbm/basic.py:1286: UserWarning: Overriding the parameters from Reference Dataset.\n",
      "  warnings.warn('Overriding the parameters from Reference Dataset.')\n",
      "/home/umhrysnb/anaconda3/lib/python3.8/site-packages/lightgbm/basic.py:1098: UserWarning: categorical_column in param dict is overridden.\n",
      "  warnings.warn('{} in param dict is overridden.'.format(cat_alias))\n"
     ]
    },
    {
     "name": "stdout",
     "output_type": "stream",
     "text": [
      "Training until validation scores don't improve for 100 rounds\n",
      "Early stopping, best iteration is:\n",
      "[987]\tvalid_0's auc: 0.694446\n",
      "Training until validation scores don't improve for 100 rounds\n",
      "Early stopping, best iteration is:\n",
      "[557]\tvalid_0's auc: 0.690498\n",
      "Training until validation scores don't improve for 100 rounds\n",
      "Early stopping, best iteration is:\n",
      "[621]\tvalid_0's auc: 0.689386\n",
      "Training until validation scores don't improve for 100 rounds\n",
      "Early stopping, best iteration is:\n",
      "[530]\tvalid_0's auc: 0.683888\n",
      "--- FINISHED \\ whole score: 0.6896 ---\n",
      "---- id = 172 -----\n"
     ]
    },
    {
     "name": "stderr",
     "output_type": "stream",
     "text": [
      "/home/umhrysnb/anaconda3/lib/python3.8/site-packages/lightgbm/basic.py:1286: UserWarning: Overriding the parameters from Reference Dataset.\n",
      "  warnings.warn('Overriding the parameters from Reference Dataset.')\n",
      "/home/umhrysnb/anaconda3/lib/python3.8/site-packages/lightgbm/basic.py:1098: UserWarning: categorical_column in param dict is overridden.\n",
      "  warnings.warn('{} in param dict is overridden.'.format(cat_alias))\n"
     ]
    },
    {
     "name": "stdout",
     "output_type": "stream",
     "text": [
      "Training until validation scores don't improve for 100 rounds\n",
      "Early stopping, best iteration is:\n",
      "[158]\tvalid_0's auc: 0.65847\n",
      "Training until validation scores don't improve for 100 rounds\n",
      "Early stopping, best iteration is:\n",
      "[199]\tvalid_0's auc: 0.671028\n",
      "Training until validation scores don't improve for 100 rounds\n",
      "Early stopping, best iteration is:\n",
      "[173]\tvalid_0's auc: 0.675618\n",
      "Training until validation scores don't improve for 100 rounds\n",
      "Early stopping, best iteration is:\n",
      "[144]\tvalid_0's auc: 0.669744\n",
      "--- FINISHED \\ whole score: 0.6687 ---\n",
      "---- id = 173 -----\n"
     ]
    },
    {
     "name": "stderr",
     "output_type": "stream",
     "text": [
      "/home/umhrysnb/anaconda3/lib/python3.8/site-packages/lightgbm/basic.py:1286: UserWarning: Overriding the parameters from Reference Dataset.\n",
      "  warnings.warn('Overriding the parameters from Reference Dataset.')\n",
      "/home/umhrysnb/anaconda3/lib/python3.8/site-packages/lightgbm/basic.py:1098: UserWarning: categorical_column in param dict is overridden.\n",
      "  warnings.warn('{} in param dict is overridden.'.format(cat_alias))\n"
     ]
    },
    {
     "name": "stdout",
     "output_type": "stream",
     "text": [
      "Training until validation scores don't improve for 100 rounds\n",
      "Early stopping, best iteration is:\n",
      "[566]\tvalid_0's auc: 0.682405\n",
      "Training until validation scores don't improve for 100 rounds\n",
      "Early stopping, best iteration is:\n",
      "[715]\tvalid_0's auc: 0.670491\n",
      "Training until validation scores don't improve for 100 rounds\n",
      "Early stopping, best iteration is:\n",
      "[623]\tvalid_0's auc: 0.671935\n",
      "Training until validation scores don't improve for 100 rounds\n",
      "Early stopping, best iteration is:\n",
      "[672]\tvalid_0's auc: 0.680575\n",
      "--- FINISHED \\ whole score: 0.6763 ---\n",
      "---- id = 376 -----\n"
     ]
    },
    {
     "name": "stderr",
     "output_type": "stream",
     "text": [
      "/home/umhrysnb/anaconda3/lib/python3.8/site-packages/lightgbm/basic.py:1286: UserWarning: Overriding the parameters from Reference Dataset.\n",
      "  warnings.warn('Overriding the parameters from Reference Dataset.')\n",
      "/home/umhrysnb/anaconda3/lib/python3.8/site-packages/lightgbm/basic.py:1098: UserWarning: categorical_column in param dict is overridden.\n",
      "  warnings.warn('{} in param dict is overridden.'.format(cat_alias))\n"
     ]
    },
    {
     "name": "stdout",
     "output_type": "stream",
     "text": [
      "Training until validation scores don't improve for 100 rounds\n",
      "Early stopping, best iteration is:\n",
      "[463]\tvalid_0's auc: 0.618995\n",
      "Training until validation scores don't improve for 100 rounds\n",
      "Early stopping, best iteration is:\n",
      "[344]\tvalid_0's auc: 0.618325\n",
      "Training until validation scores don't improve for 100 rounds\n",
      "Early stopping, best iteration is:\n",
      "[390]\tvalid_0's auc: 0.614337\n",
      "Training until validation scores don't improve for 100 rounds\n",
      "Early stopping, best iteration is:\n",
      "[208]\tvalid_0's auc: 0.617547\n",
      "--- FINISHED \\ whole score: 0.6172 ---\n",
      "---- id = 435 -----\n"
     ]
    },
    {
     "name": "stderr",
     "output_type": "stream",
     "text": [
      "/home/umhrysnb/anaconda3/lib/python3.8/site-packages/lightgbm/basic.py:1286: UserWarning: Overriding the parameters from Reference Dataset.\n",
      "  warnings.warn('Overriding the parameters from Reference Dataset.')\n",
      "/home/umhrysnb/anaconda3/lib/python3.8/site-packages/lightgbm/basic.py:1098: UserWarning: categorical_column in param dict is overridden.\n",
      "  warnings.warn('{} in param dict is overridden.'.format(cat_alias))\n"
     ]
    },
    {
     "name": "stdout",
     "output_type": "stream",
     "text": [
      "Training until validation scores don't improve for 100 rounds\n",
      "Early stopping, best iteration is:\n",
      "[667]\tvalid_0's auc: 0.660553\n",
      "Training until validation scores don't improve for 100 rounds\n",
      "Early stopping, best iteration is:\n",
      "[579]\tvalid_0's auc: 0.670734\n",
      "Training until validation scores don't improve for 100 rounds\n",
      "Early stopping, best iteration is:\n",
      "[350]\tvalid_0's auc: 0.66547\n",
      "Training until validation scores don't improve for 100 rounds\n",
      "Early stopping, best iteration is:\n",
      "[430]\tvalid_0's auc: 0.665458\n",
      "--- FINISHED \\ whole score: 0.6654 ---\n",
      "---- id = 467 -----\n"
     ]
    },
    {
     "name": "stderr",
     "output_type": "stream",
     "text": [
      "/home/umhrysnb/anaconda3/lib/python3.8/site-packages/lightgbm/basic.py:1286: UserWarning: Overriding the parameters from Reference Dataset.\n",
      "  warnings.warn('Overriding the parameters from Reference Dataset.')\n",
      "/home/umhrysnb/anaconda3/lib/python3.8/site-packages/lightgbm/basic.py:1098: UserWarning: categorical_column in param dict is overridden.\n",
      "  warnings.warn('{} in param dict is overridden.'.format(cat_alias))\n"
     ]
    },
    {
     "name": "stdout",
     "output_type": "stream",
     "text": [
      "Training until validation scores don't improve for 100 rounds\n",
      "Early stopping, best iteration is:\n",
      "[166]\tvalid_0's auc: 0.678333\n",
      "Training until validation scores don't improve for 100 rounds\n",
      "Early stopping, best iteration is:\n",
      "[191]\tvalid_0's auc: 0.661247\n",
      "Training until validation scores don't improve for 100 rounds\n",
      "Early stopping, best iteration is:\n",
      "[228]\tvalid_0's auc: 0.669277\n",
      "Training until validation scores don't improve for 100 rounds\n",
      "Early stopping, best iteration is:\n",
      "[252]\tvalid_0's auc: 0.664569\n",
      "--- FINISHED \\ whole score: 0.6682 ---\n",
      "---- id = 537 -----\n"
     ]
    },
    {
     "name": "stderr",
     "output_type": "stream",
     "text": [
      "/home/umhrysnb/anaconda3/lib/python3.8/site-packages/lightgbm/basic.py:1286: UserWarning: Overriding the parameters from Reference Dataset.\n",
      "  warnings.warn('Overriding the parameters from Reference Dataset.')\n",
      "/home/umhrysnb/anaconda3/lib/python3.8/site-packages/lightgbm/basic.py:1098: UserWarning: categorical_column in param dict is overridden.\n",
      "  warnings.warn('{} in param dict is overridden.'.format(cat_alias))\n"
     ]
    },
    {
     "name": "stdout",
     "output_type": "stream",
     "text": [
      "Training until validation scores don't improve for 100 rounds\n",
      "Early stopping, best iteration is:\n",
      "[452]\tvalid_0's auc: 0.717162\n",
      "Training until validation scores don't improve for 100 rounds\n",
      "Early stopping, best iteration is:\n",
      "[366]\tvalid_0's auc: 0.715133\n",
      "Training until validation scores don't improve for 100 rounds\n",
      "Early stopping, best iteration is:\n",
      "[642]\tvalid_0's auc: 0.715089\n",
      "Training until validation scores don't improve for 100 rounds\n",
      "Early stopping, best iteration is:\n",
      "[411]\tvalid_0's auc: 0.72073\n",
      "--- FINISHED \\ whole score: 0.7168 ---\n",
      "---- id = 539 -----\n"
     ]
    },
    {
     "name": "stderr",
     "output_type": "stream",
     "text": [
      "/home/umhrysnb/anaconda3/lib/python3.8/site-packages/lightgbm/basic.py:1286: UserWarning: Overriding the parameters from Reference Dataset.\n",
      "  warnings.warn('Overriding the parameters from Reference Dataset.')\n",
      "/home/umhrysnb/anaconda3/lib/python3.8/site-packages/lightgbm/basic.py:1098: UserWarning: categorical_column in param dict is overridden.\n",
      "  warnings.warn('{} in param dict is overridden.'.format(cat_alias))\n"
     ]
    },
    {
     "name": "stdout",
     "output_type": "stream",
     "text": [
      "Training until validation scores don't improve for 100 rounds\n",
      "Early stopping, best iteration is:\n",
      "[471]\tvalid_0's auc: 0.666258\n",
      "Training until validation scores don't improve for 100 rounds\n",
      "Early stopping, best iteration is:\n",
      "[428]\tvalid_0's auc: 0.670011\n",
      "Training until validation scores don't improve for 100 rounds\n",
      "Early stopping, best iteration is:\n",
      "[400]\tvalid_0's auc: 0.662554\n",
      "Training until validation scores don't improve for 100 rounds\n",
      "Early stopping, best iteration is:\n",
      "[434]\tvalid_0's auc: 0.663345\n",
      "--- FINISHED \\ whole score: 0.6655 ---\n",
      "---- id = 629 -----\n"
     ]
    },
    {
     "name": "stderr",
     "output_type": "stream",
     "text": [
      "/home/umhrysnb/anaconda3/lib/python3.8/site-packages/lightgbm/basic.py:1286: UserWarning: Overriding the parameters from Reference Dataset.\n",
      "  warnings.warn('Overriding the parameters from Reference Dataset.')\n",
      "/home/umhrysnb/anaconda3/lib/python3.8/site-packages/lightgbm/basic.py:1098: UserWarning: categorical_column in param dict is overridden.\n",
      "  warnings.warn('{} in param dict is overridden.'.format(cat_alias))\n"
     ]
    },
    {
     "name": "stdout",
     "output_type": "stream",
     "text": [
      "Training until validation scores don't improve for 100 rounds\n",
      "Early stopping, best iteration is:\n",
      "[315]\tvalid_0's auc: 0.702073\n",
      "Training until validation scores don't improve for 100 rounds\n",
      "Early stopping, best iteration is:\n",
      "[298]\tvalid_0's auc: 0.705823\n",
      "Training until validation scores don't improve for 100 rounds\n",
      "Early stopping, best iteration is:\n",
      "[80]\tvalid_0's auc: 0.696226\n",
      "Training until validation scores don't improve for 100 rounds\n",
      "Early stopping, best iteration is:\n",
      "[211]\tvalid_0's auc: 0.705069\n",
      "--- FINISHED \\ whole score: 0.7011 ---\n",
      "---- id = 768 -----\n"
     ]
    },
    {
     "name": "stderr",
     "output_type": "stream",
     "text": [
      "/home/umhrysnb/anaconda3/lib/python3.8/site-packages/lightgbm/basic.py:1286: UserWarning: Overriding the parameters from Reference Dataset.\n",
      "  warnings.warn('Overriding the parameters from Reference Dataset.')\n",
      "/home/umhrysnb/anaconda3/lib/python3.8/site-packages/lightgbm/basic.py:1098: UserWarning: categorical_column in param dict is overridden.\n",
      "  warnings.warn('{} in param dict is overridden.'.format(cat_alias))\n"
     ]
    },
    {
     "name": "stdout",
     "output_type": "stream",
     "text": [
      "Training until validation scores don't improve for 100 rounds\n",
      "Early stopping, best iteration is:\n",
      "[190]\tvalid_0's auc: 0.598398\n",
      "Training until validation scores don't improve for 100 rounds\n",
      "Early stopping, best iteration is:\n",
      "[448]\tvalid_0's auc: 0.603118\n",
      "Training until validation scores don't improve for 100 rounds\n",
      "Early stopping, best iteration is:\n",
      "[324]\tvalid_0's auc: 0.602635\n",
      "Training until validation scores don't improve for 100 rounds\n",
      "Early stopping, best iteration is:\n",
      "[319]\tvalid_0's auc: 0.609192\n",
      "--- FINISHED \\ whole score: 0.6033 ---\n",
      "39653\n",
      "===== 10 =====\n",
      "train_session 2\n",
      "test_session 16833\n",
      "---- id = 38 -----\n"
     ]
    },
    {
     "name": "stderr",
     "output_type": "stream",
     "text": [
      "/home/umhrysnb/anaconda3/lib/python3.8/site-packages/lightgbm/basic.py:1286: UserWarning: Overriding the parameters from Reference Dataset.\n",
      "  warnings.warn('Overriding the parameters from Reference Dataset.')\n",
      "/home/umhrysnb/anaconda3/lib/python3.8/site-packages/lightgbm/basic.py:1098: UserWarning: categorical_column in param dict is overridden.\n",
      "  warnings.warn('{} in param dict is overridden.'.format(cat_alias))\n"
     ]
    },
    {
     "name": "stdout",
     "output_type": "stream",
     "text": [
      "Training until validation scores don't improve for 100 rounds\n",
      "Early stopping, best iteration is:\n",
      "[503]\tvalid_0's auc: 0.668099\n",
      "Training until validation scores don't improve for 100 rounds\n",
      "Early stopping, best iteration is:\n",
      "[382]\tvalid_0's auc: 0.671541\n",
      "Training until validation scores don't improve for 100 rounds\n",
      "Early stopping, best iteration is:\n",
      "[680]\tvalid_0's auc: 0.661034\n",
      "Training until validation scores don't improve for 100 rounds\n",
      "Early stopping, best iteration is:\n",
      "[856]\tvalid_0's auc: 0.66794\n",
      "--- FINISHED \\ whole score: 0.6669 ---\n",
      "---- id = 110 -----\n"
     ]
    },
    {
     "name": "stderr",
     "output_type": "stream",
     "text": [
      "/home/umhrysnb/anaconda3/lib/python3.8/site-packages/lightgbm/basic.py:1286: UserWarning: Overriding the parameters from Reference Dataset.\n",
      "  warnings.warn('Overriding the parameters from Reference Dataset.')\n",
      "/home/umhrysnb/anaconda3/lib/python3.8/site-packages/lightgbm/basic.py:1098: UserWarning: categorical_column in param dict is overridden.\n",
      "  warnings.warn('{} in param dict is overridden.'.format(cat_alias))\n"
     ]
    },
    {
     "name": "stdout",
     "output_type": "stream",
     "text": [
      "Training until validation scores don't improve for 100 rounds\n",
      "Early stopping, best iteration is:\n",
      "[68]\tvalid_0's auc: 0.630543\n",
      "Training until validation scores don't improve for 100 rounds\n",
      "Early stopping, best iteration is:\n",
      "[160]\tvalid_0's auc: 0.637699\n",
      "Training until validation scores don't improve for 100 rounds\n",
      "Early stopping, best iteration is:\n",
      "[60]\tvalid_0's auc: 0.625542\n",
      "Training until validation scores don't improve for 100 rounds\n",
      "Early stopping, best iteration is:\n",
      "[60]\tvalid_0's auc: 0.623455\n",
      "--- FINISHED \\ whole score: 0.6288 ---\n",
      "---- id = 113 -----\n"
     ]
    },
    {
     "name": "stderr",
     "output_type": "stream",
     "text": [
      "/home/umhrysnb/anaconda3/lib/python3.8/site-packages/lightgbm/basic.py:1286: UserWarning: Overriding the parameters from Reference Dataset.\n",
      "  warnings.warn('Overriding the parameters from Reference Dataset.')\n",
      "/home/umhrysnb/anaconda3/lib/python3.8/site-packages/lightgbm/basic.py:1098: UserWarning: categorical_column in param dict is overridden.\n",
      "  warnings.warn('{} in param dict is overridden.'.format(cat_alias))\n"
     ]
    },
    {
     "name": "stdout",
     "output_type": "stream",
     "text": [
      "Training until validation scores don't improve for 100 rounds\n",
      "Early stopping, best iteration is:\n",
      "[73]\tvalid_0's auc: 0.641033\n",
      "Training until validation scores don't improve for 100 rounds\n",
      "Early stopping, best iteration is:\n",
      "[100]\tvalid_0's auc: 0.636512\n",
      "Training until validation scores don't improve for 100 rounds\n",
      "Early stopping, best iteration is:\n",
      "[55]\tvalid_0's auc: 0.639197\n",
      "Training until validation scores don't improve for 100 rounds\n",
      "Early stopping, best iteration is:\n",
      "[107]\tvalid_0's auc: 0.64829\n",
      "--- FINISHED \\ whole score: 0.6411 ---\n",
      "---- id = 114 -----\n"
     ]
    },
    {
     "name": "stderr",
     "output_type": "stream",
     "text": [
      "/home/umhrysnb/anaconda3/lib/python3.8/site-packages/lightgbm/basic.py:1286: UserWarning: Overriding the parameters from Reference Dataset.\n",
      "  warnings.warn('Overriding the parameters from Reference Dataset.')\n",
      "/home/umhrysnb/anaconda3/lib/python3.8/site-packages/lightgbm/basic.py:1098: UserWarning: categorical_column in param dict is overridden.\n",
      "  warnings.warn('{} in param dict is overridden.'.format(cat_alias))\n"
     ]
    },
    {
     "name": "stdout",
     "output_type": "stream",
     "text": [
      "Training until validation scores don't improve for 100 rounds\n",
      "Early stopping, best iteration is:\n",
      "[542]\tvalid_0's auc: 0.636496\n",
      "Training until validation scores don't improve for 100 rounds\n",
      "Early stopping, best iteration is:\n",
      "[396]\tvalid_0's auc: 0.633057\n",
      "Training until validation scores don't improve for 100 rounds\n",
      "Early stopping, best iteration is:\n",
      "[427]\tvalid_0's auc: 0.636843\n",
      "Training until validation scores don't improve for 100 rounds\n",
      "Early stopping, best iteration is:\n",
      "[482]\tvalid_0's auc: 0.635216\n",
      "--- FINISHED \\ whole score: 0.6354 ---\n",
      "---- id = 134 -----\n"
     ]
    },
    {
     "name": "stderr",
     "output_type": "stream",
     "text": [
      "/home/umhrysnb/anaconda3/lib/python3.8/site-packages/lightgbm/basic.py:1286: UserWarning: Overriding the parameters from Reference Dataset.\n",
      "  warnings.warn('Overriding the parameters from Reference Dataset.')\n",
      "/home/umhrysnb/anaconda3/lib/python3.8/site-packages/lightgbm/basic.py:1098: UserWarning: categorical_column in param dict is overridden.\n",
      "  warnings.warn('{} in param dict is overridden.'.format(cat_alias))\n"
     ]
    },
    {
     "name": "stdout",
     "output_type": "stream",
     "text": [
      "Training until validation scores don't improve for 100 rounds\n",
      "Early stopping, best iteration is:\n",
      "[243]\tvalid_0's auc: 0.624785\n",
      "Training until validation scores don't improve for 100 rounds\n",
      "Early stopping, best iteration is:\n",
      "[153]\tvalid_0's auc: 0.628636\n",
      "Training until validation scores don't improve for 100 rounds\n",
      "Early stopping, best iteration is:\n",
      "[337]\tvalid_0's auc: 0.623348\n",
      "Training until validation scores don't improve for 100 rounds\n",
      "Early stopping, best iteration is:\n",
      "[468]\tvalid_0's auc: 0.623484\n",
      "--- FINISHED \\ whole score: 0.6249 ---\n",
      "---- id = 171 -----\n"
     ]
    },
    {
     "name": "stderr",
     "output_type": "stream",
     "text": [
      "/home/umhrysnb/anaconda3/lib/python3.8/site-packages/lightgbm/basic.py:1286: UserWarning: Overriding the parameters from Reference Dataset.\n",
      "  warnings.warn('Overriding the parameters from Reference Dataset.')\n",
      "/home/umhrysnb/anaconda3/lib/python3.8/site-packages/lightgbm/basic.py:1098: UserWarning: categorical_column in param dict is overridden.\n",
      "  warnings.warn('{} in param dict is overridden.'.format(cat_alias))\n"
     ]
    },
    {
     "name": "stdout",
     "output_type": "stream",
     "text": [
      "Training until validation scores don't improve for 100 rounds\n",
      "Early stopping, best iteration is:\n",
      "[315]\tvalid_0's auc: 0.664779\n",
      "Training until validation scores don't improve for 100 rounds\n",
      "Early stopping, best iteration is:\n",
      "[411]\tvalid_0's auc: 0.669428\n",
      "Training until validation scores don't improve for 100 rounds\n",
      "Early stopping, best iteration is:\n",
      "[457]\tvalid_0's auc: 0.677765\n",
      "Training until validation scores don't improve for 100 rounds\n",
      "Early stopping, best iteration is:\n",
      "[372]\tvalid_0's auc: 0.674111\n",
      "--- FINISHED \\ whole score: 0.6715 ---\n",
      "---- id = 172 -----\n"
     ]
    },
    {
     "name": "stderr",
     "output_type": "stream",
     "text": [
      "/home/umhrysnb/anaconda3/lib/python3.8/site-packages/lightgbm/basic.py:1286: UserWarning: Overriding the parameters from Reference Dataset.\n",
      "  warnings.warn('Overriding the parameters from Reference Dataset.')\n",
      "/home/umhrysnb/anaconda3/lib/python3.8/site-packages/lightgbm/basic.py:1098: UserWarning: categorical_column in param dict is overridden.\n",
      "  warnings.warn('{} in param dict is overridden.'.format(cat_alias))\n"
     ]
    },
    {
     "name": "stdout",
     "output_type": "stream",
     "text": [
      "Training until validation scores don't improve for 100 rounds\n",
      "Early stopping, best iteration is:\n",
      "[85]\tvalid_0's auc: 0.653163\n",
      "Training until validation scores don't improve for 100 rounds\n",
      "Early stopping, best iteration is:\n",
      "[204]\tvalid_0's auc: 0.644104\n",
      "Training until validation scores don't improve for 100 rounds\n",
      "Early stopping, best iteration is:\n",
      "[87]\tvalid_0's auc: 0.642177\n",
      "Training until validation scores don't improve for 100 rounds\n",
      "Early stopping, best iteration is:\n",
      "[131]\tvalid_0's auc: 0.657145\n",
      "--- FINISHED \\ whole score: 0.6487 ---\n",
      "---- id = 173 -----\n"
     ]
    },
    {
     "name": "stderr",
     "output_type": "stream",
     "text": [
      "/home/umhrysnb/anaconda3/lib/python3.8/site-packages/lightgbm/basic.py:1286: UserWarning: Overriding the parameters from Reference Dataset.\n",
      "  warnings.warn('Overriding the parameters from Reference Dataset.')\n",
      "/home/umhrysnb/anaconda3/lib/python3.8/site-packages/lightgbm/basic.py:1098: UserWarning: categorical_column in param dict is overridden.\n",
      "  warnings.warn('{} in param dict is overridden.'.format(cat_alias))\n"
     ]
    },
    {
     "name": "stdout",
     "output_type": "stream",
     "text": [
      "Training until validation scores don't improve for 100 rounds\n",
      "Early stopping, best iteration is:\n",
      "[434]\tvalid_0's auc: 0.666126\n",
      "Training until validation scores don't improve for 100 rounds\n",
      "Early stopping, best iteration is:\n",
      "[478]\tvalid_0's auc: 0.666914\n",
      "Training until validation scores don't improve for 100 rounds\n",
      "Early stopping, best iteration is:\n",
      "[370]\tvalid_0's auc: 0.662487\n",
      "Training until validation scores don't improve for 100 rounds\n",
      "Early stopping, best iteration is:\n",
      "[684]\tvalid_0's auc: 0.671894\n",
      "--- FINISHED \\ whole score: 0.6669 ---\n",
      "---- id = 376 -----\n"
     ]
    },
    {
     "name": "stderr",
     "output_type": "stream",
     "text": [
      "/home/umhrysnb/anaconda3/lib/python3.8/site-packages/lightgbm/basic.py:1286: UserWarning: Overriding the parameters from Reference Dataset.\n",
      "  warnings.warn('Overriding the parameters from Reference Dataset.')\n",
      "/home/umhrysnb/anaconda3/lib/python3.8/site-packages/lightgbm/basic.py:1098: UserWarning: categorical_column in param dict is overridden.\n",
      "  warnings.warn('{} in param dict is overridden.'.format(cat_alias))\n"
     ]
    },
    {
     "name": "stdout",
     "output_type": "stream",
     "text": [
      "Training until validation scores don't improve for 100 rounds\n",
      "Early stopping, best iteration is:\n",
      "[459]\tvalid_0's auc: 0.617637\n",
      "Training until validation scores don't improve for 100 rounds\n",
      "Early stopping, best iteration is:\n",
      "[464]\tvalid_0's auc: 0.622995\n",
      "Training until validation scores don't improve for 100 rounds\n",
      "Early stopping, best iteration is:\n",
      "[191]\tvalid_0's auc: 0.613468\n",
      "Training until validation scores don't improve for 100 rounds\n",
      "Early stopping, best iteration is:\n",
      "[216]\tvalid_0's auc: 0.621167\n",
      "--- FINISHED \\ whole score: 0.6188 ---\n",
      "---- id = 435 -----\n"
     ]
    },
    {
     "name": "stderr",
     "output_type": "stream",
     "text": [
      "/home/umhrysnb/anaconda3/lib/python3.8/site-packages/lightgbm/basic.py:1286: UserWarning: Overriding the parameters from Reference Dataset.\n",
      "  warnings.warn('Overriding the parameters from Reference Dataset.')\n",
      "/home/umhrysnb/anaconda3/lib/python3.8/site-packages/lightgbm/basic.py:1098: UserWarning: categorical_column in param dict is overridden.\n",
      "  warnings.warn('{} in param dict is overridden.'.format(cat_alias))\n"
     ]
    },
    {
     "name": "stdout",
     "output_type": "stream",
     "text": [
      "Training until validation scores don't improve for 100 rounds\n",
      "Early stopping, best iteration is:\n",
      "[78]\tvalid_0's auc: 0.655361\n",
      "Training until validation scores don't improve for 100 rounds\n",
      "Early stopping, best iteration is:\n",
      "[418]\tvalid_0's auc: 0.656209\n",
      "Training until validation scores don't improve for 100 rounds\n",
      "Early stopping, best iteration is:\n",
      "[303]\tvalid_0's auc: 0.650567\n",
      "Training until validation scores don't improve for 100 rounds\n",
      "Early stopping, best iteration is:\n",
      "[217]\tvalid_0's auc: 0.654381\n",
      "--- FINISHED \\ whole score: 0.6535 ---\n",
      "---- id = 467 -----\n"
     ]
    },
    {
     "name": "stderr",
     "output_type": "stream",
     "text": [
      "/home/umhrysnb/anaconda3/lib/python3.8/site-packages/lightgbm/basic.py:1286: UserWarning: Overriding the parameters from Reference Dataset.\n",
      "  warnings.warn('Overriding the parameters from Reference Dataset.')\n",
      "/home/umhrysnb/anaconda3/lib/python3.8/site-packages/lightgbm/basic.py:1098: UserWarning: categorical_column in param dict is overridden.\n",
      "  warnings.warn('{} in param dict is overridden.'.format(cat_alias))\n"
     ]
    },
    {
     "name": "stdout",
     "output_type": "stream",
     "text": [
      "Training until validation scores don't improve for 100 rounds\n",
      "Early stopping, best iteration is:\n",
      "[120]\tvalid_0's auc: 0.655566\n",
      "Training until validation scores don't improve for 100 rounds\n",
      "Early stopping, best iteration is:\n",
      "[61]\tvalid_0's auc: 0.648782\n",
      "Training until validation scores don't improve for 100 rounds\n",
      "Early stopping, best iteration is:\n",
      "[144]\tvalid_0's auc: 0.636709\n",
      "Training until validation scores don't improve for 100 rounds\n",
      "Early stopping, best iteration is:\n",
      "[190]\tvalid_0's auc: 0.635238\n",
      "--- FINISHED \\ whole score: 0.6434 ---\n",
      "---- id = 537 -----\n"
     ]
    },
    {
     "name": "stderr",
     "output_type": "stream",
     "text": [
      "/home/umhrysnb/anaconda3/lib/python3.8/site-packages/lightgbm/basic.py:1286: UserWarning: Overriding the parameters from Reference Dataset.\n",
      "  warnings.warn('Overriding the parameters from Reference Dataset.')\n",
      "/home/umhrysnb/anaconda3/lib/python3.8/site-packages/lightgbm/basic.py:1098: UserWarning: categorical_column in param dict is overridden.\n",
      "  warnings.warn('{} in param dict is overridden.'.format(cat_alias))\n"
     ]
    },
    {
     "name": "stdout",
     "output_type": "stream",
     "text": [
      "Training until validation scores don't improve for 100 rounds\n",
      "Early stopping, best iteration is:\n",
      "[137]\tvalid_0's auc: 0.704087\n",
      "Training until validation scores don't improve for 100 rounds\n",
      "Early stopping, best iteration is:\n",
      "[203]\tvalid_0's auc: 0.689272\n",
      "Training until validation scores don't improve for 100 rounds\n",
      "Early stopping, best iteration is:\n",
      "[85]\tvalid_0's auc: 0.683762\n",
      "Training until validation scores don't improve for 100 rounds\n",
      "Early stopping, best iteration is:\n",
      "[207]\tvalid_0's auc: 0.693326\n",
      "--- FINISHED \\ whole score: 0.6922 ---\n",
      "---- id = 539 -----\n"
     ]
    },
    {
     "name": "stderr",
     "output_type": "stream",
     "text": [
      "/home/umhrysnb/anaconda3/lib/python3.8/site-packages/lightgbm/basic.py:1286: UserWarning: Overriding the parameters from Reference Dataset.\n",
      "  warnings.warn('Overriding the parameters from Reference Dataset.')\n",
      "/home/umhrysnb/anaconda3/lib/python3.8/site-packages/lightgbm/basic.py:1098: UserWarning: categorical_column in param dict is overridden.\n",
      "  warnings.warn('{} in param dict is overridden.'.format(cat_alias))\n"
     ]
    },
    {
     "name": "stdout",
     "output_type": "stream",
     "text": [
      "Training until validation scores don't improve for 100 rounds\n",
      "Early stopping, best iteration is:\n",
      "[235]\tvalid_0's auc: 0.648451\n",
      "Training until validation scores don't improve for 100 rounds\n",
      "Early stopping, best iteration is:\n",
      "[121]\tvalid_0's auc: 0.643834\n",
      "Training until validation scores don't improve for 100 rounds\n",
      "Early stopping, best iteration is:\n",
      "[301]\tvalid_0's auc: 0.653054\n",
      "Training until validation scores don't improve for 100 rounds\n",
      "Early stopping, best iteration is:\n",
      "[220]\tvalid_0's auc: 0.653233\n",
      "--- FINISHED \\ whole score: 0.6495 ---\n",
      "---- id = 629 -----\n"
     ]
    },
    {
     "name": "stderr",
     "output_type": "stream",
     "text": [
      "/home/umhrysnb/anaconda3/lib/python3.8/site-packages/lightgbm/basic.py:1286: UserWarning: Overriding the parameters from Reference Dataset.\n",
      "  warnings.warn('Overriding the parameters from Reference Dataset.')\n",
      "/home/umhrysnb/anaconda3/lib/python3.8/site-packages/lightgbm/basic.py:1098: UserWarning: categorical_column in param dict is overridden.\n",
      "  warnings.warn('{} in param dict is overridden.'.format(cat_alias))\n"
     ]
    },
    {
     "name": "stdout",
     "output_type": "stream",
     "text": [
      "Training until validation scores don't improve for 100 rounds\n",
      "Early stopping, best iteration is:\n",
      "[153]\tvalid_0's auc: 0.6494\n",
      "Training until validation scores don't improve for 100 rounds\n",
      "Early stopping, best iteration is:\n",
      "[81]\tvalid_0's auc: 0.668944\n",
      "Training until validation scores don't improve for 100 rounds\n",
      "Early stopping, best iteration is:\n",
      "[111]\tvalid_0's auc: 0.654055\n",
      "Training until validation scores don't improve for 100 rounds\n",
      "Early stopping, best iteration is:\n",
      "[69]\tvalid_0's auc: 0.637103\n",
      "--- FINISHED \\ whole score: 0.6512 ---\n",
      "---- id = 768 -----\n"
     ]
    },
    {
     "name": "stderr",
     "output_type": "stream",
     "text": [
      "/home/umhrysnb/anaconda3/lib/python3.8/site-packages/lightgbm/basic.py:1286: UserWarning: Overriding the parameters from Reference Dataset.\n",
      "  warnings.warn('Overriding the parameters from Reference Dataset.')\n",
      "/home/umhrysnb/anaconda3/lib/python3.8/site-packages/lightgbm/basic.py:1098: UserWarning: categorical_column in param dict is overridden.\n",
      "  warnings.warn('{} in param dict is overridden.'.format(cat_alias))\n"
     ]
    },
    {
     "name": "stdout",
     "output_type": "stream",
     "text": [
      "Training until validation scores don't improve for 100 rounds\n",
      "Early stopping, best iteration is:\n",
      "[230]\tvalid_0's auc: 0.605449\n",
      "Training until validation scores don't improve for 100 rounds\n",
      "Early stopping, best iteration is:\n",
      "[77]\tvalid_0's auc: 0.608108\n",
      "Training until validation scores don't improve for 100 rounds\n",
      "Early stopping, best iteration is:\n",
      "[298]\tvalid_0's auc: 0.603899\n",
      "Training until validation scores don't improve for 100 rounds\n",
      "Early stopping, best iteration is:\n",
      "[189]\tvalid_0's auc: 0.602602\n",
      "--- FINISHED \\ whole score: 0.6048 ---\n",
      "56486\n",
      "CPU times: user 17h 53min 29s, sys: 13min 37s, total: 18h 7min 7s\n",
      "Wall time: 47min 7s\n"
     ]
    }
   ],
   "source": [
    "%%time\n",
    "df_pred_all = pd.DataFrame()\n",
    "for elapsed_min in ELAPSED_MIN:\n",
    "    print(f'===== {elapsed_min} =====')\n",
    "    train_features, y_train = get_train_all_features(elapsed_min, train_log_list, train_y_list)\n",
    "    test_features = get_test_all_feature(elapsed_min)\n",
    "\n",
    "    df_pred = pd.DataFrame(index=test_features['session_id'])\n",
    "    train_features.drop(columns=['session_id'], inplace=True)\n",
    "    test_features.drop(columns=['session_id'], inplace=True)\n",
    "    \n",
    "    models_list = []\n",
    "    for target in y_train.columns:\n",
    "        if target == 'session_id':\n",
    "            continue\n",
    "        \n",
    "        print(f\"---- id = {target} -----\")\n",
    "        oof, models, score = train_lgbm(train_features, y_train[target])\n",
    "        models_list.append(models)\n",
    "\n",
    "        pred = predict(models, test_features)\n",
    "        df_pred[target] = pred\n",
    "    \n",
    "    df_pred_all = pd.concat([df_pred_all, df_pred])\n",
    "    print(len(df_pred_all))"
   ]
  },
  {
   "cell_type": "code",
   "execution_count": 27,
   "metadata": {},
   "outputs": [
    {
     "data": {
      "text/html": [
       "<div>\n",
       "<style scoped>\n",
       "    .dataframe tbody tr th:only-of-type {\n",
       "        vertical-align: middle;\n",
       "    }\n",
       "\n",
       "    .dataframe tbody tr th {\n",
       "        vertical-align: top;\n",
       "    }\n",
       "\n",
       "    .dataframe thead th {\n",
       "        text-align: right;\n",
       "    }\n",
       "</style>\n",
       "<table border=\"1\" class=\"dataframe\">\n",
       "  <thead>\n",
       "    <tr style=\"text-align: right;\">\n",
       "      <th></th>\n",
       "      <th>38</th>\n",
       "      <th>110</th>\n",
       "      <th>113</th>\n",
       "      <th>114</th>\n",
       "      <th>134</th>\n",
       "      <th>171</th>\n",
       "      <th>172</th>\n",
       "      <th>173</th>\n",
       "      <th>376</th>\n",
       "      <th>435</th>\n",
       "      <th>467</th>\n",
       "      <th>537</th>\n",
       "      <th>539</th>\n",
       "      <th>629</th>\n",
       "      <th>768</th>\n",
       "    </tr>\n",
       "    <tr>\n",
       "      <th>session_id</th>\n",
       "      <th></th>\n",
       "      <th></th>\n",
       "      <th></th>\n",
       "      <th></th>\n",
       "      <th></th>\n",
       "      <th></th>\n",
       "      <th></th>\n",
       "      <th></th>\n",
       "      <th></th>\n",
       "      <th></th>\n",
       "      <th></th>\n",
       "      <th></th>\n",
       "      <th></th>\n",
       "      <th></th>\n",
       "      <th></th>\n",
       "    </tr>\n",
       "  </thead>\n",
       "  <tbody>\n",
       "    <tr>\n",
       "      <th>663721</th>\n",
       "      <td>0.076400</td>\n",
       "      <td>0.005714</td>\n",
       "      <td>0.072335</td>\n",
       "      <td>0.309691</td>\n",
       "      <td>0.085822</td>\n",
       "      <td>0.063477</td>\n",
       "      <td>0.026087</td>\n",
       "      <td>0.099904</td>\n",
       "      <td>0.136192</td>\n",
       "      <td>0.031901</td>\n",
       "      <td>0.032495</td>\n",
       "      <td>0.075720</td>\n",
       "      <td>0.071832</td>\n",
       "      <td>0.024147</td>\n",
       "      <td>0.092511</td>\n",
       "    </tr>\n",
       "    <tr>\n",
       "      <th>663761</th>\n",
       "      <td>0.136233</td>\n",
       "      <td>0.012237</td>\n",
       "      <td>0.088636</td>\n",
       "      <td>0.369485</td>\n",
       "      <td>0.193553</td>\n",
       "      <td>0.198022</td>\n",
       "      <td>0.085298</td>\n",
       "      <td>0.116217</td>\n",
       "      <td>0.145961</td>\n",
       "      <td>0.075937</td>\n",
       "      <td>0.026656</td>\n",
       "      <td>0.190615</td>\n",
       "      <td>0.137635</td>\n",
       "      <td>0.010964</td>\n",
       "      <td>0.171310</td>\n",
       "    </tr>\n",
       "    <tr>\n",
       "      <th>663763</th>\n",
       "      <td>0.099957</td>\n",
       "      <td>0.020507</td>\n",
       "      <td>0.073697</td>\n",
       "      <td>0.334729</td>\n",
       "      <td>0.173112</td>\n",
       "      <td>0.135952</td>\n",
       "      <td>0.080098</td>\n",
       "      <td>0.087569</td>\n",
       "      <td>0.126407</td>\n",
       "      <td>0.135325</td>\n",
       "      <td>0.036787</td>\n",
       "      <td>0.038277</td>\n",
       "      <td>0.051305</td>\n",
       "      <td>0.010431</td>\n",
       "      <td>0.215274</td>\n",
       "    </tr>\n",
       "    <tr>\n",
       "      <th>663775</th>\n",
       "      <td>0.093673</td>\n",
       "      <td>0.024324</td>\n",
       "      <td>0.057162</td>\n",
       "      <td>0.227395</td>\n",
       "      <td>0.126626</td>\n",
       "      <td>0.087244</td>\n",
       "      <td>0.078262</td>\n",
       "      <td>0.149134</td>\n",
       "      <td>0.138452</td>\n",
       "      <td>0.074046</td>\n",
       "      <td>0.027857</td>\n",
       "      <td>0.100535</td>\n",
       "      <td>0.099204</td>\n",
       "      <td>0.012778</td>\n",
       "      <td>0.117112</td>\n",
       "    </tr>\n",
       "    <tr>\n",
       "      <th>663778</th>\n",
       "      <td>0.138220</td>\n",
       "      <td>0.015378</td>\n",
       "      <td>0.061622</td>\n",
       "      <td>0.237690</td>\n",
       "      <td>0.114414</td>\n",
       "      <td>0.102383</td>\n",
       "      <td>0.020791</td>\n",
       "      <td>0.091600</td>\n",
       "      <td>0.108028</td>\n",
       "      <td>0.062657</td>\n",
       "      <td>0.067197</td>\n",
       "      <td>0.059034</td>\n",
       "      <td>0.065868</td>\n",
       "      <td>0.017876</td>\n",
       "      <td>0.146439</td>\n",
       "    </tr>\n",
       "  </tbody>\n",
       "</table>\n",
       "</div>"
      ],
      "text/plain": [
       "                  38       110       113       114       134       171  \\\n",
       "session_id                                                               \n",
       "663721      0.076400  0.005714  0.072335  0.309691  0.085822  0.063477   \n",
       "663761      0.136233  0.012237  0.088636  0.369485  0.193553  0.198022   \n",
       "663763      0.099957  0.020507  0.073697  0.334729  0.173112  0.135952   \n",
       "663775      0.093673  0.024324  0.057162  0.227395  0.126626  0.087244   \n",
       "663778      0.138220  0.015378  0.061622  0.237690  0.114414  0.102383   \n",
       "\n",
       "                 172       173       376       435       467       537  \\\n",
       "session_id                                                               \n",
       "663721      0.026087  0.099904  0.136192  0.031901  0.032495  0.075720   \n",
       "663761      0.085298  0.116217  0.145961  0.075937  0.026656  0.190615   \n",
       "663763      0.080098  0.087569  0.126407  0.135325  0.036787  0.038277   \n",
       "663775      0.078262  0.149134  0.138452  0.074046  0.027857  0.100535   \n",
       "663778      0.020791  0.091600  0.108028  0.062657  0.067197  0.059034   \n",
       "\n",
       "                 539       629       768  \n",
       "session_id                                \n",
       "663721      0.071832  0.024147  0.092511  \n",
       "663761      0.137635  0.010964  0.171310  \n",
       "663763      0.051305  0.010431  0.215274  \n",
       "663775      0.099204  0.012778  0.117112  \n",
       "663778      0.065868  0.017876  0.146439  "
      ]
     },
     "execution_count": 27,
     "metadata": {},
     "output_type": "execute_result"
    }
   ],
   "source": [
    "df_pred_all.head()"
   ]
  },
  {
   "cell_type": "code",
   "execution_count": 28,
   "metadata": {},
   "outputs": [],
   "source": [
    "assert len(df_pred_all) == len(test)"
   ]
  },
  {
   "cell_type": "code",
   "execution_count": 29,
   "metadata": {},
   "outputs": [],
   "source": [
    "submission = pd.merge(test[['session_id']], df_pred_all.reset_index(), on='session_id', how='inner')\n",
    "assert len(submission) == len(test)"
   ]
  },
  {
   "cell_type": "code",
   "execution_count": 30,
   "metadata": {},
   "outputs": [],
   "source": [
    "submission.drop(columns='session_id').to_csv('../outputs/submission.csv', index=False)"
   ]
  },
  {
   "cell_type": "code",
   "execution_count": null,
   "metadata": {},
   "outputs": [],
   "source": []
  }
 ],
 "metadata": {
  "kernelspec": {
   "display_name": "Python 3",
   "language": "python",
   "name": "python3"
  },
  "language_info": {
   "codemirror_mode": {
    "name": "ipython",
    "version": 3
   },
   "file_extension": ".py",
   "mimetype": "text/x-python",
   "name": "python",
   "nbconvert_exporter": "python",
   "pygments_lexer": "ipython3",
   "version": "3.8.3"
  }
 },
 "nbformat": 4,
 "nbformat_minor": 4
}
