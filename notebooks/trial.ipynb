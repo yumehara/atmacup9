{
 "cells": [
  {
   "cell_type": "code",
   "execution_count": 1,
   "metadata": {},
   "outputs": [],
   "source": [
    "import gc\n",
    "import numpy as np\n",
    "import matplotlib.pyplot as plt\n",
    "import pandas as pd\n",
    "import feather\n",
    "import datetime\n",
    "from matplotlib_venn import venn2\n",
    "from sklearn import preprocessing\n",
    "from sklearn.model_selection import KFold\n",
    "from sklearn.model_selection import StratifiedKFold\n",
    "import lightgbm as lgbm\n",
    "from sklearn.model_selection import train_test_split\n",
    "from sklearn.metrics import roc_auc_score\n",
    "from sklearn.decomposition import LatentDirichletAllocation as LDA\n",
    "pd.set_option('display.max_Columns', 100)"
   ]
  },
  {
   "cell_type": "code",
   "execution_count": 2,
   "metadata": {},
   "outputs": [],
   "source": [
    "cartlog = pd.read_feather('../inputs/cartlog.f')\n",
    "product_master = pd.read_feather('../inputs/product_master.f')\n",
    "meta = pd.read_feather('../inputs/meta.f')\n",
    "user_master = pd.read_feather('../inputs/user_master.f')\n",
    "test = pd.read_csv('../inputs/test.csv')\n",
    "display_action_id = pd.read_csv('../inputs/display_action_id.csv')\n",
    "\n",
    "product_master['JAN'] = product_master['JAN'].astype(str)"
   ]
  },
  {
   "cell_type": "code",
   "execution_count": 3,
   "metadata": {},
   "outputs": [
    {
     "name": "stdout",
     "output_type": "stream",
     "text": [
      "56486\n"
     ]
    }
   ],
   "source": [
    "test_sessions = test[\"session_id\"].unique()\n",
    "print(len(test_sessions))\n",
    "test_input_log = cartlog[cartlog[\"session_id\"].isin(test_sessions)]"
   ]
  },
  {
   "cell_type": "code",
   "execution_count": 4,
   "metadata": {},
   "outputs": [],
   "source": [
    "target_category = [\n",
    "    38,  # アイスクリーム__ノベルティー\n",
    "    110,  # スナック・キャンディー__ガム\n",
    "    113,  # スナック・キャンディー__シリアル\n",
    "    114,  # スナック・キャンディー__スナック\n",
    "    134,  # チョコ・ビスクラ__チョコレート\n",
    "    171,  # ビール系__RTD\n",
    "    172,  # ビール系__ノンアルコール\n",
    "    173,  # ビール系__ビール系\n",
    "    376,  # 和菓子__米菓\n",
    "    435,  # 大型PET__無糖茶（大型PET）\n",
    "    467,  # 小型PET__コーヒー（小型PET）\n",
    "    537,  # 水・炭酸水__大型PET（炭酸水）\n",
    "    539,  # 水・炭酸水__小型PET（炭酸水）\n",
    "    629,  # 缶飲料__コーヒー（缶）\n",
    "    768,  # 麺類__カップ麺\n",
    "]"
   ]
  },
  {
   "cell_type": "code",
   "execution_count": 5,
   "metadata": {},
   "outputs": [
    {
     "name": "stdout",
     "output_type": "stream",
     "text": [
      "2020-04-01以降、2020-08-01以前:  131964\n",
      "購買が発生:  130052\n",
      "10分以上:  103114\n",
      "積集合:  102421\n",
      "全trainのログ:  2663364\n"
     ]
    }
   ],
   "source": [
    "# 2020-04-01以降、2020-08-01以前で10分以上経過し購買が発生したセッションにtrainデータを絞る\n",
    "tmp_sessions = meta[(meta['date'] >= '2020-04-01')&(meta['date'] < '2020-08-01')]['session_id'].unique()\n",
    "tmp_log = cartlog[cartlog[\"session_id\"].isin(tmp_sessions)]\n",
    "print('2020-04-01以降、2020-08-01以前: ', len(tmp_sessions))\n",
    "\n",
    "# 購買が発生したセッション\n",
    "payment_sessions = set(tmp_log[tmp_log['is_payment']==1]['session_id'].unique())\n",
    "print('購買が発生: ', len(payment_sessions))\n",
    "# 10分以上のセッション\n",
    "over10min_sessions = set(tmp_log[tmp_log['spend_time']>=600]['session_id'].unique())\n",
    "print('10分以上: ', len(over10min_sessions))\n",
    "# 積集合\n",
    "all_train_sessions = payment_sessions & over10min_sessions\n",
    "print('積集合: ', len(all_train_sessions))\n",
    "\n",
    "# 10分以上の全trainのログデータ\n",
    "all_train_log = tmp_log[tmp_log[\"session_id\"].isin(all_train_sessions)]\n",
    "print('全trainのログ: ', len(all_train_log))"
   ]
  },
  {
   "cell_type": "code",
   "execution_count": 6,
   "metadata": {},
   "outputs": [],
   "source": [
    "def agg_payment(cartlog) -> pd.DataFrame:\n",
    "    \"\"\"セッションごと・商品ごとの購買個数を集計する\"\"\"\n",
    "    # JANコード (vale_1)ごとに商品の購入個数(n_items)を足し算\n",
    "    agg = cartlog.loc[cartlog[\"kind_1\"] == \"商品\"].groupby([\"session_id\", \"value_1\"])[\"n_items\"].sum().reset_index()\n",
    "    agg = agg.rename(columns={\"value_1\": \"JAN\"})\n",
    "    return pd.merge(agg, product_master[[\"JAN\", \"category_id\"]], on=\"JAN\", how=\"inner\").drop(columns=['JAN'])"
   ]
  },
  {
   "cell_type": "code",
   "execution_count": 7,
   "metadata": {},
   "outputs": [],
   "source": [
    "class RetailDataset:\n",
    "    def __init__(self, thres_sec, meta):\n",
    "        self.thres_sec = thres_sec\n",
    "        self.meta = meta.copy()\n",
    "        self.meta['time_elapsed_sec'] = self.meta['time_elapsed'] * 60\n",
    "        self.meta.loc[self.meta['time_elapsed_sec'].isnull(), 'time_elapsed_sec'] = thres_sec\n",
    "        \n",
    "        # all_train_logの中で、指定時間より前のログのみを抽出　-> public_train_log, train_sessions\n",
    "        merge_train = pd.merge(all_train_log, self.meta[[\"session_id\", \"time_elapsed_sec\"]], on=[\"session_id\"], how=\"inner\")\n",
    "        self.public_train_log = merge_train[merge_train['spend_time'] <= merge_train['time_elapsed_sec']]\n",
    "        self.train_sessions = self.public_train_log[\"session_id\"].unique()\n",
    "        \n",
    "    def get_train_input_log(self) -> pd.DataFrame:\n",
    "        return self.public_train_log\n",
    "\n",
    "    def get_train_target(self) -> pd.DataFrame:\n",
    "        \"\"\"学習で使用するセッションの目的変数を取得する\"\"\"\n",
    "        train_target = pd.DataFrame(\n",
    "            index=self.train_sessions,\n",
    "        )\n",
    "        train_target.index.name = \"session_id\"\n",
    "\n",
    "        # time_elapsed以降のデータから購買個数を集計する\n",
    "        merge_train = pd.merge(all_train_log, self.meta[[\"session_id\", \"time_elapsed_sec\"]], on=[\"session_id\"], how=\"inner\")\n",
    "        after_elapsed_log = merge_train[merge_train['spend_time'] > merge_train['time_elapsed_sec']]\n",
    "        \n",
    "        train_item_num = agg_payment(after_elapsed_log)\n",
    "        train_item_num = train_item_num[train_item_num['category_id'].isin(target_category)]\n",
    "        train_target_pos = train_item_num.groupby([\"session_id\", \"category_id\"])[\"n_items\"].sum().unstack().fillna(0).astype(int)\n",
    "        train_target_pos[train_target_pos > 0] = 1\n",
    "        train_target_pos[train_target_pos <= 0] = 0\n",
    "\n",
    "        return train_target.join(train_target_pos).fillna(0).reset_index()"
   ]
  },
  {
   "cell_type": "code",
   "execution_count": 8,
   "metadata": {},
   "outputs": [],
   "source": [
    "def get_train_log(elapsed_min):\n",
    "    dataset = RetailDataset(elapsed_min*60, meta)\n",
    "    train_input_log = dataset.get_train_input_log()\n",
    "    y_train = dataset.get_train_target()\n",
    "    print('train_session', y_train.shape)\n",
    "    return train_input_log, y_train"
   ]
  },
  {
   "cell_type": "code",
   "execution_count": 9,
   "metadata": {},
   "outputs": [],
   "source": [
    "ELAPSED_MIN = [0, 3, 5, 10]\n",
    "# ELAPSED_MIN = [5]"
   ]
  },
  {
   "cell_type": "code",
   "execution_count": 10,
   "metadata": {},
   "outputs": [],
   "source": [
    "LOG_VER = 3"
   ]
  },
  {
   "cell_type": "code",
   "execution_count": 11,
   "metadata": {},
   "outputs": [],
   "source": [
    "def save_train_log(ver):\n",
    "    for elap_min in ELAPSED_MIN:\n",
    "        train_log, train_y = get_train_log(elap_min)\n",
    "        train_log = train_log.reset_index(drop=True)\n",
    "        train_y = train_y.reset_index(drop=True)\n",
    "        train_y.columns = [str(c) for c in train_y.columns]\n",
    "        train_log.to_feather('../inputs/train{}_log_{}.f'.format(ver, elap_min))\n",
    "        train_y.to_feather('../inputs/train{}_y_{}.f'.format(ver, elap_min))"
   ]
  },
  {
   "cell_type": "code",
   "execution_count": 12,
   "metadata": {},
   "outputs": [],
   "source": [
    "def load_train_log(ver):\n",
    "    train_log = {}\n",
    "    train_y = {}\n",
    "    for elap_min in ELAPSED_MIN:\n",
    "        log = pd.read_feather('../inputs/train{}_log_{}.f'.format(ver, elap_min))\n",
    "        y = pd.read_feather('../inputs/train{}_y_{}.f'.format(ver, elap_min))\n",
    "        train_log[elap_min] = log\n",
    "        train_y[elap_min] = y\n",
    "    return train_log, train_y"
   ]
  },
  {
   "cell_type": "code",
   "execution_count": 13,
   "metadata": {},
   "outputs": [],
   "source": [
    "# save_train_log(LOG_VER)"
   ]
  },
  {
   "cell_type": "markdown",
   "metadata": {},
   "source": [
    "#### ver.4: 2020-04-01以前\n",
    "- 0, \n",
    "- 3, \n",
    "- 5, \n",
    "- 10, \n",
    "\n",
    "#### ver.3: 2020-04-01以降、2020-08-01以前\n",
    "- 0, train_session (101562, 16)\n",
    "- 3, train_session (102348, 16)\n",
    "- 5, train_session (102394, 16)\n",
    "- 10, train_session (102410, 16)\n",
    "\n",
    "#### ver.2: 2020-08-01以前\n",
    "- 0, train_session (378594, 16)\n",
    "- 3, train_session (389649, 16)\n",
    "- 5, train_session (390621, 16)\n",
    "- 10, train_session (391074, 16)"
   ]
  },
  {
   "cell_type": "markdown",
   "metadata": {},
   "source": [
    "### 過去のログデータ"
   ]
  },
  {
   "cell_type": "code",
   "execution_count": 14,
   "metadata": {},
   "outputs": [],
   "source": [
    "payed_item = agg_payment(all_train_log)"
   ]
  },
  {
   "cell_type": "code",
   "execution_count": 15,
   "metadata": {},
   "outputs": [],
   "source": [
    "def LDA_topic(df_input, topic, index, prefix):\n",
    "    df_cp = df_input.set_index(index)\n",
    "    lda = LDA(n_components=topic)\n",
    "    lda_out = pd.DataFrame(lda.fit_transform(df_cp), index=df_cp.index).add_prefix(prefix)\n",
    "    return lda_out.reset_index()"
   ]
  },
  {
   "cell_type": "markdown",
   "metadata": {},
   "source": [
    "### ユーザ情報"
   ]
  },
  {
   "cell_type": "code",
   "execution_count": 16,
   "metadata": {},
   "outputs": [],
   "source": [
    "user_features = pd.merge(meta[[\"session_id\", \"user_id\"]], user_master, on=\"user_id\", how=\"left\")\n",
    "user_features.loc[user_features['age'] >= 80, 'age'] = np.NaN\n",
    "user_features.loc[user_features['age'] < 10, 'age'] = np.NaN\n",
    "user_features.loc[user_features['gender'] > 1, 'gender'] = np.NaN"
   ]
  },
  {
   "cell_type": "code",
   "execution_count": 17,
   "metadata": {},
   "outputs": [],
   "source": [
    "def get_user_item(payed_item):\n",
    "    # train用のデータから購買した商品\n",
    "    user_payed_item = pd.merge(payed_item, meta[['session_id', 'user_id']], on='session_id', how='left')\n",
    "    group_user_item = user_payed_item.groupby(['user_id', 'category_id'])[['n_items']].sum().reset_index()\n",
    "    pivot_user_item = group_user_item.pivot_table(index='user_id', columns='category_id', values='n_items')\n",
    "    # 全ユーザーの購入数の合計が5000以上のカテゴリに絞り込み\n",
    "    sum_user_item = pivot_user_item.sum()\n",
    "    user_item_index = sum_user_item[sum_user_item > 5000].index\n",
    "    pivot_user_item = pivot_user_item[user_item_index].fillna(0).reset_index()\n",
    "    # trainに存在しない人用に平均値で穴埋め\n",
    "    user_item_mean = pivot_user_item.mean()\n",
    "    # 全ユーザーとマージ\n",
    "    all_user_item = pd.merge(user_master[['user_id']], pivot_user_item, on='user_id', how='left')\n",
    "    # targetのカテゴリは除く\n",
    "    for col in all_user_item.columns:\n",
    "        if (col == 'user_id') or (col in target_category):\n",
    "            continue\n",
    "        new_col = 'user_pay_{}'.format(col)\n",
    "        all_user_item[new_col] = all_user_item[col].fillna(user_item_mean[col]).astype('float32')\n",
    "        all_user_item.loc[all_user_item[new_col]<0, new_col] = 0\n",
    "\n",
    "    return all_user_item.drop(columns=list(user_item_mean.index))"
   ]
  },
  {
   "cell_type": "code",
   "execution_count": 18,
   "metadata": {},
   "outputs": [
    {
     "name": "stdout",
     "output_type": "stream",
     "text": [
      "(40350, 94)\n"
     ]
    }
   ],
   "source": [
    "all_user_item = get_user_item(payed_item)\n",
    "print(all_user_item.shape)"
   ]
  },
  {
   "cell_type": "code",
   "execution_count": 19,
   "metadata": {},
   "outputs": [],
   "source": [
    "def save_item_lda(ver, all_user_item):\n",
    "    user_lda = LDA_topic(all_user_item, 10, 'user_id', 'LDA_')\n",
    "    user_lda.to_feather('../inputs/user_lda_{}.f'.format(ver))"
   ]
  },
  {
   "cell_type": "code",
   "execution_count": 20,
   "metadata": {},
   "outputs": [],
   "source": [
    "def load_item_lda(ver):\n",
    "    user_lda = pd.read_feather('../inputs/user_lda_{}.f'.format(ver))\n",
    "    return user_lda"
   ]
  },
  {
   "cell_type": "code",
   "execution_count": 21,
   "metadata": {},
   "outputs": [],
   "source": [
    "# %%time\n",
    "# save_item_lda(LOG_VER, all_user_item)"
   ]
  },
  {
   "cell_type": "code",
   "execution_count": 22,
   "metadata": {},
   "outputs": [
    {
     "name": "stdout",
     "output_type": "stream",
     "text": [
      "(40350, 104)\n"
     ]
    }
   ],
   "source": [
    "user_lda = load_item_lda(LOG_VER)\n",
    "all_user_item = pd.merge(all_user_item, user_lda, on='user_id', how='left')\n",
    "print(all_user_item.shape)"
   ]
  },
  {
   "cell_type": "markdown",
   "metadata": {},
   "source": [
    "### メタ情報"
   ]
  },
  {
   "cell_type": "code",
   "execution_count": 23,
   "metadata": {},
   "outputs": [],
   "source": [
    "def get_meta_features(meta):\n",
    "    meta_features = meta.copy()\n",
    "    meta_features['year'] = meta_features['date'].dt.year\n",
    "    meta_features['month'] = meta_features['date'].dt.month\n",
    "    meta_features['day'] = meta_features['date'].dt.day\n",
    "    meta_features['dow'] = meta_features['date'].dt.dayofweek\n",
    "    meta_features['doy'] = meta_features['date'].dt.dayofyear\n",
    "    meta_features['week_time'] = meta_features['dow'] * 24 + meta_features['hour']\n",
    "    le = preprocessing.LabelEncoder()\n",
    "    meta_features['userid'] = le.fit_transform(meta_features['user_id'])\n",
    "    \n",
    "    # 曜日x時間の来店者数\n",
    "    df_tz = meta_features.groupby(['week_time']).size().rename('timezone_count')\n",
    "    df_tz =  pd.DataFrame(df_tz).reset_index()\n",
    "    meta_features = pd.merge(meta_features, df_tz, on='week_time', how='left')\n",
    "    \n",
    "    # userごとに前の来店からどれくらいの日数が経ったか\n",
    "    df = meta_features.groupby(['session_id', 'user_id', 'date']).first().reset_index().sort_values(['user_id', 'session_id'])\n",
    "    df['date_diff'] = df['date'].diff(1)\n",
    "    df['user_diff'] = df['user_id'].shift(1)\n",
    "    df.loc[df['user_diff'] != df['user_id'], 'date_diff'] = pd.NaT\n",
    "    df['date_diff'] = df['date_diff'].dt.days\n",
    "    meta_features = meta_features.join(df[['date_diff']])\n",
    "\n",
    "    # userごとの来店回数\n",
    "    meta_features['date_rank'] = meta_features.groupby(['user_id'])['date'].rank(ascending=True)\n",
    "    \n",
    "    return meta_features.drop(columns=['user_id', 'date', 'time_elapsed', 'date_str'])"
   ]
  },
  {
   "cell_type": "code",
   "execution_count": 24,
   "metadata": {},
   "outputs": [],
   "source": [
    "meta_features = get_meta_features(meta)"
   ]
  },
  {
   "cell_type": "markdown",
   "metadata": {},
   "source": [
    "### ディスプレイアクション"
   ]
  },
  {
   "cell_type": "code",
   "execution_count": 25,
   "metadata": {},
   "outputs": [],
   "source": [
    "disp_name_dic = {}\n",
    "for i, disp in enumerate(display_action_id['display_name'].unique()):\n",
    "    disp_name_dic[disp] = 'disp_cnt_{}'.format(i)\n",
    "    \n",
    "act_name_dic = {}\n",
    "for i, action in enumerate(display_action_id['action_name'].unique()):\n",
    "    act_name_dic[action] = 'act_cnt_{}'.format(i)"
   ]
  },
  {
   "cell_type": "code",
   "execution_count": 26,
   "metadata": {},
   "outputs": [],
   "source": [
    "def get_display_name_feature(input_log):\n",
    "    merge = pd.merge(input_log, display_action_id, on='display_action_id', how='left')\n",
    "    disp_group_count = merge.groupby(['session_id', 'display_name']).size().reset_index().rename(columns={0:'disp_name_count'})\n",
    "    disp_name_pivot = disp_group_count.pivot_table(index='session_id', columns='display_name', values='disp_name_count', aggfunc='sum')\n",
    "    disp_name_pivot = disp_name_pivot.reset_index().fillna(0).rename(columns=disp_name_dic)\n",
    "    \n",
    "    disp_out = disp_name_pivot[['session_id']].copy()\n",
    "    for val in disp_name_dic.values():\n",
    "        disp_out[val] = 0\n",
    "    \n",
    "    for col in disp_name_pivot.columns:\n",
    "        if col == 'session_id':\n",
    "            continue\n",
    "        disp_out[col] = disp_name_pivot[col]\n",
    "    \n",
    "    return disp_out"
   ]
  },
  {
   "cell_type": "code",
   "execution_count": 27,
   "metadata": {},
   "outputs": [],
   "source": [
    "def get_action_name_feature(input_log):\n",
    "    merge = pd.merge(input_log, display_action_id, on='display_action_id', how='left')\n",
    "    act_group_count = merge.groupby(['session_id', 'action_name']).size().reset_index().rename(columns={0:'act_name_count'})\n",
    "    act_name_pivot = act_group_count.pivot_table(index='session_id', columns='action_name', values='act_name_count', aggfunc='sum')\n",
    "    act_name_pivot = act_name_pivot.reset_index().fillna(0).rename(columns=act_name_dic)\n",
    "    \n",
    "    act_out = act_name_pivot[['session_id']].copy()\n",
    "    for val in act_name_dic.values():\n",
    "        act_out[val] = 0\n",
    "    \n",
    "    for col in act_name_pivot.columns:\n",
    "        if col == 'session_id':\n",
    "            continue\n",
    "        act_out[col] = act_name_pivot[col]\n",
    "    \n",
    "    return act_out"
   ]
  },
  {
   "cell_type": "markdown",
   "metadata": {},
   "source": [
    "### セッション単位の特徴量"
   ]
  },
  {
   "cell_type": "code",
   "execution_count": 28,
   "metadata": {},
   "outputs": [],
   "source": [
    "# def get_coupon_info(input_log):\n",
    "#     session_coupon = input_log[input_log[\"kind_1\"] == \"クーポン\"][['session_id', 'value_1']].rename(columns={'value_1':'coupon'})\n",
    "#     session_coupon = pd.merge(session_coupon, lda_coupon, on='coupon', how='left').drop(columns=['coupon'])\n",
    "#     session_coupon = session_coupon.groupby(['session_id']).max().reset_index()\n",
    "#     return session_coupon"
   ]
  },
  {
   "cell_type": "code",
   "execution_count": 29,
   "metadata": {},
   "outputs": [],
   "source": [
    "# def get_coupon_info(input_log):\n",
    "#     session_coupon = input_log[input_log[\"kind_1\"] == \"クーポン\"][['session_id', 'name_1']].rename(columns = {'name_1':'coupon'})\n",
    "#     session_coupon = pd.merge(session_coupon, df_coupon_cat, on='coupon', how='left').drop(columns=['coupon'])\n",
    "    \n",
    "#     for cat in df_coupon_cat['coup_cat'].unique():\n",
    "#         new_col = 'coup_cat_{}'.format(cat)\n",
    "#         session_coupon[new_col] = 0\n",
    "#         session_coupon.loc[session_coupon['coup_cat'] == cat, new_col] = 1\n",
    "    \n",
    "#     session_coupon.drop(columns=['coup_cat'], inplace=True)\n",
    "#     return session_coupon.groupby('session_id').sum().reset_index()"
   ]
  },
  {
   "cell_type": "code",
   "execution_count": 30,
   "metadata": {},
   "outputs": [],
   "source": [
    "def get_pre_payment_item(input_log):\n",
    "    session_unique = input_log['session_id'].unique()\n",
    "    agg = input_log.loc[input_log[\"kind_1\"] == \"商品\"].groupby([\"session_id\", \"value_1\"])[\"n_items\"].sum().reset_index()\n",
    "    agg = agg.rename(columns={\"value_1\": \"JAN\"})\n",
    "    agg = pd.merge(agg, product_master[[\"JAN\", \"category_id\"]], on=\"JAN\", how=\"inner\")\n",
    "    agg = agg[agg['category_id'].isin(target_category)]\n",
    "    agg = agg.groupby([\"session_id\", \"category_id\"])[\"n_items\"].sum().reset_index()\n",
    "    \n",
    "    sesi = np.zeros(len(target_category))\n",
    "    cate = [ct for ct in target_category]\n",
    "    \n",
    "    dummy = pd.DataFrame({'session_id':sesi, 'category_id':cate, 'n_items':sesi})\n",
    "    agg = pd.concat([agg, dummy])\n",
    "    \n",
    "    agg = agg.pivot_table(index='session_id', columns='category_id', values='n_items').fillna(0)\n",
    "    src_columns = ['x_{}'.format(c) for c in agg.columns]\n",
    "    agg.columns = src_columns\n",
    "    \n",
    "    col = ['pre_target_{}'.format(c) for c in target_category]\n",
    "    df_out = pd.DataFrame(index=session_unique, columns=col)\n",
    "    df_out.index.name = \"session_id\"\n",
    "    df_out = df_out.join(agg)\n",
    "    for ct in target_category:\n",
    "        src = 'x_{}'.format(ct)\n",
    "        dst = 'pre_target_{}'.format(ct)\n",
    "        df_out[dst] = df_out[src]\n",
    "    \n",
    "    return df_out.drop(columns=src_columns).fillna(0).reset_index()"
   ]
  },
  {
   "cell_type": "code",
   "execution_count": 31,
   "metadata": {},
   "outputs": [],
   "source": [
    "def get_session_kind_group(input_log):\n",
    "    kind_name ={\n",
    "        'クーポン': 'coupon',\n",
    "        '会計': 'kaikei',\n",
    "        'キー': 'key',\n",
    "        'カテゴリ': 'categry',\n",
    "        'バーコードスキャン': 'barcode',\n",
    "        'UUID': 'uuid',\n",
    "        '使用ポイント': 'usedpoint',\n",
    "        '確認': 'confirm',\n",
    "        'ブランドスイッチ': 'bland',\n",
    "        'レシピ': 'recipe',\n",
    "        'スマホスキャン': 'smartphone',\n",
    "        '磁気スキャン': 'magnetic',\n",
    "        'レコメンド': 'recommend',\n",
    "        '倍率ポイント': 'point',\n",
    "    }\n",
    "    group_count = input_log[input_log['kind_1'] == '商品'].groupby([\"session_id\"]).size().rename('group_count_'+'item')\n",
    "    for kind, name in kind_name.items():\n",
    "        tmp = input_log[input_log['kind_1'] == kind].groupby([\"session_id\"]).size().rename('group_count_'+name)\n",
    "        group_count = pd.concat([group_count, tmp], axis=1)\n",
    "        \n",
    "    return group_count.reset_index()"
   ]
  },
  {
   "cell_type": "code",
   "execution_count": 32,
   "metadata": {},
   "outputs": [],
   "source": [
    "def get_session_item_info(input_log):\n",
    "    item_log = input_log[input_log['kind_1'] == '商品'].copy()\n",
    "    item_log = item_log.rename(columns={\"value_1\": \"JAN\"})\n",
    "    item_log = pd.merge(item_log, product_master[[\"JAN\", \"category_id\"]], on=\"JAN\", how=\"inner\")\n",
    "    item_log['total'] = item_log['n_items'] * item_log['unit_price']\n",
    "    session_item = item_log.groupby(['session_id']).agg({\n",
    "        'total':'sum', \n",
    "        'number_1':'sum', \n",
    "        'n_items':'sum', \n",
    "        'name_1':'nunique',\n",
    "        'category_id':'nunique',\n",
    "    }).reset_index()\n",
    "    session_item = session_item.rename(columns={\n",
    "        'number_1':'cart_item_cnt', \n",
    "        'n_items':'total_item_cnt', \n",
    "        'name_1':'item_nunique',\n",
    "        'category_id':'cat_nunique',\n",
    "    })\n",
    "    session_item['mean_price'] = session_item['total'] / session_item['total_item_cnt']\n",
    "    session_item['item_cnt_per_nuniq'] = session_item['total_item_cnt'] / session_item['item_nunique']\n",
    "    session_item['item_nuniq_per_cat_nuniq'] = session_item['item_nunique'] / session_item['cat_nunique']\n",
    "    session_item['mean_price_per_cat'] = session_item['total'] / session_item['cat_nunique']\n",
    "    return session_item"
   ]
  },
  {
   "cell_type": "code",
   "execution_count": 33,
   "metadata": {},
   "outputs": [],
   "source": [
    "def get_session_info(input_log):\n",
    "    # アクション数\n",
    "    n_actions = input_log.groupby([\"session_id\"]).size().rename(\"n_actions\")\n",
    "    # 経過時間の平均\n",
    "    mean_spend_time = input_log.groupby([\"session_id\"])[\"spend_time\"].mean()\n",
    "    # ユニークユーザー\n",
    "    unique_user = input_log.groupby([\"session_id\"])['user_id'].nunique().rename(\"uniq_user\")\n",
    "    \n",
    "    session_features = pd.concat([\n",
    "        n_actions,\n",
    "        mean_spend_time,\n",
    "        unique_user,\n",
    "    ], axis=1)\n",
    "    \n",
    "    session_features['n_actions_user'] = session_features['n_actions'] * session_features['uniq_user']\n",
    "    session_features['spend_time_user'] = session_features['spend_time'] * session_features['uniq_user']\n",
    "    \n",
    "    return session_features.reset_index()"
   ]
  },
  {
   "cell_type": "markdown",
   "metadata": {},
   "source": [
    "### セッション単位で集計"
   ]
  },
  {
   "cell_type": "code",
   "execution_count": 34,
   "metadata": {},
   "outputs": [],
   "source": [
    "def get_session_features(input_log):\n",
    "    df_ses = pd.DataFrame(columns=['session_id'])\n",
    "    \n",
    "    session_feat = [\n",
    "        get_session_info(input_log),\n",
    "        get_session_kind_group(input_log),\n",
    "        get_display_name_feature(input_log),\n",
    "        get_action_name_feature(input_log),\n",
    "        get_pre_payment_item(input_log),\n",
    "#         get_coupon_info(input_log),\n",
    "        get_session_item_info(input_log),\n",
    "    ]\n",
    "    \n",
    "    for feat in session_feat:\n",
    "        df_ses = pd.merge(df_ses, feat, on='session_id', how='outer')\n",
    "        \n",
    "    return df_ses"
   ]
  },
  {
   "cell_type": "markdown",
   "metadata": {},
   "source": [
    "### 特徴量を集約する"
   ]
  },
  {
   "cell_type": "code",
   "execution_count": 35,
   "metadata": {},
   "outputs": [],
   "source": [
    "def merge_features(input_log, session):\n",
    "    feat_list = [\n",
    "        get_session_features(input_log),\n",
    "        user_features,\n",
    "        meta_features,\n",
    "    ]\n",
    "    out = pd.DataFrame({\"session_id\": session})\n",
    "    for feat in feat_list:\n",
    "        out = pd.merge(out, feat, on=\"session_id\", how=\"left\")\n",
    "        \n",
    "    # userの情報\n",
    "    out = pd.merge(out, all_user_item, on='user_id', how='left').drop(columns='user_id')\n",
    "\n",
    "    assert len(session) == len(out)\n",
    "    return out"
   ]
  },
  {
   "cell_type": "code",
   "execution_count": 36,
   "metadata": {},
   "outputs": [],
   "source": [
    "def get_train_all_features(elapsed_min, train_log_list, train_y_list):\n",
    "    train_input_log = train_log_list[elapsed_min]\n",
    "    y_train = train_y_list[elapsed_min]\n",
    "    \n",
    "    train_features = merge_features(train_input_log, y_train['session_id'])\n",
    "    print('train_features', train_features.shape)\n",
    "    return train_features, y_train"
   ]
  },
  {
   "cell_type": "code",
   "execution_count": 37,
   "metadata": {},
   "outputs": [],
   "source": [
    "def get_test_all_feature(elapsed_min):\n",
    "    test_meta = meta[meta['session_id'].isin(test_sessions)]\n",
    "    test_meta = test_meta[test_meta['time_elapsed'] == elapsed_min]\n",
    "    test_input_elapsed = pd.merge(test_input_log, test_meta[['session_id']], on='session_id', how='left')\n",
    "    \n",
    "    test_features = merge_features(test_input_elapsed, test_meta['session_id'])\n",
    "    print('test_features', test_features.shape)\n",
    "    return test_features"
   ]
  },
  {
   "cell_type": "code",
   "execution_count": 38,
   "metadata": {},
   "outputs": [],
   "source": [
    "n_fold = 4"
   ]
  },
  {
   "cell_type": "code",
   "execution_count": 39,
   "metadata": {},
   "outputs": [],
   "source": [
    "lgbm_param = {\n",
    "    'objective' : 'binary',\n",
    "    'boosting_type': 'gbdt',\n",
    "    'metric': 'auc',\n",
    "    'seed' : 0,\n",
    "    'learning_rate':  0.1,\n",
    "#   'max_depth': 6,\n",
    "    'feature_fraction': 0.6,\n",
    "    'bagging_fraction': 0.8,\n",
    "    'bagging_freq': 5,\n",
    "    'verbose': -1\n",
    "}"
   ]
  },
  {
   "cell_type": "code",
   "execution_count": 40,
   "metadata": {},
   "outputs": [],
   "source": [
    "def train_lgbm(X, y, params=lgbm_param):\n",
    "\n",
    "    fold = StratifiedKFold(n_splits=n_fold, shuffle=True, random_state=0)\n",
    "    cv = fold.split(X, y)\n",
    "    \n",
    "    models = []\n",
    "    oof_pred = np.zeros_like(y, dtype=np.float)\n",
    "    \n",
    "    cat_feat = ['age', 'gender', 'dow']\n",
    "\n",
    "    for i, (idx_train, idx_valid) in enumerate(cv): \n",
    "        x_train, y_train = X.iloc[idx_train], y.iloc[idx_train]\n",
    "        x_valid, y_valid = X.iloc[idx_valid], y.iloc[idx_valid]\n",
    "        \n",
    "        lgbm_train = lgbm.Dataset(x_train, y_train, categorical_feature = cat_feat)\n",
    "        lgbm_eval = lgbm.Dataset(x_valid, y_valid, reference=lgbm_train, categorical_feature = cat_feat)\n",
    "        \n",
    "        lgbm_model = lgbm.train(params, \n",
    "                                                    lgbm_train, \n",
    "                                                    valid_sets=lgbm_eval,\n",
    "                                                    categorical_feature = cat_feat,\n",
    "                                                    num_boost_round=10000,\n",
    "                                                    early_stopping_rounds=100,\n",
    "                                                    verbose_eval=-1)\n",
    "        y_pred = lgbm_model.predict(x_valid, num_iteration=lgbm_model.best_iteration)\n",
    "        \n",
    "        oof_pred[idx_valid] = y_pred\n",
    "        models.append(lgbm_model)\n",
    "\n",
    "    score = roc_auc_score(y, oof_pred)\n",
    "    print('--- FINISHED \\ whole score: {:.4f} ---'.format(score))\n",
    "    return oof_pred, models, score"
   ]
  },
  {
   "cell_type": "code",
   "execution_count": 41,
   "metadata": {},
   "outputs": [],
   "source": [
    "def predict(models, feature):\n",
    "    pred_list = []\n",
    "    for i, model in enumerate(models):\n",
    "        pred = model.predict(feature, num_iteration = model.best_iteration)\n",
    "        pred_list.append(pred)\n",
    "    \n",
    "    score = np.mean(pred_list, axis=0)\n",
    "    return score"
   ]
  },
  {
   "cell_type": "code",
   "execution_count": 42,
   "metadata": {},
   "outputs": [],
   "source": [
    "train_log_list, train_y_list = load_train_log(LOG_VER)"
   ]
  },
  {
   "cell_type": "code",
   "execution_count": 43,
   "metadata": {},
   "outputs": [
    {
     "data": {
      "text/plain": [
       "38"
      ]
     },
     "execution_count": 43,
     "metadata": {},
     "output_type": "execute_result"
    }
   ],
   "source": [
    "gc.collect()"
   ]
  },
  {
   "cell_type": "code",
   "execution_count": 44,
   "metadata": {
    "scrolled": false
   },
   "outputs": [
    {
     "name": "stdout",
     "output_type": "stream",
     "text": [
      "===== 0 =====\n",
      "train_features (101562, 208)\n",
      "test_features (14277, 208)\n",
      "---- id = 38 -----\n"
     ]
    },
    {
     "name": "stderr",
     "output_type": "stream",
     "text": [
      "/home/umhrysnb/anaconda3/lib/python3.8/site-packages/lightgbm/basic.py:1286: UserWarning: Overriding the parameters from Reference Dataset.\n",
      "  warnings.warn('Overriding the parameters from Reference Dataset.')\n",
      "/home/umhrysnb/anaconda3/lib/python3.8/site-packages/lightgbm/basic.py:1098: UserWarning: categorical_column in param dict is overridden.\n",
      "  warnings.warn('{} in param dict is overridden.'.format(cat_alias))\n"
     ]
    },
    {
     "name": "stdout",
     "output_type": "stream",
     "text": [
      "Training until validation scores don't improve for 100 rounds\n",
      "Early stopping, best iteration is:\n",
      "[373]\tvalid_0's auc: 0.796227\n",
      "Training until validation scores don't improve for 100 rounds\n",
      "Early stopping, best iteration is:\n",
      "[495]\tvalid_0's auc: 0.794911\n",
      "Training until validation scores don't improve for 100 rounds\n",
      "Early stopping, best iteration is:\n",
      "[377]\tvalid_0's auc: 0.798977\n",
      "Training until validation scores don't improve for 100 rounds\n",
      "Early stopping, best iteration is:\n",
      "[363]\tvalid_0's auc: 0.785475\n",
      "--- FINISHED \\ whole score: 0.7937 ---\n",
      "---- id = 110 -----\n"
     ]
    },
    {
     "name": "stderr",
     "output_type": "stream",
     "text": [
      "/home/umhrysnb/anaconda3/lib/python3.8/site-packages/lightgbm/basic.py:1286: UserWarning: Overriding the parameters from Reference Dataset.\n",
      "  warnings.warn('Overriding the parameters from Reference Dataset.')\n",
      "/home/umhrysnb/anaconda3/lib/python3.8/site-packages/lightgbm/basic.py:1098: UserWarning: categorical_column in param dict is overridden.\n",
      "  warnings.warn('{} in param dict is overridden.'.format(cat_alias))\n"
     ]
    },
    {
     "name": "stdout",
     "output_type": "stream",
     "text": [
      "Training until validation scores don't improve for 100 rounds\n",
      "Early stopping, best iteration is:\n",
      "[106]\tvalid_0's auc: 0.773046\n",
      "Training until validation scores don't improve for 100 rounds\n",
      "Early stopping, best iteration is:\n",
      "[78]\tvalid_0's auc: 0.73123\n",
      "Training until validation scores don't improve for 100 rounds\n",
      "Early stopping, best iteration is:\n",
      "[224]\tvalid_0's auc: 0.768976\n",
      "Training until validation scores don't improve for 100 rounds\n",
      "Early stopping, best iteration is:\n",
      "[105]\tvalid_0's auc: 0.757126\n",
      "--- FINISHED \\ whole score: 0.7539 ---\n",
      "---- id = 113 -----\n"
     ]
    },
    {
     "name": "stderr",
     "output_type": "stream",
     "text": [
      "/home/umhrysnb/anaconda3/lib/python3.8/site-packages/lightgbm/basic.py:1286: UserWarning: Overriding the parameters from Reference Dataset.\n",
      "  warnings.warn('Overriding the parameters from Reference Dataset.')\n",
      "/home/umhrysnb/anaconda3/lib/python3.8/site-packages/lightgbm/basic.py:1098: UserWarning: categorical_column in param dict is overridden.\n",
      "  warnings.warn('{} in param dict is overridden.'.format(cat_alias))\n"
     ]
    },
    {
     "name": "stdout",
     "output_type": "stream",
     "text": [
      "Training until validation scores don't improve for 100 rounds\n",
      "Early stopping, best iteration is:\n",
      "[349]\tvalid_0's auc: 0.755511\n",
      "Training until validation scores don't improve for 100 rounds\n",
      "Early stopping, best iteration is:\n",
      "[483]\tvalid_0's auc: 0.76158\n",
      "Training until validation scores don't improve for 100 rounds\n",
      "Early stopping, best iteration is:\n",
      "[312]\tvalid_0's auc: 0.775254\n",
      "Training until validation scores don't improve for 100 rounds\n",
      "Early stopping, best iteration is:\n",
      "[244]\tvalid_0's auc: 0.771116\n",
      "--- FINISHED \\ whole score: 0.7644 ---\n",
      "---- id = 114 -----\n"
     ]
    },
    {
     "name": "stderr",
     "output_type": "stream",
     "text": [
      "/home/umhrysnb/anaconda3/lib/python3.8/site-packages/lightgbm/basic.py:1286: UserWarning: Overriding the parameters from Reference Dataset.\n",
      "  warnings.warn('Overriding the parameters from Reference Dataset.')\n",
      "/home/umhrysnb/anaconda3/lib/python3.8/site-packages/lightgbm/basic.py:1098: UserWarning: categorical_column in param dict is overridden.\n",
      "  warnings.warn('{} in param dict is overridden.'.format(cat_alias))\n"
     ]
    },
    {
     "name": "stdout",
     "output_type": "stream",
     "text": [
      "Training until validation scores don't improve for 100 rounds\n",
      "Early stopping, best iteration is:\n",
      "[427]\tvalid_0's auc: 0.750723\n",
      "Training until validation scores don't improve for 100 rounds\n",
      "Early stopping, best iteration is:\n",
      "[329]\tvalid_0's auc: 0.745756\n",
      "Training until validation scores don't improve for 100 rounds\n",
      "Early stopping, best iteration is:\n",
      "[302]\tvalid_0's auc: 0.74571\n",
      "Training until validation scores don't improve for 100 rounds\n",
      "Early stopping, best iteration is:\n",
      "[528]\tvalid_0's auc: 0.749207\n",
      "--- FINISHED \\ whole score: 0.7478 ---\n",
      "---- id = 134 -----\n"
     ]
    },
    {
     "name": "stderr",
     "output_type": "stream",
     "text": [
      "/home/umhrysnb/anaconda3/lib/python3.8/site-packages/lightgbm/basic.py:1286: UserWarning: Overriding the parameters from Reference Dataset.\n",
      "  warnings.warn('Overriding the parameters from Reference Dataset.')\n",
      "/home/umhrysnb/anaconda3/lib/python3.8/site-packages/lightgbm/basic.py:1098: UserWarning: categorical_column in param dict is overridden.\n",
      "  warnings.warn('{} in param dict is overridden.'.format(cat_alias))\n"
     ]
    },
    {
     "name": "stdout",
     "output_type": "stream",
     "text": [
      "Training until validation scores don't improve for 100 rounds\n",
      "Early stopping, best iteration is:\n",
      "[335]\tvalid_0's auc: 0.738546\n",
      "Training until validation scores don't improve for 100 rounds\n",
      "Early stopping, best iteration is:\n",
      "[314]\tvalid_0's auc: 0.737529\n",
      "Training until validation scores don't improve for 100 rounds\n",
      "Early stopping, best iteration is:\n",
      "[304]\tvalid_0's auc: 0.741516\n",
      "Training until validation scores don't improve for 100 rounds\n",
      "Early stopping, best iteration is:\n",
      "[364]\tvalid_0's auc: 0.735649\n",
      "--- FINISHED \\ whole score: 0.7383 ---\n",
      "---- id = 171 -----\n"
     ]
    },
    {
     "name": "stderr",
     "output_type": "stream",
     "text": [
      "/home/umhrysnb/anaconda3/lib/python3.8/site-packages/lightgbm/basic.py:1286: UserWarning: Overriding the parameters from Reference Dataset.\n",
      "  warnings.warn('Overriding the parameters from Reference Dataset.')\n",
      "/home/umhrysnb/anaconda3/lib/python3.8/site-packages/lightgbm/basic.py:1098: UserWarning: categorical_column in param dict is overridden.\n",
      "  warnings.warn('{} in param dict is overridden.'.format(cat_alias))\n"
     ]
    },
    {
     "name": "stdout",
     "output_type": "stream",
     "text": [
      "Training until validation scores don't improve for 100 rounds\n",
      "Early stopping, best iteration is:\n",
      "[749]\tvalid_0's auc: 0.832454\n",
      "Training until validation scores don't improve for 100 rounds\n",
      "Early stopping, best iteration is:\n",
      "[650]\tvalid_0's auc: 0.837538\n",
      "Training until validation scores don't improve for 100 rounds\n",
      "Early stopping, best iteration is:\n",
      "[485]\tvalid_0's auc: 0.838298\n",
      "Training until validation scores don't improve for 100 rounds\n",
      "Early stopping, best iteration is:\n",
      "[671]\tvalid_0's auc: 0.844429\n",
      "--- FINISHED \\ whole score: 0.8378 ---\n",
      "---- id = 172 -----\n"
     ]
    },
    {
     "name": "stderr",
     "output_type": "stream",
     "text": [
      "/home/umhrysnb/anaconda3/lib/python3.8/site-packages/lightgbm/basic.py:1286: UserWarning: Overriding the parameters from Reference Dataset.\n",
      "  warnings.warn('Overriding the parameters from Reference Dataset.')\n",
      "/home/umhrysnb/anaconda3/lib/python3.8/site-packages/lightgbm/basic.py:1098: UserWarning: categorical_column in param dict is overridden.\n",
      "  warnings.warn('{} in param dict is overridden.'.format(cat_alias))\n"
     ]
    },
    {
     "name": "stdout",
     "output_type": "stream",
     "text": [
      "Training until validation scores don't improve for 100 rounds\n",
      "Early stopping, best iteration is:\n",
      "[178]\tvalid_0's auc: 0.846291\n",
      "Training until validation scores don't improve for 100 rounds\n",
      "Early stopping, best iteration is:\n",
      "[324]\tvalid_0's auc: 0.867242\n",
      "Training until validation scores don't improve for 100 rounds\n",
      "Early stopping, best iteration is:\n",
      "[203]\tvalid_0's auc: 0.852827\n",
      "Training until validation scores don't improve for 100 rounds\n",
      "Early stopping, best iteration is:\n",
      "[290]\tvalid_0's auc: 0.849534\n",
      "--- FINISHED \\ whole score: 0.8531 ---\n",
      "---- id = 173 -----\n"
     ]
    },
    {
     "name": "stderr",
     "output_type": "stream",
     "text": [
      "/home/umhrysnb/anaconda3/lib/python3.8/site-packages/lightgbm/basic.py:1286: UserWarning: Overriding the parameters from Reference Dataset.\n",
      "  warnings.warn('Overriding the parameters from Reference Dataset.')\n",
      "/home/umhrysnb/anaconda3/lib/python3.8/site-packages/lightgbm/basic.py:1098: UserWarning: categorical_column in param dict is overridden.\n",
      "  warnings.warn('{} in param dict is overridden.'.format(cat_alias))\n"
     ]
    },
    {
     "name": "stdout",
     "output_type": "stream",
     "text": [
      "Training until validation scores don't improve for 100 rounds\n",
      "Early stopping, best iteration is:\n",
      "[752]\tvalid_0's auc: 0.823699\n",
      "Training until validation scores don't improve for 100 rounds\n",
      "Early stopping, best iteration is:\n",
      "[576]\tvalid_0's auc: 0.832217\n",
      "Training until validation scores don't improve for 100 rounds\n",
      "Early stopping, best iteration is:\n",
      "[550]\tvalid_0's auc: 0.838551\n",
      "Training until validation scores don't improve for 100 rounds\n",
      "Early stopping, best iteration is:\n",
      "[755]\tvalid_0's auc: 0.833648\n",
      "--- FINISHED \\ whole score: 0.8315 ---\n",
      "---- id = 376 -----\n"
     ]
    },
    {
     "name": "stderr",
     "output_type": "stream",
     "text": [
      "/home/umhrysnb/anaconda3/lib/python3.8/site-packages/lightgbm/basic.py:1286: UserWarning: Overriding the parameters from Reference Dataset.\n",
      "  warnings.warn('Overriding the parameters from Reference Dataset.')\n",
      "/home/umhrysnb/anaconda3/lib/python3.8/site-packages/lightgbm/basic.py:1098: UserWarning: categorical_column in param dict is overridden.\n",
      "  warnings.warn('{} in param dict is overridden.'.format(cat_alias))\n"
     ]
    },
    {
     "name": "stdout",
     "output_type": "stream",
     "text": [
      "Training until validation scores don't improve for 100 rounds\n",
      "Early stopping, best iteration is:\n",
      "[201]\tvalid_0's auc: 0.742897\n",
      "Training until validation scores don't improve for 100 rounds\n",
      "Early stopping, best iteration is:\n",
      "[254]\tvalid_0's auc: 0.745452\n",
      "Training until validation scores don't improve for 100 rounds\n",
      "Early stopping, best iteration is:\n",
      "[274]\tvalid_0's auc: 0.749247\n",
      "Training until validation scores don't improve for 100 rounds\n",
      "Early stopping, best iteration is:\n",
      "[205]\tvalid_0's auc: 0.744762\n",
      "--- FINISHED \\ whole score: 0.7456 ---\n",
      "---- id = 435 -----\n"
     ]
    },
    {
     "name": "stderr",
     "output_type": "stream",
     "text": [
      "/home/umhrysnb/anaconda3/lib/python3.8/site-packages/lightgbm/basic.py:1286: UserWarning: Overriding the parameters from Reference Dataset.\n",
      "  warnings.warn('Overriding the parameters from Reference Dataset.')\n",
      "/home/umhrysnb/anaconda3/lib/python3.8/site-packages/lightgbm/basic.py:1098: UserWarning: categorical_column in param dict is overridden.\n",
      "  warnings.warn('{} in param dict is overridden.'.format(cat_alias))\n"
     ]
    },
    {
     "name": "stdout",
     "output_type": "stream",
     "text": [
      "Training until validation scores don't improve for 100 rounds\n",
      "Early stopping, best iteration is:\n",
      "[396]\tvalid_0's auc: 0.862516\n",
      "Training until validation scores don't improve for 100 rounds\n",
      "Early stopping, best iteration is:\n",
      "[405]\tvalid_0's auc: 0.863056\n",
      "Training until validation scores don't improve for 100 rounds\n",
      "Early stopping, best iteration is:\n",
      "[346]\tvalid_0's auc: 0.862787\n",
      "Training until validation scores don't improve for 100 rounds\n",
      "Early stopping, best iteration is:\n",
      "[366]\tvalid_0's auc: 0.858963\n",
      "--- FINISHED \\ whole score: 0.8618 ---\n",
      "---- id = 467 -----\n"
     ]
    },
    {
     "name": "stderr",
     "output_type": "stream",
     "text": [
      "/home/umhrysnb/anaconda3/lib/python3.8/site-packages/lightgbm/basic.py:1286: UserWarning: Overriding the parameters from Reference Dataset.\n",
      "  warnings.warn('Overriding the parameters from Reference Dataset.')\n",
      "/home/umhrysnb/anaconda3/lib/python3.8/site-packages/lightgbm/basic.py:1098: UserWarning: categorical_column in param dict is overridden.\n",
      "  warnings.warn('{} in param dict is overridden.'.format(cat_alias))\n"
     ]
    },
    {
     "name": "stdout",
     "output_type": "stream",
     "text": [
      "Training until validation scores don't improve for 100 rounds\n",
      "Early stopping, best iteration is:\n",
      "[128]\tvalid_0's auc: 0.844468\n",
      "Training until validation scores don't improve for 100 rounds\n",
      "Early stopping, best iteration is:\n",
      "[161]\tvalid_0's auc: 0.839889\n",
      "Training until validation scores don't improve for 100 rounds\n",
      "Early stopping, best iteration is:\n",
      "[207]\tvalid_0's auc: 0.840248\n",
      "Training until validation scores don't improve for 100 rounds\n",
      "Early stopping, best iteration is:\n",
      "[126]\tvalid_0's auc: 0.849617\n",
      "--- FINISHED \\ whole score: 0.8431 ---\n",
      "---- id = 537 -----\n"
     ]
    },
    {
     "name": "stderr",
     "output_type": "stream",
     "text": [
      "/home/umhrysnb/anaconda3/lib/python3.8/site-packages/lightgbm/basic.py:1286: UserWarning: Overriding the parameters from Reference Dataset.\n",
      "  warnings.warn('Overriding the parameters from Reference Dataset.')\n",
      "/home/umhrysnb/anaconda3/lib/python3.8/site-packages/lightgbm/basic.py:1098: UserWarning: categorical_column in param dict is overridden.\n",
      "  warnings.warn('{} in param dict is overridden.'.format(cat_alias))\n"
     ]
    },
    {
     "name": "stdout",
     "output_type": "stream",
     "text": [
      "Training until validation scores don't improve for 100 rounds\n",
      "Early stopping, best iteration is:\n",
      "[311]\tvalid_0's auc: 0.875195\n",
      "Training until validation scores don't improve for 100 rounds\n",
      "Early stopping, best iteration is:\n",
      "[425]\tvalid_0's auc: 0.877321\n",
      "Training until validation scores don't improve for 100 rounds\n",
      "Early stopping, best iteration is:\n",
      "[490]\tvalid_0's auc: 0.866747\n",
      "Training until validation scores don't improve for 100 rounds\n",
      "Early stopping, best iteration is:\n",
      "[400]\tvalid_0's auc: 0.867318\n",
      "--- FINISHED \\ whole score: 0.8709 ---\n",
      "---- id = 539 -----\n"
     ]
    },
    {
     "name": "stderr",
     "output_type": "stream",
     "text": [
      "/home/umhrysnb/anaconda3/lib/python3.8/site-packages/lightgbm/basic.py:1286: UserWarning: Overriding the parameters from Reference Dataset.\n",
      "  warnings.warn('Overriding the parameters from Reference Dataset.')\n",
      "/home/umhrysnb/anaconda3/lib/python3.8/site-packages/lightgbm/basic.py:1098: UserWarning: categorical_column in param dict is overridden.\n",
      "  warnings.warn('{} in param dict is overridden.'.format(cat_alias))\n"
     ]
    },
    {
     "name": "stdout",
     "output_type": "stream",
     "text": [
      "Training until validation scores don't improve for 100 rounds\n",
      "Early stopping, best iteration is:\n",
      "[432]\tvalid_0's auc: 0.831558\n",
      "Training until validation scores don't improve for 100 rounds\n",
      "Early stopping, best iteration is:\n",
      "[490]\tvalid_0's auc: 0.820715\n",
      "Training until validation scores don't improve for 100 rounds\n",
      "Early stopping, best iteration is:\n",
      "[349]\tvalid_0's auc: 0.826031\n",
      "Training until validation scores don't improve for 100 rounds\n",
      "Early stopping, best iteration is:\n",
      "[706]\tvalid_0's auc: 0.832285\n",
      "--- FINISHED \\ whole score: 0.8265 ---\n",
      "---- id = 629 -----\n"
     ]
    },
    {
     "name": "stderr",
     "output_type": "stream",
     "text": [
      "/home/umhrysnb/anaconda3/lib/python3.8/site-packages/lightgbm/basic.py:1286: UserWarning: Overriding the parameters from Reference Dataset.\n",
      "  warnings.warn('Overriding the parameters from Reference Dataset.')\n",
      "/home/umhrysnb/anaconda3/lib/python3.8/site-packages/lightgbm/basic.py:1098: UserWarning: categorical_column in param dict is overridden.\n",
      "  warnings.warn('{} in param dict is overridden.'.format(cat_alias))\n"
     ]
    },
    {
     "name": "stdout",
     "output_type": "stream",
     "text": [
      "Training until validation scores don't improve for 100 rounds\n",
      "Early stopping, best iteration is:\n",
      "[90]\tvalid_0's auc: 0.888052\n",
      "Training until validation scores don't improve for 100 rounds\n",
      "Early stopping, best iteration is:\n",
      "[107]\tvalid_0's auc: 0.856606\n",
      "Training until validation scores don't improve for 100 rounds\n",
      "Early stopping, best iteration is:\n",
      "[57]\tvalid_0's auc: 0.873216\n",
      "Training until validation scores don't improve for 100 rounds\n",
      "Early stopping, best iteration is:\n",
      "[430]\tvalid_0's auc: 0.869432\n",
      "--- FINISHED \\ whole score: 0.8528 ---\n",
      "---- id = 768 -----\n"
     ]
    },
    {
     "name": "stderr",
     "output_type": "stream",
     "text": [
      "/home/umhrysnb/anaconda3/lib/python3.8/site-packages/lightgbm/basic.py:1286: UserWarning: Overriding the parameters from Reference Dataset.\n",
      "  warnings.warn('Overriding the parameters from Reference Dataset.')\n",
      "/home/umhrysnb/anaconda3/lib/python3.8/site-packages/lightgbm/basic.py:1098: UserWarning: categorical_column in param dict is overridden.\n",
      "  warnings.warn('{} in param dict is overridden.'.format(cat_alias))\n"
     ]
    },
    {
     "name": "stdout",
     "output_type": "stream",
     "text": [
      "Training until validation scores don't improve for 100 rounds\n",
      "Early stopping, best iteration is:\n",
      "[383]\tvalid_0's auc: 0.731119\n",
      "Training until validation scores don't improve for 100 rounds\n",
      "Early stopping, best iteration is:\n",
      "[223]\tvalid_0's auc: 0.734817\n",
      "Training until validation scores don't improve for 100 rounds\n",
      "Early stopping, best iteration is:\n",
      "[306]\tvalid_0's auc: 0.723039\n",
      "Training until validation scores don't improve for 100 rounds\n",
      "Early stopping, best iteration is:\n",
      "[296]\tvalid_0's auc: 0.71859\n",
      "--- FINISHED \\ whole score: 0.7266 ---\n",
      "14277\n",
      "===== 3 =====\n",
      "train_features (102348, 208)\n",
      "test_features (11304, 208)\n",
      "---- id = 38 -----\n"
     ]
    },
    {
     "name": "stderr",
     "output_type": "stream",
     "text": [
      "/home/umhrysnb/anaconda3/lib/python3.8/site-packages/lightgbm/basic.py:1286: UserWarning: Overriding the parameters from Reference Dataset.\n",
      "  warnings.warn('Overriding the parameters from Reference Dataset.')\n",
      "/home/umhrysnb/anaconda3/lib/python3.8/site-packages/lightgbm/basic.py:1098: UserWarning: categorical_column in param dict is overridden.\n",
      "  warnings.warn('{} in param dict is overridden.'.format(cat_alias))\n"
     ]
    },
    {
     "name": "stdout",
     "output_type": "stream",
     "text": [
      "Training until validation scores don't improve for 100 rounds\n",
      "Early stopping, best iteration is:\n",
      "[372]\tvalid_0's auc: 0.786046\n",
      "Training until validation scores don't improve for 100 rounds\n",
      "Early stopping, best iteration is:\n",
      "[269]\tvalid_0's auc: 0.786077\n",
      "Training until validation scores don't improve for 100 rounds\n",
      "Early stopping, best iteration is:\n",
      "[320]\tvalid_0's auc: 0.779263\n",
      "Training until validation scores don't improve for 100 rounds\n",
      "Early stopping, best iteration is:\n",
      "[363]\tvalid_0's auc: 0.793422\n",
      "--- FINISHED \\ whole score: 0.7862 ---\n",
      "---- id = 110 -----\n"
     ]
    },
    {
     "name": "stderr",
     "output_type": "stream",
     "text": [
      "/home/umhrysnb/anaconda3/lib/python3.8/site-packages/lightgbm/basic.py:1286: UserWarning: Overriding the parameters from Reference Dataset.\n",
      "  warnings.warn('Overriding the parameters from Reference Dataset.')\n",
      "/home/umhrysnb/anaconda3/lib/python3.8/site-packages/lightgbm/basic.py:1098: UserWarning: categorical_column in param dict is overridden.\n",
      "  warnings.warn('{} in param dict is overridden.'.format(cat_alias))\n"
     ]
    },
    {
     "name": "stdout",
     "output_type": "stream",
     "text": [
      "Training until validation scores don't improve for 100 rounds\n",
      "Early stopping, best iteration is:\n",
      "[66]\tvalid_0's auc: 0.75754\n",
      "Training until validation scores don't improve for 100 rounds\n",
      "Early stopping, best iteration is:\n",
      "[145]\tvalid_0's auc: 0.725657\n",
      "Training until validation scores don't improve for 100 rounds\n",
      "Early stopping, best iteration is:\n",
      "[84]\tvalid_0's auc: 0.728991\n",
      "Training until validation scores don't improve for 100 rounds\n",
      "Early stopping, best iteration is:\n",
      "[74]\tvalid_0's auc: 0.743129\n",
      "--- FINISHED \\ whole score: 0.7335 ---\n",
      "---- id = 113 -----\n"
     ]
    },
    {
     "name": "stderr",
     "output_type": "stream",
     "text": [
      "/home/umhrysnb/anaconda3/lib/python3.8/site-packages/lightgbm/basic.py:1286: UserWarning: Overriding the parameters from Reference Dataset.\n",
      "  warnings.warn('Overriding the parameters from Reference Dataset.')\n",
      "/home/umhrysnb/anaconda3/lib/python3.8/site-packages/lightgbm/basic.py:1098: UserWarning: categorical_column in param dict is overridden.\n",
      "  warnings.warn('{} in param dict is overridden.'.format(cat_alias))\n"
     ]
    },
    {
     "name": "stdout",
     "output_type": "stream",
     "text": [
      "Training until validation scores don't improve for 100 rounds\n",
      "Early stopping, best iteration is:\n",
      "[184]\tvalid_0's auc: 0.762091\n",
      "Training until validation scores don't improve for 100 rounds\n",
      "Early stopping, best iteration is:\n",
      "[235]\tvalid_0's auc: 0.765224\n",
      "Training until validation scores don't improve for 100 rounds\n",
      "Early stopping, best iteration is:\n",
      "[147]\tvalid_0's auc: 0.754672\n",
      "Training until validation scores don't improve for 100 rounds\n",
      "Early stopping, best iteration is:\n",
      "[97]\tvalid_0's auc: 0.748224\n",
      "--- FINISHED \\ whole score: 0.7572 ---\n",
      "---- id = 114 -----\n"
     ]
    },
    {
     "name": "stderr",
     "output_type": "stream",
     "text": [
      "/home/umhrysnb/anaconda3/lib/python3.8/site-packages/lightgbm/basic.py:1286: UserWarning: Overriding the parameters from Reference Dataset.\n",
      "  warnings.warn('Overriding the parameters from Reference Dataset.')\n",
      "/home/umhrysnb/anaconda3/lib/python3.8/site-packages/lightgbm/basic.py:1098: UserWarning: categorical_column in param dict is overridden.\n",
      "  warnings.warn('{} in param dict is overridden.'.format(cat_alias))\n"
     ]
    },
    {
     "name": "stdout",
     "output_type": "stream",
     "text": [
      "Training until validation scores don't improve for 100 rounds\n",
      "Early stopping, best iteration is:\n",
      "[549]\tvalid_0's auc: 0.738309\n",
      "Training until validation scores don't improve for 100 rounds\n",
      "Early stopping, best iteration is:\n",
      "[421]\tvalid_0's auc: 0.74421\n",
      "Training until validation scores don't improve for 100 rounds\n",
      "Early stopping, best iteration is:\n",
      "[379]\tvalid_0's auc: 0.739557\n",
      "Training until validation scores don't improve for 100 rounds\n",
      "Early stopping, best iteration is:\n",
      "[467]\tvalid_0's auc: 0.738334\n",
      "--- FINISHED \\ whole score: 0.7400 ---\n",
      "---- id = 134 -----\n"
     ]
    },
    {
     "name": "stderr",
     "output_type": "stream",
     "text": [
      "/home/umhrysnb/anaconda3/lib/python3.8/site-packages/lightgbm/basic.py:1286: UserWarning: Overriding the parameters from Reference Dataset.\n",
      "  warnings.warn('Overriding the parameters from Reference Dataset.')\n",
      "/home/umhrysnb/anaconda3/lib/python3.8/site-packages/lightgbm/basic.py:1098: UserWarning: categorical_column in param dict is overridden.\n",
      "  warnings.warn('{} in param dict is overridden.'.format(cat_alias))\n"
     ]
    },
    {
     "name": "stdout",
     "output_type": "stream",
     "text": [
      "Training until validation scores don't improve for 100 rounds\n",
      "Early stopping, best iteration is:\n",
      "[207]\tvalid_0's auc: 0.734661\n",
      "Training until validation scores don't improve for 100 rounds\n",
      "Early stopping, best iteration is:\n",
      "[191]\tvalid_0's auc: 0.724922\n",
      "Training until validation scores don't improve for 100 rounds\n",
      "Early stopping, best iteration is:\n",
      "[286]\tvalid_0's auc: 0.727257\n",
      "Training until validation scores don't improve for 100 rounds\n",
      "Early stopping, best iteration is:\n",
      "[243]\tvalid_0's auc: 0.732479\n",
      "--- FINISHED \\ whole score: 0.7298 ---\n",
      "---- id = 171 -----\n"
     ]
    },
    {
     "name": "stderr",
     "output_type": "stream",
     "text": [
      "/home/umhrysnb/anaconda3/lib/python3.8/site-packages/lightgbm/basic.py:1286: UserWarning: Overriding the parameters from Reference Dataset.\n",
      "  warnings.warn('Overriding the parameters from Reference Dataset.')\n",
      "/home/umhrysnb/anaconda3/lib/python3.8/site-packages/lightgbm/basic.py:1098: UserWarning: categorical_column in param dict is overridden.\n",
      "  warnings.warn('{} in param dict is overridden.'.format(cat_alias))\n"
     ]
    },
    {
     "name": "stdout",
     "output_type": "stream",
     "text": [
      "Training until validation scores don't improve for 100 rounds\n",
      "Early stopping, best iteration is:\n",
      "[891]\tvalid_0's auc: 0.828342\n",
      "Training until validation scores don't improve for 100 rounds\n",
      "Early stopping, best iteration is:\n",
      "[371]\tvalid_0's auc: 0.818032\n",
      "Training until validation scores don't improve for 100 rounds\n",
      "Early stopping, best iteration is:\n",
      "[525]\tvalid_0's auc: 0.827406\n",
      "Training until validation scores don't improve for 100 rounds\n",
      "Early stopping, best iteration is:\n",
      "[706]\tvalid_0's auc: 0.824619\n",
      "--- FINISHED \\ whole score: 0.8233 ---\n",
      "---- id = 172 -----\n"
     ]
    },
    {
     "name": "stderr",
     "output_type": "stream",
     "text": [
      "/home/umhrysnb/anaconda3/lib/python3.8/site-packages/lightgbm/basic.py:1286: UserWarning: Overriding the parameters from Reference Dataset.\n",
      "  warnings.warn('Overriding the parameters from Reference Dataset.')\n",
      "/home/umhrysnb/anaconda3/lib/python3.8/site-packages/lightgbm/basic.py:1098: UserWarning: categorical_column in param dict is overridden.\n",
      "  warnings.warn('{} in param dict is overridden.'.format(cat_alias))\n"
     ]
    },
    {
     "name": "stdout",
     "output_type": "stream",
     "text": [
      "Training until validation scores don't improve for 100 rounds\n",
      "Early stopping, best iteration is:\n",
      "[296]\tvalid_0's auc: 0.830126\n",
      "Training until validation scores don't improve for 100 rounds\n",
      "Early stopping, best iteration is:\n",
      "[458]\tvalid_0's auc: 0.828989\n",
      "Training until validation scores don't improve for 100 rounds\n",
      "Early stopping, best iteration is:\n",
      "[261]\tvalid_0's auc: 0.827186\n",
      "Training until validation scores don't improve for 100 rounds\n",
      "Early stopping, best iteration is:\n",
      "[243]\tvalid_0's auc: 0.843227\n",
      "--- FINISHED \\ whole score: 0.8299 ---\n",
      "---- id = 173 -----\n"
     ]
    },
    {
     "name": "stderr",
     "output_type": "stream",
     "text": [
      "/home/umhrysnb/anaconda3/lib/python3.8/site-packages/lightgbm/basic.py:1286: UserWarning: Overriding the parameters from Reference Dataset.\n",
      "  warnings.warn('Overriding the parameters from Reference Dataset.')\n",
      "/home/umhrysnb/anaconda3/lib/python3.8/site-packages/lightgbm/basic.py:1098: UserWarning: categorical_column in param dict is overridden.\n",
      "  warnings.warn('{} in param dict is overridden.'.format(cat_alias))\n"
     ]
    },
    {
     "name": "stdout",
     "output_type": "stream",
     "text": [
      "Training until validation scores don't improve for 100 rounds\n",
      "Early stopping, best iteration is:\n",
      "[588]\tvalid_0's auc: 0.811999\n",
      "Training until validation scores don't improve for 100 rounds\n",
      "Early stopping, best iteration is:\n",
      "[617]\tvalid_0's auc: 0.812865\n",
      "Training until validation scores don't improve for 100 rounds\n",
      "Early stopping, best iteration is:\n",
      "[372]\tvalid_0's auc: 0.815428\n",
      "Training until validation scores don't improve for 100 rounds\n",
      "Early stopping, best iteration is:\n",
      "[421]\tvalid_0's auc: 0.817707\n",
      "--- FINISHED \\ whole score: 0.8139 ---\n",
      "---- id = 376 -----\n"
     ]
    },
    {
     "name": "stderr",
     "output_type": "stream",
     "text": [
      "/home/umhrysnb/anaconda3/lib/python3.8/site-packages/lightgbm/basic.py:1286: UserWarning: Overriding the parameters from Reference Dataset.\n",
      "  warnings.warn('Overriding the parameters from Reference Dataset.')\n",
      "/home/umhrysnb/anaconda3/lib/python3.8/site-packages/lightgbm/basic.py:1098: UserWarning: categorical_column in param dict is overridden.\n",
      "  warnings.warn('{} in param dict is overridden.'.format(cat_alias))\n"
     ]
    },
    {
     "name": "stdout",
     "output_type": "stream",
     "text": [
      "Training until validation scores don't improve for 100 rounds\n",
      "Early stopping, best iteration is:\n",
      "[144]\tvalid_0's auc: 0.746673\n",
      "Training until validation scores don't improve for 100 rounds\n",
      "Early stopping, best iteration is:\n",
      "[204]\tvalid_0's auc: 0.738879\n",
      "Training until validation scores don't improve for 100 rounds\n",
      "Early stopping, best iteration is:\n",
      "[243]\tvalid_0's auc: 0.742793\n",
      "Training until validation scores don't improve for 100 rounds\n",
      "Early stopping, best iteration is:\n",
      "[104]\tvalid_0's auc: 0.738046\n",
      "--- FINISHED \\ whole score: 0.7414 ---\n",
      "---- id = 435 -----\n"
     ]
    },
    {
     "name": "stderr",
     "output_type": "stream",
     "text": [
      "/home/umhrysnb/anaconda3/lib/python3.8/site-packages/lightgbm/basic.py:1286: UserWarning: Overriding the parameters from Reference Dataset.\n",
      "  warnings.warn('Overriding the parameters from Reference Dataset.')\n",
      "/home/umhrysnb/anaconda3/lib/python3.8/site-packages/lightgbm/basic.py:1098: UserWarning: categorical_column in param dict is overridden.\n",
      "  warnings.warn('{} in param dict is overridden.'.format(cat_alias))\n"
     ]
    },
    {
     "name": "stdout",
     "output_type": "stream",
     "text": [
      "Training until validation scores don't improve for 100 rounds\n",
      "Early stopping, best iteration is:\n",
      "[157]\tvalid_0's auc: 0.833977\n",
      "Training until validation scores don't improve for 100 rounds\n",
      "Early stopping, best iteration is:\n",
      "[224]\tvalid_0's auc: 0.833823\n",
      "Training until validation scores don't improve for 100 rounds\n",
      "Early stopping, best iteration is:\n",
      "[208]\tvalid_0's auc: 0.839924\n",
      "Training until validation scores don't improve for 100 rounds\n",
      "Early stopping, best iteration is:\n",
      "[320]\tvalid_0's auc: 0.840276\n",
      "--- FINISHED \\ whole score: 0.8366 ---\n",
      "---- id = 467 -----\n"
     ]
    },
    {
     "name": "stderr",
     "output_type": "stream",
     "text": [
      "/home/umhrysnb/anaconda3/lib/python3.8/site-packages/lightgbm/basic.py:1286: UserWarning: Overriding the parameters from Reference Dataset.\n",
      "  warnings.warn('Overriding the parameters from Reference Dataset.')\n",
      "/home/umhrysnb/anaconda3/lib/python3.8/site-packages/lightgbm/basic.py:1098: UserWarning: categorical_column in param dict is overridden.\n",
      "  warnings.warn('{} in param dict is overridden.'.format(cat_alias))\n"
     ]
    },
    {
     "name": "stdout",
     "output_type": "stream",
     "text": [
      "Training until validation scores don't improve for 100 rounds\n",
      "Early stopping, best iteration is:\n",
      "[325]\tvalid_0's auc: 0.831834\n",
      "Training until validation scores don't improve for 100 rounds\n",
      "Early stopping, best iteration is:\n",
      "[211]\tvalid_0's auc: 0.834641\n",
      "Training until validation scores don't improve for 100 rounds\n",
      "Early stopping, best iteration is:\n",
      "[250]\tvalid_0's auc: 0.840289\n",
      "Training until validation scores don't improve for 100 rounds\n",
      "Early stopping, best iteration is:\n",
      "[62]\tvalid_0's auc: 0.830174\n",
      "--- FINISHED \\ whole score: 0.8293 ---\n",
      "---- id = 537 -----\n"
     ]
    },
    {
     "name": "stderr",
     "output_type": "stream",
     "text": [
      "/home/umhrysnb/anaconda3/lib/python3.8/site-packages/lightgbm/basic.py:1286: UserWarning: Overriding the parameters from Reference Dataset.\n",
      "  warnings.warn('Overriding the parameters from Reference Dataset.')\n",
      "/home/umhrysnb/anaconda3/lib/python3.8/site-packages/lightgbm/basic.py:1098: UserWarning: categorical_column in param dict is overridden.\n",
      "  warnings.warn('{} in param dict is overridden.'.format(cat_alias))\n"
     ]
    },
    {
     "name": "stdout",
     "output_type": "stream",
     "text": [
      "Training until validation scores don't improve for 100 rounds\n",
      "Early stopping, best iteration is:\n",
      "[295]\tvalid_0's auc: 0.861303\n",
      "Training until validation scores don't improve for 100 rounds\n",
      "Early stopping, best iteration is:\n",
      "[229]\tvalid_0's auc: 0.840347\n",
      "Training until validation scores don't improve for 100 rounds\n",
      "Early stopping, best iteration is:\n",
      "[447]\tvalid_0's auc: 0.844385\n",
      "Training until validation scores don't improve for 100 rounds\n",
      "Early stopping, best iteration is:\n",
      "[277]\tvalid_0's auc: 0.866875\n",
      "--- FINISHED \\ whole score: 0.8517 ---\n",
      "---- id = 539 -----\n"
     ]
    },
    {
     "name": "stderr",
     "output_type": "stream",
     "text": [
      "/home/umhrysnb/anaconda3/lib/python3.8/site-packages/lightgbm/basic.py:1286: UserWarning: Overriding the parameters from Reference Dataset.\n",
      "  warnings.warn('Overriding the parameters from Reference Dataset.')\n",
      "/home/umhrysnb/anaconda3/lib/python3.8/site-packages/lightgbm/basic.py:1098: UserWarning: categorical_column in param dict is overridden.\n",
      "  warnings.warn('{} in param dict is overridden.'.format(cat_alias))\n"
     ]
    },
    {
     "name": "stdout",
     "output_type": "stream",
     "text": [
      "Training until validation scores don't improve for 100 rounds\n",
      "Early stopping, best iteration is:\n",
      "[230]\tvalid_0's auc: 0.803759\n",
      "Training until validation scores don't improve for 100 rounds\n",
      "Early stopping, best iteration is:\n",
      "[310]\tvalid_0's auc: 0.814265\n",
      "Training until validation scores don't improve for 100 rounds\n",
      "Early stopping, best iteration is:\n",
      "[676]\tvalid_0's auc: 0.809117\n",
      "Training until validation scores don't improve for 100 rounds\n",
      "Early stopping, best iteration is:\n",
      "[267]\tvalid_0's auc: 0.803143\n",
      "--- FINISHED \\ whole score: 0.8030 ---\n",
      "---- id = 629 -----\n"
     ]
    },
    {
     "name": "stderr",
     "output_type": "stream",
     "text": [
      "/home/umhrysnb/anaconda3/lib/python3.8/site-packages/lightgbm/basic.py:1286: UserWarning: Overriding the parameters from Reference Dataset.\n",
      "  warnings.warn('Overriding the parameters from Reference Dataset.')\n",
      "/home/umhrysnb/anaconda3/lib/python3.8/site-packages/lightgbm/basic.py:1098: UserWarning: categorical_column in param dict is overridden.\n",
      "  warnings.warn('{} in param dict is overridden.'.format(cat_alias))\n"
     ]
    },
    {
     "name": "stdout",
     "output_type": "stream",
     "text": [
      "Training until validation scores don't improve for 100 rounds\n",
      "Early stopping, best iteration is:\n",
      "[182]\tvalid_0's auc: 0.858067\n",
      "Training until validation scores don't improve for 100 rounds\n",
      "Early stopping, best iteration is:\n",
      "[54]\tvalid_0's auc: 0.849301\n",
      "Training until validation scores don't improve for 100 rounds\n",
      "Early stopping, best iteration is:\n",
      "[221]\tvalid_0's auc: 0.851216\n",
      "Training until validation scores don't improve for 100 rounds\n",
      "Early stopping, best iteration is:\n",
      "[143]\tvalid_0's auc: 0.851116\n",
      "--- FINISHED \\ whole score: 0.8410 ---\n",
      "---- id = 768 -----\n"
     ]
    },
    {
     "name": "stderr",
     "output_type": "stream",
     "text": [
      "/home/umhrysnb/anaconda3/lib/python3.8/site-packages/lightgbm/basic.py:1286: UserWarning: Overriding the parameters from Reference Dataset.\n",
      "  warnings.warn('Overriding the parameters from Reference Dataset.')\n",
      "/home/umhrysnb/anaconda3/lib/python3.8/site-packages/lightgbm/basic.py:1098: UserWarning: categorical_column in param dict is overridden.\n",
      "  warnings.warn('{} in param dict is overridden.'.format(cat_alias))\n"
     ]
    },
    {
     "name": "stdout",
     "output_type": "stream",
     "text": [
      "Training until validation scores don't improve for 100 rounds\n",
      "Early stopping, best iteration is:\n",
      "[250]\tvalid_0's auc: 0.707154\n",
      "Training until validation scores don't improve for 100 rounds\n",
      "Early stopping, best iteration is:\n",
      "[243]\tvalid_0's auc: 0.70813\n",
      "Training until validation scores don't improve for 100 rounds\n",
      "Early stopping, best iteration is:\n",
      "[405]\tvalid_0's auc: 0.712043\n",
      "Training until validation scores don't improve for 100 rounds\n",
      "Early stopping, best iteration is:\n",
      "[465]\tvalid_0's auc: 0.70738\n",
      "--- FINISHED \\ whole score: 0.7083 ---\n",
      "25581\n",
      "===== 5 =====\n",
      "train_features (102394, 208)\n",
      "test_features (14072, 208)\n",
      "---- id = 38 -----\n"
     ]
    },
    {
     "name": "stderr",
     "output_type": "stream",
     "text": [
      "/home/umhrysnb/anaconda3/lib/python3.8/site-packages/lightgbm/basic.py:1286: UserWarning: Overriding the parameters from Reference Dataset.\n",
      "  warnings.warn('Overriding the parameters from Reference Dataset.')\n",
      "/home/umhrysnb/anaconda3/lib/python3.8/site-packages/lightgbm/basic.py:1098: UserWarning: categorical_column in param dict is overridden.\n",
      "  warnings.warn('{} in param dict is overridden.'.format(cat_alias))\n"
     ]
    },
    {
     "name": "stdout",
     "output_type": "stream",
     "text": [
      "Training until validation scores don't improve for 100 rounds\n",
      "Early stopping, best iteration is:\n",
      "[242]\tvalid_0's auc: 0.784998\n",
      "Training until validation scores don't improve for 100 rounds\n",
      "Early stopping, best iteration is:\n",
      "[377]\tvalid_0's auc: 0.784766\n",
      "Training until validation scores don't improve for 100 rounds\n",
      "Early stopping, best iteration is:\n",
      "[462]\tvalid_0's auc: 0.786234\n",
      "Training until validation scores don't improve for 100 rounds\n",
      "Early stopping, best iteration is:\n",
      "[491]\tvalid_0's auc: 0.786918\n",
      "--- FINISHED \\ whole score: 0.7852 ---\n",
      "---- id = 110 -----\n"
     ]
    },
    {
     "name": "stderr",
     "output_type": "stream",
     "text": [
      "/home/umhrysnb/anaconda3/lib/python3.8/site-packages/lightgbm/basic.py:1286: UserWarning: Overriding the parameters from Reference Dataset.\n",
      "  warnings.warn('Overriding the parameters from Reference Dataset.')\n",
      "/home/umhrysnb/anaconda3/lib/python3.8/site-packages/lightgbm/basic.py:1098: UserWarning: categorical_column in param dict is overridden.\n",
      "  warnings.warn('{} in param dict is overridden.'.format(cat_alias))\n"
     ]
    },
    {
     "name": "stdout",
     "output_type": "stream",
     "text": [
      "Training until validation scores don't improve for 100 rounds\n",
      "Early stopping, best iteration is:\n",
      "[52]\tvalid_0's auc: 0.724228\n",
      "Training until validation scores don't improve for 100 rounds\n",
      "Early stopping, best iteration is:\n",
      "[58]\tvalid_0's auc: 0.726782\n",
      "Training until validation scores don't improve for 100 rounds\n",
      "Early stopping, best iteration is:\n",
      "[87]\tvalid_0's auc: 0.760996\n",
      "Training until validation scores don't improve for 100 rounds\n",
      "Early stopping, best iteration is:\n",
      "[101]\tvalid_0's auc: 0.729035\n",
      "--- FINISHED \\ whole score: 0.7332 ---\n",
      "---- id = 113 -----\n"
     ]
    },
    {
     "name": "stderr",
     "output_type": "stream",
     "text": [
      "/home/umhrysnb/anaconda3/lib/python3.8/site-packages/lightgbm/basic.py:1286: UserWarning: Overriding the parameters from Reference Dataset.\n",
      "  warnings.warn('Overriding the parameters from Reference Dataset.')\n",
      "/home/umhrysnb/anaconda3/lib/python3.8/site-packages/lightgbm/basic.py:1098: UserWarning: categorical_column in param dict is overridden.\n",
      "  warnings.warn('{} in param dict is overridden.'.format(cat_alias))\n"
     ]
    },
    {
     "name": "stdout",
     "output_type": "stream",
     "text": [
      "Training until validation scores don't improve for 100 rounds\n",
      "Early stopping, best iteration is:\n",
      "[247]\tvalid_0's auc: 0.758812\n",
      "Training until validation scores don't improve for 100 rounds\n",
      "Early stopping, best iteration is:\n",
      "[98]\tvalid_0's auc: 0.739619\n",
      "Training until validation scores don't improve for 100 rounds\n",
      "Early stopping, best iteration is:\n",
      "[138]\tvalid_0's auc: 0.753473\n",
      "Training until validation scores don't improve for 100 rounds\n",
      "Early stopping, best iteration is:\n",
      "[98]\tvalid_0's auc: 0.752881\n",
      "--- FINISHED \\ whole score: 0.7504 ---\n",
      "---- id = 114 -----\n"
     ]
    },
    {
     "name": "stderr",
     "output_type": "stream",
     "text": [
      "/home/umhrysnb/anaconda3/lib/python3.8/site-packages/lightgbm/basic.py:1286: UserWarning: Overriding the parameters from Reference Dataset.\n",
      "  warnings.warn('Overriding the parameters from Reference Dataset.')\n",
      "/home/umhrysnb/anaconda3/lib/python3.8/site-packages/lightgbm/basic.py:1098: UserWarning: categorical_column in param dict is overridden.\n",
      "  warnings.warn('{} in param dict is overridden.'.format(cat_alias))\n"
     ]
    },
    {
     "name": "stdout",
     "output_type": "stream",
     "text": [
      "Training until validation scores don't improve for 100 rounds\n",
      "Early stopping, best iteration is:\n",
      "[362]\tvalid_0's auc: 0.742441\n",
      "Training until validation scores don't improve for 100 rounds\n",
      "Early stopping, best iteration is:\n",
      "[483]\tvalid_0's auc: 0.73803\n",
      "Training until validation scores don't improve for 100 rounds\n",
      "Early stopping, best iteration is:\n",
      "[391]\tvalid_0's auc: 0.734683\n",
      "Training until validation scores don't improve for 100 rounds\n",
      "Early stopping, best iteration is:\n",
      "[391]\tvalid_0's auc: 0.728501\n",
      "--- FINISHED \\ whole score: 0.7359 ---\n",
      "---- id = 134 -----\n"
     ]
    },
    {
     "name": "stderr",
     "output_type": "stream",
     "text": [
      "/home/umhrysnb/anaconda3/lib/python3.8/site-packages/lightgbm/basic.py:1286: UserWarning: Overriding the parameters from Reference Dataset.\n",
      "  warnings.warn('Overriding the parameters from Reference Dataset.')\n",
      "/home/umhrysnb/anaconda3/lib/python3.8/site-packages/lightgbm/basic.py:1098: UserWarning: categorical_column in param dict is overridden.\n",
      "  warnings.warn('{} in param dict is overridden.'.format(cat_alias))\n"
     ]
    },
    {
     "name": "stdout",
     "output_type": "stream",
     "text": [
      "Training until validation scores don't improve for 100 rounds\n",
      "Early stopping, best iteration is:\n",
      "[286]\tvalid_0's auc: 0.730264\n",
      "Training until validation scores don't improve for 100 rounds\n",
      "Early stopping, best iteration is:\n",
      "[268]\tvalid_0's auc: 0.731614\n",
      "Training until validation scores don't improve for 100 rounds\n",
      "Early stopping, best iteration is:\n",
      "[255]\tvalid_0's auc: 0.725761\n",
      "Training until validation scores don't improve for 100 rounds\n",
      "Early stopping, best iteration is:\n",
      "[202]\tvalid_0's auc: 0.726227\n",
      "--- FINISHED \\ whole score: 0.7285 ---\n",
      "---- id = 171 -----\n"
     ]
    },
    {
     "name": "stderr",
     "output_type": "stream",
     "text": [
      "/home/umhrysnb/anaconda3/lib/python3.8/site-packages/lightgbm/basic.py:1286: UserWarning: Overriding the parameters from Reference Dataset.\n",
      "  warnings.warn('Overriding the parameters from Reference Dataset.')\n",
      "/home/umhrysnb/anaconda3/lib/python3.8/site-packages/lightgbm/basic.py:1098: UserWarning: categorical_column in param dict is overridden.\n",
      "  warnings.warn('{} in param dict is overridden.'.format(cat_alias))\n"
     ]
    },
    {
     "name": "stdout",
     "output_type": "stream",
     "text": [
      "Training until validation scores don't improve for 100 rounds\n",
      "Early stopping, best iteration is:\n",
      "[532]\tvalid_0's auc: 0.817806\n",
      "Training until validation scores don't improve for 100 rounds\n",
      "Early stopping, best iteration is:\n",
      "[674]\tvalid_0's auc: 0.822895\n",
      "Training until validation scores don't improve for 100 rounds\n",
      "Early stopping, best iteration is:\n",
      "[625]\tvalid_0's auc: 0.817968\n",
      "Training until validation scores don't improve for 100 rounds\n",
      "Early stopping, best iteration is:\n",
      "[723]\tvalid_0's auc: 0.815996\n",
      "--- FINISHED \\ whole score: 0.8183 ---\n",
      "---- id = 172 -----\n"
     ]
    },
    {
     "name": "stderr",
     "output_type": "stream",
     "text": [
      "/home/umhrysnb/anaconda3/lib/python3.8/site-packages/lightgbm/basic.py:1286: UserWarning: Overriding the parameters from Reference Dataset.\n",
      "  warnings.warn('Overriding the parameters from Reference Dataset.')\n",
      "/home/umhrysnb/anaconda3/lib/python3.8/site-packages/lightgbm/basic.py:1098: UserWarning: categorical_column in param dict is overridden.\n",
      "  warnings.warn('{} in param dict is overridden.'.format(cat_alias))\n"
     ]
    },
    {
     "name": "stdout",
     "output_type": "stream",
     "text": [
      "Training until validation scores don't improve for 100 rounds\n",
      "Early stopping, best iteration is:\n",
      "[134]\tvalid_0's auc: 0.824734\n",
      "Training until validation scores don't improve for 100 rounds\n",
      "Early stopping, best iteration is:\n",
      "[303]\tvalid_0's auc: 0.828532\n",
      "Training until validation scores don't improve for 100 rounds\n",
      "Early stopping, best iteration is:\n",
      "[213]\tvalid_0's auc: 0.828275\n",
      "Training until validation scores don't improve for 100 rounds\n",
      "Early stopping, best iteration is:\n",
      "[290]\tvalid_0's auc: 0.815853\n",
      "--- FINISHED \\ whole score: 0.8200 ---\n",
      "---- id = 173 -----\n"
     ]
    },
    {
     "name": "stderr",
     "output_type": "stream",
     "text": [
      "/home/umhrysnb/anaconda3/lib/python3.8/site-packages/lightgbm/basic.py:1286: UserWarning: Overriding the parameters from Reference Dataset.\n",
      "  warnings.warn('Overriding the parameters from Reference Dataset.')\n",
      "/home/umhrysnb/anaconda3/lib/python3.8/site-packages/lightgbm/basic.py:1098: UserWarning: categorical_column in param dict is overridden.\n",
      "  warnings.warn('{} in param dict is overridden.'.format(cat_alias))\n"
     ]
    },
    {
     "name": "stdout",
     "output_type": "stream",
     "text": [
      "Training until validation scores don't improve for 100 rounds\n",
      "Early stopping, best iteration is:\n",
      "[362]\tvalid_0's auc: 0.807615\n",
      "Training until validation scores don't improve for 100 rounds\n",
      "Early stopping, best iteration is:\n",
      "[448]\tvalid_0's auc: 0.813896\n",
      "Training until validation scores don't improve for 100 rounds\n",
      "Early stopping, best iteration is:\n",
      "[680]\tvalid_0's auc: 0.800615\n",
      "Training until validation scores don't improve for 100 rounds\n",
      "Early stopping, best iteration is:\n",
      "[781]\tvalid_0's auc: 0.808472\n",
      "--- FINISHED \\ whole score: 0.8062 ---\n",
      "---- id = 376 -----\n"
     ]
    },
    {
     "name": "stderr",
     "output_type": "stream",
     "text": [
      "/home/umhrysnb/anaconda3/lib/python3.8/site-packages/lightgbm/basic.py:1286: UserWarning: Overriding the parameters from Reference Dataset.\n",
      "  warnings.warn('Overriding the parameters from Reference Dataset.')\n",
      "/home/umhrysnb/anaconda3/lib/python3.8/site-packages/lightgbm/basic.py:1098: UserWarning: categorical_column in param dict is overridden.\n",
      "  warnings.warn('{} in param dict is overridden.'.format(cat_alias))\n"
     ]
    },
    {
     "name": "stdout",
     "output_type": "stream",
     "text": [
      "Training until validation scores don't improve for 100 rounds\n",
      "Early stopping, best iteration is:\n",
      "[125]\tvalid_0's auc: 0.746194\n",
      "Training until validation scores don't improve for 100 rounds\n",
      "Early stopping, best iteration is:\n",
      "[170]\tvalid_0's auc: 0.737988\n",
      "Training until validation scores don't improve for 100 rounds\n",
      "Early stopping, best iteration is:\n",
      "[157]\tvalid_0's auc: 0.738295\n",
      "Training until validation scores don't improve for 100 rounds\n",
      "Early stopping, best iteration is:\n",
      "[222]\tvalid_0's auc: 0.733549\n",
      "--- FINISHED \\ whole score: 0.7387 ---\n",
      "---- id = 435 -----\n"
     ]
    },
    {
     "name": "stderr",
     "output_type": "stream",
     "text": [
      "/home/umhrysnb/anaconda3/lib/python3.8/site-packages/lightgbm/basic.py:1286: UserWarning: Overriding the parameters from Reference Dataset.\n",
      "  warnings.warn('Overriding the parameters from Reference Dataset.')\n",
      "/home/umhrysnb/anaconda3/lib/python3.8/site-packages/lightgbm/basic.py:1098: UserWarning: categorical_column in param dict is overridden.\n",
      "  warnings.warn('{} in param dict is overridden.'.format(cat_alias))\n"
     ]
    },
    {
     "name": "stdout",
     "output_type": "stream",
     "text": [
      "Training until validation scores don't improve for 100 rounds\n",
      "Early stopping, best iteration is:\n",
      "[231]\tvalid_0's auc: 0.823555\n",
      "Training until validation scores don't improve for 100 rounds\n",
      "Early stopping, best iteration is:\n",
      "[412]\tvalid_0's auc: 0.829625\n",
      "Training until validation scores don't improve for 100 rounds\n",
      "Early stopping, best iteration is:\n",
      "[384]\tvalid_0's auc: 0.831592\n",
      "Training until validation scores don't improve for 100 rounds\n",
      "Early stopping, best iteration is:\n",
      "[190]\tvalid_0's auc: 0.825115\n",
      "--- FINISHED \\ whole score: 0.8265 ---\n",
      "---- id = 467 -----\n"
     ]
    },
    {
     "name": "stderr",
     "output_type": "stream",
     "text": [
      "/home/umhrysnb/anaconda3/lib/python3.8/site-packages/lightgbm/basic.py:1286: UserWarning: Overriding the parameters from Reference Dataset.\n",
      "  warnings.warn('Overriding the parameters from Reference Dataset.')\n",
      "/home/umhrysnb/anaconda3/lib/python3.8/site-packages/lightgbm/basic.py:1098: UserWarning: categorical_column in param dict is overridden.\n",
      "  warnings.warn('{} in param dict is overridden.'.format(cat_alias))\n"
     ]
    },
    {
     "name": "stdout",
     "output_type": "stream",
     "text": [
      "Training until validation scores don't improve for 100 rounds\n",
      "Early stopping, best iteration is:\n",
      "[46]\tvalid_0's auc: 0.821455\n",
      "Training until validation scores don't improve for 100 rounds\n",
      "Early stopping, best iteration is:\n",
      "[214]\tvalid_0's auc: 0.821638\n",
      "Training until validation scores don't improve for 100 rounds\n",
      "Early stopping, best iteration is:\n",
      "[284]\tvalid_0's auc: 0.821547\n",
      "Training until validation scores don't improve for 100 rounds\n",
      "Early stopping, best iteration is:\n",
      "[165]\tvalid_0's auc: 0.809622\n",
      "--- FINISHED \\ whole score: 0.8126 ---\n",
      "---- id = 537 -----\n"
     ]
    },
    {
     "name": "stderr",
     "output_type": "stream",
     "text": [
      "/home/umhrysnb/anaconda3/lib/python3.8/site-packages/lightgbm/basic.py:1286: UserWarning: Overriding the parameters from Reference Dataset.\n",
      "  warnings.warn('Overriding the parameters from Reference Dataset.')\n",
      "/home/umhrysnb/anaconda3/lib/python3.8/site-packages/lightgbm/basic.py:1098: UserWarning: categorical_column in param dict is overridden.\n",
      "  warnings.warn('{} in param dict is overridden.'.format(cat_alias))\n"
     ]
    },
    {
     "name": "stdout",
     "output_type": "stream",
     "text": [
      "Training until validation scores don't improve for 100 rounds\n",
      "Early stopping, best iteration is:\n",
      "[355]\tvalid_0's auc: 0.836855\n",
      "Training until validation scores don't improve for 100 rounds\n",
      "Early stopping, best iteration is:\n",
      "[359]\tvalid_0's auc: 0.82917\n",
      "Training until validation scores don't improve for 100 rounds\n",
      "Early stopping, best iteration is:\n",
      "[459]\tvalid_0's auc: 0.851895\n",
      "Training until validation scores don't improve for 100 rounds\n",
      "Early stopping, best iteration is:\n",
      "[314]\tvalid_0's auc: 0.839741\n",
      "--- FINISHED \\ whole score: 0.8391 ---\n",
      "---- id = 539 -----\n"
     ]
    },
    {
     "name": "stderr",
     "output_type": "stream",
     "text": [
      "/home/umhrysnb/anaconda3/lib/python3.8/site-packages/lightgbm/basic.py:1286: UserWarning: Overriding the parameters from Reference Dataset.\n",
      "  warnings.warn('Overriding the parameters from Reference Dataset.')\n",
      "/home/umhrysnb/anaconda3/lib/python3.8/site-packages/lightgbm/basic.py:1098: UserWarning: categorical_column in param dict is overridden.\n",
      "  warnings.warn('{} in param dict is overridden.'.format(cat_alias))\n"
     ]
    },
    {
     "name": "stdout",
     "output_type": "stream",
     "text": [
      "Training until validation scores don't improve for 100 rounds\n",
      "Early stopping, best iteration is:\n",
      "[349]\tvalid_0's auc: 0.797018\n",
      "Training until validation scores don't improve for 100 rounds\n",
      "Early stopping, best iteration is:\n",
      "[215]\tvalid_0's auc: 0.801191\n",
      "Training until validation scores don't improve for 100 rounds\n",
      "Early stopping, best iteration is:\n",
      "[456]\tvalid_0's auc: 0.80072\n",
      "Training until validation scores don't improve for 100 rounds\n",
      "Early stopping, best iteration is:\n",
      "[171]\tvalid_0's auc: 0.790115\n",
      "--- FINISHED \\ whole score: 0.7941 ---\n",
      "---- id = 629 -----\n"
     ]
    },
    {
     "name": "stderr",
     "output_type": "stream",
     "text": [
      "/home/umhrysnb/anaconda3/lib/python3.8/site-packages/lightgbm/basic.py:1286: UserWarning: Overriding the parameters from Reference Dataset.\n",
      "  warnings.warn('Overriding the parameters from Reference Dataset.')\n",
      "/home/umhrysnb/anaconda3/lib/python3.8/site-packages/lightgbm/basic.py:1098: UserWarning: categorical_column in param dict is overridden.\n",
      "  warnings.warn('{} in param dict is overridden.'.format(cat_alias))\n"
     ]
    },
    {
     "name": "stdout",
     "output_type": "stream",
     "text": [
      "Training until validation scores don't improve for 100 rounds\n",
      "Early stopping, best iteration is:\n",
      "[84]\tvalid_0's auc: 0.831678\n",
      "Training until validation scores don't improve for 100 rounds\n",
      "Early stopping, best iteration is:\n",
      "[404]\tvalid_0's auc: 0.836995\n",
      "Training until validation scores don't improve for 100 rounds\n",
      "Early stopping, best iteration is:\n",
      "[122]\tvalid_0's auc: 0.838705\n",
      "Training until validation scores don't improve for 100 rounds\n",
      "Early stopping, best iteration is:\n",
      "[31]\tvalid_0's auc: 0.827439\n",
      "--- FINISHED \\ whole score: 0.7974 ---\n",
      "---- id = 768 -----\n"
     ]
    },
    {
     "name": "stderr",
     "output_type": "stream",
     "text": [
      "/home/umhrysnb/anaconda3/lib/python3.8/site-packages/lightgbm/basic.py:1286: UserWarning: Overriding the parameters from Reference Dataset.\n",
      "  warnings.warn('Overriding the parameters from Reference Dataset.')\n",
      "/home/umhrysnb/anaconda3/lib/python3.8/site-packages/lightgbm/basic.py:1098: UserWarning: categorical_column in param dict is overridden.\n",
      "  warnings.warn('{} in param dict is overridden.'.format(cat_alias))\n"
     ]
    },
    {
     "name": "stdout",
     "output_type": "stream",
     "text": [
      "Training until validation scores don't improve for 100 rounds\n",
      "Early stopping, best iteration is:\n",
      "[153]\tvalid_0's auc: 0.699048\n",
      "Training until validation scores don't improve for 100 rounds\n",
      "Early stopping, best iteration is:\n",
      "[230]\tvalid_0's auc: 0.697365\n",
      "Training until validation scores don't improve for 100 rounds\n",
      "Early stopping, best iteration is:\n",
      "[145]\tvalid_0's auc: 0.701684\n",
      "Training until validation scores don't improve for 100 rounds\n",
      "Early stopping, best iteration is:\n",
      "[309]\tvalid_0's auc: 0.700633\n",
      "--- FINISHED \\ whole score: 0.6994 ---\n",
      "39653\n",
      "===== 10 =====\n",
      "train_features (102410, 208)\n",
      "test_features (16833, 208)\n",
      "---- id = 38 -----\n"
     ]
    },
    {
     "name": "stderr",
     "output_type": "stream",
     "text": [
      "/home/umhrysnb/anaconda3/lib/python3.8/site-packages/lightgbm/basic.py:1286: UserWarning: Overriding the parameters from Reference Dataset.\n",
      "  warnings.warn('Overriding the parameters from Reference Dataset.')\n",
      "/home/umhrysnb/anaconda3/lib/python3.8/site-packages/lightgbm/basic.py:1098: UserWarning: categorical_column in param dict is overridden.\n",
      "  warnings.warn('{} in param dict is overridden.'.format(cat_alias))\n"
     ]
    },
    {
     "name": "stdout",
     "output_type": "stream",
     "text": [
      "Training until validation scores don't improve for 100 rounds\n",
      "Early stopping, best iteration is:\n",
      "[379]\tvalid_0's auc: 0.781419\n",
      "Training until validation scores don't improve for 100 rounds\n",
      "Early stopping, best iteration is:\n",
      "[291]\tvalid_0's auc: 0.784336\n",
      "Training until validation scores don't improve for 100 rounds\n",
      "Early stopping, best iteration is:\n",
      "[336]\tvalid_0's auc: 0.787252\n",
      "Training until validation scores don't improve for 100 rounds\n",
      "Early stopping, best iteration is:\n",
      "[169]\tvalid_0's auc: 0.781969\n",
      "--- FINISHED \\ whole score: 0.7832 ---\n",
      "---- id = 110 -----\n"
     ]
    },
    {
     "name": "stderr",
     "output_type": "stream",
     "text": [
      "/home/umhrysnb/anaconda3/lib/python3.8/site-packages/lightgbm/basic.py:1286: UserWarning: Overriding the parameters from Reference Dataset.\n",
      "  warnings.warn('Overriding the parameters from Reference Dataset.')\n",
      "/home/umhrysnb/anaconda3/lib/python3.8/site-packages/lightgbm/basic.py:1098: UserWarning: categorical_column in param dict is overridden.\n",
      "  warnings.warn('{} in param dict is overridden.'.format(cat_alias))\n"
     ]
    },
    {
     "name": "stdout",
     "output_type": "stream",
     "text": [
      "Training until validation scores don't improve for 100 rounds\n",
      "Early stopping, best iteration is:\n",
      "[116]\tvalid_0's auc: 0.734945\n",
      "Training until validation scores don't improve for 100 rounds\n",
      "Early stopping, best iteration is:\n",
      "[80]\tvalid_0's auc: 0.693145\n",
      "Training until validation scores don't improve for 100 rounds\n",
      "Early stopping, best iteration is:\n",
      "[127]\tvalid_0's auc: 0.727843\n",
      "Training until validation scores don't improve for 100 rounds\n",
      "Early stopping, best iteration is:\n",
      "[65]\tvalid_0's auc: 0.744893\n",
      "--- FINISHED \\ whole score: 0.7204 ---\n",
      "---- id = 113 -----\n"
     ]
    },
    {
     "name": "stderr",
     "output_type": "stream",
     "text": [
      "/home/umhrysnb/anaconda3/lib/python3.8/site-packages/lightgbm/basic.py:1286: UserWarning: Overriding the parameters from Reference Dataset.\n",
      "  warnings.warn('Overriding the parameters from Reference Dataset.')\n",
      "/home/umhrysnb/anaconda3/lib/python3.8/site-packages/lightgbm/basic.py:1098: UserWarning: categorical_column in param dict is overridden.\n",
      "  warnings.warn('{} in param dict is overridden.'.format(cat_alias))\n"
     ]
    },
    {
     "name": "stdout",
     "output_type": "stream",
     "text": [
      "Training until validation scores don't improve for 100 rounds\n",
      "Early stopping, best iteration is:\n",
      "[201]\tvalid_0's auc: 0.744342\n",
      "Training until validation scores don't improve for 100 rounds\n",
      "Early stopping, best iteration is:\n",
      "[119]\tvalid_0's auc: 0.740434\n",
      "Training until validation scores don't improve for 100 rounds\n",
      "Early stopping, best iteration is:\n",
      "[161]\tvalid_0's auc: 0.76252\n",
      "Training until validation scores don't improve for 100 rounds\n",
      "Early stopping, best iteration is:\n",
      "[181]\tvalid_0's auc: 0.75316\n",
      "--- FINISHED \\ whole score: 0.7494 ---\n",
      "---- id = 114 -----\n"
     ]
    },
    {
     "name": "stderr",
     "output_type": "stream",
     "text": [
      "/home/umhrysnb/anaconda3/lib/python3.8/site-packages/lightgbm/basic.py:1286: UserWarning: Overriding the parameters from Reference Dataset.\n",
      "  warnings.warn('Overriding the parameters from Reference Dataset.')\n",
      "/home/umhrysnb/anaconda3/lib/python3.8/site-packages/lightgbm/basic.py:1098: UserWarning: categorical_column in param dict is overridden.\n",
      "  warnings.warn('{} in param dict is overridden.'.format(cat_alias))\n"
     ]
    },
    {
     "name": "stdout",
     "output_type": "stream",
     "text": [
      "Training until validation scores don't improve for 100 rounds\n",
      "Early stopping, best iteration is:\n",
      "[245]\tvalid_0's auc: 0.744268\n",
      "Training until validation scores don't improve for 100 rounds\n",
      "Early stopping, best iteration is:\n",
      "[492]\tvalid_0's auc: 0.742159\n",
      "Training until validation scores don't improve for 100 rounds\n",
      "Early stopping, best iteration is:\n",
      "[376]\tvalid_0's auc: 0.740674\n",
      "Training until validation scores don't improve for 100 rounds\n",
      "Early stopping, best iteration is:\n",
      "[217]\tvalid_0's auc: 0.746256\n",
      "--- FINISHED \\ whole score: 0.7429 ---\n",
      "---- id = 134 -----\n"
     ]
    },
    {
     "name": "stderr",
     "output_type": "stream",
     "text": [
      "/home/umhrysnb/anaconda3/lib/python3.8/site-packages/lightgbm/basic.py:1286: UserWarning: Overriding the parameters from Reference Dataset.\n",
      "  warnings.warn('Overriding the parameters from Reference Dataset.')\n",
      "/home/umhrysnb/anaconda3/lib/python3.8/site-packages/lightgbm/basic.py:1098: UserWarning: categorical_column in param dict is overridden.\n",
      "  warnings.warn('{} in param dict is overridden.'.format(cat_alias))\n"
     ]
    },
    {
     "name": "stdout",
     "output_type": "stream",
     "text": [
      "Training until validation scores don't improve for 100 rounds\n",
      "Early stopping, best iteration is:\n",
      "[120]\tvalid_0's auc: 0.740426\n",
      "Training until validation scores don't improve for 100 rounds\n",
      "Early stopping, best iteration is:\n",
      "[194]\tvalid_0's auc: 0.744769\n",
      "Training until validation scores don't improve for 100 rounds\n",
      "Early stopping, best iteration is:\n",
      "[121]\tvalid_0's auc: 0.743838\n",
      "Training until validation scores don't improve for 100 rounds\n",
      "Early stopping, best iteration is:\n",
      "[172]\tvalid_0's auc: 0.733892\n",
      "--- FINISHED \\ whole score: 0.7405 ---\n",
      "---- id = 171 -----\n"
     ]
    },
    {
     "name": "stderr",
     "output_type": "stream",
     "text": [
      "/home/umhrysnb/anaconda3/lib/python3.8/site-packages/lightgbm/basic.py:1286: UserWarning: Overriding the parameters from Reference Dataset.\n",
      "  warnings.warn('Overriding the parameters from Reference Dataset.')\n",
      "/home/umhrysnb/anaconda3/lib/python3.8/site-packages/lightgbm/basic.py:1098: UserWarning: categorical_column in param dict is overridden.\n",
      "  warnings.warn('{} in param dict is overridden.'.format(cat_alias))\n"
     ]
    },
    {
     "name": "stdout",
     "output_type": "stream",
     "text": [
      "Training until validation scores don't improve for 100 rounds\n",
      "Early stopping, best iteration is:\n",
      "[551]\tvalid_0's auc: 0.807984\n",
      "Training until validation scores don't improve for 100 rounds\n",
      "Early stopping, best iteration is:\n",
      "[640]\tvalid_0's auc: 0.800844\n",
      "Training until validation scores don't improve for 100 rounds\n",
      "Early stopping, best iteration is:\n",
      "[603]\tvalid_0's auc: 0.798437\n",
      "Training until validation scores don't improve for 100 rounds\n",
      "Early stopping, best iteration is:\n",
      "[885]\tvalid_0's auc: 0.795462\n",
      "--- FINISHED \\ whole score: 0.7991 ---\n",
      "---- id = 172 -----\n"
     ]
    },
    {
     "name": "stderr",
     "output_type": "stream",
     "text": [
      "/home/umhrysnb/anaconda3/lib/python3.8/site-packages/lightgbm/basic.py:1286: UserWarning: Overriding the parameters from Reference Dataset.\n",
      "  warnings.warn('Overriding the parameters from Reference Dataset.')\n",
      "/home/umhrysnb/anaconda3/lib/python3.8/site-packages/lightgbm/basic.py:1098: UserWarning: categorical_column in param dict is overridden.\n",
      "  warnings.warn('{} in param dict is overridden.'.format(cat_alias))\n"
     ]
    },
    {
     "name": "stdout",
     "output_type": "stream",
     "text": [
      "Training until validation scores don't improve for 100 rounds\n",
      "Early stopping, best iteration is:\n",
      "[199]\tvalid_0's auc: 0.806372\n",
      "Training until validation scores don't improve for 100 rounds\n",
      "Early stopping, best iteration is:\n",
      "[260]\tvalid_0's auc: 0.80487\n",
      "Training until validation scores don't improve for 100 rounds\n",
      "Early stopping, best iteration is:\n",
      "[340]\tvalid_0's auc: 0.819692\n",
      "Training until validation scores don't improve for 100 rounds\n",
      "Early stopping, best iteration is:\n",
      "[104]\tvalid_0's auc: 0.787092\n",
      "--- FINISHED \\ whole score: 0.7987 ---\n",
      "---- id = 173 -----\n"
     ]
    },
    {
     "name": "stderr",
     "output_type": "stream",
     "text": [
      "/home/umhrysnb/anaconda3/lib/python3.8/site-packages/lightgbm/basic.py:1286: UserWarning: Overriding the parameters from Reference Dataset.\n",
      "  warnings.warn('Overriding the parameters from Reference Dataset.')\n",
      "/home/umhrysnb/anaconda3/lib/python3.8/site-packages/lightgbm/basic.py:1098: UserWarning: categorical_column in param dict is overridden.\n",
      "  warnings.warn('{} in param dict is overridden.'.format(cat_alias))\n"
     ]
    },
    {
     "name": "stdout",
     "output_type": "stream",
     "text": [
      "Training until validation scores don't improve for 100 rounds\n",
      "Early stopping, best iteration is:\n",
      "[463]\tvalid_0's auc: 0.798921\n",
      "Training until validation scores don't improve for 100 rounds\n",
      "Early stopping, best iteration is:\n",
      "[337]\tvalid_0's auc: 0.792495\n",
      "Training until validation scores don't improve for 100 rounds\n",
      "Early stopping, best iteration is:\n",
      "[633]\tvalid_0's auc: 0.803965\n",
      "Training until validation scores don't improve for 100 rounds\n",
      "Early stopping, best iteration is:\n",
      "[287]\tvalid_0's auc: 0.802787\n",
      "--- FINISHED \\ whole score: 0.7983 ---\n",
      "---- id = 376 -----\n"
     ]
    },
    {
     "name": "stderr",
     "output_type": "stream",
     "text": [
      "/home/umhrysnb/anaconda3/lib/python3.8/site-packages/lightgbm/basic.py:1286: UserWarning: Overriding the parameters from Reference Dataset.\n",
      "  warnings.warn('Overriding the parameters from Reference Dataset.')\n",
      "/home/umhrysnb/anaconda3/lib/python3.8/site-packages/lightgbm/basic.py:1098: UserWarning: categorical_column in param dict is overridden.\n",
      "  warnings.warn('{} in param dict is overridden.'.format(cat_alias))\n"
     ]
    },
    {
     "name": "stdout",
     "output_type": "stream",
     "text": [
      "Training until validation scores don't improve for 100 rounds\n",
      "Early stopping, best iteration is:\n",
      "[152]\tvalid_0's auc: 0.748331\n",
      "Training until validation scores don't improve for 100 rounds\n",
      "Early stopping, best iteration is:\n",
      "[135]\tvalid_0's auc: 0.747154\n",
      "Training until validation scores don't improve for 100 rounds\n",
      "Early stopping, best iteration is:\n",
      "[105]\tvalid_0's auc: 0.752333\n",
      "Training until validation scores don't improve for 100 rounds\n",
      "Early stopping, best iteration is:\n",
      "[130]\tvalid_0's auc: 0.750912\n",
      "--- FINISHED \\ whole score: 0.7496 ---\n",
      "---- id = 435 -----\n"
     ]
    },
    {
     "name": "stderr",
     "output_type": "stream",
     "text": [
      "/home/umhrysnb/anaconda3/lib/python3.8/site-packages/lightgbm/basic.py:1286: UserWarning: Overriding the parameters from Reference Dataset.\n",
      "  warnings.warn('Overriding the parameters from Reference Dataset.')\n",
      "/home/umhrysnb/anaconda3/lib/python3.8/site-packages/lightgbm/basic.py:1098: UserWarning: categorical_column in param dict is overridden.\n",
      "  warnings.warn('{} in param dict is overridden.'.format(cat_alias))\n"
     ]
    },
    {
     "name": "stdout",
     "output_type": "stream",
     "text": [
      "Training until validation scores don't improve for 100 rounds\n",
      "Early stopping, best iteration is:\n",
      "[304]\tvalid_0's auc: 0.815421\n",
      "Training until validation scores don't improve for 100 rounds\n",
      "Early stopping, best iteration is:\n",
      "[224]\tvalid_0's auc: 0.820874\n",
      "Training until validation scores don't improve for 100 rounds\n",
      "Early stopping, best iteration is:\n",
      "[469]\tvalid_0's auc: 0.810432\n",
      "Training until validation scores don't improve for 100 rounds\n",
      "Early stopping, best iteration is:\n",
      "[172]\tvalid_0's auc: 0.809073\n",
      "--- FINISHED \\ whole score: 0.8096 ---\n",
      "---- id = 467 -----\n"
     ]
    },
    {
     "name": "stderr",
     "output_type": "stream",
     "text": [
      "/home/umhrysnb/anaconda3/lib/python3.8/site-packages/lightgbm/basic.py:1286: UserWarning: Overriding the parameters from Reference Dataset.\n",
      "  warnings.warn('Overriding the parameters from Reference Dataset.')\n",
      "/home/umhrysnb/anaconda3/lib/python3.8/site-packages/lightgbm/basic.py:1098: UserWarning: categorical_column in param dict is overridden.\n",
      "  warnings.warn('{} in param dict is overridden.'.format(cat_alias))\n"
     ]
    },
    {
     "name": "stdout",
     "output_type": "stream",
     "text": [
      "Training until validation scores don't improve for 100 rounds\n",
      "Early stopping, best iteration is:\n",
      "[55]\tvalid_0's auc: 0.821252\n",
      "Training until validation scores don't improve for 100 rounds\n",
      "Early stopping, best iteration is:\n",
      "[153]\tvalid_0's auc: 0.806337\n",
      "Training until validation scores don't improve for 100 rounds\n",
      "Early stopping, best iteration is:\n",
      "[143]\tvalid_0's auc: 0.791306\n",
      "Training until validation scores don't improve for 100 rounds\n",
      "Early stopping, best iteration is:\n",
      "[214]\tvalid_0's auc: 0.805344\n",
      "--- FINISHED \\ whole score: 0.7966 ---\n",
      "---- id = 537 -----\n"
     ]
    },
    {
     "name": "stderr",
     "output_type": "stream",
     "text": [
      "/home/umhrysnb/anaconda3/lib/python3.8/site-packages/lightgbm/basic.py:1286: UserWarning: Overriding the parameters from Reference Dataset.\n",
      "  warnings.warn('Overriding the parameters from Reference Dataset.')\n",
      "/home/umhrysnb/anaconda3/lib/python3.8/site-packages/lightgbm/basic.py:1098: UserWarning: categorical_column in param dict is overridden.\n",
      "  warnings.warn('{} in param dict is overridden.'.format(cat_alias))\n"
     ]
    },
    {
     "name": "stdout",
     "output_type": "stream",
     "text": [
      "Training until validation scores don't improve for 100 rounds\n",
      "Early stopping, best iteration is:\n",
      "[491]\tvalid_0's auc: 0.834985\n",
      "Training until validation scores don't improve for 100 rounds\n",
      "Early stopping, best iteration is:\n",
      "[517]\tvalid_0's auc: 0.8285\n",
      "Training until validation scores don't improve for 100 rounds\n",
      "Early stopping, best iteration is:\n",
      "[490]\tvalid_0's auc: 0.844274\n",
      "Training until validation scores don't improve for 100 rounds\n",
      "Early stopping, best iteration is:\n",
      "[450]\tvalid_0's auc: 0.831122\n",
      "--- FINISHED \\ whole score: 0.8345 ---\n",
      "---- id = 539 -----\n"
     ]
    },
    {
     "name": "stderr",
     "output_type": "stream",
     "text": [
      "/home/umhrysnb/anaconda3/lib/python3.8/site-packages/lightgbm/basic.py:1286: UserWarning: Overriding the parameters from Reference Dataset.\n",
      "  warnings.warn('Overriding the parameters from Reference Dataset.')\n",
      "/home/umhrysnb/anaconda3/lib/python3.8/site-packages/lightgbm/basic.py:1098: UserWarning: categorical_column in param dict is overridden.\n",
      "  warnings.warn('{} in param dict is overridden.'.format(cat_alias))\n"
     ]
    },
    {
     "name": "stdout",
     "output_type": "stream",
     "text": [
      "Training until validation scores don't improve for 100 rounds\n",
      "Early stopping, best iteration is:\n",
      "[288]\tvalid_0's auc: 0.787192\n",
      "Training until validation scores don't improve for 100 rounds\n",
      "Early stopping, best iteration is:\n",
      "[294]\tvalid_0's auc: 0.779078\n",
      "Training until validation scores don't improve for 100 rounds\n",
      "Early stopping, best iteration is:\n",
      "[267]\tvalid_0's auc: 0.78282\n",
      "Training until validation scores don't improve for 100 rounds\n",
      "Early stopping, best iteration is:\n",
      "[225]\tvalid_0's auc: 0.783172\n",
      "--- FINISHED \\ whole score: 0.7827 ---\n",
      "---- id = 629 -----\n"
     ]
    },
    {
     "name": "stderr",
     "output_type": "stream",
     "text": [
      "/home/umhrysnb/anaconda3/lib/python3.8/site-packages/lightgbm/basic.py:1286: UserWarning: Overriding the parameters from Reference Dataset.\n",
      "  warnings.warn('Overriding the parameters from Reference Dataset.')\n",
      "/home/umhrysnb/anaconda3/lib/python3.8/site-packages/lightgbm/basic.py:1098: UserWarning: categorical_column in param dict is overridden.\n",
      "  warnings.warn('{} in param dict is overridden.'.format(cat_alias))\n"
     ]
    },
    {
     "name": "stdout",
     "output_type": "stream",
     "text": [
      "Training until validation scores don't improve for 100 rounds\n",
      "Early stopping, best iteration is:\n",
      "[227]\tvalid_0's auc: 0.809391\n",
      "Training until validation scores don't improve for 100 rounds\n",
      "Early stopping, best iteration is:\n",
      "[84]\tvalid_0's auc: 0.75383\n",
      "Training until validation scores don't improve for 100 rounds\n",
      "Early stopping, best iteration is:\n",
      "[180]\tvalid_0's auc: 0.828703\n",
      "Training until validation scores don't improve for 100 rounds\n",
      "Early stopping, best iteration is:\n",
      "[151]\tvalid_0's auc: 0.791096\n",
      "--- FINISHED \\ whole score: 0.7852 ---\n",
      "---- id = 768 -----\n"
     ]
    },
    {
     "name": "stderr",
     "output_type": "stream",
     "text": [
      "/home/umhrysnb/anaconda3/lib/python3.8/site-packages/lightgbm/basic.py:1286: UserWarning: Overriding the parameters from Reference Dataset.\n",
      "  warnings.warn('Overriding the parameters from Reference Dataset.')\n",
      "/home/umhrysnb/anaconda3/lib/python3.8/site-packages/lightgbm/basic.py:1098: UserWarning: categorical_column in param dict is overridden.\n",
      "  warnings.warn('{} in param dict is overridden.'.format(cat_alias))\n"
     ]
    },
    {
     "name": "stdout",
     "output_type": "stream",
     "text": [
      "Training until validation scores don't improve for 100 rounds\n",
      "Early stopping, best iteration is:\n",
      "[272]\tvalid_0's auc: 0.70349\n",
      "Training until validation scores don't improve for 100 rounds\n",
      "Early stopping, best iteration is:\n",
      "[173]\tvalid_0's auc: 0.705712\n",
      "Training until validation scores don't improve for 100 rounds\n",
      "Early stopping, best iteration is:\n",
      "[164]\tvalid_0's auc: 0.696649\n",
      "Training until validation scores don't improve for 100 rounds\n",
      "Early stopping, best iteration is:\n",
      "[162]\tvalid_0's auc: 0.693918\n",
      "--- FINISHED \\ whole score: 0.6999 ---\n",
      "56486\n",
      "CPU times: user 4h 55min 35s, sys: 2h 58min 43s, total: 7h 54min 18s\n",
      "Wall time: 25min 3s\n"
     ]
    }
   ],
   "source": [
    "%%time\n",
    "df_pred_all = pd.DataFrame()\n",
    "df_score_all = pd.DataFrame(index=ELAPSED_MIN)\n",
    "models_list_list = []\n",
    "\n",
    "for elapsed_min in ELAPSED_MIN:\n",
    "    print(f'===== {elapsed_min} =====')\n",
    "    train_features, y_train = get_train_all_features(elapsed_min, train_log_list, train_y_list)\n",
    "    test_features = get_test_all_feature(elapsed_min)\n",
    "\n",
    "    df_pred = pd.DataFrame(index=test_features['session_id'])\n",
    "    train_features.drop(columns=['session_id'], inplace=True)\n",
    "    test_features.drop(columns=['session_id'], inplace=True)\n",
    "    \n",
    "    models_list = []\n",
    "    for target in y_train.columns:\n",
    "        if target == 'session_id':\n",
    "            continue\n",
    "        \n",
    "        print(f\"---- id = {target} -----\")\n",
    "        oof, models, score = train_lgbm(train_features, y_train[target])\n",
    "        models_list.append(models)\n",
    "\n",
    "        pred = predict(models, test_features)\n",
    "        df_pred[target] = pred\n",
    "        df_score_all.loc[elapsed_min, target] = score\n",
    "        \n",
    "    models_list_list.append(models_list)\n",
    "    df_pred_all = pd.concat([df_pred_all, df_pred])\n",
    "    print(len(df_pred_all))"
   ]
  },
  {
   "cell_type": "code",
   "execution_count": 45,
   "metadata": {},
   "outputs": [
    {
     "data": {
      "text/html": [
       "<div>\n",
       "<style scoped>\n",
       "    .dataframe tbody tr th:only-of-type {\n",
       "        vertical-align: middle;\n",
       "    }\n",
       "\n",
       "    .dataframe tbody tr th {\n",
       "        vertical-align: top;\n",
       "    }\n",
       "\n",
       "    .dataframe thead th {\n",
       "        text-align: right;\n",
       "    }\n",
       "</style>\n",
       "<table border=\"1\" class=\"dataframe\">\n",
       "  <thead>\n",
       "    <tr style=\"text-align: right;\">\n",
       "      <th></th>\n",
       "      <th>38</th>\n",
       "      <th>110</th>\n",
       "      <th>113</th>\n",
       "      <th>114</th>\n",
       "      <th>134</th>\n",
       "      <th>171</th>\n",
       "      <th>172</th>\n",
       "      <th>173</th>\n",
       "      <th>376</th>\n",
       "      <th>435</th>\n",
       "      <th>467</th>\n",
       "      <th>537</th>\n",
       "      <th>539</th>\n",
       "      <th>629</th>\n",
       "      <th>768</th>\n",
       "    </tr>\n",
       "    <tr>\n",
       "      <th>session_id</th>\n",
       "      <th></th>\n",
       "      <th></th>\n",
       "      <th></th>\n",
       "      <th></th>\n",
       "      <th></th>\n",
       "      <th></th>\n",
       "      <th></th>\n",
       "      <th></th>\n",
       "      <th></th>\n",
       "      <th></th>\n",
       "      <th></th>\n",
       "      <th></th>\n",
       "      <th></th>\n",
       "      <th></th>\n",
       "      <th></th>\n",
       "    </tr>\n",
       "  </thead>\n",
       "  <tbody>\n",
       "    <tr>\n",
       "      <th>663721</th>\n",
       "      <td>0.133550</td>\n",
       "      <td>0.006478</td>\n",
       "      <td>0.034892</td>\n",
       "      <td>0.382323</td>\n",
       "      <td>0.085113</td>\n",
       "      <td>0.018469</td>\n",
       "      <td>0.001858</td>\n",
       "      <td>0.049497</td>\n",
       "      <td>0.168456</td>\n",
       "      <td>0.013727</td>\n",
       "      <td>0.015696</td>\n",
       "      <td>0.004636</td>\n",
       "      <td>0.003747</td>\n",
       "      <td>0.001200</td>\n",
       "      <td>0.033385</td>\n",
       "    </tr>\n",
       "    <tr>\n",
       "      <th>663761</th>\n",
       "      <td>0.191000</td>\n",
       "      <td>0.037274</td>\n",
       "      <td>0.381462</td>\n",
       "      <td>0.386415</td>\n",
       "      <td>0.381542</td>\n",
       "      <td>0.209748</td>\n",
       "      <td>0.420671</td>\n",
       "      <td>0.044696</td>\n",
       "      <td>0.357953</td>\n",
       "      <td>0.013012</td>\n",
       "      <td>0.005327</td>\n",
       "      <td>0.003958</td>\n",
       "      <td>0.434461</td>\n",
       "      <td>0.002866</td>\n",
       "      <td>0.346484</td>\n",
       "    </tr>\n",
       "    <tr>\n",
       "      <th>663763</th>\n",
       "      <td>0.221030</td>\n",
       "      <td>0.013074</td>\n",
       "      <td>0.009459</td>\n",
       "      <td>0.806743</td>\n",
       "      <td>0.422413</td>\n",
       "      <td>0.010293</td>\n",
       "      <td>0.006345</td>\n",
       "      <td>0.021606</td>\n",
       "      <td>0.260295</td>\n",
       "      <td>0.052460</td>\n",
       "      <td>0.075134</td>\n",
       "      <td>0.005283</td>\n",
       "      <td>0.048708</td>\n",
       "      <td>0.008850</td>\n",
       "      <td>0.112513</td>\n",
       "    </tr>\n",
       "    <tr>\n",
       "      <th>663775</th>\n",
       "      <td>0.085148</td>\n",
       "      <td>0.006183</td>\n",
       "      <td>0.016258</td>\n",
       "      <td>0.284300</td>\n",
       "      <td>0.172028</td>\n",
       "      <td>0.050311</td>\n",
       "      <td>0.019513</td>\n",
       "      <td>0.227310</td>\n",
       "      <td>0.062315</td>\n",
       "      <td>0.146752</td>\n",
       "      <td>0.043836</td>\n",
       "      <td>0.019101</td>\n",
       "      <td>0.072228</td>\n",
       "      <td>0.007526</td>\n",
       "      <td>0.149231</td>\n",
       "    </tr>\n",
       "    <tr>\n",
       "      <th>663778</th>\n",
       "      <td>0.187234</td>\n",
       "      <td>0.008064</td>\n",
       "      <td>0.150412</td>\n",
       "      <td>0.133834</td>\n",
       "      <td>0.201519</td>\n",
       "      <td>0.054594</td>\n",
       "      <td>0.007530</td>\n",
       "      <td>0.098917</td>\n",
       "      <td>0.072086</td>\n",
       "      <td>0.037512</td>\n",
       "      <td>0.008211</td>\n",
       "      <td>0.017273</td>\n",
       "      <td>0.017725</td>\n",
       "      <td>0.001582</td>\n",
       "      <td>0.058796</td>\n",
       "    </tr>\n",
       "  </tbody>\n",
       "</table>\n",
       "</div>"
      ],
      "text/plain": [
       "                  38       110       113       114       134       171  \\\n",
       "session_id                                                               \n",
       "663721      0.133550  0.006478  0.034892  0.382323  0.085113  0.018469   \n",
       "663761      0.191000  0.037274  0.381462  0.386415  0.381542  0.209748   \n",
       "663763      0.221030  0.013074  0.009459  0.806743  0.422413  0.010293   \n",
       "663775      0.085148  0.006183  0.016258  0.284300  0.172028  0.050311   \n",
       "663778      0.187234  0.008064  0.150412  0.133834  0.201519  0.054594   \n",
       "\n",
       "                 172       173       376       435       467       537  \\\n",
       "session_id                                                               \n",
       "663721      0.001858  0.049497  0.168456  0.013727  0.015696  0.004636   \n",
       "663761      0.420671  0.044696  0.357953  0.013012  0.005327  0.003958   \n",
       "663763      0.006345  0.021606  0.260295  0.052460  0.075134  0.005283   \n",
       "663775      0.019513  0.227310  0.062315  0.146752  0.043836  0.019101   \n",
       "663778      0.007530  0.098917  0.072086  0.037512  0.008211  0.017273   \n",
       "\n",
       "                 539       629       768  \n",
       "session_id                                \n",
       "663721      0.003747  0.001200  0.033385  \n",
       "663761      0.434461  0.002866  0.346484  \n",
       "663763      0.048708  0.008850  0.112513  \n",
       "663775      0.072228  0.007526  0.149231  \n",
       "663778      0.017725  0.001582  0.058796  "
      ]
     },
     "execution_count": 45,
     "metadata": {},
     "output_type": "execute_result"
    }
   ],
   "source": [
    "df_pred_all.head()"
   ]
  },
  {
   "cell_type": "code",
   "execution_count": 46,
   "metadata": {},
   "outputs": [
    {
     "data": {
      "text/html": [
       "<div>\n",
       "<style scoped>\n",
       "    .dataframe tbody tr th:only-of-type {\n",
       "        vertical-align: middle;\n",
       "    }\n",
       "\n",
       "    .dataframe tbody tr th {\n",
       "        vertical-align: top;\n",
       "    }\n",
       "\n",
       "    .dataframe thead th {\n",
       "        text-align: right;\n",
       "    }\n",
       "</style>\n",
       "<table border=\"1\" class=\"dataframe\">\n",
       "  <thead>\n",
       "    <tr style=\"text-align: right;\">\n",
       "      <th></th>\n",
       "      <th>38</th>\n",
       "      <th>110</th>\n",
       "      <th>113</th>\n",
       "      <th>114</th>\n",
       "      <th>134</th>\n",
       "      <th>171</th>\n",
       "      <th>172</th>\n",
       "      <th>173</th>\n",
       "      <th>376</th>\n",
       "      <th>435</th>\n",
       "      <th>467</th>\n",
       "      <th>537</th>\n",
       "      <th>539</th>\n",
       "      <th>629</th>\n",
       "      <th>768</th>\n",
       "    </tr>\n",
       "  </thead>\n",
       "  <tbody>\n",
       "    <tr>\n",
       "      <th>0</th>\n",
       "      <td>0.793727</td>\n",
       "      <td>0.753904</td>\n",
       "      <td>0.764436</td>\n",
       "      <td>0.747796</td>\n",
       "      <td>0.738256</td>\n",
       "      <td>0.837846</td>\n",
       "      <td>0.853148</td>\n",
       "      <td>0.831501</td>\n",
       "      <td>0.745559</td>\n",
       "      <td>0.861832</td>\n",
       "      <td>0.843064</td>\n",
       "      <td>0.870947</td>\n",
       "      <td>0.826495</td>\n",
       "      <td>0.852753</td>\n",
       "      <td>0.726623</td>\n",
       "    </tr>\n",
       "    <tr>\n",
       "      <th>3</th>\n",
       "      <td>0.786151</td>\n",
       "      <td>0.733534</td>\n",
       "      <td>0.757225</td>\n",
       "      <td>0.740027</td>\n",
       "      <td>0.729752</td>\n",
       "      <td>0.823332</td>\n",
       "      <td>0.829862</td>\n",
       "      <td>0.813898</td>\n",
       "      <td>0.741352</td>\n",
       "      <td>0.836599</td>\n",
       "      <td>0.829325</td>\n",
       "      <td>0.851733</td>\n",
       "      <td>0.802980</td>\n",
       "      <td>0.841050</td>\n",
       "      <td>0.708317</td>\n",
       "    </tr>\n",
       "    <tr>\n",
       "      <th>5</th>\n",
       "      <td>0.785229</td>\n",
       "      <td>0.733240</td>\n",
       "      <td>0.750388</td>\n",
       "      <td>0.735870</td>\n",
       "      <td>0.728453</td>\n",
       "      <td>0.818305</td>\n",
       "      <td>0.820040</td>\n",
       "      <td>0.806238</td>\n",
       "      <td>0.738704</td>\n",
       "      <td>0.826465</td>\n",
       "      <td>0.812565</td>\n",
       "      <td>0.839059</td>\n",
       "      <td>0.794149</td>\n",
       "      <td>0.797371</td>\n",
       "      <td>0.699367</td>\n",
       "    </tr>\n",
       "    <tr>\n",
       "      <th>10</th>\n",
       "      <td>0.783205</td>\n",
       "      <td>0.720399</td>\n",
       "      <td>0.749429</td>\n",
       "      <td>0.742881</td>\n",
       "      <td>0.740534</td>\n",
       "      <td>0.799143</td>\n",
       "      <td>0.798705</td>\n",
       "      <td>0.798273</td>\n",
       "      <td>0.749573</td>\n",
       "      <td>0.809571</td>\n",
       "      <td>0.796596</td>\n",
       "      <td>0.834491</td>\n",
       "      <td>0.782691</td>\n",
       "      <td>0.785224</td>\n",
       "      <td>0.699903</td>\n",
       "    </tr>\n",
       "  </tbody>\n",
       "</table>\n",
       "</div>"
      ],
      "text/plain": [
       "          38       110       113       114       134       171       172  \\\n",
       "0   0.793727  0.753904  0.764436  0.747796  0.738256  0.837846  0.853148   \n",
       "3   0.786151  0.733534  0.757225  0.740027  0.729752  0.823332  0.829862   \n",
       "5   0.785229  0.733240  0.750388  0.735870  0.728453  0.818305  0.820040   \n",
       "10  0.783205  0.720399  0.749429  0.742881  0.740534  0.799143  0.798705   \n",
       "\n",
       "         173       376       435       467       537       539       629  \\\n",
       "0   0.831501  0.745559  0.861832  0.843064  0.870947  0.826495  0.852753   \n",
       "3   0.813898  0.741352  0.836599  0.829325  0.851733  0.802980  0.841050   \n",
       "5   0.806238  0.738704  0.826465  0.812565  0.839059  0.794149  0.797371   \n",
       "10  0.798273  0.749573  0.809571  0.796596  0.834491  0.782691  0.785224   \n",
       "\n",
       "         768  \n",
       "0   0.726623  \n",
       "3   0.708317  \n",
       "5   0.699367  \n",
       "10  0.699903  "
      ]
     },
     "execution_count": 46,
     "metadata": {},
     "output_type": "execute_result"
    }
   ],
   "source": [
    "df_score_all"
   ]
  },
  {
   "cell_type": "code",
   "execution_count": 47,
   "metadata": {},
   "outputs": [
    {
     "name": "stdout",
     "output_type": "stream",
     "text": [
      "0     0.803192\n",
      "3     0.788342\n",
      "5     0.779029\n",
      "10    0.772708\n",
      "dtype: float64\n",
      "- cv = 0.7858180088285697\n"
     ]
    }
   ],
   "source": [
    "cv = df_score_all.mean(axis=1)\n",
    "print(cv)\n",
    "print('- cv =', cv.mean())"
   ]
  },
  {
   "cell_type": "code",
   "execution_count": 48,
   "metadata": {},
   "outputs": [],
   "source": [
    "assert len(df_pred_all) == len(test)"
   ]
  },
  {
   "cell_type": "code",
   "execution_count": 49,
   "metadata": {},
   "outputs": [],
   "source": [
    "submission = pd.merge(test[['session_id']], df_pred_all.reset_index(), on='session_id', how='inner')\n",
    "assert len(submission) == len(test)"
   ]
  },
  {
   "cell_type": "code",
   "execution_count": 50,
   "metadata": {},
   "outputs": [],
   "source": [
    "submission.drop(columns='session_id').to_csv('../outputs/submission.csv', index=False)"
   ]
  },
  {
   "cell_type": "code",
   "execution_count": null,
   "metadata": {},
   "outputs": [],
   "source": []
  },
  {
   "cell_type": "markdown",
   "metadata": {},
   "source": [
    "#### baseline_13: 2020-04-01以降\n",
    "- feat = 208\n",
    "- Wall time: 25min 3s\n",
    "- cv = 0.78581 (0.803/0.788/0.779/0.772)\n",
    "- LB = 0.7304\n",
    "\n",
    "#### baseline_12: 特徴量削減, lr=0.05\n",
    "- feat = 345\n",
    "- Wall time: 2h 18min 19s\n",
    "- cv = 0.82506 (0.835/0.826/0.821/0.816)\n",
    "- LB = 0.7675\n",
    "\n",
    "#### baseline_11: クーポンカテゴリの種類減らす, ユニークユーザー数, 平均単価, ユニーク商品数 \n",
    "- feat = 375\n",
    "- Wall time: 2h 18min 19s\n",
    "- cv = 0.81843 (0.831/0.820/0.814/0.806)\n",
    "- LB = 0.7626\n",
    "\n",
    "#### baseline_10: クーポンカテゴリの表示回数\n",
    "- feat = 412\n",
    "- Wall time: 2h 8min 53s\n",
    "- cv = 0.821003 (0.831/0.823/0.818/0.8103)\n",
    "- LB = 0.7657\n",
    "\n",
    "#### baseline_9-1: 'feature_fraction': 0.6,'bagging_fraction': 0.6,'bagging_freq': 2,\n",
    "- feat = 333\n",
    "- Wall time: 2h 2min 14s\n",
    "- cv = 0.81961 (0.829/0.822/0.816/0.809)\n",
    "- LB = 0.7658\n",
    "\n",
    "#### baseline_9: 来店間隔、回数、曜日x時間の来店者数\n",
    "- feat = 333\n",
    "- Wall time: 2h 9min 51s\n",
    "- cv = 0.82118 (0.831/0.824/0.818/0.810)\n",
    "- LB = 0.7665\n",
    "\n",
    "#### baseline_8: クーポン発行とターゲットの購買実績\n",
    "- feat = 344\n",
    "- Wall time: 2h 5min 13s\n",
    "- cv = 0.820398 (0.832/0.822/0.817/0.809)\n",
    "- LB = 0.7484\n",
    "\n",
    "#### baseline_7: userごとのカテゴリの過去の購買実績\n",
    "- feat = 329\n",
    "- Wall time: 1h 59min 16s\n",
    "- cv = 0.82148 (0.832/0.824/0.818/0.810)\n",
    "- LB = 0.7671\n",
    "\n",
    "#### baseline_6: sesssion内のターゲットの購買\n",
    "- feat = 89\n",
    "- Wall time: 37min 47s\n",
    "- cv = 0.66015\n",
    "- LB = 0.6247\n",
    "\n",
    "#### baseline_5\n",
    "- feat = 74\n",
    "- Wall time: 39min 18s\n",
    "- cv = 0.66859\n",
    "- LB = 0.6230"
   ]
  },
  {
   "cell_type": "code",
   "execution_count": null,
   "metadata": {},
   "outputs": [],
   "source": []
  }
 ],
 "metadata": {
  "kernelspec": {
   "display_name": "Python 3",
   "language": "python",
   "name": "python3"
  },
  "language_info": {
   "codemirror_mode": {
    "name": "ipython",
    "version": 3
   },
   "file_extension": ".py",
   "mimetype": "text/x-python",
   "name": "python",
   "nbconvert_exporter": "python",
   "pygments_lexer": "ipython3",
   "version": "3.8.3"
  }
 },
 "nbformat": 4,
 "nbformat_minor": 4
}
