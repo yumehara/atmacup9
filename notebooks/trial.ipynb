{
 "cells": [
  {
   "cell_type": "code",
   "execution_count": 1,
   "metadata": {},
   "outputs": [],
   "source": [
    "import numpy as np\n",
    "import matplotlib.pyplot as plt\n",
    "import pandas as pd\n",
    "import feather\n",
    "import datetime\n",
    "from matplotlib_venn import venn2\n",
    "from sklearn import preprocessing\n",
    "from sklearn.model_selection import KFold\n",
    "from sklearn.model_selection import StratifiedKFold\n",
    "import lightgbm as lgbm\n",
    "from sklearn.model_selection import train_test_split\n",
    "from sklearn.metrics import roc_auc_score\n",
    "pd.set_option('display.max_Columns', 100)"
   ]
  },
  {
   "cell_type": "code",
   "execution_count": 2,
   "metadata": {},
   "outputs": [],
   "source": [
    "cartlog = pd.read_feather('../inputs/cartlog.f')\n",
    "product_master = pd.read_feather('../inputs/product_master.f')\n",
    "meta = pd.read_feather('../inputs/meta.f')\n",
    "user_master = pd.read_feather('../inputs/user_master.f')\n",
    "test = pd.read_csv('../inputs/test.csv')\n",
    "display_action_id = pd.read_csv('../inputs/display_action_id.csv')\n",
    "\n",
    "product_master['JAN'] = product_master['JAN'].astype(str)"
   ]
  },
  {
   "cell_type": "code",
   "execution_count": 3,
   "metadata": {},
   "outputs": [
    {
     "name": "stdout",
     "output_type": "stream",
     "text": [
      "56486\n"
     ]
    }
   ],
   "source": [
    "test_sessions = test[\"session_id\"].unique()\n",
    "print(len(test_sessions))\n",
    "test_input_log = cartlog[cartlog[\"session_id\"].isin(test_sessions)]"
   ]
  },
  {
   "cell_type": "code",
   "execution_count": 4,
   "metadata": {},
   "outputs": [],
   "source": [
    "target_category = [\n",
    "    38,  # アイスクリーム__ノベルティー\n",
    "    110,  # スナック・キャンディー__ガム\n",
    "    113,  # スナック・キャンディー__シリアル\n",
    "    114,  # スナック・キャンディー__スナック\n",
    "    134,  # チョコ・ビスクラ__チョコレート\n",
    "    171,  # ビール系__RTD\n",
    "    172,  # ビール系__ノンアルコール\n",
    "    173,  # ビール系__ビール系\n",
    "    376,  # 和菓子__米菓\n",
    "    435,  # 大型PET__無糖茶（大型PET）\n",
    "    467,  # 小型PET__コーヒー（小型PET）\n",
    "    537,  # 水・炭酸水__大型PET（炭酸水）\n",
    "    539,  # 水・炭酸水__小型PET（炭酸水）\n",
    "    629,  # 缶飲料__コーヒー（缶）\n",
    "    768,  # 麺類__カップ麺\n",
    "]"
   ]
  },
  {
   "cell_type": "code",
   "execution_count": 5,
   "metadata": {},
   "outputs": [
    {
     "name": "stdout",
     "output_type": "stream",
     "text": [
      "2020-08-01以前:  663708\n",
      "購買が発生:  618462\n",
      "10分以上:  404825\n",
      "積集合:  391383\n",
      "全trainのログ:  10826062\n"
     ]
    }
   ],
   "source": [
    "# 2020-08-01以前で10分以上経過し購買が発生したセッションにtrainデータを絞る\n",
    "tmp_sessions = meta[meta['date'] < '2020-08-01']['session_id'].unique()\n",
    "tmp_log = cartlog[cartlog[\"session_id\"].isin(tmp_sessions)]\n",
    "print('2020-08-01以前: ', len(tmp_sessions))\n",
    "\n",
    "# 購買が発生したセッション\n",
    "payment_sessions = set(tmp_log[tmp_log['is_payment']==1]['session_id'].unique())\n",
    "print('購買が発生: ', len(payment_sessions))\n",
    "# 10分以上のセッション\n",
    "over10min_sessions = set(tmp_log[tmp_log['spend_time']>=600]['session_id'].unique())\n",
    "print('10分以上: ', len(over10min_sessions))\n",
    "# 積集合\n",
    "all_train_sessions = payment_sessions & over10min_sessions\n",
    "print('積集合: ', len(all_train_sessions))\n",
    "\n",
    "# 10分以上の全trainのログデータ\n",
    "all_train_log = tmp_log[tmp_log[\"session_id\"].isin(all_train_sessions)]\n",
    "print('全trainのログ: ', len(all_train_log))"
   ]
  },
  {
   "cell_type": "code",
   "execution_count": 6,
   "metadata": {},
   "outputs": [],
   "source": [
    "class RetailDataset:\n",
    "    def __init__(self, thres_sec, meta):\n",
    "        self.thres_sec = thres_sec\n",
    "        self.meta = meta.copy()\n",
    "        self.meta['time_elapsed_sec'] = self.meta['time_elapsed'] * 60\n",
    "        self.meta.loc[self.meta['time_elapsed_sec'].isnull(), 'time_elapsed_sec'] = thres_sec\n",
    "        \n",
    "        # all_train_logの中で、指定時間より前のログのみを抽出　-> public_train_log, train_sessions\n",
    "        merge_train = pd.merge(all_train_log, self.meta[[\"session_id\", \"time_elapsed_sec\"]], on=[\"session_id\"], how=\"inner\")\n",
    "        self.public_train_log = merge_train[merge_train['spend_time'] <= merge_train['time_elapsed_sec']]\n",
    "        self.train_sessions = self.public_train_log[\"session_id\"].unique()\n",
    "        \n",
    "    def get_train_input_log(self) -> pd.DataFrame:\n",
    "        return self.public_train_log\n",
    "\n",
    "    def agg_payment(self, cartlog) -> pd.DataFrame:\n",
    "        \"\"\"セッションごと・商品ごとの購買個数を集計する\"\"\"\n",
    "        # JANコード (vale_1)ごとに商品の購入個数(n_items)を足し算\n",
    "        agg = cartlog.loc[cartlog[\"kind_1\"] == \"商品\"].groupby([\"session_id\", \"value_1\"])[\"n_items\"].sum().reset_index()\n",
    "        return agg.rename(columns={\"value_1\": \"JAN\"})\n",
    "\n",
    "    def get_train_target(self) -> pd.DataFrame:\n",
    "        \"\"\"学習で使用するセッションの目的変数を取得する\"\"\"\n",
    "        train_target = pd.DataFrame(\n",
    "            index=self.train_sessions,\n",
    "        )\n",
    "        train_target.index.name = \"session_id\"\n",
    "\n",
    "        # 全データから購買個数を集計する\n",
    "        train_item_num = self.agg_payment(all_train_log)\n",
    "        train_item_num_cate = pd.merge(train_item_num, product_master[[\"JAN\", \"category_id\"]], on=\"JAN\", how=\"inner\")\n",
    "        train_item_num_cate = train_item_num_cate[train_item_num_cate['category_id'].isin(target_category)]\n",
    "        train_target_pos = train_item_num_cate.groupby([\"session_id\", \"category_id\"])[\"n_items\"].sum().unstack().fillna(0).astype(int)\n",
    "        train_target_pos[train_target_pos > 0] = 1\n",
    "        train_target_pos[train_target_pos <= 0] = 0\n",
    "\n",
    "        return train_target.join(train_target_pos).fillna(0).reset_index()"
   ]
  },
  {
   "cell_type": "code",
   "execution_count": 7,
   "metadata": {},
   "outputs": [],
   "source": [
    "def get_train_log(elapsed_min):\n",
    "    dataset = RetailDataset(elapsed_min*60, meta)\n",
    "    train_input_log = dataset.get_train_input_log()\n",
    "    y_train = dataset.get_train_target()\n",
    "    print('train_session', y_train.shape)\n",
    "    return train_input_log, y_train"
   ]
  },
  {
   "cell_type": "code",
   "execution_count": 8,
   "metadata": {},
   "outputs": [],
   "source": [
    "ELAPSED_MIN = [0, 3, 5, 10]\n",
    "# ELAPSED_MIN = [5]"
   ]
  },
  {
   "cell_type": "code",
   "execution_count": 9,
   "metadata": {},
   "outputs": [],
   "source": [
    "def save_train_log():\n",
    "    for elap_min in ELAPSED_MIN:\n",
    "        train_log, train_y = get_train_log(elap_min)\n",
    "        train_log = train_log.reset_index(drop=True)\n",
    "        train_y = train_y.reset_index(drop=True)\n",
    "        train_y.columns = [str(c) for c in train_y.columns]\n",
    "        train_log.to_feather('../inputs/train2_log_{}.f'.format(elap_min))\n",
    "        train_y.to_feather('../inputs/train2_y_{}.f'.format(elap_min))"
   ]
  },
  {
   "cell_type": "code",
   "execution_count": 10,
   "metadata": {},
   "outputs": [],
   "source": [
    "def load_train_log():\n",
    "    train_log = {}\n",
    "    train_y = {}\n",
    "    for elap_min in ELAPSED_MIN:\n",
    "        log = pd.read_feather('../inputs/train2_log_{}.f'.format(elap_min))\n",
    "        y = pd.read_feather('../inputs/train2_y_{}.f'.format(elap_min))\n",
    "        train_log[elap_min] = log\n",
    "        train_y[elap_min] = y\n",
    "    return train_log, train_y"
   ]
  },
  {
   "cell_type": "code",
   "execution_count": 11,
   "metadata": {},
   "outputs": [],
   "source": [
    "# save_train_log()"
   ]
  },
  {
   "cell_type": "markdown",
   "metadata": {},
   "source": [
    "- 0, train_session (378594, 16)\n",
    "- 3, train_session (389649, 16)\n",
    "- 5, train_session (390621, 16)\n",
    "- 10, train_session (391074, 16)"
   ]
  },
  {
   "cell_type": "markdown",
   "metadata": {},
   "source": [
    "### ユーザ情報"
   ]
  },
  {
   "cell_type": "code",
   "execution_count": 12,
   "metadata": {},
   "outputs": [],
   "source": [
    "user_features = pd.merge(meta[[\"session_id\", \"user_id\"]], user_master, on=\"user_id\", how=\"left\").drop(columns=[\"user_id\"])\n",
    "user_features.loc[user_features['age'] >= 80, 'age'] = np.NaN\n",
    "user_features.loc[user_features['age'] < 10, 'age'] = np.NaN\n",
    "user_features.loc[user_features['gender'] > 1, 'gender'] = np.NaN"
   ]
  },
  {
   "cell_type": "markdown",
   "metadata": {},
   "source": [
    "### メタ情報"
   ]
  },
  {
   "cell_type": "code",
   "execution_count": 13,
   "metadata": {},
   "outputs": [],
   "source": [
    "meta_features = meta.copy()\n",
    "meta_features['year'] = meta_features['date'].dt.year\n",
    "meta_features['month'] = meta_features['date'].dt.month\n",
    "meta_features['day'] = meta_features['date'].dt.day\n",
    "meta_features['dow'] = meta_features['date'].dt.dayofweek\n",
    "meta_features['doy'] = meta_features['date'].dt.dayofyear\n",
    "le = preprocessing.LabelEncoder()\n",
    "meta_features['userid'] = le.fit_transform(meta_features['user_id'])\n",
    "meta_features.drop(columns=['user_id', 'date', 'time_elapsed', 'date_str'], inplace=True)"
   ]
  },
  {
   "cell_type": "markdown",
   "metadata": {},
   "source": [
    "### ディスプレイアクション"
   ]
  },
  {
   "cell_type": "code",
   "execution_count": 14,
   "metadata": {},
   "outputs": [],
   "source": [
    "disp_name_dic = {}\n",
    "for i, disp in enumerate(display_action_id['display_name'].unique()):\n",
    "    disp_name_dic[disp] = 'disp_cnt_{}'.format(i)\n",
    "    \n",
    "act_name_dic = {}\n",
    "for i, action in enumerate(display_action_id['action_name'].unique()):\n",
    "    act_name_dic[action] = 'act_cnt_{}'.format(i)"
   ]
  },
  {
   "cell_type": "code",
   "execution_count": 15,
   "metadata": {},
   "outputs": [],
   "source": [
    "def get_display_name_feature(input_log):\n",
    "    merge = pd.merge(input_log, display_action_id, on='display_action_id', how='left')\n",
    "    disp_group_count = merge.groupby(['session_id', 'display_name']).size().reset_index().rename(columns={0:'disp_name_count'})\n",
    "    disp_name_pivot = disp_group_count.pivot_table(index='session_id', columns='display_name', values='disp_name_count', aggfunc='sum')\n",
    "    disp_name_pivot = disp_name_pivot.reset_index().fillna(0).rename(columns=disp_name_dic)\n",
    "    \n",
    "    disp_out = disp_name_pivot[['session_id']].copy()\n",
    "    for val in disp_name_dic.values():\n",
    "        disp_out[val] = 0\n",
    "    \n",
    "    for col in disp_name_pivot.columns:\n",
    "        if col == 'session_id':\n",
    "            continue\n",
    "        disp_out[col] = disp_name_pivot[col]\n",
    "    \n",
    "    return disp_out"
   ]
  },
  {
   "cell_type": "code",
   "execution_count": 16,
   "metadata": {},
   "outputs": [],
   "source": [
    "def get_action_name_feature(input_log):\n",
    "    merge = pd.merge(input_log, display_action_id, on='display_action_id', how='left')\n",
    "    act_group_count = merge.groupby(['session_id', 'action_name']).size().reset_index().rename(columns={0:'act_name_count'})\n",
    "    act_name_pivot = act_group_count.pivot_table(index='session_id', columns='action_name', values='act_name_count', aggfunc='sum')\n",
    "    act_name_pivot = act_name_pivot.reset_index().fillna(0).rename(columns=act_name_dic)\n",
    "    \n",
    "    act_out = act_name_pivot[['session_id']].copy()\n",
    "    for val in act_name_dic.values():\n",
    "        act_out[val] = 0\n",
    "    \n",
    "    for col in act_name_pivot.columns:\n",
    "        if col == 'session_id':\n",
    "            continue\n",
    "        act_out[col] = act_name_pivot[col]\n",
    "    \n",
    "    return act_out"
   ]
  },
  {
   "cell_type": "markdown",
   "metadata": {},
   "source": [
    "### セッション単位の特徴量"
   ]
  },
  {
   "cell_type": "code",
   "execution_count": 17,
   "metadata": {},
   "outputs": [],
   "source": [
    "def get_session_kind_group(input_log):\n",
    "    kind_name ={\n",
    "        'クーポン': 'coupon',\n",
    "        '会計': 'kaikei',\n",
    "        'キー': 'key',\n",
    "        'カテゴリ': 'categry',\n",
    "        'バーコードスキャン': 'barcode',\n",
    "        'UUID': 'uuid',\n",
    "        '使用ポイント': 'usedpoint',\n",
    "        '確認': 'confirm',\n",
    "        'ブランドスイッチ': 'bland',\n",
    "        'レシピ': 'recipe',\n",
    "        'スマホスキャン': 'smartphone',\n",
    "        '磁気スキャン': 'magnetic',\n",
    "        'レコメンド': 'recommend',\n",
    "        '倍率ポイント': 'point',\n",
    "    }\n",
    "    group_count = input_log[input_log['kind_1'] == '商品'].groupby([\"session_id\"]).size().rename('group_count_'+'item')\n",
    "    for kind, name in kind_name.items():\n",
    "        tmp = input_log[input_log['kind_1'] == kind].groupby([\"session_id\"]).size().rename('group_count_'+name)\n",
    "        group_count = pd.concat([group_count, tmp], axis=1)\n",
    "        \n",
    "    return group_count.reset_index()"
   ]
  },
  {
   "cell_type": "code",
   "execution_count": 18,
   "metadata": {},
   "outputs": [],
   "source": [
    "def get_session_info(input_log):\n",
    "    # アクション数\n",
    "    n_actions = input_log.groupby([\"session_id\"]).size().rename(\"n_actions\")\n",
    "    # 経過時間の平均\n",
    "    mean_spend_time = input_log.groupby([\"session_id\"])[\"spend_time\"].mean()\n",
    "    \n",
    "    session_features = pd.concat([\n",
    "        n_actions,\n",
    "        mean_spend_time,\n",
    "    ], axis=1)\n",
    "    return session_features.reset_index()"
   ]
  },
  {
   "cell_type": "markdown",
   "metadata": {},
   "source": [
    "### セッション単位で集計"
   ]
  },
  {
   "cell_type": "code",
   "execution_count": 19,
   "metadata": {},
   "outputs": [],
   "source": [
    "def get_session_features(input_log):\n",
    "    df_ses = pd.DataFrame(columns=['session_id'])\n",
    "    \n",
    "    session_feat = [\n",
    "        get_session_info(input_log),\n",
    "        get_session_kind_group(input_log),\n",
    "        get_display_name_feature(input_log),\n",
    "        get_action_name_feature(input_log),\n",
    "    ]\n",
    "    \n",
    "    for feat in session_feat:\n",
    "        df_ses = pd.merge(df_ses, feat, on='session_id', how='outer')\n",
    "        \n",
    "    return df_ses"
   ]
  },
  {
   "cell_type": "markdown",
   "metadata": {},
   "source": [
    "### 特徴量を集約する"
   ]
  },
  {
   "cell_type": "code",
   "execution_count": 20,
   "metadata": {},
   "outputs": [],
   "source": [
    "def merge_features(input_log, session):\n",
    "    feat_list = [\n",
    "        get_session_features(input_log),\n",
    "        user_features,\n",
    "        meta_features,\n",
    "    ]\n",
    "    out = pd.DataFrame({\"session_id\": session})\n",
    "    for feat in feat_list:\n",
    "        out = pd.merge(out, feat, on=\"session_id\", how=\"left\")\n",
    "\n",
    "    assert len(session) == len(out)\n",
    "    return out"
   ]
  },
  {
   "cell_type": "code",
   "execution_count": 21,
   "metadata": {},
   "outputs": [],
   "source": [
    "def get_train_all_features(elapsed_min, train_log_list, train_y_list):\n",
    "    train_input_log = train_log_list[elapsed_min]\n",
    "    y_train = train_y_list[elapsed_min]\n",
    "    \n",
    "    train_features = merge_features(train_input_log, y_train['session_id'])\n",
    "    print('train_features', train_features.shape)\n",
    "    return train_features, y_train"
   ]
  },
  {
   "cell_type": "code",
   "execution_count": 22,
   "metadata": {},
   "outputs": [],
   "source": [
    "def get_test_all_feature(elapsed_min):\n",
    "    test_meta = meta[meta['session_id'].isin(test_sessions)]\n",
    "    test_meta = test_meta[test_meta['time_elapsed'] == elapsed_min]\n",
    "    test_input_elapsed = pd.merge(test_input_log, test_meta[['session_id']], on='session_id', how='left')\n",
    "    \n",
    "    test_features = merge_features(test_input_elapsed, test_meta['session_id'])\n",
    "    print('test_features', test_features.shape)\n",
    "    return test_features"
   ]
  },
  {
   "cell_type": "code",
   "execution_count": 23,
   "metadata": {},
   "outputs": [],
   "source": [
    "n_fold = 4"
   ]
  },
  {
   "cell_type": "code",
   "execution_count": 24,
   "metadata": {},
   "outputs": [],
   "source": [
    "lgbm_param = {\n",
    "    'objective' : 'binary',\n",
    "    'boosting_type': 'gbdt',\n",
    "    'metric': 'auc',\n",
    "    'seed' : 0,\n",
    "    'learning_rate':  0.1,\n",
    "#   'max_depth': 6,\n",
    "    'feature_fraction': 0.6,\n",
    "    'bagging_fraction': 0.8,\n",
    "    'bagging_freq': 5,\n",
    "    'verbose': -1\n",
    "}"
   ]
  },
  {
   "cell_type": "code",
   "execution_count": 25,
   "metadata": {},
   "outputs": [],
   "source": [
    "def train_lgbm(X, y, params=lgbm_param):\n",
    "\n",
    "    fold = StratifiedKFold(n_splits=n_fold, shuffle=True, random_state=0)\n",
    "    cv = fold.split(X, y)\n",
    "    \n",
    "    models = []\n",
    "    oof_pred = np.zeros_like(y, dtype=np.float)\n",
    "    \n",
    "    cat_feat = ['age', 'gender', 'dow']\n",
    "\n",
    "    for i, (idx_train, idx_valid) in enumerate(cv): \n",
    "        x_train, y_train = X.iloc[idx_train], y.iloc[idx_train]\n",
    "        x_valid, y_valid = X.iloc[idx_valid], y.iloc[idx_valid]\n",
    "        \n",
    "        lgbm_train = lgbm.Dataset(x_train, y_train, categorical_feature = cat_feat)\n",
    "        lgbm_eval = lgbm.Dataset(x_valid, y_valid, reference=lgbm_train, categorical_feature = cat_feat)\n",
    "        \n",
    "        lgbm_model = lgbm.train(params, \n",
    "                                                    lgbm_train, \n",
    "                                                    valid_sets=lgbm_eval,\n",
    "                                                    categorical_feature = cat_feat,\n",
    "                                                    num_boost_round=10000,\n",
    "                                                    early_stopping_rounds=100,\n",
    "                                                    verbose_eval=-1)\n",
    "        y_pred = lgbm_model.predict(x_valid, num_iteration=lgbm_model.best_iteration)\n",
    "        \n",
    "        oof_pred[idx_valid] = y_pred\n",
    "        models.append(lgbm_model)\n",
    "\n",
    "    score = roc_auc_score(y, oof_pred)\n",
    "    print('--- FINISHED \\ whole score: {:.4f} ---'.format(score))\n",
    "    return oof_pred, models, score"
   ]
  },
  {
   "cell_type": "code",
   "execution_count": 26,
   "metadata": {},
   "outputs": [],
   "source": [
    "def predict(models, feature):\n",
    "    pred_list = []\n",
    "    for i, model in enumerate(models):\n",
    "        pred = model.predict(feature, num_iteration = model.best_iteration)\n",
    "        pred_list.append(pred)\n",
    "    \n",
    "    score = np.mean(pred_list, axis=0)\n",
    "    return score"
   ]
  },
  {
   "cell_type": "code",
   "execution_count": 27,
   "metadata": {},
   "outputs": [],
   "source": [
    "train_log_list, train_y_list = load_train_log()"
   ]
  },
  {
   "cell_type": "code",
   "execution_count": 28,
   "metadata": {
    "scrolled": false
   },
   "outputs": [
    {
     "name": "stdout",
     "output_type": "stream",
     "text": [
      "===== 0 =====\n",
      "train_features (378594, 74)\n",
      "test_features (14277, 74)\n",
      "---- id = 38 -----\n"
     ]
    },
    {
     "name": "stderr",
     "output_type": "stream",
     "text": [
      "/home/umhrysnb/anaconda3/lib/python3.8/site-packages/lightgbm/basic.py:1286: UserWarning: Overriding the parameters from Reference Dataset.\n",
      "  warnings.warn('Overriding the parameters from Reference Dataset.')\n",
      "/home/umhrysnb/anaconda3/lib/python3.8/site-packages/lightgbm/basic.py:1098: UserWarning: categorical_column in param dict is overridden.\n",
      "  warnings.warn('{} in param dict is overridden.'.format(cat_alias))\n"
     ]
    },
    {
     "name": "stdout",
     "output_type": "stream",
     "text": [
      "Training until validation scores don't improve for 100 rounds\n",
      "Early stopping, best iteration is:\n",
      "[968]\tvalid_0's auc: 0.676063\n",
      "Training until validation scores don't improve for 100 rounds\n",
      "Early stopping, best iteration is:\n",
      "[1193]\tvalid_0's auc: 0.679391\n",
      "Training until validation scores don't improve for 100 rounds\n",
      "Early stopping, best iteration is:\n",
      "[954]\tvalid_0's auc: 0.683738\n",
      "Training until validation scores don't improve for 100 rounds\n",
      "Early stopping, best iteration is:\n",
      "[1052]\tvalid_0's auc: 0.686359\n",
      "--- FINISHED \\ whole score: 0.6813 ---\n",
      "---- id = 110 -----\n"
     ]
    },
    {
     "name": "stderr",
     "output_type": "stream",
     "text": [
      "/home/umhrysnb/anaconda3/lib/python3.8/site-packages/lightgbm/basic.py:1286: UserWarning: Overriding the parameters from Reference Dataset.\n",
      "  warnings.warn('Overriding the parameters from Reference Dataset.')\n",
      "/home/umhrysnb/anaconda3/lib/python3.8/site-packages/lightgbm/basic.py:1098: UserWarning: categorical_column in param dict is overridden.\n",
      "  warnings.warn('{} in param dict is overridden.'.format(cat_alias))\n"
     ]
    },
    {
     "name": "stdout",
     "output_type": "stream",
     "text": [
      "Training until validation scores don't improve for 100 rounds\n",
      "Early stopping, best iteration is:\n",
      "[73]\tvalid_0's auc: 0.637212\n",
      "Training until validation scores don't improve for 100 rounds\n",
      "Early stopping, best iteration is:\n",
      "[332]\tvalid_0's auc: 0.63639\n",
      "Training until validation scores don't improve for 100 rounds\n",
      "Early stopping, best iteration is:\n",
      "[214]\tvalid_0's auc: 0.663651\n",
      "Training until validation scores don't improve for 100 rounds\n",
      "Early stopping, best iteration is:\n",
      "[85]\tvalid_0's auc: 0.638034\n",
      "--- FINISHED \\ whole score: 0.6429 ---\n",
      "---- id = 113 -----\n"
     ]
    },
    {
     "name": "stderr",
     "output_type": "stream",
     "text": [
      "/home/umhrysnb/anaconda3/lib/python3.8/site-packages/lightgbm/basic.py:1286: UserWarning: Overriding the parameters from Reference Dataset.\n",
      "  warnings.warn('Overriding the parameters from Reference Dataset.')\n",
      "/home/umhrysnb/anaconda3/lib/python3.8/site-packages/lightgbm/basic.py:1098: UserWarning: categorical_column in param dict is overridden.\n",
      "  warnings.warn('{} in param dict is overridden.'.format(cat_alias))\n"
     ]
    },
    {
     "name": "stdout",
     "output_type": "stream",
     "text": [
      "Training until validation scores don't improve for 100 rounds\n",
      "Early stopping, best iteration is:\n",
      "[410]\tvalid_0's auc: 0.645349\n",
      "Training until validation scores don't improve for 100 rounds\n",
      "Early stopping, best iteration is:\n",
      "[335]\tvalid_0's auc: 0.635873\n",
      "Training until validation scores don't improve for 100 rounds\n",
      "Early stopping, best iteration is:\n",
      "[68]\tvalid_0's auc: 0.635054\n",
      "Training until validation scores don't improve for 100 rounds\n",
      "Early stopping, best iteration is:\n",
      "[315]\tvalid_0's auc: 0.642069\n",
      "--- FINISHED \\ whole score: 0.6390 ---\n",
      "---- id = 114 -----\n"
     ]
    },
    {
     "name": "stderr",
     "output_type": "stream",
     "text": [
      "/home/umhrysnb/anaconda3/lib/python3.8/site-packages/lightgbm/basic.py:1286: UserWarning: Overriding the parameters from Reference Dataset.\n",
      "  warnings.warn('Overriding the parameters from Reference Dataset.')\n",
      "/home/umhrysnb/anaconda3/lib/python3.8/site-packages/lightgbm/basic.py:1098: UserWarning: categorical_column in param dict is overridden.\n",
      "  warnings.warn('{} in param dict is overridden.'.format(cat_alias))\n"
     ]
    },
    {
     "name": "stdout",
     "output_type": "stream",
     "text": [
      "Training until validation scores don't improve for 100 rounds\n",
      "Early stopping, best iteration is:\n",
      "[883]\tvalid_0's auc: 0.63732\n",
      "Training until validation scores don't improve for 100 rounds\n",
      "Early stopping, best iteration is:\n",
      "[450]\tvalid_0's auc: 0.632694\n",
      "Training until validation scores don't improve for 100 rounds\n",
      "Early stopping, best iteration is:\n",
      "[330]\tvalid_0's auc: 0.631684\n",
      "Training until validation scores don't improve for 100 rounds\n",
      "Early stopping, best iteration is:\n",
      "[625]\tvalid_0's auc: 0.635073\n",
      "--- FINISHED \\ whole score: 0.6342 ---\n",
      "---- id = 134 -----\n"
     ]
    },
    {
     "name": "stderr",
     "output_type": "stream",
     "text": [
      "/home/umhrysnb/anaconda3/lib/python3.8/site-packages/lightgbm/basic.py:1286: UserWarning: Overriding the parameters from Reference Dataset.\n",
      "  warnings.warn('Overriding the parameters from Reference Dataset.')\n",
      "/home/umhrysnb/anaconda3/lib/python3.8/site-packages/lightgbm/basic.py:1098: UserWarning: categorical_column in param dict is overridden.\n",
      "  warnings.warn('{} in param dict is overridden.'.format(cat_alias))\n"
     ]
    },
    {
     "name": "stdout",
     "output_type": "stream",
     "text": [
      "Training until validation scores don't improve for 100 rounds\n",
      "Early stopping, best iteration is:\n",
      "[329]\tvalid_0's auc: 0.621511\n",
      "Training until validation scores don't improve for 100 rounds\n",
      "Early stopping, best iteration is:\n",
      "[1117]\tvalid_0's auc: 0.620175\n",
      "Training until validation scores don't improve for 100 rounds\n",
      "Early stopping, best iteration is:\n",
      "[266]\tvalid_0's auc: 0.620765\n",
      "Training until validation scores don't improve for 100 rounds\n",
      "Early stopping, best iteration is:\n",
      "[434]\tvalid_0's auc: 0.620862\n",
      "--- FINISHED \\ whole score: 0.6205 ---\n",
      "---- id = 171 -----\n"
     ]
    },
    {
     "name": "stderr",
     "output_type": "stream",
     "text": [
      "/home/umhrysnb/anaconda3/lib/python3.8/site-packages/lightgbm/basic.py:1286: UserWarning: Overriding the parameters from Reference Dataset.\n",
      "  warnings.warn('Overriding the parameters from Reference Dataset.')\n",
      "/home/umhrysnb/anaconda3/lib/python3.8/site-packages/lightgbm/basic.py:1098: UserWarning: categorical_column in param dict is overridden.\n",
      "  warnings.warn('{} in param dict is overridden.'.format(cat_alias))\n"
     ]
    },
    {
     "name": "stdout",
     "output_type": "stream",
     "text": [
      "Training until validation scores don't improve for 100 rounds\n",
      "Early stopping, best iteration is:\n",
      "[1515]\tvalid_0's auc: 0.704697\n",
      "Training until validation scores don't improve for 100 rounds\n",
      "Early stopping, best iteration is:\n",
      "[1278]\tvalid_0's auc: 0.705795\n",
      "Training until validation scores don't improve for 100 rounds\n",
      "Early stopping, best iteration is:\n",
      "[1114]\tvalid_0's auc: 0.707157\n",
      "Training until validation scores don't improve for 100 rounds\n",
      "Early stopping, best iteration is:\n",
      "[969]\tvalid_0's auc: 0.705157\n",
      "--- FINISHED \\ whole score: 0.7056 ---\n",
      "---- id = 172 -----\n"
     ]
    },
    {
     "name": "stderr",
     "output_type": "stream",
     "text": [
      "/home/umhrysnb/anaconda3/lib/python3.8/site-packages/lightgbm/basic.py:1286: UserWarning: Overriding the parameters from Reference Dataset.\n",
      "  warnings.warn('Overriding the parameters from Reference Dataset.')\n",
      "/home/umhrysnb/anaconda3/lib/python3.8/site-packages/lightgbm/basic.py:1098: UserWarning: categorical_column in param dict is overridden.\n",
      "  warnings.warn('{} in param dict is overridden.'.format(cat_alias))\n"
     ]
    },
    {
     "name": "stdout",
     "output_type": "stream",
     "text": [
      "Training until validation scores don't improve for 100 rounds\n",
      "Early stopping, best iteration is:\n",
      "[409]\tvalid_0's auc: 0.686995\n",
      "Training until validation scores don't improve for 100 rounds\n",
      "Early stopping, best iteration is:\n",
      "[421]\tvalid_0's auc: 0.70139\n",
      "Training until validation scores don't improve for 100 rounds\n",
      "Early stopping, best iteration is:\n",
      "[1025]\tvalid_0's auc: 0.700821\n",
      "Training until validation scores don't improve for 100 rounds\n",
      "Early stopping, best iteration is:\n",
      "[819]\tvalid_0's auc: 0.703903\n",
      "--- FINISHED \\ whole score: 0.6973 ---\n",
      "---- id = 173 -----\n"
     ]
    },
    {
     "name": "stderr",
     "output_type": "stream",
     "text": [
      "/home/umhrysnb/anaconda3/lib/python3.8/site-packages/lightgbm/basic.py:1286: UserWarning: Overriding the parameters from Reference Dataset.\n",
      "  warnings.warn('Overriding the parameters from Reference Dataset.')\n",
      "/home/umhrysnb/anaconda3/lib/python3.8/site-packages/lightgbm/basic.py:1098: UserWarning: categorical_column in param dict is overridden.\n",
      "  warnings.warn('{} in param dict is overridden.'.format(cat_alias))\n"
     ]
    },
    {
     "name": "stdout",
     "output_type": "stream",
     "text": [
      "Training until validation scores don't improve for 100 rounds\n",
      "Early stopping, best iteration is:\n",
      "[1552]\tvalid_0's auc: 0.700856\n",
      "Training until validation scores don't improve for 100 rounds\n",
      "Early stopping, best iteration is:\n",
      "[1331]\tvalid_0's auc: 0.694084\n",
      "Training until validation scores don't improve for 100 rounds\n",
      "Early stopping, best iteration is:\n",
      "[978]\tvalid_0's auc: 0.692847\n",
      "Training until validation scores don't improve for 100 rounds\n",
      "Early stopping, best iteration is:\n",
      "[1473]\tvalid_0's auc: 0.694392\n",
      "--- FINISHED \\ whole score: 0.6955 ---\n",
      "---- id = 376 -----\n"
     ]
    },
    {
     "name": "stderr",
     "output_type": "stream",
     "text": [
      "/home/umhrysnb/anaconda3/lib/python3.8/site-packages/lightgbm/basic.py:1286: UserWarning: Overriding the parameters from Reference Dataset.\n",
      "  warnings.warn('Overriding the parameters from Reference Dataset.')\n",
      "/home/umhrysnb/anaconda3/lib/python3.8/site-packages/lightgbm/basic.py:1098: UserWarning: categorical_column in param dict is overridden.\n",
      "  warnings.warn('{} in param dict is overridden.'.format(cat_alias))\n"
     ]
    },
    {
     "name": "stdout",
     "output_type": "stream",
     "text": [
      "Training until validation scores don't improve for 100 rounds\n",
      "Early stopping, best iteration is:\n",
      "[412]\tvalid_0's auc: 0.612573\n",
      "Training until validation scores don't improve for 100 rounds\n",
      "Early stopping, best iteration is:\n",
      "[661]\tvalid_0's auc: 0.612875\n",
      "Training until validation scores don't improve for 100 rounds\n",
      "Early stopping, best iteration is:\n",
      "[411]\tvalid_0's auc: 0.614071\n",
      "Training until validation scores don't improve for 100 rounds\n",
      "Early stopping, best iteration is:\n",
      "[448]\tvalid_0's auc: 0.615176\n",
      "--- FINISHED \\ whole score: 0.6136 ---\n",
      "---- id = 435 -----\n"
     ]
    },
    {
     "name": "stderr",
     "output_type": "stream",
     "text": [
      "/home/umhrysnb/anaconda3/lib/python3.8/site-packages/lightgbm/basic.py:1286: UserWarning: Overriding the parameters from Reference Dataset.\n",
      "  warnings.warn('Overriding the parameters from Reference Dataset.')\n",
      "/home/umhrysnb/anaconda3/lib/python3.8/site-packages/lightgbm/basic.py:1098: UserWarning: categorical_column in param dict is overridden.\n",
      "  warnings.warn('{} in param dict is overridden.'.format(cat_alias))\n"
     ]
    },
    {
     "name": "stdout",
     "output_type": "stream",
     "text": [
      "Training until validation scores don't improve for 100 rounds\n",
      "Early stopping, best iteration is:\n",
      "[448]\tvalid_0's auc: 0.690251\n",
      "Training until validation scores don't improve for 100 rounds\n",
      "Early stopping, best iteration is:\n",
      "[951]\tvalid_0's auc: 0.705059\n",
      "Training until validation scores don't improve for 100 rounds\n",
      "Early stopping, best iteration is:\n",
      "[1032]\tvalid_0's auc: 0.695492\n",
      "Training until validation scores don't improve for 100 rounds\n",
      "Early stopping, best iteration is:\n",
      "[1139]\tvalid_0's auc: 0.699916\n",
      "--- FINISHED \\ whole score: 0.6975 ---\n",
      "---- id = 467 -----\n"
     ]
    },
    {
     "name": "stderr",
     "output_type": "stream",
     "text": [
      "/home/umhrysnb/anaconda3/lib/python3.8/site-packages/lightgbm/basic.py:1286: UserWarning: Overriding the parameters from Reference Dataset.\n",
      "  warnings.warn('Overriding the parameters from Reference Dataset.')\n",
      "/home/umhrysnb/anaconda3/lib/python3.8/site-packages/lightgbm/basic.py:1098: UserWarning: categorical_column in param dict is overridden.\n",
      "  warnings.warn('{} in param dict is overridden.'.format(cat_alias))\n"
     ]
    },
    {
     "name": "stdout",
     "output_type": "stream",
     "text": [
      "Training until validation scores don't improve for 100 rounds\n",
      "Early stopping, best iteration is:\n",
      "[767]\tvalid_0's auc: 0.705046\n",
      "Training until validation scores don't improve for 100 rounds\n",
      "Early stopping, best iteration is:\n",
      "[763]\tvalid_0's auc: 0.693296\n",
      "Training until validation scores don't improve for 100 rounds\n",
      "Early stopping, best iteration is:\n",
      "[608]\tvalid_0's auc: 0.691156\n",
      "Training until validation scores don't improve for 100 rounds\n",
      "Early stopping, best iteration is:\n",
      "[318]\tvalid_0's auc: 0.693347\n",
      "--- FINISHED \\ whole score: 0.6953 ---\n",
      "---- id = 537 -----\n"
     ]
    },
    {
     "name": "stderr",
     "output_type": "stream",
     "text": [
      "/home/umhrysnb/anaconda3/lib/python3.8/site-packages/lightgbm/basic.py:1286: UserWarning: Overriding the parameters from Reference Dataset.\n",
      "  warnings.warn('Overriding the parameters from Reference Dataset.')\n",
      "/home/umhrysnb/anaconda3/lib/python3.8/site-packages/lightgbm/basic.py:1098: UserWarning: categorical_column in param dict is overridden.\n",
      "  warnings.warn('{} in param dict is overridden.'.format(cat_alias))\n"
     ]
    },
    {
     "name": "stdout",
     "output_type": "stream",
     "text": [
      "Training until validation scores don't improve for 100 rounds\n",
      "Early stopping, best iteration is:\n",
      "[911]\tvalid_0's auc: 0.749319\n",
      "Training until validation scores don't improve for 100 rounds\n",
      "Early stopping, best iteration is:\n",
      "[452]\tvalid_0's auc: 0.732456\n",
      "Training until validation scores don't improve for 100 rounds\n",
      "Early stopping, best iteration is:\n",
      "[992]\tvalid_0's auc: 0.749999\n",
      "Training until validation scores don't improve for 100 rounds\n",
      "Early stopping, best iteration is:\n",
      "[861]\tvalid_0's auc: 0.742445\n",
      "--- FINISHED \\ whole score: 0.7434 ---\n",
      "---- id = 539 -----\n"
     ]
    },
    {
     "name": "stderr",
     "output_type": "stream",
     "text": [
      "/home/umhrysnb/anaconda3/lib/python3.8/site-packages/lightgbm/basic.py:1286: UserWarning: Overriding the parameters from Reference Dataset.\n",
      "  warnings.warn('Overriding the parameters from Reference Dataset.')\n",
      "/home/umhrysnb/anaconda3/lib/python3.8/site-packages/lightgbm/basic.py:1098: UserWarning: categorical_column in param dict is overridden.\n",
      "  warnings.warn('{} in param dict is overridden.'.format(cat_alias))\n"
     ]
    },
    {
     "name": "stdout",
     "output_type": "stream",
     "text": [
      "Training until validation scores don't improve for 100 rounds\n",
      "Early stopping, best iteration is:\n",
      "[1037]\tvalid_0's auc: 0.69472\n",
      "Training until validation scores don't improve for 100 rounds\n",
      "Early stopping, best iteration is:\n",
      "[919]\tvalid_0's auc: 0.691345\n",
      "Training until validation scores don't improve for 100 rounds\n",
      "Early stopping, best iteration is:\n",
      "[789]\tvalid_0's auc: 0.684954\n",
      "Training until validation scores don't improve for 100 rounds\n",
      "Early stopping, best iteration is:\n",
      "[374]\tvalid_0's auc: 0.689887\n",
      "--- FINISHED \\ whole score: 0.6896 ---\n",
      "---- id = 629 -----\n"
     ]
    },
    {
     "name": "stderr",
     "output_type": "stream",
     "text": [
      "/home/umhrysnb/anaconda3/lib/python3.8/site-packages/lightgbm/basic.py:1286: UserWarning: Overriding the parameters from Reference Dataset.\n",
      "  warnings.warn('Overriding the parameters from Reference Dataset.')\n",
      "/home/umhrysnb/anaconda3/lib/python3.8/site-packages/lightgbm/basic.py:1098: UserWarning: categorical_column in param dict is overridden.\n",
      "  warnings.warn('{} in param dict is overridden.'.format(cat_alias))\n"
     ]
    },
    {
     "name": "stdout",
     "output_type": "stream",
     "text": [
      "Training until validation scores don't improve for 100 rounds\n",
      "Early stopping, best iteration is:\n",
      "[914]\tvalid_0's auc: 0.761934\n",
      "Training until validation scores don't improve for 100 rounds\n",
      "Early stopping, best iteration is:\n",
      "[557]\tvalid_0's auc: 0.767622\n",
      "Training until validation scores don't improve for 100 rounds\n",
      "Early stopping, best iteration is:\n",
      "[300]\tvalid_0's auc: 0.764016\n",
      "Training until validation scores don't improve for 100 rounds\n",
      "Early stopping, best iteration is:\n",
      "[528]\tvalid_0's auc: 0.768166\n",
      "--- FINISHED \\ whole score: 0.7638 ---\n",
      "---- id = 768 -----\n"
     ]
    },
    {
     "name": "stderr",
     "output_type": "stream",
     "text": [
      "/home/umhrysnb/anaconda3/lib/python3.8/site-packages/lightgbm/basic.py:1286: UserWarning: Overriding the parameters from Reference Dataset.\n",
      "  warnings.warn('Overriding the parameters from Reference Dataset.')\n",
      "/home/umhrysnb/anaconda3/lib/python3.8/site-packages/lightgbm/basic.py:1098: UserWarning: categorical_column in param dict is overridden.\n",
      "  warnings.warn('{} in param dict is overridden.'.format(cat_alias))\n"
     ]
    },
    {
     "name": "stdout",
     "output_type": "stream",
     "text": [
      "Training until validation scores don't improve for 100 rounds\n",
      "Early stopping, best iteration is:\n",
      "[911]\tvalid_0's auc: 0.611875\n",
      "Training until validation scores don't improve for 100 rounds\n",
      "Early stopping, best iteration is:\n",
      "[416]\tvalid_0's auc: 0.614841\n",
      "Training until validation scores don't improve for 100 rounds\n",
      "Early stopping, best iteration is:\n",
      "[419]\tvalid_0's auc: 0.615568\n",
      "Training until validation scores don't improve for 100 rounds\n",
      "Early stopping, best iteration is:\n",
      "[421]\tvalid_0's auc: 0.615812\n",
      "--- FINISHED \\ whole score: 0.6143 ---\n",
      "14277\n",
      "===== 3 =====\n",
      "train_features (389649, 74)\n",
      "test_features (11304, 74)\n",
      "---- id = 38 -----\n"
     ]
    },
    {
     "name": "stderr",
     "output_type": "stream",
     "text": [
      "/home/umhrysnb/anaconda3/lib/python3.8/site-packages/lightgbm/basic.py:1286: UserWarning: Overriding the parameters from Reference Dataset.\n",
      "  warnings.warn('Overriding the parameters from Reference Dataset.')\n",
      "/home/umhrysnb/anaconda3/lib/python3.8/site-packages/lightgbm/basic.py:1098: UserWarning: categorical_column in param dict is overridden.\n",
      "  warnings.warn('{} in param dict is overridden.'.format(cat_alias))\n"
     ]
    },
    {
     "name": "stdout",
     "output_type": "stream",
     "text": [
      "Training until validation scores don't improve for 100 rounds\n",
      "Early stopping, best iteration is:\n",
      "[468]\tvalid_0's auc: 0.663107\n",
      "Training until validation scores don't improve for 100 rounds\n",
      "Early stopping, best iteration is:\n",
      "[344]\tvalid_0's auc: 0.656848\n",
      "Training until validation scores don't improve for 100 rounds\n",
      "Early stopping, best iteration is:\n",
      "[279]\tvalid_0's auc: 0.657194\n",
      "Training until validation scores don't improve for 100 rounds\n",
      "Early stopping, best iteration is:\n",
      "[450]\tvalid_0's auc: 0.669898\n",
      "--- FINISHED \\ whole score: 0.6618 ---\n",
      "---- id = 110 -----\n"
     ]
    },
    {
     "name": "stderr",
     "output_type": "stream",
     "text": [
      "/home/umhrysnb/anaconda3/lib/python3.8/site-packages/lightgbm/basic.py:1286: UserWarning: Overriding the parameters from Reference Dataset.\n",
      "  warnings.warn('Overriding the parameters from Reference Dataset.')\n",
      "/home/umhrysnb/anaconda3/lib/python3.8/site-packages/lightgbm/basic.py:1098: UserWarning: categorical_column in param dict is overridden.\n",
      "  warnings.warn('{} in param dict is overridden.'.format(cat_alias))\n"
     ]
    },
    {
     "name": "stdout",
     "output_type": "stream",
     "text": [
      "Training until validation scores don't improve for 100 rounds\n",
      "Early stopping, best iteration is:\n",
      "[227]\tvalid_0's auc: 0.627281\n",
      "Training until validation scores don't improve for 100 rounds\n",
      "Early stopping, best iteration is:\n",
      "[383]\tvalid_0's auc: 0.638601\n",
      "Training until validation scores don't improve for 100 rounds\n",
      "Early stopping, best iteration is:\n",
      "[50]\tvalid_0's auc: 0.627202\n",
      "Training until validation scores don't improve for 100 rounds\n",
      "Early stopping, best iteration is:\n",
      "[82]\tvalid_0's auc: 0.635023\n",
      "--- FINISHED \\ whole score: 0.6297 ---\n",
      "---- id = 113 -----\n"
     ]
    },
    {
     "name": "stderr",
     "output_type": "stream",
     "text": [
      "/home/umhrysnb/anaconda3/lib/python3.8/site-packages/lightgbm/basic.py:1286: UserWarning: Overriding the parameters from Reference Dataset.\n",
      "  warnings.warn('Overriding the parameters from Reference Dataset.')\n",
      "/home/umhrysnb/anaconda3/lib/python3.8/site-packages/lightgbm/basic.py:1098: UserWarning: categorical_column in param dict is overridden.\n",
      "  warnings.warn('{} in param dict is overridden.'.format(cat_alias))\n"
     ]
    },
    {
     "name": "stdout",
     "output_type": "stream",
     "text": [
      "Training until validation scores don't improve for 100 rounds\n",
      "Early stopping, best iteration is:\n",
      "[385]\tvalid_0's auc: 0.634879\n",
      "Training until validation scores don't improve for 100 rounds\n",
      "Early stopping, best iteration is:\n",
      "[413]\tvalid_0's auc: 0.632471\n",
      "Training until validation scores don't improve for 100 rounds\n",
      "Early stopping, best iteration is:\n",
      "[105]\tvalid_0's auc: 0.6263\n",
      "Training until validation scores don't improve for 100 rounds\n",
      "Early stopping, best iteration is:\n",
      "[157]\tvalid_0's auc: 0.634947\n",
      "--- FINISHED \\ whole score: 0.6320 ---\n",
      "---- id = 114 -----\n"
     ]
    },
    {
     "name": "stderr",
     "output_type": "stream",
     "text": [
      "/home/umhrysnb/anaconda3/lib/python3.8/site-packages/lightgbm/basic.py:1286: UserWarning: Overriding the parameters from Reference Dataset.\n",
      "  warnings.warn('Overriding the parameters from Reference Dataset.')\n",
      "/home/umhrysnb/anaconda3/lib/python3.8/site-packages/lightgbm/basic.py:1098: UserWarning: categorical_column in param dict is overridden.\n",
      "  warnings.warn('{} in param dict is overridden.'.format(cat_alias))\n"
     ]
    },
    {
     "name": "stdout",
     "output_type": "stream",
     "text": [
      "Training until validation scores don't improve for 100 rounds\n",
      "Early stopping, best iteration is:\n",
      "[388]\tvalid_0's auc: 0.630478\n",
      "Training until validation scores don't improve for 100 rounds\n",
      "Early stopping, best iteration is:\n",
      "[735]\tvalid_0's auc: 0.633229\n",
      "Training until validation scores don't improve for 100 rounds\n",
      "Early stopping, best iteration is:\n",
      "[632]\tvalid_0's auc: 0.633056\n",
      "Training until validation scores don't improve for 100 rounds\n",
      "Early stopping, best iteration is:\n",
      "[645]\tvalid_0's auc: 0.637567\n",
      "--- FINISHED \\ whole score: 0.6336 ---\n",
      "---- id = 134 -----\n"
     ]
    },
    {
     "name": "stderr",
     "output_type": "stream",
     "text": [
      "/home/umhrysnb/anaconda3/lib/python3.8/site-packages/lightgbm/basic.py:1286: UserWarning: Overriding the parameters from Reference Dataset.\n",
      "  warnings.warn('Overriding the parameters from Reference Dataset.')\n",
      "/home/umhrysnb/anaconda3/lib/python3.8/site-packages/lightgbm/basic.py:1098: UserWarning: categorical_column in param dict is overridden.\n",
      "  warnings.warn('{} in param dict is overridden.'.format(cat_alias))\n"
     ]
    },
    {
     "name": "stdout",
     "output_type": "stream",
     "text": [
      "Training until validation scores don't improve for 100 rounds\n",
      "Early stopping, best iteration is:\n",
      "[236]\tvalid_0's auc: 0.619575\n",
      "Training until validation scores don't improve for 100 rounds\n",
      "Early stopping, best iteration is:\n",
      "[231]\tvalid_0's auc: 0.62002\n",
      "Training until validation scores don't improve for 100 rounds\n",
      "Early stopping, best iteration is:\n",
      "[228]\tvalid_0's auc: 0.621675\n",
      "Training until validation scores don't improve for 100 rounds\n",
      "Early stopping, best iteration is:\n",
      "[703]\tvalid_0's auc: 0.62175\n",
      "--- FINISHED \\ whole score: 0.6206 ---\n",
      "---- id = 171 -----\n"
     ]
    },
    {
     "name": "stderr",
     "output_type": "stream",
     "text": [
      "/home/umhrysnb/anaconda3/lib/python3.8/site-packages/lightgbm/basic.py:1286: UserWarning: Overriding the parameters from Reference Dataset.\n",
      "  warnings.warn('Overriding the parameters from Reference Dataset.')\n",
      "/home/umhrysnb/anaconda3/lib/python3.8/site-packages/lightgbm/basic.py:1098: UserWarning: categorical_column in param dict is overridden.\n",
      "  warnings.warn('{} in param dict is overridden.'.format(cat_alias))\n"
     ]
    },
    {
     "name": "stdout",
     "output_type": "stream",
     "text": [
      "Training until validation scores don't improve for 100 rounds\n",
      "Early stopping, best iteration is:\n",
      "[505]\tvalid_0's auc: 0.691429\n",
      "Training until validation scores don't improve for 100 rounds\n",
      "Early stopping, best iteration is:\n",
      "[1218]\tvalid_0's auc: 0.68914\n",
      "Training until validation scores don't improve for 100 rounds\n",
      "Early stopping, best iteration is:\n",
      "[834]\tvalid_0's auc: 0.692132\n",
      "Training until validation scores don't improve for 100 rounds\n",
      "Early stopping, best iteration is:\n",
      "[784]\tvalid_0's auc: 0.690851\n",
      "--- FINISHED \\ whole score: 0.6906 ---\n",
      "---- id = 172 -----\n"
     ]
    },
    {
     "name": "stderr",
     "output_type": "stream",
     "text": [
      "/home/umhrysnb/anaconda3/lib/python3.8/site-packages/lightgbm/basic.py:1286: UserWarning: Overriding the parameters from Reference Dataset.\n",
      "  warnings.warn('Overriding the parameters from Reference Dataset.')\n",
      "/home/umhrysnb/anaconda3/lib/python3.8/site-packages/lightgbm/basic.py:1098: UserWarning: categorical_column in param dict is overridden.\n",
      "  warnings.warn('{} in param dict is overridden.'.format(cat_alias))\n"
     ]
    },
    {
     "name": "stdout",
     "output_type": "stream",
     "text": [
      "Training until validation scores don't improve for 100 rounds\n",
      "Early stopping, best iteration is:\n",
      "[319]\tvalid_0's auc: 0.673137\n",
      "Training until validation scores don't improve for 100 rounds\n",
      "Early stopping, best iteration is:\n",
      "[171]\tvalid_0's auc: 0.678293\n",
      "Training until validation scores don't improve for 100 rounds\n",
      "Early stopping, best iteration is:\n",
      "[298]\tvalid_0's auc: 0.669293\n",
      "Training until validation scores don't improve for 100 rounds\n",
      "Early stopping, best iteration is:\n",
      "[170]\tvalid_0's auc: 0.663571\n",
      "--- FINISHED \\ whole score: 0.6707 ---\n",
      "---- id = 173 -----\n"
     ]
    },
    {
     "name": "stderr",
     "output_type": "stream",
     "text": [
      "/home/umhrysnb/anaconda3/lib/python3.8/site-packages/lightgbm/basic.py:1286: UserWarning: Overriding the parameters from Reference Dataset.\n",
      "  warnings.warn('Overriding the parameters from Reference Dataset.')\n",
      "/home/umhrysnb/anaconda3/lib/python3.8/site-packages/lightgbm/basic.py:1098: UserWarning: categorical_column in param dict is overridden.\n",
      "  warnings.warn('{} in param dict is overridden.'.format(cat_alias))\n"
     ]
    },
    {
     "name": "stdout",
     "output_type": "stream",
     "text": [
      "Training until validation scores don't improve for 100 rounds\n",
      "Early stopping, best iteration is:\n",
      "[1045]\tvalid_0's auc: 0.677112\n",
      "Training until validation scores don't improve for 100 rounds\n",
      "Early stopping, best iteration is:\n",
      "[1120]\tvalid_0's auc: 0.677274\n",
      "Training until validation scores don't improve for 100 rounds\n",
      "Early stopping, best iteration is:\n",
      "[545]\tvalid_0's auc: 0.668995\n",
      "Training until validation scores don't improve for 100 rounds\n",
      "Early stopping, best iteration is:\n",
      "[1041]\tvalid_0's auc: 0.676649\n",
      "--- FINISHED \\ whole score: 0.6750 ---\n",
      "---- id = 376 -----\n"
     ]
    },
    {
     "name": "stderr",
     "output_type": "stream",
     "text": [
      "/home/umhrysnb/anaconda3/lib/python3.8/site-packages/lightgbm/basic.py:1286: UserWarning: Overriding the parameters from Reference Dataset.\n",
      "  warnings.warn('Overriding the parameters from Reference Dataset.')\n",
      "/home/umhrysnb/anaconda3/lib/python3.8/site-packages/lightgbm/basic.py:1098: UserWarning: categorical_column in param dict is overridden.\n",
      "  warnings.warn('{} in param dict is overridden.'.format(cat_alias))\n"
     ]
    },
    {
     "name": "stdout",
     "output_type": "stream",
     "text": [
      "Training until validation scores don't improve for 100 rounds\n",
      "Early stopping, best iteration is:\n",
      "[293]\tvalid_0's auc: 0.607104\n",
      "Training until validation scores don't improve for 100 rounds\n",
      "Early stopping, best iteration is:\n",
      "[362]\tvalid_0's auc: 0.605011\n",
      "Training until validation scores don't improve for 100 rounds\n",
      "Early stopping, best iteration is:\n",
      "[343]\tvalid_0's auc: 0.609352\n",
      "Training until validation scores don't improve for 100 rounds\n",
      "Early stopping, best iteration is:\n",
      "[144]\tvalid_0's auc: 0.610242\n",
      "--- FINISHED \\ whole score: 0.6077 ---\n",
      "---- id = 435 -----\n"
     ]
    },
    {
     "name": "stderr",
     "output_type": "stream",
     "text": [
      "/home/umhrysnb/anaconda3/lib/python3.8/site-packages/lightgbm/basic.py:1286: UserWarning: Overriding the parameters from Reference Dataset.\n",
      "  warnings.warn('Overriding the parameters from Reference Dataset.')\n",
      "/home/umhrysnb/anaconda3/lib/python3.8/site-packages/lightgbm/basic.py:1098: UserWarning: categorical_column in param dict is overridden.\n",
      "  warnings.warn('{} in param dict is overridden.'.format(cat_alias))\n"
     ]
    },
    {
     "name": "stdout",
     "output_type": "stream",
     "text": [
      "Training until validation scores don't improve for 100 rounds\n",
      "Early stopping, best iteration is:\n",
      "[796]\tvalid_0's auc: 0.682432\n",
      "Training until validation scores don't improve for 100 rounds\n",
      "Early stopping, best iteration is:\n",
      "[810]\tvalid_0's auc: 0.685884\n",
      "Training until validation scores don't improve for 100 rounds\n",
      "Early stopping, best iteration is:\n",
      "[587]\tvalid_0's auc: 0.691712\n",
      "Training until validation scores don't improve for 100 rounds\n",
      "Early stopping, best iteration is:\n",
      "[454]\tvalid_0's auc: 0.683084\n",
      "--- FINISHED \\ whole score: 0.6856 ---\n",
      "---- id = 467 -----\n"
     ]
    },
    {
     "name": "stderr",
     "output_type": "stream",
     "text": [
      "/home/umhrysnb/anaconda3/lib/python3.8/site-packages/lightgbm/basic.py:1286: UserWarning: Overriding the parameters from Reference Dataset.\n",
      "  warnings.warn('Overriding the parameters from Reference Dataset.')\n",
      "/home/umhrysnb/anaconda3/lib/python3.8/site-packages/lightgbm/basic.py:1098: UserWarning: categorical_column in param dict is overridden.\n",
      "  warnings.warn('{} in param dict is overridden.'.format(cat_alias))\n"
     ]
    },
    {
     "name": "stdout",
     "output_type": "stream",
     "text": [
      "Training until validation scores don't improve for 100 rounds\n",
      "Early stopping, best iteration is:\n",
      "[151]\tvalid_0's auc: 0.680483\n",
      "Training until validation scores don't improve for 100 rounds\n",
      "Early stopping, best iteration is:\n",
      "[220]\tvalid_0's auc: 0.683695\n",
      "Training until validation scores don't improve for 100 rounds\n",
      "Early stopping, best iteration is:\n",
      "[299]\tvalid_0's auc: 0.684385\n",
      "Training until validation scores don't improve for 100 rounds\n",
      "Early stopping, best iteration is:\n",
      "[352]\tvalid_0's auc: 0.687625\n",
      "--- FINISHED \\ whole score: 0.6839 ---\n",
      "---- id = 537 -----\n"
     ]
    },
    {
     "name": "stderr",
     "output_type": "stream",
     "text": [
      "/home/umhrysnb/anaconda3/lib/python3.8/site-packages/lightgbm/basic.py:1286: UserWarning: Overriding the parameters from Reference Dataset.\n",
      "  warnings.warn('Overriding the parameters from Reference Dataset.')\n",
      "/home/umhrysnb/anaconda3/lib/python3.8/site-packages/lightgbm/basic.py:1098: UserWarning: categorical_column in param dict is overridden.\n",
      "  warnings.warn('{} in param dict is overridden.'.format(cat_alias))\n"
     ]
    },
    {
     "name": "stdout",
     "output_type": "stream",
     "text": [
      "Training until validation scores don't improve for 100 rounds\n",
      "Early stopping, best iteration is:\n",
      "[781]\tvalid_0's auc: 0.728696\n",
      "Training until validation scores don't improve for 100 rounds\n",
      "Early stopping, best iteration is:\n",
      "[605]\tvalid_0's auc: 0.723742\n",
      "Training until validation scores don't improve for 100 rounds\n",
      "Early stopping, best iteration is:\n",
      "[618]\tvalid_0's auc: 0.728544\n",
      "Training until validation scores don't improve for 100 rounds\n",
      "Early stopping, best iteration is:\n",
      "[310]\tvalid_0's auc: 0.717877\n",
      "--- FINISHED \\ whole score: 0.7244 ---\n",
      "---- id = 539 -----\n"
     ]
    },
    {
     "name": "stderr",
     "output_type": "stream",
     "text": [
      "/home/umhrysnb/anaconda3/lib/python3.8/site-packages/lightgbm/basic.py:1286: UserWarning: Overriding the parameters from Reference Dataset.\n",
      "  warnings.warn('Overriding the parameters from Reference Dataset.')\n",
      "/home/umhrysnb/anaconda3/lib/python3.8/site-packages/lightgbm/basic.py:1098: UserWarning: categorical_column in param dict is overridden.\n",
      "  warnings.warn('{} in param dict is overridden.'.format(cat_alias))\n"
     ]
    },
    {
     "name": "stdout",
     "output_type": "stream",
     "text": [
      "Training until validation scores don't improve for 100 rounds\n",
      "Early stopping, best iteration is:\n",
      "[300]\tvalid_0's auc: 0.674894\n",
      "Training until validation scores don't improve for 100 rounds\n",
      "Early stopping, best iteration is:\n",
      "[769]\tvalid_0's auc: 0.667635\n",
      "Training until validation scores don't improve for 100 rounds\n",
      "Early stopping, best iteration is:\n",
      "[396]\tvalid_0's auc: 0.676898\n",
      "Training until validation scores don't improve for 100 rounds\n",
      "Early stopping, best iteration is:\n",
      "[559]\tvalid_0's auc: 0.677996\n",
      "--- FINISHED \\ whole score: 0.6738 ---\n",
      "---- id = 629 -----\n"
     ]
    },
    {
     "name": "stderr",
     "output_type": "stream",
     "text": [
      "/home/umhrysnb/anaconda3/lib/python3.8/site-packages/lightgbm/basic.py:1286: UserWarning: Overriding the parameters from Reference Dataset.\n",
      "  warnings.warn('Overriding the parameters from Reference Dataset.')\n",
      "/home/umhrysnb/anaconda3/lib/python3.8/site-packages/lightgbm/basic.py:1098: UserWarning: categorical_column in param dict is overridden.\n",
      "  warnings.warn('{} in param dict is overridden.'.format(cat_alias))\n"
     ]
    },
    {
     "name": "stdout",
     "output_type": "stream",
     "text": [
      "Training until validation scores don't improve for 100 rounds\n",
      "Early stopping, best iteration is:\n",
      "[270]\tvalid_0's auc: 0.73271\n",
      "Training until validation scores don't improve for 100 rounds\n",
      "Early stopping, best iteration is:\n",
      "[73]\tvalid_0's auc: 0.736681\n",
      "Training until validation scores don't improve for 100 rounds\n",
      "Early stopping, best iteration is:\n",
      "[590]\tvalid_0's auc: 0.755012\n",
      "Training until validation scores don't improve for 100 rounds\n",
      "Early stopping, best iteration is:\n",
      "[343]\tvalid_0's auc: 0.734426\n",
      "--- FINISHED \\ whole score: 0.7375 ---\n",
      "---- id = 768 -----\n"
     ]
    },
    {
     "name": "stderr",
     "output_type": "stream",
     "text": [
      "/home/umhrysnb/anaconda3/lib/python3.8/site-packages/lightgbm/basic.py:1286: UserWarning: Overriding the parameters from Reference Dataset.\n",
      "  warnings.warn('Overriding the parameters from Reference Dataset.')\n",
      "/home/umhrysnb/anaconda3/lib/python3.8/site-packages/lightgbm/basic.py:1098: UserWarning: categorical_column in param dict is overridden.\n",
      "  warnings.warn('{} in param dict is overridden.'.format(cat_alias))\n"
     ]
    },
    {
     "name": "stdout",
     "output_type": "stream",
     "text": [
      "Training until validation scores don't improve for 100 rounds\n",
      "Early stopping, best iteration is:\n",
      "[302]\tvalid_0's auc: 0.6324\n",
      "Training until validation scores don't improve for 100 rounds\n",
      "Early stopping, best iteration is:\n",
      "[448]\tvalid_0's auc: 0.636497\n",
      "Training until validation scores don't improve for 100 rounds\n",
      "Early stopping, best iteration is:\n",
      "[618]\tvalid_0's auc: 0.631932\n",
      "Training until validation scores don't improve for 100 rounds\n",
      "Early stopping, best iteration is:\n",
      "[501]\tvalid_0's auc: 0.62972\n",
      "--- FINISHED \\ whole score: 0.6326 ---\n",
      "25581\n",
      "===== 5 =====\n",
      "train_features (390621, 74)\n",
      "test_features (14072, 74)\n",
      "---- id = 38 -----\n"
     ]
    },
    {
     "name": "stderr",
     "output_type": "stream",
     "text": [
      "/home/umhrysnb/anaconda3/lib/python3.8/site-packages/lightgbm/basic.py:1286: UserWarning: Overriding the parameters from Reference Dataset.\n",
      "  warnings.warn('Overriding the parameters from Reference Dataset.')\n",
      "/home/umhrysnb/anaconda3/lib/python3.8/site-packages/lightgbm/basic.py:1098: UserWarning: categorical_column in param dict is overridden.\n",
      "  warnings.warn('{} in param dict is overridden.'.format(cat_alias))\n"
     ]
    },
    {
     "name": "stdout",
     "output_type": "stream",
     "text": [
      "Training until validation scores don't improve for 100 rounds\n",
      "Early stopping, best iteration is:\n",
      "[444]\tvalid_0's auc: 0.659316\n",
      "Training until validation scores don't improve for 100 rounds\n",
      "Early stopping, best iteration is:\n",
      "[492]\tvalid_0's auc: 0.659759\n",
      "Training until validation scores don't improve for 100 rounds\n",
      "Early stopping, best iteration is:\n",
      "[625]\tvalid_0's auc: 0.666128\n",
      "Training until validation scores don't improve for 100 rounds\n",
      "Early stopping, best iteration is:\n",
      "[737]\tvalid_0's auc: 0.665577\n",
      "--- FINISHED \\ whole score: 0.6627 ---\n",
      "---- id = 110 -----\n"
     ]
    },
    {
     "name": "stderr",
     "output_type": "stream",
     "text": [
      "/home/umhrysnb/anaconda3/lib/python3.8/site-packages/lightgbm/basic.py:1286: UserWarning: Overriding the parameters from Reference Dataset.\n",
      "  warnings.warn('Overriding the parameters from Reference Dataset.')\n",
      "/home/umhrysnb/anaconda3/lib/python3.8/site-packages/lightgbm/basic.py:1098: UserWarning: categorical_column in param dict is overridden.\n",
      "  warnings.warn('{} in param dict is overridden.'.format(cat_alias))\n"
     ]
    },
    {
     "name": "stdout",
     "output_type": "stream",
     "text": [
      "Training until validation scores don't improve for 100 rounds\n",
      "Early stopping, best iteration is:\n",
      "[156]\tvalid_0's auc: 0.636524\n",
      "Training until validation scores don't improve for 100 rounds\n",
      "Early stopping, best iteration is:\n",
      "[163]\tvalid_0's auc: 0.623278\n",
      "Training until validation scores don't improve for 100 rounds\n",
      "Early stopping, best iteration is:\n",
      "[83]\tvalid_0's auc: 0.643207\n",
      "Training until validation scores don't improve for 100 rounds\n",
      "Early stopping, best iteration is:\n",
      "[88]\tvalid_0's auc: 0.634401\n",
      "--- FINISHED \\ whole score: 0.6333 ---\n",
      "---- id = 113 -----\n"
     ]
    },
    {
     "name": "stderr",
     "output_type": "stream",
     "text": [
      "/home/umhrysnb/anaconda3/lib/python3.8/site-packages/lightgbm/basic.py:1286: UserWarning: Overriding the parameters from Reference Dataset.\n",
      "  warnings.warn('Overriding the parameters from Reference Dataset.')\n",
      "/home/umhrysnb/anaconda3/lib/python3.8/site-packages/lightgbm/basic.py:1098: UserWarning: categorical_column in param dict is overridden.\n",
      "  warnings.warn('{} in param dict is overridden.'.format(cat_alias))\n"
     ]
    },
    {
     "name": "stdout",
     "output_type": "stream",
     "text": [
      "Training until validation scores don't improve for 100 rounds\n",
      "Early stopping, best iteration is:\n",
      "[283]\tvalid_0's auc: 0.636429\n",
      "Training until validation scores don't improve for 100 rounds\n",
      "Early stopping, best iteration is:\n",
      "[160]\tvalid_0's auc: 0.639825\n",
      "Training until validation scores don't improve for 100 rounds\n",
      "Early stopping, best iteration is:\n",
      "[231]\tvalid_0's auc: 0.633848\n",
      "Training until validation scores don't improve for 100 rounds\n",
      "Early stopping, best iteration is:\n",
      "[251]\tvalid_0's auc: 0.630958\n",
      "--- FINISHED \\ whole score: 0.6351 ---\n",
      "---- id = 114 -----\n"
     ]
    },
    {
     "name": "stderr",
     "output_type": "stream",
     "text": [
      "/home/umhrysnb/anaconda3/lib/python3.8/site-packages/lightgbm/basic.py:1286: UserWarning: Overriding the parameters from Reference Dataset.\n",
      "  warnings.warn('Overriding the parameters from Reference Dataset.')\n",
      "/home/umhrysnb/anaconda3/lib/python3.8/site-packages/lightgbm/basic.py:1098: UserWarning: categorical_column in param dict is overridden.\n",
      "  warnings.warn('{} in param dict is overridden.'.format(cat_alias))\n"
     ]
    },
    {
     "name": "stdout",
     "output_type": "stream",
     "text": [
      "Training until validation scores don't improve for 100 rounds\n",
      "Early stopping, best iteration is:\n",
      "[576]\tvalid_0's auc: 0.641647\n",
      "Training until validation scores don't improve for 100 rounds\n",
      "Early stopping, best iteration is:\n",
      "[704]\tvalid_0's auc: 0.634597\n",
      "Training until validation scores don't improve for 100 rounds\n",
      "Early stopping, best iteration is:\n",
      "[920]\tvalid_0's auc: 0.63897\n",
      "Training until validation scores don't improve for 100 rounds\n",
      "Early stopping, best iteration is:\n",
      "[635]\tvalid_0's auc: 0.638223\n",
      "--- FINISHED \\ whole score: 0.6383 ---\n",
      "---- id = 134 -----\n"
     ]
    },
    {
     "name": "stderr",
     "output_type": "stream",
     "text": [
      "/home/umhrysnb/anaconda3/lib/python3.8/site-packages/lightgbm/basic.py:1286: UserWarning: Overriding the parameters from Reference Dataset.\n",
      "  warnings.warn('Overriding the parameters from Reference Dataset.')\n",
      "/home/umhrysnb/anaconda3/lib/python3.8/site-packages/lightgbm/basic.py:1098: UserWarning: categorical_column in param dict is overridden.\n",
      "  warnings.warn('{} in param dict is overridden.'.format(cat_alias))\n"
     ]
    },
    {
     "name": "stdout",
     "output_type": "stream",
     "text": [
      "Training until validation scores don't improve for 100 rounds\n",
      "Early stopping, best iteration is:\n",
      "[352]\tvalid_0's auc: 0.625061\n",
      "Training until validation scores don't improve for 100 rounds\n",
      "Early stopping, best iteration is:\n",
      "[318]\tvalid_0's auc: 0.62294\n",
      "Training until validation scores don't improve for 100 rounds\n",
      "Early stopping, best iteration is:\n",
      "[507]\tvalid_0's auc: 0.623038\n",
      "Training until validation scores don't improve for 100 rounds\n",
      "Early stopping, best iteration is:\n",
      "[606]\tvalid_0's auc: 0.624175\n",
      "--- FINISHED \\ whole score: 0.6237 ---\n",
      "---- id = 171 -----\n"
     ]
    },
    {
     "name": "stderr",
     "output_type": "stream",
     "text": [
      "/home/umhrysnb/anaconda3/lib/python3.8/site-packages/lightgbm/basic.py:1286: UserWarning: Overriding the parameters from Reference Dataset.\n",
      "  warnings.warn('Overriding the parameters from Reference Dataset.')\n",
      "/home/umhrysnb/anaconda3/lib/python3.8/site-packages/lightgbm/basic.py:1098: UserWarning: categorical_column in param dict is overridden.\n",
      "  warnings.warn('{} in param dict is overridden.'.format(cat_alias))\n"
     ]
    },
    {
     "name": "stdout",
     "output_type": "stream",
     "text": [
      "Training until validation scores don't improve for 100 rounds\n",
      "Early stopping, best iteration is:\n",
      "[803]\tvalid_0's auc: 0.693213\n",
      "Training until validation scores don't improve for 100 rounds\n",
      "Early stopping, best iteration is:\n",
      "[783]\tvalid_0's auc: 0.687676\n",
      "Training until validation scores don't improve for 100 rounds\n",
      "Early stopping, best iteration is:\n",
      "[524]\tvalid_0's auc: 0.685261\n",
      "Training until validation scores don't improve for 100 rounds\n",
      "Early stopping, best iteration is:\n",
      "[700]\tvalid_0's auc: 0.691375\n",
      "--- FINISHED \\ whole score: 0.6894 ---\n",
      "---- id = 172 -----\n"
     ]
    },
    {
     "name": "stderr",
     "output_type": "stream",
     "text": [
      "/home/umhrysnb/anaconda3/lib/python3.8/site-packages/lightgbm/basic.py:1286: UserWarning: Overriding the parameters from Reference Dataset.\n",
      "  warnings.warn('Overriding the parameters from Reference Dataset.')\n",
      "/home/umhrysnb/anaconda3/lib/python3.8/site-packages/lightgbm/basic.py:1098: UserWarning: categorical_column in param dict is overridden.\n",
      "  warnings.warn('{} in param dict is overridden.'.format(cat_alias))\n"
     ]
    },
    {
     "name": "stdout",
     "output_type": "stream",
     "text": [
      "Training until validation scores don't improve for 100 rounds\n",
      "Early stopping, best iteration is:\n",
      "[439]\tvalid_0's auc: 0.67906\n",
      "Training until validation scores don't improve for 100 rounds\n",
      "Early stopping, best iteration is:\n",
      "[452]\tvalid_0's auc: 0.669811\n",
      "Training until validation scores don't improve for 100 rounds\n",
      "Early stopping, best iteration is:\n",
      "[302]\tvalid_0's auc: 0.679916\n",
      "Training until validation scores don't improve for 100 rounds\n",
      "Early stopping, best iteration is:\n",
      "[168]\tvalid_0's auc: 0.668062\n",
      "--- FINISHED \\ whole score: 0.6736 ---\n",
      "---- id = 173 -----\n"
     ]
    },
    {
     "name": "stderr",
     "output_type": "stream",
     "text": [
      "/home/umhrysnb/anaconda3/lib/python3.8/site-packages/lightgbm/basic.py:1286: UserWarning: Overriding the parameters from Reference Dataset.\n",
      "  warnings.warn('Overriding the parameters from Reference Dataset.')\n",
      "/home/umhrysnb/anaconda3/lib/python3.8/site-packages/lightgbm/basic.py:1098: UserWarning: categorical_column in param dict is overridden.\n",
      "  warnings.warn('{} in param dict is overridden.'.format(cat_alias))\n"
     ]
    },
    {
     "name": "stdout",
     "output_type": "stream",
     "text": [
      "Training until validation scores don't improve for 100 rounds\n",
      "Early stopping, best iteration is:\n",
      "[441]\tvalid_0's auc: 0.667751\n",
      "Training until validation scores don't improve for 100 rounds\n",
      "Early stopping, best iteration is:\n",
      "[934]\tvalid_0's auc: 0.674609\n",
      "Training until validation scores don't improve for 100 rounds\n",
      "Early stopping, best iteration is:\n",
      "[1153]\tvalid_0's auc: 0.674284\n",
      "Training until validation scores don't improve for 100 rounds\n",
      "Early stopping, best iteration is:\n",
      "[549]\tvalid_0's auc: 0.66975\n",
      "--- FINISHED \\ whole score: 0.6715 ---\n",
      "---- id = 376 -----\n"
     ]
    },
    {
     "name": "stderr",
     "output_type": "stream",
     "text": [
      "/home/umhrysnb/anaconda3/lib/python3.8/site-packages/lightgbm/basic.py:1286: UserWarning: Overriding the parameters from Reference Dataset.\n",
      "  warnings.warn('Overriding the parameters from Reference Dataset.')\n",
      "/home/umhrysnb/anaconda3/lib/python3.8/site-packages/lightgbm/basic.py:1098: UserWarning: categorical_column in param dict is overridden.\n",
      "  warnings.warn('{} in param dict is overridden.'.format(cat_alias))\n"
     ]
    },
    {
     "name": "stdout",
     "output_type": "stream",
     "text": [
      "Training until validation scores don't improve for 100 rounds\n",
      "Early stopping, best iteration is:\n",
      "[421]\tvalid_0's auc: 0.610414\n",
      "Training until validation scores don't improve for 100 rounds\n",
      "Early stopping, best iteration is:\n",
      "[340]\tvalid_0's auc: 0.616142\n",
      "Training until validation scores don't improve for 100 rounds\n",
      "Early stopping, best iteration is:\n",
      "[349]\tvalid_0's auc: 0.613458\n",
      "Training until validation scores don't improve for 100 rounds\n",
      "Early stopping, best iteration is:\n",
      "[524]\tvalid_0's auc: 0.612443\n",
      "--- FINISHED \\ whole score: 0.6130 ---\n",
      "---- id = 435 -----\n"
     ]
    },
    {
     "name": "stderr",
     "output_type": "stream",
     "text": [
      "/home/umhrysnb/anaconda3/lib/python3.8/site-packages/lightgbm/basic.py:1286: UserWarning: Overriding the parameters from Reference Dataset.\n",
      "  warnings.warn('Overriding the parameters from Reference Dataset.')\n",
      "/home/umhrysnb/anaconda3/lib/python3.8/site-packages/lightgbm/basic.py:1098: UserWarning: categorical_column in param dict is overridden.\n",
      "  warnings.warn('{} in param dict is overridden.'.format(cat_alias))\n"
     ]
    },
    {
     "name": "stdout",
     "output_type": "stream",
     "text": [
      "Training until validation scores don't improve for 100 rounds\n",
      "Early stopping, best iteration is:\n",
      "[316]\tvalid_0's auc: 0.677778\n",
      "Training until validation scores don't improve for 100 rounds\n",
      "Early stopping, best iteration is:\n",
      "[740]\tvalid_0's auc: 0.677959\n",
      "Training until validation scores don't improve for 100 rounds\n",
      "Early stopping, best iteration is:\n",
      "[1041]\tvalid_0's auc: 0.692885\n",
      "Training until validation scores don't improve for 100 rounds\n",
      "Early stopping, best iteration is:\n",
      "[820]\tvalid_0's auc: 0.694431\n",
      "--- FINISHED \\ whole score: 0.6855 ---\n",
      "---- id = 467 -----\n"
     ]
    },
    {
     "name": "stderr",
     "output_type": "stream",
     "text": [
      "/home/umhrysnb/anaconda3/lib/python3.8/site-packages/lightgbm/basic.py:1286: UserWarning: Overriding the parameters from Reference Dataset.\n",
      "  warnings.warn('Overriding the parameters from Reference Dataset.')\n",
      "/home/umhrysnb/anaconda3/lib/python3.8/site-packages/lightgbm/basic.py:1098: UserWarning: categorical_column in param dict is overridden.\n",
      "  warnings.warn('{} in param dict is overridden.'.format(cat_alias))\n"
     ]
    },
    {
     "name": "stdout",
     "output_type": "stream",
     "text": [
      "Training until validation scores don't improve for 100 rounds\n",
      "Early stopping, best iteration is:\n",
      "[312]\tvalid_0's auc: 0.682242\n",
      "Training until validation scores don't improve for 100 rounds\n",
      "Early stopping, best iteration is:\n",
      "[249]\tvalid_0's auc: 0.684061\n",
      "Training until validation scores don't improve for 100 rounds\n",
      "Early stopping, best iteration is:\n",
      "[215]\tvalid_0's auc: 0.688761\n",
      "Training until validation scores don't improve for 100 rounds\n",
      "Early stopping, best iteration is:\n",
      "[353]\tvalid_0's auc: 0.689847\n",
      "--- FINISHED \\ whole score: 0.6861 ---\n",
      "---- id = 537 -----\n"
     ]
    },
    {
     "name": "stderr",
     "output_type": "stream",
     "text": [
      "/home/umhrysnb/anaconda3/lib/python3.8/site-packages/lightgbm/basic.py:1286: UserWarning: Overriding the parameters from Reference Dataset.\n",
      "  warnings.warn('Overriding the parameters from Reference Dataset.')\n",
      "/home/umhrysnb/anaconda3/lib/python3.8/site-packages/lightgbm/basic.py:1098: UserWarning: categorical_column in param dict is overridden.\n",
      "  warnings.warn('{} in param dict is overridden.'.format(cat_alias))\n"
     ]
    },
    {
     "name": "stdout",
     "output_type": "stream",
     "text": [
      "Training until validation scores don't improve for 100 rounds\n",
      "Early stopping, best iteration is:\n",
      "[545]\tvalid_0's auc: 0.708303\n",
      "Training until validation scores don't improve for 100 rounds\n",
      "Early stopping, best iteration is:\n",
      "[659]\tvalid_0's auc: 0.721443\n",
      "Training until validation scores don't improve for 100 rounds\n",
      "Early stopping, best iteration is:\n",
      "[443]\tvalid_0's auc: 0.722797\n",
      "Training until validation scores don't improve for 100 rounds\n",
      "Early stopping, best iteration is:\n",
      "[322]\tvalid_0's auc: 0.705803\n",
      "--- FINISHED \\ whole score: 0.7145 ---\n",
      "---- id = 539 -----\n"
     ]
    },
    {
     "name": "stderr",
     "output_type": "stream",
     "text": [
      "/home/umhrysnb/anaconda3/lib/python3.8/site-packages/lightgbm/basic.py:1286: UserWarning: Overriding the parameters from Reference Dataset.\n",
      "  warnings.warn('Overriding the parameters from Reference Dataset.')\n",
      "/home/umhrysnb/anaconda3/lib/python3.8/site-packages/lightgbm/basic.py:1098: UserWarning: categorical_column in param dict is overridden.\n",
      "  warnings.warn('{} in param dict is overridden.'.format(cat_alias))\n"
     ]
    },
    {
     "name": "stdout",
     "output_type": "stream",
     "text": [
      "Training until validation scores don't improve for 100 rounds\n",
      "Early stopping, best iteration is:\n",
      "[355]\tvalid_0's auc: 0.681625\n",
      "Training until validation scores don't improve for 100 rounds\n",
      "Early stopping, best iteration is:\n",
      "[696]\tvalid_0's auc: 0.672221\n",
      "Training until validation scores don't improve for 100 rounds\n",
      "Early stopping, best iteration is:\n",
      "[604]\tvalid_0's auc: 0.671866\n",
      "Training until validation scores don't improve for 100 rounds\n",
      "Early stopping, best iteration is:\n",
      "[485]\tvalid_0's auc: 0.673944\n",
      "--- FINISHED \\ whole score: 0.6746 ---\n",
      "---- id = 629 -----\n"
     ]
    },
    {
     "name": "stderr",
     "output_type": "stream",
     "text": [
      "/home/umhrysnb/anaconda3/lib/python3.8/site-packages/lightgbm/basic.py:1286: UserWarning: Overriding the parameters from Reference Dataset.\n",
      "  warnings.warn('Overriding the parameters from Reference Dataset.')\n",
      "/home/umhrysnb/anaconda3/lib/python3.8/site-packages/lightgbm/basic.py:1098: UserWarning: categorical_column in param dict is overridden.\n",
      "  warnings.warn('{} in param dict is overridden.'.format(cat_alias))\n"
     ]
    },
    {
     "name": "stdout",
     "output_type": "stream",
     "text": [
      "Training until validation scores don't improve for 100 rounds\n",
      "Early stopping, best iteration is:\n",
      "[138]\tvalid_0's auc: 0.745753\n",
      "Training until validation scores don't improve for 100 rounds\n",
      "Early stopping, best iteration is:\n",
      "[201]\tvalid_0's auc: 0.753733\n",
      "Training until validation scores don't improve for 100 rounds\n",
      "Early stopping, best iteration is:\n",
      "[183]\tvalid_0's auc: 0.727717\n",
      "Training until validation scores don't improve for 100 rounds\n",
      "Early stopping, best iteration is:\n",
      "[368]\tvalid_0's auc: 0.745272\n",
      "--- FINISHED \\ whole score: 0.7423 ---\n",
      "---- id = 768 -----\n"
     ]
    },
    {
     "name": "stderr",
     "output_type": "stream",
     "text": [
      "/home/umhrysnb/anaconda3/lib/python3.8/site-packages/lightgbm/basic.py:1286: UserWarning: Overriding the parameters from Reference Dataset.\n",
      "  warnings.warn('Overriding the parameters from Reference Dataset.')\n",
      "/home/umhrysnb/anaconda3/lib/python3.8/site-packages/lightgbm/basic.py:1098: UserWarning: categorical_column in param dict is overridden.\n",
      "  warnings.warn('{} in param dict is overridden.'.format(cat_alias))\n"
     ]
    },
    {
     "name": "stdout",
     "output_type": "stream",
     "text": [
      "Training until validation scores don't improve for 100 rounds\n",
      "Early stopping, best iteration is:\n",
      "[329]\tvalid_0's auc: 0.638629\n",
      "Training until validation scores don't improve for 100 rounds\n",
      "Early stopping, best iteration is:\n",
      "[508]\tvalid_0's auc: 0.628424\n",
      "Training until validation scores don't improve for 100 rounds\n",
      "Early stopping, best iteration is:\n",
      "[232]\tvalid_0's auc: 0.62534\n",
      "Training until validation scores don't improve for 100 rounds\n",
      "Early stopping, best iteration is:\n",
      "[384]\tvalid_0's auc: 0.62912\n",
      "--- FINISHED \\ whole score: 0.6303 ---\n",
      "39653\n",
      "===== 10 =====\n",
      "train_features (391074, 74)\n",
      "test_features (16833, 74)\n",
      "---- id = 38 -----\n"
     ]
    },
    {
     "name": "stderr",
     "output_type": "stream",
     "text": [
      "/home/umhrysnb/anaconda3/lib/python3.8/site-packages/lightgbm/basic.py:1286: UserWarning: Overriding the parameters from Reference Dataset.\n",
      "  warnings.warn('Overriding the parameters from Reference Dataset.')\n",
      "/home/umhrysnb/anaconda3/lib/python3.8/site-packages/lightgbm/basic.py:1098: UserWarning: categorical_column in param dict is overridden.\n",
      "  warnings.warn('{} in param dict is overridden.'.format(cat_alias))\n"
     ]
    },
    {
     "name": "stdout",
     "output_type": "stream",
     "text": [
      "Training until validation scores don't improve for 100 rounds\n",
      "Early stopping, best iteration is:\n",
      "[685]\tvalid_0's auc: 0.672312\n",
      "Training until validation scores don't improve for 100 rounds\n",
      "Early stopping, best iteration is:\n",
      "[399]\tvalid_0's auc: 0.669865\n",
      "Training until validation scores don't improve for 100 rounds\n",
      "Early stopping, best iteration is:\n",
      "[711]\tvalid_0's auc: 0.668259\n",
      "Training until validation scores don't improve for 100 rounds\n",
      "Early stopping, best iteration is:\n",
      "[434]\tvalid_0's auc: 0.66744\n",
      "--- FINISHED \\ whole score: 0.6694 ---\n",
      "---- id = 110 -----\n"
     ]
    },
    {
     "name": "stderr",
     "output_type": "stream",
     "text": [
      "/home/umhrysnb/anaconda3/lib/python3.8/site-packages/lightgbm/basic.py:1286: UserWarning: Overriding the parameters from Reference Dataset.\n",
      "  warnings.warn('Overriding the parameters from Reference Dataset.')\n",
      "/home/umhrysnb/anaconda3/lib/python3.8/site-packages/lightgbm/basic.py:1098: UserWarning: categorical_column in param dict is overridden.\n",
      "  warnings.warn('{} in param dict is overridden.'.format(cat_alias))\n"
     ]
    },
    {
     "name": "stdout",
     "output_type": "stream",
     "text": [
      "Training until validation scores don't improve for 100 rounds\n",
      "Early stopping, best iteration is:\n",
      "[132]\tvalid_0's auc: 0.634714\n",
      "Training until validation scores don't improve for 100 rounds\n",
      "Early stopping, best iteration is:\n",
      "[81]\tvalid_0's auc: 0.622712\n",
      "Training until validation scores don't improve for 100 rounds\n",
      "Early stopping, best iteration is:\n",
      "[89]\tvalid_0's auc: 0.631203\n",
      "Training until validation scores don't improve for 100 rounds\n",
      "Early stopping, best iteration is:\n",
      "[91]\tvalid_0's auc: 0.627929\n",
      "--- FINISHED \\ whole score: 0.6292 ---\n",
      "---- id = 113 -----\n"
     ]
    },
    {
     "name": "stderr",
     "output_type": "stream",
     "text": [
      "/home/umhrysnb/anaconda3/lib/python3.8/site-packages/lightgbm/basic.py:1286: UserWarning: Overriding the parameters from Reference Dataset.\n",
      "  warnings.warn('Overriding the parameters from Reference Dataset.')\n",
      "/home/umhrysnb/anaconda3/lib/python3.8/site-packages/lightgbm/basic.py:1098: UserWarning: categorical_column in param dict is overridden.\n",
      "  warnings.warn('{} in param dict is overridden.'.format(cat_alias))\n"
     ]
    },
    {
     "name": "stdout",
     "output_type": "stream",
     "text": [
      "Training until validation scores don't improve for 100 rounds\n",
      "Early stopping, best iteration is:\n",
      "[92]\tvalid_0's auc: 0.646191\n",
      "Training until validation scores don't improve for 100 rounds\n",
      "Early stopping, best iteration is:\n",
      "[481]\tvalid_0's auc: 0.647405\n",
      "Training until validation scores don't improve for 100 rounds\n",
      "Early stopping, best iteration is:\n",
      "[127]\tvalid_0's auc: 0.645101\n",
      "Training until validation scores don't improve for 100 rounds\n",
      "Early stopping, best iteration is:\n",
      "[200]\tvalid_0's auc: 0.644344\n",
      "--- FINISHED \\ whole score: 0.6454 ---\n",
      "---- id = 114 -----\n"
     ]
    },
    {
     "name": "stderr",
     "output_type": "stream",
     "text": [
      "/home/umhrysnb/anaconda3/lib/python3.8/site-packages/lightgbm/basic.py:1286: UserWarning: Overriding the parameters from Reference Dataset.\n",
      "  warnings.warn('Overriding the parameters from Reference Dataset.')\n",
      "/home/umhrysnb/anaconda3/lib/python3.8/site-packages/lightgbm/basic.py:1098: UserWarning: categorical_column in param dict is overridden.\n",
      "  warnings.warn('{} in param dict is overridden.'.format(cat_alias))\n"
     ]
    },
    {
     "name": "stdout",
     "output_type": "stream",
     "text": [
      "Training until validation scores don't improve for 100 rounds\n",
      "Early stopping, best iteration is:\n",
      "[766]\tvalid_0's auc: 0.656526\n",
      "Training until validation scores don't improve for 100 rounds\n",
      "Early stopping, best iteration is:\n",
      "[1049]\tvalid_0's auc: 0.653488\n",
      "Training until validation scores don't improve for 100 rounds\n",
      "Early stopping, best iteration is:\n",
      "[498]\tvalid_0's auc: 0.655499\n",
      "Training until validation scores don't improve for 100 rounds\n",
      "Early stopping, best iteration is:\n",
      "[534]\tvalid_0's auc: 0.650938\n",
      "--- FINISHED \\ whole score: 0.6541 ---\n",
      "---- id = 134 -----\n"
     ]
    },
    {
     "name": "stderr",
     "output_type": "stream",
     "text": [
      "/home/umhrysnb/anaconda3/lib/python3.8/site-packages/lightgbm/basic.py:1286: UserWarning: Overriding the parameters from Reference Dataset.\n",
      "  warnings.warn('Overriding the parameters from Reference Dataset.')\n",
      "/home/umhrysnb/anaconda3/lib/python3.8/site-packages/lightgbm/basic.py:1098: UserWarning: categorical_column in param dict is overridden.\n",
      "  warnings.warn('{} in param dict is overridden.'.format(cat_alias))\n"
     ]
    },
    {
     "name": "stdout",
     "output_type": "stream",
     "text": [
      "Training until validation scores don't improve for 100 rounds\n",
      "Early stopping, best iteration is:\n",
      "[390]\tvalid_0's auc: 0.638595\n",
      "Training until validation scores don't improve for 100 rounds\n",
      "Early stopping, best iteration is:\n",
      "[374]\tvalid_0's auc: 0.638265\n",
      "Training until validation scores don't improve for 100 rounds\n",
      "Early stopping, best iteration is:\n",
      "[440]\tvalid_0's auc: 0.637567\n",
      "Training until validation scores don't improve for 100 rounds\n",
      "Early stopping, best iteration is:\n",
      "[357]\tvalid_0's auc: 0.633543\n",
      "--- FINISHED \\ whole score: 0.6370 ---\n",
      "---- id = 171 -----\n"
     ]
    },
    {
     "name": "stderr",
     "output_type": "stream",
     "text": [
      "/home/umhrysnb/anaconda3/lib/python3.8/site-packages/lightgbm/basic.py:1286: UserWarning: Overriding the parameters from Reference Dataset.\n",
      "  warnings.warn('Overriding the parameters from Reference Dataset.')\n",
      "/home/umhrysnb/anaconda3/lib/python3.8/site-packages/lightgbm/basic.py:1098: UserWarning: categorical_column in param dict is overridden.\n",
      "  warnings.warn('{} in param dict is overridden.'.format(cat_alias))\n"
     ]
    },
    {
     "name": "stdout",
     "output_type": "stream",
     "text": [
      "Training until validation scores don't improve for 100 rounds\n",
      "Early stopping, best iteration is:\n",
      "[997]\tvalid_0's auc: 0.701392\n",
      "Training until validation scores don't improve for 100 rounds\n",
      "Early stopping, best iteration is:\n",
      "[516]\tvalid_0's auc: 0.689899\n",
      "Training until validation scores don't improve for 100 rounds\n",
      "Early stopping, best iteration is:\n",
      "[779]\tvalid_0's auc: 0.692522\n",
      "Training until validation scores don't improve for 100 rounds\n",
      "Early stopping, best iteration is:\n",
      "[699]\tvalid_0's auc: 0.691015\n",
      "--- FINISHED \\ whole score: 0.6937 ---\n",
      "---- id = 172 -----\n"
     ]
    },
    {
     "name": "stderr",
     "output_type": "stream",
     "text": [
      "/home/umhrysnb/anaconda3/lib/python3.8/site-packages/lightgbm/basic.py:1286: UserWarning: Overriding the parameters from Reference Dataset.\n",
      "  warnings.warn('Overriding the parameters from Reference Dataset.')\n",
      "/home/umhrysnb/anaconda3/lib/python3.8/site-packages/lightgbm/basic.py:1098: UserWarning: categorical_column in param dict is overridden.\n",
      "  warnings.warn('{} in param dict is overridden.'.format(cat_alias))\n"
     ]
    },
    {
     "name": "stdout",
     "output_type": "stream",
     "text": [
      "Training until validation scores don't improve for 100 rounds\n",
      "Early stopping, best iteration is:\n",
      "[131]\tvalid_0's auc: 0.663502\n",
      "Training until validation scores don't improve for 100 rounds\n",
      "Early stopping, best iteration is:\n",
      "[169]\tvalid_0's auc: 0.670472\n",
      "Training until validation scores don't improve for 100 rounds\n",
      "Early stopping, best iteration is:\n",
      "[222]\tvalid_0's auc: 0.675789\n",
      "Training until validation scores don't improve for 100 rounds\n",
      "Early stopping, best iteration is:\n",
      "[315]\tvalid_0's auc: 0.680094\n",
      "--- FINISHED \\ whole score: 0.6724 ---\n",
      "---- id = 173 -----\n"
     ]
    },
    {
     "name": "stderr",
     "output_type": "stream",
     "text": [
      "/home/umhrysnb/anaconda3/lib/python3.8/site-packages/lightgbm/basic.py:1286: UserWarning: Overriding the parameters from Reference Dataset.\n",
      "  warnings.warn('Overriding the parameters from Reference Dataset.')\n",
      "/home/umhrysnb/anaconda3/lib/python3.8/site-packages/lightgbm/basic.py:1098: UserWarning: categorical_column in param dict is overridden.\n",
      "  warnings.warn('{} in param dict is overridden.'.format(cat_alias))\n"
     ]
    },
    {
     "name": "stdout",
     "output_type": "stream",
     "text": [
      "Training until validation scores don't improve for 100 rounds\n",
      "Early stopping, best iteration is:\n",
      "[1072]\tvalid_0's auc: 0.675685\n",
      "Training until validation scores don't improve for 100 rounds\n",
      "Early stopping, best iteration is:\n",
      "[730]\tvalid_0's auc: 0.668488\n",
      "Training until validation scores don't improve for 100 rounds\n",
      "Early stopping, best iteration is:\n",
      "[1420]\tvalid_0's auc: 0.678497\n",
      "Training until validation scores don't improve for 100 rounds\n",
      "Early stopping, best iteration is:\n",
      "[947]\tvalid_0's auc: 0.68308\n",
      "--- FINISHED \\ whole score: 0.6763 ---\n",
      "---- id = 376 -----\n"
     ]
    },
    {
     "name": "stderr",
     "output_type": "stream",
     "text": [
      "/home/umhrysnb/anaconda3/lib/python3.8/site-packages/lightgbm/basic.py:1286: UserWarning: Overriding the parameters from Reference Dataset.\n",
      "  warnings.warn('Overriding the parameters from Reference Dataset.')\n",
      "/home/umhrysnb/anaconda3/lib/python3.8/site-packages/lightgbm/basic.py:1098: UserWarning: categorical_column in param dict is overridden.\n",
      "  warnings.warn('{} in param dict is overridden.'.format(cat_alias))\n"
     ]
    },
    {
     "name": "stdout",
     "output_type": "stream",
     "text": [
      "Training until validation scores don't improve for 100 rounds\n",
      "Early stopping, best iteration is:\n",
      "[335]\tvalid_0's auc: 0.624803\n",
      "Training until validation scores don't improve for 100 rounds\n",
      "Early stopping, best iteration is:\n",
      "[307]\tvalid_0's auc: 0.622808\n",
      "Training until validation scores don't improve for 100 rounds\n",
      "Early stopping, best iteration is:\n",
      "[300]\tvalid_0's auc: 0.624993\n",
      "Training until validation scores don't improve for 100 rounds\n",
      "Early stopping, best iteration is:\n",
      "[400]\tvalid_0's auc: 0.623749\n",
      "--- FINISHED \\ whole score: 0.6241 ---\n",
      "---- id = 435 -----\n"
     ]
    },
    {
     "name": "stderr",
     "output_type": "stream",
     "text": [
      "/home/umhrysnb/anaconda3/lib/python3.8/site-packages/lightgbm/basic.py:1286: UserWarning: Overriding the parameters from Reference Dataset.\n",
      "  warnings.warn('Overriding the parameters from Reference Dataset.')\n",
      "/home/umhrysnb/anaconda3/lib/python3.8/site-packages/lightgbm/basic.py:1098: UserWarning: categorical_column in param dict is overridden.\n",
      "  warnings.warn('{} in param dict is overridden.'.format(cat_alias))\n"
     ]
    },
    {
     "name": "stdout",
     "output_type": "stream",
     "text": [
      "Training until validation scores don't improve for 100 rounds\n",
      "Early stopping, best iteration is:\n",
      "[884]\tvalid_0's auc: 0.686335\n",
      "Training until validation scores don't improve for 100 rounds\n",
      "Early stopping, best iteration is:\n",
      "[548]\tvalid_0's auc: 0.685523\n",
      "Training until validation scores don't improve for 100 rounds\n",
      "Early stopping, best iteration is:\n",
      "[228]\tvalid_0's auc: 0.678946\n",
      "Training until validation scores don't improve for 100 rounds\n",
      "Early stopping, best iteration is:\n",
      "[712]\tvalid_0's auc: 0.688245\n",
      "--- FINISHED \\ whole score: 0.6843 ---\n",
      "---- id = 467 -----\n"
     ]
    },
    {
     "name": "stderr",
     "output_type": "stream",
     "text": [
      "/home/umhrysnb/anaconda3/lib/python3.8/site-packages/lightgbm/basic.py:1286: UserWarning: Overriding the parameters from Reference Dataset.\n",
      "  warnings.warn('Overriding the parameters from Reference Dataset.')\n",
      "/home/umhrysnb/anaconda3/lib/python3.8/site-packages/lightgbm/basic.py:1098: UserWarning: categorical_column in param dict is overridden.\n",
      "  warnings.warn('{} in param dict is overridden.'.format(cat_alias))\n"
     ]
    },
    {
     "name": "stdout",
     "output_type": "stream",
     "text": [
      "Training until validation scores don't improve for 100 rounds\n",
      "Early stopping, best iteration is:\n",
      "[209]\tvalid_0's auc: 0.688567\n",
      "Training until validation scores don't improve for 100 rounds\n",
      "Early stopping, best iteration is:\n",
      "[123]\tvalid_0's auc: 0.675611\n",
      "Training until validation scores don't improve for 100 rounds\n",
      "Early stopping, best iteration is:\n",
      "[326]\tvalid_0's auc: 0.683245\n",
      "Training until validation scores don't improve for 100 rounds\n",
      "Early stopping, best iteration is:\n",
      "[308]\tvalid_0's auc: 0.69012\n",
      "--- FINISHED \\ whole score: 0.6842 ---\n",
      "---- id = 537 -----\n"
     ]
    },
    {
     "name": "stderr",
     "output_type": "stream",
     "text": [
      "/home/umhrysnb/anaconda3/lib/python3.8/site-packages/lightgbm/basic.py:1286: UserWarning: Overriding the parameters from Reference Dataset.\n",
      "  warnings.warn('Overriding the parameters from Reference Dataset.')\n",
      "/home/umhrysnb/anaconda3/lib/python3.8/site-packages/lightgbm/basic.py:1098: UserWarning: categorical_column in param dict is overridden.\n",
      "  warnings.warn('{} in param dict is overridden.'.format(cat_alias))\n"
     ]
    },
    {
     "name": "stdout",
     "output_type": "stream",
     "text": [
      "Training until validation scores don't improve for 100 rounds\n",
      "Early stopping, best iteration is:\n",
      "[570]\tvalid_0's auc: 0.719765\n",
      "Training until validation scores don't improve for 100 rounds\n",
      "Early stopping, best iteration is:\n",
      "[381]\tvalid_0's auc: 0.724266\n",
      "Training until validation scores don't improve for 100 rounds\n",
      "Early stopping, best iteration is:\n",
      "[524]\tvalid_0's auc: 0.721374\n",
      "Training until validation scores don't improve for 100 rounds\n",
      "Early stopping, best iteration is:\n",
      "[270]\tvalid_0's auc: 0.725137\n",
      "--- FINISHED \\ whole score: 0.7222 ---\n",
      "---- id = 539 -----\n"
     ]
    },
    {
     "name": "stderr",
     "output_type": "stream",
     "text": [
      "/home/umhrysnb/anaconda3/lib/python3.8/site-packages/lightgbm/basic.py:1286: UserWarning: Overriding the parameters from Reference Dataset.\n",
      "  warnings.warn('Overriding the parameters from Reference Dataset.')\n",
      "/home/umhrysnb/anaconda3/lib/python3.8/site-packages/lightgbm/basic.py:1098: UserWarning: categorical_column in param dict is overridden.\n",
      "  warnings.warn('{} in param dict is overridden.'.format(cat_alias))\n"
     ]
    },
    {
     "name": "stdout",
     "output_type": "stream",
     "text": [
      "Training until validation scores don't improve for 100 rounds\n",
      "Early stopping, best iteration is:\n",
      "[398]\tvalid_0's auc: 0.681472\n",
      "Training until validation scores don't improve for 100 rounds\n",
      "Early stopping, best iteration is:\n",
      "[813]\tvalid_0's auc: 0.683242\n",
      "Training until validation scores don't improve for 100 rounds\n",
      "Early stopping, best iteration is:\n",
      "[375]\tvalid_0's auc: 0.674114\n",
      "Training until validation scores don't improve for 100 rounds\n",
      "Early stopping, best iteration is:\n",
      "[617]\tvalid_0's auc: 0.677338\n",
      "--- FINISHED \\ whole score: 0.6788 ---\n",
      "---- id = 629 -----\n"
     ]
    },
    {
     "name": "stderr",
     "output_type": "stream",
     "text": [
      "/home/umhrysnb/anaconda3/lib/python3.8/site-packages/lightgbm/basic.py:1286: UserWarning: Overriding the parameters from Reference Dataset.\n",
      "  warnings.warn('Overriding the parameters from Reference Dataset.')\n",
      "/home/umhrysnb/anaconda3/lib/python3.8/site-packages/lightgbm/basic.py:1098: UserWarning: categorical_column in param dict is overridden.\n",
      "  warnings.warn('{} in param dict is overridden.'.format(cat_alias))\n"
     ]
    },
    {
     "name": "stdout",
     "output_type": "stream",
     "text": [
      "Training until validation scores don't improve for 100 rounds\n",
      "Early stopping, best iteration is:\n",
      "[440]\tvalid_0's auc: 0.749474\n",
      "Training until validation scores don't improve for 100 rounds\n",
      "Early stopping, best iteration is:\n",
      "[212]\tvalid_0's auc: 0.738344\n",
      "Training until validation scores don't improve for 100 rounds\n",
      "Early stopping, best iteration is:\n",
      "[358]\tvalid_0's auc: 0.747065\n",
      "Training until validation scores don't improve for 100 rounds\n",
      "Early stopping, best iteration is:\n",
      "[178]\tvalid_0's auc: 0.734576\n",
      "--- FINISHED \\ whole score: 0.7421 ---\n",
      "---- id = 768 -----\n"
     ]
    },
    {
     "name": "stderr",
     "output_type": "stream",
     "text": [
      "/home/umhrysnb/anaconda3/lib/python3.8/site-packages/lightgbm/basic.py:1286: UserWarning: Overriding the parameters from Reference Dataset.\n",
      "  warnings.warn('Overriding the parameters from Reference Dataset.')\n",
      "/home/umhrysnb/anaconda3/lib/python3.8/site-packages/lightgbm/basic.py:1098: UserWarning: categorical_column in param dict is overridden.\n",
      "  warnings.warn('{} in param dict is overridden.'.format(cat_alias))\n"
     ]
    },
    {
     "name": "stdout",
     "output_type": "stream",
     "text": [
      "Training until validation scores don't improve for 100 rounds\n",
      "Early stopping, best iteration is:\n",
      "[270]\tvalid_0's auc: 0.638386\n",
      "Training until validation scores don't improve for 100 rounds\n",
      "Early stopping, best iteration is:\n",
      "[465]\tvalid_0's auc: 0.636585\n",
      "Training until validation scores don't improve for 100 rounds\n",
      "Early stopping, best iteration is:\n",
      "[209]\tvalid_0's auc: 0.631512\n",
      "Training until validation scores don't improve for 100 rounds\n",
      "Early stopping, best iteration is:\n",
      "[479]\tvalid_0's auc: 0.635152\n",
      "--- FINISHED \\ whole score: 0.6353 ---\n",
      "56486\n",
      "CPU times: user 14h 43min 17s, sys: 13min 25s, total: 14h 56min 43s\n",
      "Wall time: 39min 18s\n"
     ]
    }
   ],
   "source": [
    "%%time\n",
    "df_pred_all = pd.DataFrame()\n",
    "df_score_all = pd.DataFrame(index=ELAPSED_MIN)\n",
    "models_list_list = []\n",
    "\n",
    "for elapsed_min in ELAPSED_MIN:\n",
    "    print(f'===== {elapsed_min} =====')\n",
    "    train_features, y_train = get_train_all_features(elapsed_min, train_log_list, train_y_list)\n",
    "    test_features = get_test_all_feature(elapsed_min)\n",
    "\n",
    "    df_pred = pd.DataFrame(index=test_features['session_id'])\n",
    "    train_features.drop(columns=['session_id'], inplace=True)\n",
    "    test_features.drop(columns=['session_id'], inplace=True)\n",
    "    \n",
    "    models_list = []\n",
    "    for target in y_train.columns:\n",
    "        if target == 'session_id':\n",
    "            continue\n",
    "        \n",
    "        print(f\"---- id = {target} -----\")\n",
    "        oof, models, score = train_lgbm(train_features, y_train[target])\n",
    "        models_list.append(models)\n",
    "\n",
    "        pred = predict(models, test_features)\n",
    "        df_pred[target] = pred\n",
    "        df_score_all.loc[elapsed_min, target] = score\n",
    "        \n",
    "    models_list_list.append(models_list)\n",
    "    df_pred_all = pd.concat([df_pred_all, df_pred])\n",
    "    print(len(df_pred_all))"
   ]
  },
  {
   "cell_type": "code",
   "execution_count": 29,
   "metadata": {},
   "outputs": [
    {
     "data": {
      "text/html": [
       "<div>\n",
       "<style scoped>\n",
       "    .dataframe tbody tr th:only-of-type {\n",
       "        vertical-align: middle;\n",
       "    }\n",
       "\n",
       "    .dataframe tbody tr th {\n",
       "        vertical-align: top;\n",
       "    }\n",
       "\n",
       "    .dataframe thead th {\n",
       "        text-align: right;\n",
       "    }\n",
       "</style>\n",
       "<table border=\"1\" class=\"dataframe\">\n",
       "  <thead>\n",
       "    <tr style=\"text-align: right;\">\n",
       "      <th></th>\n",
       "      <th>38</th>\n",
       "      <th>110</th>\n",
       "      <th>113</th>\n",
       "      <th>114</th>\n",
       "      <th>134</th>\n",
       "      <th>171</th>\n",
       "      <th>172</th>\n",
       "      <th>173</th>\n",
       "      <th>376</th>\n",
       "      <th>435</th>\n",
       "      <th>467</th>\n",
       "      <th>537</th>\n",
       "      <th>539</th>\n",
       "      <th>629</th>\n",
       "      <th>768</th>\n",
       "    </tr>\n",
       "    <tr>\n",
       "      <th>session_id</th>\n",
       "      <th></th>\n",
       "      <th></th>\n",
       "      <th></th>\n",
       "      <th></th>\n",
       "      <th></th>\n",
       "      <th></th>\n",
       "      <th></th>\n",
       "      <th></th>\n",
       "      <th></th>\n",
       "      <th></th>\n",
       "      <th></th>\n",
       "      <th></th>\n",
       "      <th></th>\n",
       "      <th></th>\n",
       "      <th></th>\n",
       "    </tr>\n",
       "  </thead>\n",
       "  <tbody>\n",
       "    <tr>\n",
       "      <th>663721</th>\n",
       "      <td>0.066165</td>\n",
       "      <td>0.012845</td>\n",
       "      <td>0.050452</td>\n",
       "      <td>0.362526</td>\n",
       "      <td>0.120522</td>\n",
       "      <td>0.096720</td>\n",
       "      <td>0.019461</td>\n",
       "      <td>0.061983</td>\n",
       "      <td>0.194036</td>\n",
       "      <td>0.042899</td>\n",
       "      <td>0.027678</td>\n",
       "      <td>0.061412</td>\n",
       "      <td>0.052344</td>\n",
       "      <td>0.017825</td>\n",
       "      <td>0.079523</td>\n",
       "    </tr>\n",
       "    <tr>\n",
       "      <th>663761</th>\n",
       "      <td>0.160473</td>\n",
       "      <td>0.021593</td>\n",
       "      <td>0.087512</td>\n",
       "      <td>0.434458</td>\n",
       "      <td>0.178808</td>\n",
       "      <td>0.127535</td>\n",
       "      <td>0.084279</td>\n",
       "      <td>0.145566</td>\n",
       "      <td>0.196981</td>\n",
       "      <td>0.074895</td>\n",
       "      <td>0.025429</td>\n",
       "      <td>0.201324</td>\n",
       "      <td>0.146833</td>\n",
       "      <td>0.004251</td>\n",
       "      <td>0.223977</td>\n",
       "    </tr>\n",
       "    <tr>\n",
       "      <th>663763</th>\n",
       "      <td>0.109619</td>\n",
       "      <td>0.018317</td>\n",
       "      <td>0.079689</td>\n",
       "      <td>0.360430</td>\n",
       "      <td>0.151949</td>\n",
       "      <td>0.286579</td>\n",
       "      <td>0.067360</td>\n",
       "      <td>0.102522</td>\n",
       "      <td>0.135448</td>\n",
       "      <td>0.133712</td>\n",
       "      <td>0.033788</td>\n",
       "      <td>0.038540</td>\n",
       "      <td>0.115384</td>\n",
       "      <td>0.004160</td>\n",
       "      <td>0.183605</td>\n",
       "    </tr>\n",
       "    <tr>\n",
       "      <th>663775</th>\n",
       "      <td>0.124562</td>\n",
       "      <td>0.019226</td>\n",
       "      <td>0.058562</td>\n",
       "      <td>0.262837</td>\n",
       "      <td>0.110575</td>\n",
       "      <td>0.079874</td>\n",
       "      <td>0.083307</td>\n",
       "      <td>0.167078</td>\n",
       "      <td>0.123020</td>\n",
       "      <td>0.099812</td>\n",
       "      <td>0.033824</td>\n",
       "      <td>0.141324</td>\n",
       "      <td>0.091846</td>\n",
       "      <td>0.003750</td>\n",
       "      <td>0.119449</td>\n",
       "    </tr>\n",
       "    <tr>\n",
       "      <th>663778</th>\n",
       "      <td>0.129514</td>\n",
       "      <td>0.027705</td>\n",
       "      <td>0.092895</td>\n",
       "      <td>0.242339</td>\n",
       "      <td>0.124953</td>\n",
       "      <td>0.090289</td>\n",
       "      <td>0.020049</td>\n",
       "      <td>0.083249</td>\n",
       "      <td>0.139984</td>\n",
       "      <td>0.060662</td>\n",
       "      <td>0.030979</td>\n",
       "      <td>0.109579</td>\n",
       "      <td>0.111933</td>\n",
       "      <td>0.010191</td>\n",
       "      <td>0.153139</td>\n",
       "    </tr>\n",
       "  </tbody>\n",
       "</table>\n",
       "</div>"
      ],
      "text/plain": [
       "                  38       110       113       114       134       171  \\\n",
       "session_id                                                               \n",
       "663721      0.066165  0.012845  0.050452  0.362526  0.120522  0.096720   \n",
       "663761      0.160473  0.021593  0.087512  0.434458  0.178808  0.127535   \n",
       "663763      0.109619  0.018317  0.079689  0.360430  0.151949  0.286579   \n",
       "663775      0.124562  0.019226  0.058562  0.262837  0.110575  0.079874   \n",
       "663778      0.129514  0.027705  0.092895  0.242339  0.124953  0.090289   \n",
       "\n",
       "                 172       173       376       435       467       537  \\\n",
       "session_id                                                               \n",
       "663721      0.019461  0.061983  0.194036  0.042899  0.027678  0.061412   \n",
       "663761      0.084279  0.145566  0.196981  0.074895  0.025429  0.201324   \n",
       "663763      0.067360  0.102522  0.135448  0.133712  0.033788  0.038540   \n",
       "663775      0.083307  0.167078  0.123020  0.099812  0.033824  0.141324   \n",
       "663778      0.020049  0.083249  0.139984  0.060662  0.030979  0.109579   \n",
       "\n",
       "                 539       629       768  \n",
       "session_id                                \n",
       "663721      0.052344  0.017825  0.079523  \n",
       "663761      0.146833  0.004251  0.223977  \n",
       "663763      0.115384  0.004160  0.183605  \n",
       "663775      0.091846  0.003750  0.119449  \n",
       "663778      0.111933  0.010191  0.153139  "
      ]
     },
     "execution_count": 29,
     "metadata": {},
     "output_type": "execute_result"
    }
   ],
   "source": [
    "df_pred_all.head()"
   ]
  },
  {
   "cell_type": "code",
   "execution_count": 30,
   "metadata": {},
   "outputs": [
    {
     "data": {
      "text/html": [
       "<div>\n",
       "<style scoped>\n",
       "    .dataframe tbody tr th:only-of-type {\n",
       "        vertical-align: middle;\n",
       "    }\n",
       "\n",
       "    .dataframe tbody tr th {\n",
       "        vertical-align: top;\n",
       "    }\n",
       "\n",
       "    .dataframe thead th {\n",
       "        text-align: right;\n",
       "    }\n",
       "</style>\n",
       "<table border=\"1\" class=\"dataframe\">\n",
       "  <thead>\n",
       "    <tr style=\"text-align: right;\">\n",
       "      <th></th>\n",
       "      <th>38</th>\n",
       "      <th>110</th>\n",
       "      <th>113</th>\n",
       "      <th>114</th>\n",
       "      <th>134</th>\n",
       "      <th>171</th>\n",
       "      <th>172</th>\n",
       "      <th>173</th>\n",
       "      <th>376</th>\n",
       "      <th>435</th>\n",
       "      <th>467</th>\n",
       "      <th>537</th>\n",
       "      <th>539</th>\n",
       "      <th>629</th>\n",
       "      <th>768</th>\n",
       "    </tr>\n",
       "  </thead>\n",
       "  <tbody>\n",
       "    <tr>\n",
       "      <th>0</th>\n",
       "      <td>0.681338</td>\n",
       "      <td>0.642867</td>\n",
       "      <td>0.639008</td>\n",
       "      <td>0.634153</td>\n",
       "      <td>0.620534</td>\n",
       "      <td>0.705590</td>\n",
       "      <td>0.697278</td>\n",
       "      <td>0.695533</td>\n",
       "      <td>0.613601</td>\n",
       "      <td>0.697475</td>\n",
       "      <td>0.695277</td>\n",
       "      <td>0.743360</td>\n",
       "      <td>0.689649</td>\n",
       "      <td>0.763795</td>\n",
       "      <td>0.614263</td>\n",
       "    </tr>\n",
       "    <tr>\n",
       "      <th>3</th>\n",
       "      <td>0.661796</td>\n",
       "      <td>0.629690</td>\n",
       "      <td>0.631976</td>\n",
       "      <td>0.633555</td>\n",
       "      <td>0.620624</td>\n",
       "      <td>0.690625</td>\n",
       "      <td>0.670676</td>\n",
       "      <td>0.675017</td>\n",
       "      <td>0.607681</td>\n",
       "      <td>0.685592</td>\n",
       "      <td>0.683929</td>\n",
       "      <td>0.724448</td>\n",
       "      <td>0.673813</td>\n",
       "      <td>0.737515</td>\n",
       "      <td>0.632579</td>\n",
       "    </tr>\n",
       "    <tr>\n",
       "      <th>5</th>\n",
       "      <td>0.662688</td>\n",
       "      <td>0.633320</td>\n",
       "      <td>0.635149</td>\n",
       "      <td>0.638300</td>\n",
       "      <td>0.623749</td>\n",
       "      <td>0.689351</td>\n",
       "      <td>0.673602</td>\n",
       "      <td>0.671451</td>\n",
       "      <td>0.613029</td>\n",
       "      <td>0.685548</td>\n",
       "      <td>0.686094</td>\n",
       "      <td>0.714508</td>\n",
       "      <td>0.674561</td>\n",
       "      <td>0.742310</td>\n",
       "      <td>0.630271</td>\n",
       "    </tr>\n",
       "    <tr>\n",
       "      <th>10</th>\n",
       "      <td>0.669369</td>\n",
       "      <td>0.629198</td>\n",
       "      <td>0.645365</td>\n",
       "      <td>0.654073</td>\n",
       "      <td>0.636985</td>\n",
       "      <td>0.693714</td>\n",
       "      <td>0.672449</td>\n",
       "      <td>0.676338</td>\n",
       "      <td>0.624076</td>\n",
       "      <td>0.684348</td>\n",
       "      <td>0.684181</td>\n",
       "      <td>0.722214</td>\n",
       "      <td>0.678761</td>\n",
       "      <td>0.742089</td>\n",
       "      <td>0.635335</td>\n",
       "    </tr>\n",
       "  </tbody>\n",
       "</table>\n",
       "</div>"
      ],
      "text/plain": [
       "          38       110       113       114       134       171       172  \\\n",
       "0   0.681338  0.642867  0.639008  0.634153  0.620534  0.705590  0.697278   \n",
       "3   0.661796  0.629690  0.631976  0.633555  0.620624  0.690625  0.670676   \n",
       "5   0.662688  0.633320  0.635149  0.638300  0.623749  0.689351  0.673602   \n",
       "10  0.669369  0.629198  0.645365  0.654073  0.636985  0.693714  0.672449   \n",
       "\n",
       "         173       376       435       467       537       539       629  \\\n",
       "0   0.695533  0.613601  0.697475  0.695277  0.743360  0.689649  0.763795   \n",
       "3   0.675017  0.607681  0.685592  0.683929  0.724448  0.673813  0.737515   \n",
       "5   0.671451  0.613029  0.685548  0.686094  0.714508  0.674561  0.742310   \n",
       "10  0.676338  0.624076  0.684348  0.684181  0.722214  0.678761  0.742089   \n",
       "\n",
       "         768  \n",
       "0   0.614263  \n",
       "3   0.632579  \n",
       "5   0.630271  \n",
       "10  0.635335  "
      ]
     },
     "execution_count": 30,
     "metadata": {},
     "output_type": "execute_result"
    }
   ],
   "source": [
    "df_score_all"
   ]
  },
  {
   "cell_type": "code",
   "execution_count": 36,
   "metadata": {},
   "outputs": [
    {
     "name": "stdout",
     "output_type": "stream",
     "text": [
      "0     0.675581\n",
      "3     0.663968\n",
      "5     0.664929\n",
      "10    0.669900\n",
      "dtype: float64\n",
      "- cv = 0.6685943646773931\n"
     ]
    }
   ],
   "source": [
    "cv = df_score_all.mean(axis=1)\n",
    "print(cv)\n",
    "print('- cv =', cv.mean())"
   ]
  },
  {
   "cell_type": "code",
   "execution_count": 32,
   "metadata": {},
   "outputs": [],
   "source": [
    "assert len(df_pred_all) == len(test)"
   ]
  },
  {
   "cell_type": "code",
   "execution_count": 33,
   "metadata": {},
   "outputs": [],
   "source": [
    "submission = pd.merge(test[['session_id']], df_pred_all.reset_index(), on='session_id', how='inner')\n",
    "assert len(submission) == len(test)"
   ]
  },
  {
   "cell_type": "code",
   "execution_count": 34,
   "metadata": {},
   "outputs": [],
   "source": [
    "submission.drop(columns='session_id').to_csv('../outputs/submission.csv', index=False)"
   ]
  },
  {
   "cell_type": "code",
   "execution_count": null,
   "metadata": {},
   "outputs": [],
   "source": []
  },
  {
   "cell_type": "markdown",
   "metadata": {},
   "source": [
    "### baseline_5\n",
    "- feat = 74\n",
    "- Wall time: 39min 18s\n",
    "- cv = 0.66859\n",
    "- LB = 0.6230\n",
    "\n",
    "### baseline_4_1\n",
    "- 5minのみ\n",
    "- cv=0.655407\n",
    "- Wall time: 13min 51s\n",
    "\n",
    "### baseline_4\n",
    "- 5minのみ\n",
    "- cv=0.655407\n",
    "- Wall time: 11min 56s"
   ]
  },
  {
   "cell_type": "code",
   "execution_count": null,
   "metadata": {},
   "outputs": [],
   "source": []
  }
 ],
 "metadata": {
  "kernelspec": {
   "display_name": "Python 3",
   "language": "python",
   "name": "python3"
  },
  "language_info": {
   "codemirror_mode": {
    "name": "ipython",
    "version": 3
   },
   "file_extension": ".py",
   "mimetype": "text/x-python",
   "name": "python",
   "nbconvert_exporter": "python",
   "pygments_lexer": "ipython3",
   "version": "3.8.3"
  }
 },
 "nbformat": 4,
 "nbformat_minor": 4
}
