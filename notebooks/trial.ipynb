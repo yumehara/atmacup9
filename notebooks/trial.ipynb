{
 "cells": [
  {
   "cell_type": "code",
   "execution_count": 1,
   "metadata": {},
   "outputs": [],
   "source": [
    "import gc\n",
    "import numpy as np\n",
    "import matplotlib.pyplot as plt\n",
    "import pandas as pd\n",
    "import feather\n",
    "import datetime\n",
    "from matplotlib_venn import venn2\n",
    "from sklearn import preprocessing\n",
    "from sklearn.model_selection import KFold\n",
    "from sklearn.model_selection import StratifiedKFold\n",
    "import lightgbm as lgbm\n",
    "from sklearn.model_selection import train_test_split\n",
    "from sklearn.metrics import roc_auc_score\n",
    "from sklearn.decomposition import LatentDirichletAllocation as LDA\n",
    "pd.set_option('display.max_Columns', 100)"
   ]
  },
  {
   "cell_type": "code",
   "execution_count": 2,
   "metadata": {},
   "outputs": [],
   "source": [
    "cartlog = pd.read_feather('../inputs/cartlog.f')\n",
    "product_master = pd.read_feather('../inputs/product_master.f')\n",
    "meta = pd.read_feather('../inputs/meta.f')\n",
    "user_master = pd.read_feather('../inputs/user_master.f')\n",
    "test = pd.read_csv('../inputs/test.csv')\n",
    "display_action_id = pd.read_csv('../inputs/display_action_id.csv')\n",
    "\n",
    "product_master['JAN'] = product_master['JAN'].astype(str)"
   ]
  },
  {
   "cell_type": "code",
   "execution_count": 3,
   "metadata": {},
   "outputs": [
    {
     "name": "stdout",
     "output_type": "stream",
     "text": [
      "56486\n"
     ]
    }
   ],
   "source": [
    "test_sessions = test[\"session_id\"].unique()\n",
    "print(len(test_sessions))\n",
    "test_input_log = cartlog[cartlog[\"session_id\"].isin(test_sessions)]"
   ]
  },
  {
   "cell_type": "code",
   "execution_count": 4,
   "metadata": {},
   "outputs": [],
   "source": [
    "target_category = [\n",
    "    38,  # アイスクリーム__ノベルティー\n",
    "    110,  # スナック・キャンディー__ガム\n",
    "    113,  # スナック・キャンディー__シリアル\n",
    "    114,  # スナック・キャンディー__スナック\n",
    "    134,  # チョコ・ビスクラ__チョコレート\n",
    "    171,  # ビール系__RTD\n",
    "    172,  # ビール系__ノンアルコール\n",
    "    173,  # ビール系__ビール系\n",
    "    376,  # 和菓子__米菓\n",
    "    435,  # 大型PET__無糖茶（大型PET）\n",
    "    467,  # 小型PET__コーヒー（小型PET）\n",
    "    537,  # 水・炭酸水__大型PET（炭酸水）\n",
    "    539,  # 水・炭酸水__小型PET（炭酸水）\n",
    "    629,  # 缶飲料__コーヒー（缶）\n",
    "    768,  # 麺類__カップ麺\n",
    "]"
   ]
  },
  {
   "cell_type": "code",
   "execution_count": 5,
   "metadata": {},
   "outputs": [
    {
     "name": "stdout",
     "output_type": "stream",
     "text": [
      "2020-08-01以前:  663708\n",
      "購買が発生:  618462\n",
      "10分以上:  404825\n",
      "積集合:  391383\n",
      "全trainのログ:  10826062\n"
     ]
    }
   ],
   "source": [
    "# 2020-08-01以前で10分以上経過し購買が発生したセッションにtrainデータを絞る\n",
    "tmp_sessions = meta[meta['date'] < '2020-08-01']['session_id'].unique()\n",
    "tmp_log = cartlog[cartlog[\"session_id\"].isin(tmp_sessions)]\n",
    "print('2020-08-01以前: ', len(tmp_sessions))\n",
    "\n",
    "# 購買が発生したセッション\n",
    "payment_sessions = set(tmp_log[tmp_log['is_payment']==1]['session_id'].unique())\n",
    "print('購買が発生: ', len(payment_sessions))\n",
    "# 10分以上のセッション\n",
    "over10min_sessions = set(tmp_log[tmp_log['spend_time']>=600]['session_id'].unique())\n",
    "print('10分以上: ', len(over10min_sessions))\n",
    "# 積集合\n",
    "all_train_sessions = payment_sessions & over10min_sessions\n",
    "print('積集合: ', len(all_train_sessions))\n",
    "\n",
    "# 10分以上の全trainのログデータ\n",
    "all_train_log = tmp_log[tmp_log[\"session_id\"].isin(all_train_sessions)]\n",
    "print('全trainのログ: ', len(all_train_log))"
   ]
  },
  {
   "cell_type": "code",
   "execution_count": 6,
   "metadata": {},
   "outputs": [],
   "source": [
    "def agg_payment(cartlog) -> pd.DataFrame:\n",
    "    \"\"\"セッションごと・商品ごとの購買個数を集計する\"\"\"\n",
    "    # JANコード (vale_1)ごとに商品の購入個数(n_items)を足し算\n",
    "    agg = cartlog.loc[cartlog[\"kind_1\"] == \"商品\"].groupby([\"session_id\", \"value_1\"])[\"n_items\"].sum().reset_index()\n",
    "    agg = agg.rename(columns={\"value_1\": \"JAN\"})\n",
    "    return pd.merge(agg, product_master[[\"JAN\", \"category_id\"]], on=\"JAN\", how=\"inner\").drop(columns=['JAN'])"
   ]
  },
  {
   "cell_type": "code",
   "execution_count": 7,
   "metadata": {},
   "outputs": [],
   "source": [
    "class RetailDataset:\n",
    "    def __init__(self, thres_sec, meta):\n",
    "        self.thres_sec = thres_sec\n",
    "        self.meta = meta.copy()\n",
    "        self.meta['time_elapsed_sec'] = self.meta['time_elapsed'] * 60\n",
    "        self.meta.loc[self.meta['time_elapsed_sec'].isnull(), 'time_elapsed_sec'] = thres_sec\n",
    "        \n",
    "        # all_train_logの中で、指定時間より前のログのみを抽出　-> public_train_log, train_sessions\n",
    "        merge_train = pd.merge(all_train_log, self.meta[[\"session_id\", \"time_elapsed_sec\"]], on=[\"session_id\"], how=\"inner\")\n",
    "        self.public_train_log = merge_train[merge_train['spend_time'] <= merge_train['time_elapsed_sec']]\n",
    "        self.train_sessions = self.public_train_log[\"session_id\"].unique()\n",
    "        \n",
    "    def get_train_input_log(self) -> pd.DataFrame:\n",
    "        return self.public_train_log\n",
    "\n",
    "    def get_train_target(self) -> pd.DataFrame:\n",
    "        \"\"\"学習で使用するセッションの目的変数を取得する\"\"\"\n",
    "        train_target = pd.DataFrame(\n",
    "            index=self.train_sessions,\n",
    "        )\n",
    "        train_target.index.name = \"session_id\"\n",
    "\n",
    "        # time_elapsed以降のデータから購買個数を集計する\n",
    "        merge_train = pd.merge(all_train_log, self.meta[[\"session_id\", \"time_elapsed_sec\"]], on=[\"session_id\"], how=\"inner\")\n",
    "        after_elapsed_log = merge_train[merge_train['spend_time'] > merge_train['time_elapsed_sec']]\n",
    "        \n",
    "        train_item_num = agg_payment(after_elapsed_log)\n",
    "        train_item_num = train_item_num[train_item_num['category_id'].isin(target_category)]\n",
    "        train_target_pos = train_item_num.groupby([\"session_id\", \"category_id\"])[\"n_items\"].sum().unstack().fillna(0).astype(int)\n",
    "        train_target_pos[train_target_pos > 0] = 1\n",
    "        train_target_pos[train_target_pos <= 0] = 0\n",
    "\n",
    "        return train_target.join(train_target_pos).fillna(0).reset_index()"
   ]
  },
  {
   "cell_type": "code",
   "execution_count": 8,
   "metadata": {},
   "outputs": [],
   "source": [
    "def get_train_log(elapsed_min):\n",
    "    dataset = RetailDataset(elapsed_min*60, meta)\n",
    "    train_input_log = dataset.get_train_input_log()\n",
    "    y_train = dataset.get_train_target()\n",
    "    print('train_session', y_train.shape)\n",
    "    return train_input_log, y_train"
   ]
  },
  {
   "cell_type": "code",
   "execution_count": 9,
   "metadata": {},
   "outputs": [],
   "source": [
    "ELAPSED_MIN = [0, 3, 5, 10]\n",
    "# ELAPSED_MIN = [5]"
   ]
  },
  {
   "cell_type": "code",
   "execution_count": 10,
   "metadata": {},
   "outputs": [],
   "source": [
    "def save_train_log():\n",
    "    for elap_min in ELAPSED_MIN:\n",
    "        train_log, train_y = get_train_log(elap_min)\n",
    "        train_log = train_log.reset_index(drop=True)\n",
    "        train_y = train_y.reset_index(drop=True)\n",
    "        train_y.columns = [str(c) for c in train_y.columns]\n",
    "        train_log.to_feather('../inputs/train2_log_{}.f'.format(elap_min))\n",
    "        train_y.to_feather('../inputs/train2_y_{}.f'.format(elap_min))"
   ]
  },
  {
   "cell_type": "code",
   "execution_count": 11,
   "metadata": {},
   "outputs": [],
   "source": [
    "def load_train_log():\n",
    "    train_log = {}\n",
    "    train_y = {}\n",
    "    for elap_min in ELAPSED_MIN:\n",
    "        log = pd.read_feather('../inputs/train2_log_{}.f'.format(elap_min))\n",
    "        y = pd.read_feather('../inputs/train2_y_{}.f'.format(elap_min))\n",
    "        train_log[elap_min] = log\n",
    "        train_y[elap_min] = y\n",
    "    return train_log, train_y"
   ]
  },
  {
   "cell_type": "code",
   "execution_count": 12,
   "metadata": {},
   "outputs": [],
   "source": [
    "# save_train_log()"
   ]
  },
  {
   "cell_type": "markdown",
   "metadata": {},
   "source": [
    "- 0, train_session (378594, 16)\n",
    "- 3, train_session (389649, 16)\n",
    "- 5, train_session (390621, 16)\n",
    "- 10, train_session (391074, 16)"
   ]
  },
  {
   "cell_type": "markdown",
   "metadata": {},
   "source": [
    "### 過去のログデータ"
   ]
  },
  {
   "cell_type": "code",
   "execution_count": 13,
   "metadata": {},
   "outputs": [],
   "source": [
    "payed_item = agg_payment(all_train_log)"
   ]
  },
  {
   "cell_type": "markdown",
   "metadata": {},
   "source": [
    "#### クーポン発行とターゲットカテゴリの購入数の関係"
   ]
  },
  {
   "cell_type": "code",
   "execution_count": 14,
   "metadata": {},
   "outputs": [],
   "source": [
    "def get_coupon_log_data(payed_item):\n",
    "    # train用のデータから購買した商品\n",
    "    payed_item_in_cat = payed_item[payed_item['category_id'].isin(target_category)]\n",
    "    cat_pivot = payed_item_in_cat.pivot_table(\n",
    "        index='session_id', columns='category_id', values='n_items').fillna(0).add_prefix('coupon_').reset_index()\n",
    "\n",
    "    # 発券されたクーポン\n",
    "    coupon = all_train_log[all_train_log['kind_1'] == 'クーポン']\n",
    "    coupon_count = coupon['value_1'].value_counts()\n",
    "    print(len(coupon_count))\n",
    "    session_coupon = coupon[coupon['value_1'].isin(list(coupon_count.index))][['session_id', 'value_1']]\n",
    "    session_coupon = session_coupon.rename(columns={'value_1':'coupon'})\n",
    "    session_coupon = session_coupon.groupby(['session_id', 'coupon']).size().reset_index()\n",
    "\n",
    "    session_cat_coupon = pd.merge(cat_pivot, session_coupon[['session_id', 'coupon']], on='session_id', how='left')\n",
    "    session_cat_coupon['coupon'] = session_cat_coupon['coupon'].fillna(0)\n",
    "    session_cat_coupon.drop(columns=['session_id'], inplace=True)\n",
    "    group_coupon = session_cat_coupon.groupby(['coupon']).mean()\n",
    "    group_coupon[group_coupon < 0] = 0\n",
    "    return group_coupon.reset_index()"
   ]
  },
  {
   "cell_type": "code",
   "execution_count": 15,
   "metadata": {},
   "outputs": [],
   "source": [
    "def LDA_topic(df_input, topic, index, prefix):\n",
    "    df_cp = df_input.set_index(index)\n",
    "    lda = LDA(n_components=topic)\n",
    "    lda_out = pd.DataFrame(lda.fit_transform(df_cp), index=df_cp.index).add_prefix(prefix)\n",
    "    return lda_out.reset_index()"
   ]
  },
  {
   "cell_type": "code",
   "execution_count": 16,
   "metadata": {},
   "outputs": [],
   "source": [
    "# group_coupon = get_coupon_log_data(payed_item)\n",
    "# lda_coupon = LDA_topic(group_coupon, 6, 'coupon', 'LDA_coup_')"
   ]
  },
  {
   "cell_type": "markdown",
   "metadata": {},
   "source": [
    "### ユーザ情報"
   ]
  },
  {
   "cell_type": "code",
   "execution_count": 17,
   "metadata": {},
   "outputs": [],
   "source": [
    "user_features = pd.merge(meta[[\"session_id\", \"user_id\"]], user_master, on=\"user_id\", how=\"left\")\n",
    "user_features.loc[user_features['age'] >= 80, 'age'] = np.NaN\n",
    "user_features.loc[user_features['age'] < 10, 'age'] = np.NaN\n",
    "user_features.loc[user_features['gender'] > 1, 'gender'] = np.NaN"
   ]
  },
  {
   "cell_type": "code",
   "execution_count": 18,
   "metadata": {},
   "outputs": [],
   "source": [
    "def get_user_item(payed_item):\n",
    "    # train用のデータから購買した商品\n",
    "    user_payed_item = pd.merge(payed_item, meta[['session_id', 'user_id']], on='session_id', how='left')\n",
    "    group_user_item = user_payed_item.groupby(['user_id', 'category_id'])[['n_items']].sum().reset_index()\n",
    "    pivot_user_item = group_user_item.pivot_table(index='user_id', columns='category_id', values='n_items')\n",
    "    # 全ユーザーの購入数の合計が5000以上のカテゴリに絞り込み\n",
    "    sum_user_item = pivot_user_item.sum()\n",
    "    user_item_index = sum_user_item[sum_user_item > 5000].index\n",
    "    pivot_user_item = pivot_user_item[user_item_index].fillna(0).reset_index()\n",
    "    # trainに存在しない人用に平均値で穴埋め\n",
    "    user_item_mean = pivot_user_item.mean()\n",
    "    # 全ユーザーとマージ\n",
    "    all_user_item = pd.merge(user_master[['user_id']], pivot_user_item, on='user_id', how='left')\n",
    "    # targetのカテゴリは除く\n",
    "    for col in all_user_item.columns:\n",
    "        if (col == 'user_id') or (col in target_category):\n",
    "            continue\n",
    "        new_col = 'user_pay_{}'.format(col)\n",
    "        all_user_item[new_col] = all_user_item[col].fillna(user_item_mean[col]).astype('float32')\n",
    "        all_user_item.loc[all_user_item[new_col]<0, new_col] = 0\n",
    "\n",
    "    return all_user_item.drop(columns=list(user_item_mean.index))"
   ]
  },
  {
   "cell_type": "code",
   "execution_count": 19,
   "metadata": {},
   "outputs": [
    {
     "name": "stdout",
     "output_type": "stream",
     "text": [
      "(40350, 231)\n"
     ]
    }
   ],
   "source": [
    "all_user_item = get_user_item(payed_item)\n",
    "print(all_user_item.shape)"
   ]
  },
  {
   "cell_type": "code",
   "execution_count": 20,
   "metadata": {},
   "outputs": [],
   "source": [
    "# %%time\n",
    "# user_lda = LDA_topic(all_user_item, 10, 'user_id', 'LDA_')\n",
    "# user_lda.to_feather('../inputs/user_lda.f')"
   ]
  },
  {
   "cell_type": "code",
   "execution_count": 21,
   "metadata": {},
   "outputs": [],
   "source": [
    "user_lda = pd.read_feather('../inputs/user_lda.f')\n",
    "all_user_item = pd.merge(all_user_item, user_lda, on='user_id', how='left')"
   ]
  },
  {
   "cell_type": "code",
   "execution_count": 22,
   "metadata": {},
   "outputs": [
    {
     "name": "stdout",
     "output_type": "stream",
     "text": [
      "(40350, 241)\n"
     ]
    }
   ],
   "source": [
    "print(all_user_item.shape)"
   ]
  },
  {
   "cell_type": "markdown",
   "metadata": {},
   "source": [
    "### メタ情報"
   ]
  },
  {
   "cell_type": "code",
   "execution_count": 23,
   "metadata": {},
   "outputs": [],
   "source": [
    "def get_meta_features(meta):\n",
    "    meta_features = meta.copy()\n",
    "    meta_features['year'] = meta_features['date'].dt.year\n",
    "    meta_features['month'] = meta_features['date'].dt.month\n",
    "    meta_features['day'] = meta_features['date'].dt.day\n",
    "    meta_features['dow'] = meta_features['date'].dt.dayofweek\n",
    "    meta_features['doy'] = meta_features['date'].dt.dayofyear\n",
    "    meta_features['week_time'] = meta_features['dow'] * 24 + meta_features['hour']\n",
    "    le = preprocessing.LabelEncoder()\n",
    "    meta_features['userid'] = le.fit_transform(meta_features['user_id'])\n",
    "    \n",
    "    # 曜日x時間の来店者数\n",
    "    df_tz = meta_features.groupby(['week_time']).size().rename('timezone_count')\n",
    "    df_tz =  pd.DataFrame(df_tz).reset_index()\n",
    "    meta_features = pd.merge(meta_features, df_tz, on='week_time', how='left')\n",
    "    \n",
    "    # userごとに前の来店からどれくらいの日数が経ったか\n",
    "    df = meta_features.groupby(['session_id', 'user_id', 'date']).first().reset_index().sort_values(['user_id', 'session_id'])\n",
    "    df['date_diff'] = df['date'].diff(1)\n",
    "    df['user_diff'] = df['user_id'].shift(1)\n",
    "    df.loc[df['user_diff'] != df['user_id'], 'date_diff'] = pd.NaT\n",
    "    df['date_diff'] = df['date_diff'].dt.days\n",
    "    meta_features = meta_features.join(df[['date_diff']])\n",
    "\n",
    "    # userごとの来店回数\n",
    "    meta_features['date_rank'] = meta_features.groupby(['user_id'])['date'].rank(ascending=True)\n",
    "    \n",
    "    return meta_features.drop(columns=['user_id', 'date', 'time_elapsed', 'date_str'])"
   ]
  },
  {
   "cell_type": "code",
   "execution_count": 24,
   "metadata": {},
   "outputs": [],
   "source": [
    "meta_features = get_meta_features(meta)"
   ]
  },
  {
   "cell_type": "markdown",
   "metadata": {},
   "source": [
    "### ディスプレイアクション"
   ]
  },
  {
   "cell_type": "code",
   "execution_count": 25,
   "metadata": {},
   "outputs": [],
   "source": [
    "disp_name_dic = {}\n",
    "for i, disp in enumerate(display_action_id['display_name'].unique()):\n",
    "    disp_name_dic[disp] = 'disp_cnt_{}'.format(i)\n",
    "    \n",
    "act_name_dic = {}\n",
    "for i, action in enumerate(display_action_id['action_name'].unique()):\n",
    "    act_name_dic[action] = 'act_cnt_{}'.format(i)"
   ]
  },
  {
   "cell_type": "code",
   "execution_count": 26,
   "metadata": {},
   "outputs": [],
   "source": [
    "def get_display_name_feature(input_log):\n",
    "    merge = pd.merge(input_log, display_action_id, on='display_action_id', how='left')\n",
    "    disp_group_count = merge.groupby(['session_id', 'display_name']).size().reset_index().rename(columns={0:'disp_name_count'})\n",
    "    disp_name_pivot = disp_group_count.pivot_table(index='session_id', columns='display_name', values='disp_name_count', aggfunc='sum')\n",
    "    disp_name_pivot = disp_name_pivot.reset_index().fillna(0).rename(columns=disp_name_dic)\n",
    "    \n",
    "    disp_out = disp_name_pivot[['session_id']].copy()\n",
    "    for val in disp_name_dic.values():\n",
    "        disp_out[val] = 0\n",
    "    \n",
    "    for col in disp_name_pivot.columns:\n",
    "        if col == 'session_id':\n",
    "            continue\n",
    "        disp_out[col] = disp_name_pivot[col]\n",
    "    \n",
    "    return disp_out"
   ]
  },
  {
   "cell_type": "code",
   "execution_count": 27,
   "metadata": {},
   "outputs": [],
   "source": [
    "def get_action_name_feature(input_log):\n",
    "    merge = pd.merge(input_log, display_action_id, on='display_action_id', how='left')\n",
    "    act_group_count = merge.groupby(['session_id', 'action_name']).size().reset_index().rename(columns={0:'act_name_count'})\n",
    "    act_name_pivot = act_group_count.pivot_table(index='session_id', columns='action_name', values='act_name_count', aggfunc='sum')\n",
    "    act_name_pivot = act_name_pivot.reset_index().fillna(0).rename(columns=act_name_dic)\n",
    "    \n",
    "    act_out = act_name_pivot[['session_id']].copy()\n",
    "    for val in act_name_dic.values():\n",
    "        act_out[val] = 0\n",
    "    \n",
    "    for col in act_name_pivot.columns:\n",
    "        if col == 'session_id':\n",
    "            continue\n",
    "        act_out[col] = act_name_pivot[col]\n",
    "    \n",
    "    return act_out"
   ]
  },
  {
   "cell_type": "markdown",
   "metadata": {},
   "source": [
    "### セッション単位の特徴量"
   ]
  },
  {
   "cell_type": "code",
   "execution_count": 28,
   "metadata": {},
   "outputs": [],
   "source": [
    "# def get_coupon_info(input_log):\n",
    "#     session_coupon = input_log[input_log[\"kind_1\"] == \"クーポン\"][['session_id', 'value_1']].rename(columns={'value_1':'coupon'})\n",
    "#     session_coupon = pd.merge(session_coupon, lda_coupon, on='coupon', how='left').drop(columns=['coupon'])\n",
    "#     session_coupon = session_coupon.groupby(['session_id']).max().reset_index()\n",
    "#     return session_coupon"
   ]
  },
  {
   "cell_type": "code",
   "execution_count": 29,
   "metadata": {},
   "outputs": [],
   "source": [
    "def get_pre_payment_item(input_log):\n",
    "    session_unique = input_log['session_id'].unique()\n",
    "    agg = input_log.loc[input_log[\"kind_1\"] == \"商品\"].groupby([\"session_id\", \"value_1\"])[\"n_items\"].sum().reset_index()\n",
    "    agg = agg.rename(columns={\"value_1\": \"JAN\"})\n",
    "    agg = pd.merge(agg, product_master[[\"JAN\", \"category_id\"]], on=\"JAN\", how=\"inner\")\n",
    "    agg = agg[agg['category_id'].isin(target_category)]\n",
    "    agg = agg.groupby([\"session_id\", \"category_id\"])[\"n_items\"].sum().reset_index()\n",
    "    \n",
    "    sesi = np.zeros(len(target_category))\n",
    "    cate = [ct for ct in target_category]\n",
    "    \n",
    "    dummy = pd.DataFrame({'session_id':sesi, 'category_id':cate, 'n_items':sesi})\n",
    "    agg = pd.concat([agg, dummy])\n",
    "    \n",
    "    agg = agg.pivot_table(index='session_id', columns='category_id', values='n_items').fillna(0)\n",
    "    src_columns = ['x_{}'.format(c) for c in agg.columns]\n",
    "    agg.columns = src_columns\n",
    "    \n",
    "    col = ['pre_target_{}'.format(c) for c in target_category]\n",
    "    df_out = pd.DataFrame(index=session_unique, columns=col)\n",
    "    df_out.index.name = \"session_id\"\n",
    "    df_out = df_out.join(agg)\n",
    "    for ct in target_category:\n",
    "        src = 'x_{}'.format(ct)\n",
    "        dst = 'pre_target_{}'.format(ct)\n",
    "        df_out[dst] = df_out[src]\n",
    "    \n",
    "    return df_out.drop(columns=src_columns).fillna(0).reset_index()"
   ]
  },
  {
   "cell_type": "code",
   "execution_count": 30,
   "metadata": {},
   "outputs": [],
   "source": [
    "def get_session_kind_group(input_log):\n",
    "    kind_name ={\n",
    "        'クーポン': 'coupon',\n",
    "        '会計': 'kaikei',\n",
    "        'キー': 'key',\n",
    "        'カテゴリ': 'categry',\n",
    "        'バーコードスキャン': 'barcode',\n",
    "        'UUID': 'uuid',\n",
    "        '使用ポイント': 'usedpoint',\n",
    "        '確認': 'confirm',\n",
    "        'ブランドスイッチ': 'bland',\n",
    "        'レシピ': 'recipe',\n",
    "        'スマホスキャン': 'smartphone',\n",
    "        '磁気スキャン': 'magnetic',\n",
    "        'レコメンド': 'recommend',\n",
    "        '倍率ポイント': 'point',\n",
    "    }\n",
    "    group_count = input_log[input_log['kind_1'] == '商品'].groupby([\"session_id\"]).size().rename('group_count_'+'item')\n",
    "    for kind, name in kind_name.items():\n",
    "        tmp = input_log[input_log['kind_1'] == kind].groupby([\"session_id\"]).size().rename('group_count_'+name)\n",
    "        group_count = pd.concat([group_count, tmp], axis=1)\n",
    "        \n",
    "    return group_count.reset_index()"
   ]
  },
  {
   "cell_type": "code",
   "execution_count": 31,
   "metadata": {},
   "outputs": [],
   "source": [
    "def get_session_info(input_log):\n",
    "    # アクション数\n",
    "    n_actions = input_log.groupby([\"session_id\"]).size().rename(\"n_actions\")\n",
    "    # 経過時間の平均\n",
    "    mean_spend_time = input_log.groupby([\"session_id\"])[\"spend_time\"].mean()\n",
    "    \n",
    "    session_features = pd.concat([\n",
    "        n_actions,\n",
    "        mean_spend_time,\n",
    "    ], axis=1)\n",
    "    return session_features.reset_index()"
   ]
  },
  {
   "cell_type": "markdown",
   "metadata": {},
   "source": [
    "### セッション単位で集計"
   ]
  },
  {
   "cell_type": "code",
   "execution_count": 32,
   "metadata": {},
   "outputs": [],
   "source": [
    "def get_session_features(input_log):\n",
    "    df_ses = pd.DataFrame(columns=['session_id'])\n",
    "    \n",
    "    session_feat = [\n",
    "        get_session_info(input_log),\n",
    "        get_session_kind_group(input_log),\n",
    "        get_display_name_feature(input_log),\n",
    "        get_action_name_feature(input_log),\n",
    "        get_pre_payment_item(input_log),\n",
    "#         get_coupon_info(input_log),\n",
    "    ]\n",
    "    \n",
    "    for feat in session_feat:\n",
    "        df_ses = pd.merge(df_ses, feat, on='session_id', how='outer')\n",
    "        \n",
    "    return df_ses"
   ]
  },
  {
   "cell_type": "markdown",
   "metadata": {},
   "source": [
    "### 特徴量を集約する"
   ]
  },
  {
   "cell_type": "code",
   "execution_count": 33,
   "metadata": {},
   "outputs": [],
   "source": [
    "def merge_features(input_log, session):\n",
    "    feat_list = [\n",
    "        get_session_features(input_log),\n",
    "        user_features,\n",
    "        meta_features,\n",
    "    ]\n",
    "    out = pd.DataFrame({\"session_id\": session})\n",
    "    for feat in feat_list:\n",
    "        out = pd.merge(out, feat, on=\"session_id\", how=\"left\")\n",
    "        \n",
    "    # userの情報\n",
    "    out = pd.merge(out, all_user_item, on='user_id', how='left').drop(columns='user_id')\n",
    "\n",
    "    assert len(session) == len(out)\n",
    "    return out"
   ]
  },
  {
   "cell_type": "code",
   "execution_count": 34,
   "metadata": {},
   "outputs": [],
   "source": [
    "def get_train_all_features(elapsed_min, train_log_list, train_y_list):\n",
    "    train_input_log = train_log_list[elapsed_min]\n",
    "    y_train = train_y_list[elapsed_min]\n",
    "    \n",
    "    train_features = merge_features(train_input_log, y_train['session_id'])\n",
    "    print('train_features', train_features.shape)\n",
    "    return train_features, y_train"
   ]
  },
  {
   "cell_type": "code",
   "execution_count": 35,
   "metadata": {},
   "outputs": [],
   "source": [
    "def get_test_all_feature(elapsed_min):\n",
    "    test_meta = meta[meta['session_id'].isin(test_sessions)]\n",
    "    test_meta = test_meta[test_meta['time_elapsed'] == elapsed_min]\n",
    "    test_input_elapsed = pd.merge(test_input_log, test_meta[['session_id']], on='session_id', how='left')\n",
    "    \n",
    "    test_features = merge_features(test_input_elapsed, test_meta['session_id'])\n",
    "    print('test_features', test_features.shape)\n",
    "    return test_features"
   ]
  },
  {
   "cell_type": "code",
   "execution_count": 36,
   "metadata": {},
   "outputs": [],
   "source": [
    "n_fold = 4"
   ]
  },
  {
   "cell_type": "code",
   "execution_count": 37,
   "metadata": {},
   "outputs": [],
   "source": [
    "lgbm_param = {\n",
    "    'objective' : 'binary',\n",
    "    'boosting_type': 'gbdt',\n",
    "    'metric': 'auc',\n",
    "    'seed' : 0,\n",
    "    'learning_rate':  0.1,\n",
    "#   'max_depth': 6,\n",
    "    'feature_fraction': 0.6,\n",
    "    'bagging_fraction': 0.8,\n",
    "    'bagging_freq': 5,\n",
    "    'verbose': -1\n",
    "}"
   ]
  },
  {
   "cell_type": "code",
   "execution_count": 38,
   "metadata": {},
   "outputs": [],
   "source": [
    "def train_lgbm(X, y, params=lgbm_param):\n",
    "\n",
    "    fold = StratifiedKFold(n_splits=n_fold, shuffle=True, random_state=0)\n",
    "    cv = fold.split(X, y)\n",
    "    \n",
    "    models = []\n",
    "    oof_pred = np.zeros_like(y, dtype=np.float)\n",
    "    \n",
    "    cat_feat = ['age', 'gender', 'dow']\n",
    "\n",
    "    for i, (idx_train, idx_valid) in enumerate(cv): \n",
    "        x_train, y_train = X.iloc[idx_train], y.iloc[idx_train]\n",
    "        x_valid, y_valid = X.iloc[idx_valid], y.iloc[idx_valid]\n",
    "        \n",
    "        lgbm_train = lgbm.Dataset(x_train, y_train, categorical_feature = cat_feat)\n",
    "        lgbm_eval = lgbm.Dataset(x_valid, y_valid, reference=lgbm_train, categorical_feature = cat_feat)\n",
    "        \n",
    "        lgbm_model = lgbm.train(params, \n",
    "                                                    lgbm_train, \n",
    "                                                    valid_sets=lgbm_eval,\n",
    "                                                    categorical_feature = cat_feat,\n",
    "                                                    num_boost_round=10000,\n",
    "                                                    early_stopping_rounds=100,\n",
    "                                                    verbose_eval=-1)\n",
    "        y_pred = lgbm_model.predict(x_valid, num_iteration=lgbm_model.best_iteration)\n",
    "        \n",
    "        oof_pred[idx_valid] = y_pred\n",
    "        models.append(lgbm_model)\n",
    "\n",
    "    score = roc_auc_score(y, oof_pred)\n",
    "    print('--- FINISHED \\ whole score: {:.4f} ---'.format(score))\n",
    "    return oof_pred, models, score"
   ]
  },
  {
   "cell_type": "code",
   "execution_count": 39,
   "metadata": {},
   "outputs": [],
   "source": [
    "def predict(models, feature):\n",
    "    pred_list = []\n",
    "    for i, model in enumerate(models):\n",
    "        pred = model.predict(feature, num_iteration = model.best_iteration)\n",
    "        pred_list.append(pred)\n",
    "    \n",
    "    score = np.mean(pred_list, axis=0)\n",
    "    return score"
   ]
  },
  {
   "cell_type": "code",
   "execution_count": 40,
   "metadata": {},
   "outputs": [],
   "source": [
    "train_log_list, train_y_list = load_train_log()"
   ]
  },
  {
   "cell_type": "code",
   "execution_count": 41,
   "metadata": {},
   "outputs": [
    {
     "data": {
      "text/plain": [
       "20"
      ]
     },
     "execution_count": 41,
     "metadata": {},
     "output_type": "execute_result"
    }
   ],
   "source": [
    "gc.collect()"
   ]
  },
  {
   "cell_type": "code",
   "execution_count": 42,
   "metadata": {
    "scrolled": false
   },
   "outputs": [
    {
     "name": "stdout",
     "output_type": "stream",
     "text": [
      "===== 0 =====\n",
      "train_features (378594, 333)\n",
      "test_features (14277, 333)\n",
      "---- id = 38 -----\n"
     ]
    },
    {
     "name": "stderr",
     "output_type": "stream",
     "text": [
      "/home/umhrysnb/anaconda3/lib/python3.8/site-packages/lightgbm/basic.py:1286: UserWarning: Overriding the parameters from Reference Dataset.\n",
      "  warnings.warn('Overriding the parameters from Reference Dataset.')\n",
      "/home/umhrysnb/anaconda3/lib/python3.8/site-packages/lightgbm/basic.py:1098: UserWarning: categorical_column in param dict is overridden.\n",
      "  warnings.warn('{} in param dict is overridden.'.format(cat_alias))\n"
     ]
    },
    {
     "name": "stdout",
     "output_type": "stream",
     "text": [
      "Training until validation scores don't improve for 100 rounds\n",
      "Early stopping, best iteration is:\n",
      "[930]\tvalid_0's auc: 0.826131\n",
      "Training until validation scores don't improve for 100 rounds\n",
      "Early stopping, best iteration is:\n",
      "[873]\tvalid_0's auc: 0.82822\n",
      "Training until validation scores don't improve for 100 rounds\n",
      "Early stopping, best iteration is:\n",
      "[838]\tvalid_0's auc: 0.829771\n",
      "Training until validation scores don't improve for 100 rounds\n",
      "Early stopping, best iteration is:\n",
      "[938]\tvalid_0's auc: 0.828718\n",
      "--- FINISHED \\ whole score: 0.8282 ---\n",
      "---- id = 110 -----\n"
     ]
    },
    {
     "name": "stderr",
     "output_type": "stream",
     "text": [
      "/home/umhrysnb/anaconda3/lib/python3.8/site-packages/lightgbm/basic.py:1286: UserWarning: Overriding the parameters from Reference Dataset.\n",
      "  warnings.warn('Overriding the parameters from Reference Dataset.')\n",
      "/home/umhrysnb/anaconda3/lib/python3.8/site-packages/lightgbm/basic.py:1098: UserWarning: categorical_column in param dict is overridden.\n",
      "  warnings.warn('{} in param dict is overridden.'.format(cat_alias))\n"
     ]
    },
    {
     "name": "stdout",
     "output_type": "stream",
     "text": [
      "Training until validation scores don't improve for 100 rounds\n",
      "Early stopping, best iteration is:\n",
      "[277]\tvalid_0's auc: 0.799439\n",
      "Training until validation scores don't improve for 100 rounds\n",
      "Early stopping, best iteration is:\n",
      "[268]\tvalid_0's auc: 0.788167\n",
      "Training until validation scores don't improve for 100 rounds\n",
      "Early stopping, best iteration is:\n",
      "[192]\tvalid_0's auc: 0.801064\n",
      "Training until validation scores don't improve for 100 rounds\n",
      "Early stopping, best iteration is:\n",
      "[290]\tvalid_0's auc: 0.801453\n",
      "--- FINISHED \\ whole score: 0.7972 ---\n",
      "---- id = 113 -----\n"
     ]
    },
    {
     "name": "stderr",
     "output_type": "stream",
     "text": [
      "/home/umhrysnb/anaconda3/lib/python3.8/site-packages/lightgbm/basic.py:1286: UserWarning: Overriding the parameters from Reference Dataset.\n",
      "  warnings.warn('Overriding the parameters from Reference Dataset.')\n",
      "/home/umhrysnb/anaconda3/lib/python3.8/site-packages/lightgbm/basic.py:1098: UserWarning: categorical_column in param dict is overridden.\n",
      "  warnings.warn('{} in param dict is overridden.'.format(cat_alias))\n"
     ]
    },
    {
     "name": "stdout",
     "output_type": "stream",
     "text": [
      "Training until validation scores don't improve for 100 rounds\n",
      "Early stopping, best iteration is:\n",
      "[431]\tvalid_0's auc: 0.807602\n",
      "Training until validation scores don't improve for 100 rounds\n",
      "Early stopping, best iteration is:\n",
      "[890]\tvalid_0's auc: 0.80059\n",
      "Training until validation scores don't improve for 100 rounds\n",
      "Early stopping, best iteration is:\n",
      "[680]\tvalid_0's auc: 0.804059\n",
      "Training until validation scores don't improve for 100 rounds\n",
      "Early stopping, best iteration is:\n",
      "[670]\tvalid_0's auc: 0.801714\n",
      "--- FINISHED \\ whole score: 0.8029 ---\n",
      "---- id = 114 -----\n"
     ]
    },
    {
     "name": "stderr",
     "output_type": "stream",
     "text": [
      "/home/umhrysnb/anaconda3/lib/python3.8/site-packages/lightgbm/basic.py:1286: UserWarning: Overriding the parameters from Reference Dataset.\n",
      "  warnings.warn('Overriding the parameters from Reference Dataset.')\n",
      "/home/umhrysnb/anaconda3/lib/python3.8/site-packages/lightgbm/basic.py:1098: UserWarning: categorical_column in param dict is overridden.\n",
      "  warnings.warn('{} in param dict is overridden.'.format(cat_alias))\n"
     ]
    },
    {
     "name": "stdout",
     "output_type": "stream",
     "text": [
      "Training until validation scores don't improve for 100 rounds\n",
      "Early stopping, best iteration is:\n",
      "[1065]\tvalid_0's auc: 0.760302\n",
      "Training until validation scores don't improve for 100 rounds\n",
      "Early stopping, best iteration is:\n",
      "[1159]\tvalid_0's auc: 0.761958\n",
      "Training until validation scores don't improve for 100 rounds\n",
      "Early stopping, best iteration is:\n",
      "[1003]\tvalid_0's auc: 0.759005\n",
      "Training until validation scores don't improve for 100 rounds\n",
      "Early stopping, best iteration is:\n",
      "[934]\tvalid_0's auc: 0.761089\n",
      "--- FINISHED \\ whole score: 0.7606 ---\n",
      "---- id = 134 -----\n"
     ]
    },
    {
     "name": "stderr",
     "output_type": "stream",
     "text": [
      "/home/umhrysnb/anaconda3/lib/python3.8/site-packages/lightgbm/basic.py:1286: UserWarning: Overriding the parameters from Reference Dataset.\n",
      "  warnings.warn('Overriding the parameters from Reference Dataset.')\n",
      "/home/umhrysnb/anaconda3/lib/python3.8/site-packages/lightgbm/basic.py:1098: UserWarning: categorical_column in param dict is overridden.\n",
      "  warnings.warn('{} in param dict is overridden.'.format(cat_alias))\n"
     ]
    },
    {
     "name": "stdout",
     "output_type": "stream",
     "text": [
      "Training until validation scores don't improve for 100 rounds\n",
      "Early stopping, best iteration is:\n",
      "[785]\tvalid_0's auc: 0.746907\n",
      "Training until validation scores don't improve for 100 rounds\n",
      "Early stopping, best iteration is:\n",
      "[531]\tvalid_0's auc: 0.747119\n",
      "Training until validation scores don't improve for 100 rounds\n",
      "Early stopping, best iteration is:\n",
      "[624]\tvalid_0's auc: 0.747898\n",
      "Training until validation scores don't improve for 100 rounds\n",
      "Early stopping, best iteration is:\n",
      "[627]\tvalid_0's auc: 0.746492\n",
      "--- FINISHED \\ whole score: 0.7471 ---\n",
      "---- id = 171 -----\n"
     ]
    },
    {
     "name": "stderr",
     "output_type": "stream",
     "text": [
      "/home/umhrysnb/anaconda3/lib/python3.8/site-packages/lightgbm/basic.py:1286: UserWarning: Overriding the parameters from Reference Dataset.\n",
      "  warnings.warn('Overriding the parameters from Reference Dataset.')\n",
      "/home/umhrysnb/anaconda3/lib/python3.8/site-packages/lightgbm/basic.py:1098: UserWarning: categorical_column in param dict is overridden.\n",
      "  warnings.warn('{} in param dict is overridden.'.format(cat_alias))\n"
     ]
    },
    {
     "name": "stdout",
     "output_type": "stream",
     "text": [
      "Training until validation scores don't improve for 100 rounds\n",
      "Early stopping, best iteration is:\n",
      "[1108]\tvalid_0's auc: 0.867777\n",
      "Training until validation scores don't improve for 100 rounds\n",
      "Early stopping, best iteration is:\n",
      "[1171]\tvalid_0's auc: 0.868593\n",
      "Training until validation scores don't improve for 100 rounds\n",
      "Early stopping, best iteration is:\n",
      "[1172]\tvalid_0's auc: 0.869049\n",
      "Training until validation scores don't improve for 100 rounds\n",
      "Early stopping, best iteration is:\n",
      "[1063]\tvalid_0's auc: 0.87262\n",
      "--- FINISHED \\ whole score: 0.8695 ---\n",
      "---- id = 172 -----\n"
     ]
    },
    {
     "name": "stderr",
     "output_type": "stream",
     "text": [
      "/home/umhrysnb/anaconda3/lib/python3.8/site-packages/lightgbm/basic.py:1286: UserWarning: Overriding the parameters from Reference Dataset.\n",
      "  warnings.warn('Overriding the parameters from Reference Dataset.')\n",
      "/home/umhrysnb/anaconda3/lib/python3.8/site-packages/lightgbm/basic.py:1098: UserWarning: categorical_column in param dict is overridden.\n",
      "  warnings.warn('{} in param dict is overridden.'.format(cat_alias))\n"
     ]
    },
    {
     "name": "stdout",
     "output_type": "stream",
     "text": [
      "Training until validation scores don't improve for 100 rounds\n",
      "Early stopping, best iteration is:\n",
      "[460]\tvalid_0's auc: 0.871059\n",
      "Training until validation scores don't improve for 100 rounds\n",
      "Early stopping, best iteration is:\n",
      "[418]\tvalid_0's auc: 0.87013\n",
      "Training until validation scores don't improve for 100 rounds\n",
      "Early stopping, best iteration is:\n",
      "[619]\tvalid_0's auc: 0.875245\n",
      "Training until validation scores don't improve for 100 rounds\n",
      "Early stopping, best iteration is:\n",
      "[773]\tvalid_0's auc: 0.870618\n",
      "--- FINISHED \\ whole score: 0.8710 ---\n",
      "---- id = 173 -----\n"
     ]
    },
    {
     "name": "stderr",
     "output_type": "stream",
     "text": [
      "/home/umhrysnb/anaconda3/lib/python3.8/site-packages/lightgbm/basic.py:1286: UserWarning: Overriding the parameters from Reference Dataset.\n",
      "  warnings.warn('Overriding the parameters from Reference Dataset.')\n",
      "/home/umhrysnb/anaconda3/lib/python3.8/site-packages/lightgbm/basic.py:1098: UserWarning: categorical_column in param dict is overridden.\n",
      "  warnings.warn('{} in param dict is overridden.'.format(cat_alias))\n"
     ]
    },
    {
     "name": "stdout",
     "output_type": "stream",
     "text": [
      "Training until validation scores don't improve for 100 rounds\n",
      "Early stopping, best iteration is:\n",
      "[1275]\tvalid_0's auc: 0.866615\n",
      "Training until validation scores don't improve for 100 rounds\n",
      "Early stopping, best iteration is:\n",
      "[1170]\tvalid_0's auc: 0.866159\n",
      "Training until validation scores don't improve for 100 rounds\n",
      "Early stopping, best iteration is:\n",
      "[1143]\tvalid_0's auc: 0.864716\n",
      "Training until validation scores don't improve for 100 rounds\n",
      "Early stopping, best iteration is:\n",
      "[1553]\tvalid_0's auc: 0.866216\n",
      "--- FINISHED \\ whole score: 0.8659 ---\n",
      "---- id = 376 -----\n"
     ]
    },
    {
     "name": "stderr",
     "output_type": "stream",
     "text": [
      "/home/umhrysnb/anaconda3/lib/python3.8/site-packages/lightgbm/basic.py:1286: UserWarning: Overriding the parameters from Reference Dataset.\n",
      "  warnings.warn('Overriding the parameters from Reference Dataset.')\n",
      "/home/umhrysnb/anaconda3/lib/python3.8/site-packages/lightgbm/basic.py:1098: UserWarning: categorical_column in param dict is overridden.\n",
      "  warnings.warn('{} in param dict is overridden.'.format(cat_alias))\n"
     ]
    },
    {
     "name": "stdout",
     "output_type": "stream",
     "text": [
      "Training until validation scores don't improve for 100 rounds\n",
      "Early stopping, best iteration is:\n",
      "[550]\tvalid_0's auc: 0.754688\n",
      "Training until validation scores don't improve for 100 rounds\n",
      "Early stopping, best iteration is:\n",
      "[515]\tvalid_0's auc: 0.761319\n",
      "Training until validation scores don't improve for 100 rounds\n",
      "Early stopping, best iteration is:\n",
      "[744]\tvalid_0's auc: 0.755592\n",
      "Training until validation scores don't improve for 100 rounds\n",
      "Early stopping, best iteration is:\n",
      "[841]\tvalid_0's auc: 0.757336\n",
      "--- FINISHED \\ whole score: 0.7571 ---\n",
      "---- id = 435 -----\n"
     ]
    },
    {
     "name": "stderr",
     "output_type": "stream",
     "text": [
      "/home/umhrysnb/anaconda3/lib/python3.8/site-packages/lightgbm/basic.py:1286: UserWarning: Overriding the parameters from Reference Dataset.\n",
      "  warnings.warn('Overriding the parameters from Reference Dataset.')\n",
      "/home/umhrysnb/anaconda3/lib/python3.8/site-packages/lightgbm/basic.py:1098: UserWarning: categorical_column in param dict is overridden.\n",
      "  warnings.warn('{} in param dict is overridden.'.format(cat_alias))\n"
     ]
    },
    {
     "name": "stdout",
     "output_type": "stream",
     "text": [
      "Training until validation scores don't improve for 100 rounds\n",
      "Early stopping, best iteration is:\n",
      "[931]\tvalid_0's auc: 0.867964\n",
      "Training until validation scores don't improve for 100 rounds\n",
      "Early stopping, best iteration is:\n",
      "[1454]\tvalid_0's auc: 0.871353\n",
      "Training until validation scores don't improve for 100 rounds\n",
      "Early stopping, best iteration is:\n",
      "[781]\tvalid_0's auc: 0.869196\n",
      "Training until validation scores don't improve for 100 rounds\n",
      "Early stopping, best iteration is:\n",
      "[1012]\tvalid_0's auc: 0.87124\n",
      "--- FINISHED \\ whole score: 0.8696 ---\n",
      "---- id = 467 -----\n"
     ]
    },
    {
     "name": "stderr",
     "output_type": "stream",
     "text": [
      "/home/umhrysnb/anaconda3/lib/python3.8/site-packages/lightgbm/basic.py:1286: UserWarning: Overriding the parameters from Reference Dataset.\n",
      "  warnings.warn('Overriding the parameters from Reference Dataset.')\n",
      "/home/umhrysnb/anaconda3/lib/python3.8/site-packages/lightgbm/basic.py:1098: UserWarning: categorical_column in param dict is overridden.\n",
      "  warnings.warn('{} in param dict is overridden.'.format(cat_alias))\n"
     ]
    },
    {
     "name": "stdout",
     "output_type": "stream",
     "text": [
      "Training until validation scores don't improve for 100 rounds\n",
      "Early stopping, best iteration is:\n",
      "[436]\tvalid_0's auc: 0.873021\n",
      "Training until validation scores don't improve for 100 rounds\n",
      "Early stopping, best iteration is:\n",
      "[671]\tvalid_0's auc: 0.873173\n",
      "Training until validation scores don't improve for 100 rounds\n",
      "Early stopping, best iteration is:\n",
      "[817]\tvalid_0's auc: 0.868862\n",
      "Training until validation scores don't improve for 100 rounds\n",
      "Early stopping, best iteration is:\n",
      "[475]\tvalid_0's auc: 0.874208\n",
      "--- FINISHED \\ whole score: 0.8717 ---\n",
      "---- id = 537 -----\n"
     ]
    },
    {
     "name": "stderr",
     "output_type": "stream",
     "text": [
      "/home/umhrysnb/anaconda3/lib/python3.8/site-packages/lightgbm/basic.py:1286: UserWarning: Overriding the parameters from Reference Dataset.\n",
      "  warnings.warn('Overriding the parameters from Reference Dataset.')\n",
      "/home/umhrysnb/anaconda3/lib/python3.8/site-packages/lightgbm/basic.py:1098: UserWarning: categorical_column in param dict is overridden.\n",
      "  warnings.warn('{} in param dict is overridden.'.format(cat_alias))\n"
     ]
    },
    {
     "name": "stdout",
     "output_type": "stream",
     "text": [
      "Training until validation scores don't improve for 100 rounds\n",
      "Early stopping, best iteration is:\n",
      "[593]\tvalid_0's auc: 0.911166\n",
      "Training until validation scores don't improve for 100 rounds\n",
      "Early stopping, best iteration is:\n",
      "[883]\tvalid_0's auc: 0.904343\n",
      "Training until validation scores don't improve for 100 rounds\n",
      "Early stopping, best iteration is:\n",
      "[715]\tvalid_0's auc: 0.903503\n",
      "Training until validation scores don't improve for 100 rounds\n",
      "Early stopping, best iteration is:\n",
      "[846]\tvalid_0's auc: 0.906841\n",
      "--- FINISHED \\ whole score: 0.9060 ---\n",
      "---- id = 539 -----\n"
     ]
    },
    {
     "name": "stderr",
     "output_type": "stream",
     "text": [
      "/home/umhrysnb/anaconda3/lib/python3.8/site-packages/lightgbm/basic.py:1286: UserWarning: Overriding the parameters from Reference Dataset.\n",
      "  warnings.warn('Overriding the parameters from Reference Dataset.')\n",
      "/home/umhrysnb/anaconda3/lib/python3.8/site-packages/lightgbm/basic.py:1098: UserWarning: categorical_column in param dict is overridden.\n",
      "  warnings.warn('{} in param dict is overridden.'.format(cat_alias))\n"
     ]
    },
    {
     "name": "stdout",
     "output_type": "stream",
     "text": [
      "Training until validation scores don't improve for 100 rounds\n",
      "Early stopping, best iteration is:\n",
      "[1130]\tvalid_0's auc: 0.85966\n",
      "Training until validation scores don't improve for 100 rounds\n",
      "Early stopping, best iteration is:\n",
      "[776]\tvalid_0's auc: 0.859186\n",
      "Training until validation scores don't improve for 100 rounds\n",
      "Early stopping, best iteration is:\n",
      "[892]\tvalid_0's auc: 0.861052\n",
      "Training until validation scores don't improve for 100 rounds\n",
      "Early stopping, best iteration is:\n",
      "[740]\tvalid_0's auc: 0.860436\n",
      "--- FINISHED \\ whole score: 0.8599 ---\n",
      "---- id = 629 -----\n"
     ]
    },
    {
     "name": "stderr",
     "output_type": "stream",
     "text": [
      "/home/umhrysnb/anaconda3/lib/python3.8/site-packages/lightgbm/basic.py:1286: UserWarning: Overriding the parameters from Reference Dataset.\n",
      "  warnings.warn('Overriding the parameters from Reference Dataset.')\n",
      "/home/umhrysnb/anaconda3/lib/python3.8/site-packages/lightgbm/basic.py:1098: UserWarning: categorical_column in param dict is overridden.\n",
      "  warnings.warn('{} in param dict is overridden.'.format(cat_alias))\n"
     ]
    },
    {
     "name": "stdout",
     "output_type": "stream",
     "text": [
      "Training until validation scores don't improve for 100 rounds\n",
      "Early stopping, best iteration is:\n",
      "[493]\tvalid_0's auc: 0.914038\n",
      "Training until validation scores don't improve for 100 rounds\n",
      "Early stopping, best iteration is:\n",
      "[443]\tvalid_0's auc: 0.92086\n",
      "Training until validation scores don't improve for 100 rounds\n",
      "Early stopping, best iteration is:\n",
      "[439]\tvalid_0's auc: 0.926119\n",
      "Training until validation scores don't improve for 100 rounds\n",
      "Early stopping, best iteration is:\n",
      "[460]\tvalid_0's auc: 0.916204\n",
      "--- FINISHED \\ whole score: 0.9192 ---\n",
      "---- id = 768 -----\n"
     ]
    },
    {
     "name": "stderr",
     "output_type": "stream",
     "text": [
      "/home/umhrysnb/anaconda3/lib/python3.8/site-packages/lightgbm/basic.py:1286: UserWarning: Overriding the parameters from Reference Dataset.\n",
      "  warnings.warn('Overriding the parameters from Reference Dataset.')\n",
      "/home/umhrysnb/anaconda3/lib/python3.8/site-packages/lightgbm/basic.py:1098: UserWarning: categorical_column in param dict is overridden.\n",
      "  warnings.warn('{} in param dict is overridden.'.format(cat_alias))\n"
     ]
    },
    {
     "name": "stdout",
     "output_type": "stream",
     "text": [
      "Training until validation scores don't improve for 100 rounds\n",
      "Early stopping, best iteration is:\n",
      "[621]\tvalid_0's auc: 0.747907\n",
      "Training until validation scores don't improve for 100 rounds\n",
      "Early stopping, best iteration is:\n",
      "[714]\tvalid_0's auc: 0.747833\n",
      "Training until validation scores don't improve for 100 rounds\n",
      "Early stopping, best iteration is:\n",
      "[1013]\tvalid_0's auc: 0.747865\n",
      "Training until validation scores don't improve for 100 rounds\n",
      "Early stopping, best iteration is:\n",
      "[704]\tvalid_0's auc: 0.751711\n",
      "--- FINISHED \\ whole score: 0.7487 ---\n",
      "14277\n",
      "===== 3 =====\n",
      "train_features (389649, 333)\n",
      "test_features (11304, 333)\n",
      "---- id = 38 -----\n"
     ]
    },
    {
     "name": "stderr",
     "output_type": "stream",
     "text": [
      "/home/umhrysnb/anaconda3/lib/python3.8/site-packages/lightgbm/basic.py:1286: UserWarning: Overriding the parameters from Reference Dataset.\n",
      "  warnings.warn('Overriding the parameters from Reference Dataset.')\n",
      "/home/umhrysnb/anaconda3/lib/python3.8/site-packages/lightgbm/basic.py:1098: UserWarning: categorical_column in param dict is overridden.\n",
      "  warnings.warn('{} in param dict is overridden.'.format(cat_alias))\n"
     ]
    },
    {
     "name": "stdout",
     "output_type": "stream",
     "text": [
      "Training until validation scores don't improve for 100 rounds\n",
      "Early stopping, best iteration is:\n",
      "[898]\tvalid_0's auc: 0.825434\n",
      "Training until validation scores don't improve for 100 rounds\n",
      "Early stopping, best iteration is:\n",
      "[924]\tvalid_0's auc: 0.824911\n",
      "Training until validation scores don't improve for 100 rounds\n",
      "Early stopping, best iteration is:\n",
      "[1085]\tvalid_0's auc: 0.82449\n",
      "Training until validation scores don't improve for 100 rounds\n",
      "Early stopping, best iteration is:\n",
      "[1142]\tvalid_0's auc: 0.830466\n",
      "--- FINISHED \\ whole score: 0.8263 ---\n",
      "---- id = 110 -----\n"
     ]
    },
    {
     "name": "stderr",
     "output_type": "stream",
     "text": [
      "/home/umhrysnb/anaconda3/lib/python3.8/site-packages/lightgbm/basic.py:1286: UserWarning: Overriding the parameters from Reference Dataset.\n",
      "  warnings.warn('Overriding the parameters from Reference Dataset.')\n",
      "/home/umhrysnb/anaconda3/lib/python3.8/site-packages/lightgbm/basic.py:1098: UserWarning: categorical_column in param dict is overridden.\n",
      "  warnings.warn('{} in param dict is overridden.'.format(cat_alias))\n"
     ]
    },
    {
     "name": "stdout",
     "output_type": "stream",
     "text": [
      "Training until validation scores don't improve for 100 rounds\n",
      "Early stopping, best iteration is:\n",
      "[169]\tvalid_0's auc: 0.788809\n",
      "Training until validation scores don't improve for 100 rounds\n",
      "Early stopping, best iteration is:\n",
      "[242]\tvalid_0's auc: 0.789473\n",
      "Training until validation scores don't improve for 100 rounds\n",
      "Early stopping, best iteration is:\n",
      "[187]\tvalid_0's auc: 0.791953\n",
      "Training until validation scores don't improve for 100 rounds\n",
      "Early stopping, best iteration is:\n",
      "[192]\tvalid_0's auc: 0.786612\n",
      "--- FINISHED \\ whole score: 0.7889 ---\n",
      "---- id = 113 -----\n"
     ]
    },
    {
     "name": "stderr",
     "output_type": "stream",
     "text": [
      "/home/umhrysnb/anaconda3/lib/python3.8/site-packages/lightgbm/basic.py:1286: UserWarning: Overriding the parameters from Reference Dataset.\n",
      "  warnings.warn('Overriding the parameters from Reference Dataset.')\n",
      "/home/umhrysnb/anaconda3/lib/python3.8/site-packages/lightgbm/basic.py:1098: UserWarning: categorical_column in param dict is overridden.\n",
      "  warnings.warn('{} in param dict is overridden.'.format(cat_alias))\n"
     ]
    },
    {
     "name": "stdout",
     "output_type": "stream",
     "text": [
      "Training until validation scores don't improve for 100 rounds\n",
      "Early stopping, best iteration is:\n",
      "[603]\tvalid_0's auc: 0.801711\n",
      "Training until validation scores don't improve for 100 rounds\n",
      "Early stopping, best iteration is:\n",
      "[455]\tvalid_0's auc: 0.794525\n",
      "Training until validation scores don't improve for 100 rounds\n",
      "Early stopping, best iteration is:\n",
      "[709]\tvalid_0's auc: 0.800799\n",
      "Training until validation scores don't improve for 100 rounds\n",
      "Early stopping, best iteration is:\n",
      "[504]\tvalid_0's auc: 0.795597\n",
      "--- FINISHED \\ whole score: 0.7981 ---\n",
      "---- id = 114 -----\n"
     ]
    },
    {
     "name": "stderr",
     "output_type": "stream",
     "text": [
      "/home/umhrysnb/anaconda3/lib/python3.8/site-packages/lightgbm/basic.py:1286: UserWarning: Overriding the parameters from Reference Dataset.\n",
      "  warnings.warn('Overriding the parameters from Reference Dataset.')\n",
      "/home/umhrysnb/anaconda3/lib/python3.8/site-packages/lightgbm/basic.py:1098: UserWarning: categorical_column in param dict is overridden.\n",
      "  warnings.warn('{} in param dict is overridden.'.format(cat_alias))\n"
     ]
    },
    {
     "name": "stdout",
     "output_type": "stream",
     "text": [
      "Training until validation scores don't improve for 100 rounds\n",
      "Early stopping, best iteration is:\n",
      "[1284]\tvalid_0's auc: 0.755734\n",
      "Training until validation scores don't improve for 100 rounds\n",
      "Early stopping, best iteration is:\n",
      "[740]\tvalid_0's auc: 0.756423\n",
      "Training until validation scores don't improve for 100 rounds\n",
      "Early stopping, best iteration is:\n",
      "[881]\tvalid_0's auc: 0.755926\n",
      "Training until validation scores don't improve for 100 rounds\n",
      "Early stopping, best iteration is:\n",
      "[792]\tvalid_0's auc: 0.754821\n",
      "--- FINISHED \\ whole score: 0.7557 ---\n",
      "---- id = 134 -----\n"
     ]
    },
    {
     "name": "stderr",
     "output_type": "stream",
     "text": [
      "/home/umhrysnb/anaconda3/lib/python3.8/site-packages/lightgbm/basic.py:1286: UserWarning: Overriding the parameters from Reference Dataset.\n",
      "  warnings.warn('Overriding the parameters from Reference Dataset.')\n",
      "/home/umhrysnb/anaconda3/lib/python3.8/site-packages/lightgbm/basic.py:1098: UserWarning: categorical_column in param dict is overridden.\n",
      "  warnings.warn('{} in param dict is overridden.'.format(cat_alias))\n"
     ]
    },
    {
     "name": "stdout",
     "output_type": "stream",
     "text": [
      "Training until validation scores don't improve for 100 rounds\n",
      "Early stopping, best iteration is:\n",
      "[767]\tvalid_0's auc: 0.740898\n",
      "Training until validation scores don't improve for 100 rounds\n",
      "Early stopping, best iteration is:\n",
      "[732]\tvalid_0's auc: 0.742355\n",
      "Training until validation scores don't improve for 100 rounds\n",
      "Early stopping, best iteration is:\n",
      "[593]\tvalid_0's auc: 0.740033\n",
      "Training until validation scores don't improve for 100 rounds\n",
      "Early stopping, best iteration is:\n",
      "[618]\tvalid_0's auc: 0.744404\n",
      "--- FINISHED \\ whole score: 0.7419 ---\n",
      "---- id = 171 -----\n"
     ]
    },
    {
     "name": "stderr",
     "output_type": "stream",
     "text": [
      "/home/umhrysnb/anaconda3/lib/python3.8/site-packages/lightgbm/basic.py:1286: UserWarning: Overriding the parameters from Reference Dataset.\n",
      "  warnings.warn('Overriding the parameters from Reference Dataset.')\n",
      "/home/umhrysnb/anaconda3/lib/python3.8/site-packages/lightgbm/basic.py:1098: UserWarning: categorical_column in param dict is overridden.\n",
      "  warnings.warn('{} in param dict is overridden.'.format(cat_alias))\n"
     ]
    },
    {
     "name": "stdout",
     "output_type": "stream",
     "text": [
      "Training until validation scores don't improve for 100 rounds\n",
      "Early stopping, best iteration is:\n",
      "[1291]\tvalid_0's auc: 0.862918\n",
      "Training until validation scores don't improve for 100 rounds\n",
      "Early stopping, best iteration is:\n",
      "[1644]\tvalid_0's auc: 0.861015\n",
      "Training until validation scores don't improve for 100 rounds\n",
      "Early stopping, best iteration is:\n",
      "[1259]\tvalid_0's auc: 0.864023\n",
      "Training until validation scores don't improve for 100 rounds\n",
      "Early stopping, best iteration is:\n",
      "[952]\tvalid_0's auc: 0.86531\n",
      "--- FINISHED \\ whole score: 0.8631 ---\n",
      "---- id = 172 -----\n"
     ]
    },
    {
     "name": "stderr",
     "output_type": "stream",
     "text": [
      "/home/umhrysnb/anaconda3/lib/python3.8/site-packages/lightgbm/basic.py:1286: UserWarning: Overriding the parameters from Reference Dataset.\n",
      "  warnings.warn('Overriding the parameters from Reference Dataset.')\n",
      "/home/umhrysnb/anaconda3/lib/python3.8/site-packages/lightgbm/basic.py:1098: UserWarning: categorical_column in param dict is overridden.\n",
      "  warnings.warn('{} in param dict is overridden.'.format(cat_alias))\n"
     ]
    },
    {
     "name": "stdout",
     "output_type": "stream",
     "text": [
      "Training until validation scores don't improve for 100 rounds\n",
      "Early stopping, best iteration is:\n",
      "[565]\tvalid_0's auc: 0.86665\n",
      "Training until validation scores don't improve for 100 rounds\n",
      "Early stopping, best iteration is:\n",
      "[835]\tvalid_0's auc: 0.86012\n",
      "Training until validation scores don't improve for 100 rounds\n",
      "Early stopping, best iteration is:\n",
      "[425]\tvalid_0's auc: 0.863474\n",
      "Training until validation scores don't improve for 100 rounds\n",
      "Early stopping, best iteration is:\n",
      "[648]\tvalid_0's auc: 0.866569\n",
      "--- FINISHED \\ whole score: 0.8631 ---\n",
      "---- id = 173 -----\n"
     ]
    },
    {
     "name": "stderr",
     "output_type": "stream",
     "text": [
      "/home/umhrysnb/anaconda3/lib/python3.8/site-packages/lightgbm/basic.py:1286: UserWarning: Overriding the parameters from Reference Dataset.\n",
      "  warnings.warn('Overriding the parameters from Reference Dataset.')\n",
      "/home/umhrysnb/anaconda3/lib/python3.8/site-packages/lightgbm/basic.py:1098: UserWarning: categorical_column in param dict is overridden.\n",
      "  warnings.warn('{} in param dict is overridden.'.format(cat_alias))\n"
     ]
    },
    {
     "name": "stdout",
     "output_type": "stream",
     "text": [
      "Training until validation scores don't improve for 100 rounds\n",
      "Early stopping, best iteration is:\n",
      "[1224]\tvalid_0's auc: 0.860101\n",
      "Training until validation scores don't improve for 100 rounds\n",
      "Early stopping, best iteration is:\n",
      "[1124]\tvalid_0's auc: 0.858987\n",
      "Training until validation scores don't improve for 100 rounds\n",
      "Early stopping, best iteration is:\n",
      "[1018]\tvalid_0's auc: 0.8581\n",
      "Training until validation scores don't improve for 100 rounds\n",
      "Early stopping, best iteration is:\n",
      "[1281]\tvalid_0's auc: 0.859649\n",
      "--- FINISHED \\ whole score: 0.8592 ---\n",
      "---- id = 376 -----\n"
     ]
    },
    {
     "name": "stderr",
     "output_type": "stream",
     "text": [
      "/home/umhrysnb/anaconda3/lib/python3.8/site-packages/lightgbm/basic.py:1286: UserWarning: Overriding the parameters from Reference Dataset.\n",
      "  warnings.warn('Overriding the parameters from Reference Dataset.')\n",
      "/home/umhrysnb/anaconda3/lib/python3.8/site-packages/lightgbm/basic.py:1098: UserWarning: categorical_column in param dict is overridden.\n",
      "  warnings.warn('{} in param dict is overridden.'.format(cat_alias))\n"
     ]
    },
    {
     "name": "stdout",
     "output_type": "stream",
     "text": [
      "Training until validation scores don't improve for 100 rounds\n",
      "Early stopping, best iteration is:\n",
      "[364]\tvalid_0's auc: 0.749454\n",
      "Training until validation scores don't improve for 100 rounds\n",
      "Early stopping, best iteration is:\n",
      "[669]\tvalid_0's auc: 0.752516\n",
      "Training until validation scores don't improve for 100 rounds\n",
      "Early stopping, best iteration is:\n",
      "[485]\tvalid_0's auc: 0.755802\n",
      "Training until validation scores don't improve for 100 rounds\n",
      "Early stopping, best iteration is:\n",
      "[564]\tvalid_0's auc: 0.754885\n",
      "--- FINISHED \\ whole score: 0.7531 ---\n",
      "---- id = 435 -----\n"
     ]
    },
    {
     "name": "stderr",
     "output_type": "stream",
     "text": [
      "/home/umhrysnb/anaconda3/lib/python3.8/site-packages/lightgbm/basic.py:1286: UserWarning: Overriding the parameters from Reference Dataset.\n",
      "  warnings.warn('Overriding the parameters from Reference Dataset.')\n",
      "/home/umhrysnb/anaconda3/lib/python3.8/site-packages/lightgbm/basic.py:1098: UserWarning: categorical_column in param dict is overridden.\n",
      "  warnings.warn('{} in param dict is overridden.'.format(cat_alias))\n"
     ]
    },
    {
     "name": "stdout",
     "output_type": "stream",
     "text": [
      "Training until validation scores don't improve for 100 rounds\n",
      "Early stopping, best iteration is:\n",
      "[1062]\tvalid_0's auc: 0.859724\n",
      "Training until validation scores don't improve for 100 rounds\n",
      "Early stopping, best iteration is:\n",
      "[745]\tvalid_0's auc: 0.853416\n",
      "Training until validation scores don't improve for 100 rounds\n",
      "Early stopping, best iteration is:\n",
      "[1042]\tvalid_0's auc: 0.855625\n",
      "Training until validation scores don't improve for 100 rounds\n",
      "Early stopping, best iteration is:\n",
      "[928]\tvalid_0's auc: 0.85541\n",
      "--- FINISHED \\ whole score: 0.8560 ---\n",
      "---- id = 467 -----\n"
     ]
    },
    {
     "name": "stderr",
     "output_type": "stream",
     "text": [
      "/home/umhrysnb/anaconda3/lib/python3.8/site-packages/lightgbm/basic.py:1286: UserWarning: Overriding the parameters from Reference Dataset.\n",
      "  warnings.warn('Overriding the parameters from Reference Dataset.')\n",
      "/home/umhrysnb/anaconda3/lib/python3.8/site-packages/lightgbm/basic.py:1098: UserWarning: categorical_column in param dict is overridden.\n",
      "  warnings.warn('{} in param dict is overridden.'.format(cat_alias))\n"
     ]
    },
    {
     "name": "stdout",
     "output_type": "stream",
     "text": [
      "Training until validation scores don't improve for 100 rounds\n",
      "Early stopping, best iteration is:\n",
      "[423]\tvalid_0's auc: 0.859858\n",
      "Training until validation scores don't improve for 100 rounds\n",
      "Early stopping, best iteration is:\n",
      "[367]\tvalid_0's auc: 0.865899\n",
      "Training until validation scores don't improve for 100 rounds\n",
      "Early stopping, best iteration is:\n",
      "[690]\tvalid_0's auc: 0.864451\n",
      "Training until validation scores don't improve for 100 rounds\n",
      "Early stopping, best iteration is:\n",
      "[616]\tvalid_0's auc: 0.862483\n",
      "--- FINISHED \\ whole score: 0.8626 ---\n",
      "---- id = 537 -----\n"
     ]
    },
    {
     "name": "stderr",
     "output_type": "stream",
     "text": [
      "/home/umhrysnb/anaconda3/lib/python3.8/site-packages/lightgbm/basic.py:1286: UserWarning: Overriding the parameters from Reference Dataset.\n",
      "  warnings.warn('Overriding the parameters from Reference Dataset.')\n",
      "/home/umhrysnb/anaconda3/lib/python3.8/site-packages/lightgbm/basic.py:1098: UserWarning: categorical_column in param dict is overridden.\n",
      "  warnings.warn('{} in param dict is overridden.'.format(cat_alias))\n"
     ]
    },
    {
     "name": "stdout",
     "output_type": "stream",
     "text": [
      "Training until validation scores don't improve for 100 rounds\n",
      "Early stopping, best iteration is:\n",
      "[1094]\tvalid_0's auc: 0.901987\n",
      "Training until validation scores don't improve for 100 rounds\n",
      "Early stopping, best iteration is:\n",
      "[580]\tvalid_0's auc: 0.898086\n",
      "Training until validation scores don't improve for 100 rounds\n",
      "Early stopping, best iteration is:\n",
      "[884]\tvalid_0's auc: 0.903163\n",
      "Training until validation scores don't improve for 100 rounds\n",
      "Early stopping, best iteration is:\n",
      "[911]\tvalid_0's auc: 0.900115\n",
      "--- FINISHED \\ whole score: 0.9002 ---\n",
      "---- id = 539 -----\n"
     ]
    },
    {
     "name": "stderr",
     "output_type": "stream",
     "text": [
      "/home/umhrysnb/anaconda3/lib/python3.8/site-packages/lightgbm/basic.py:1286: UserWarning: Overriding the parameters from Reference Dataset.\n",
      "  warnings.warn('Overriding the parameters from Reference Dataset.')\n",
      "/home/umhrysnb/anaconda3/lib/python3.8/site-packages/lightgbm/basic.py:1098: UserWarning: categorical_column in param dict is overridden.\n",
      "  warnings.warn('{} in param dict is overridden.'.format(cat_alias))\n"
     ]
    },
    {
     "name": "stdout",
     "output_type": "stream",
     "text": [
      "Training until validation scores don't improve for 100 rounds\n",
      "Early stopping, best iteration is:\n",
      "[772]\tvalid_0's auc: 0.851885\n",
      "Training until validation scores don't improve for 100 rounds\n",
      "Early stopping, best iteration is:\n",
      "[1071]\tvalid_0's auc: 0.849515\n",
      "Training until validation scores don't improve for 100 rounds\n",
      "Early stopping, best iteration is:\n",
      "[794]\tvalid_0's auc: 0.854034\n",
      "Training until validation scores don't improve for 100 rounds\n",
      "Early stopping, best iteration is:\n",
      "[1019]\tvalid_0's auc: 0.849429\n",
      "--- FINISHED \\ whole score: 0.8509 ---\n",
      "---- id = 629 -----\n"
     ]
    },
    {
     "name": "stderr",
     "output_type": "stream",
     "text": [
      "/home/umhrysnb/anaconda3/lib/python3.8/site-packages/lightgbm/basic.py:1286: UserWarning: Overriding the parameters from Reference Dataset.\n",
      "  warnings.warn('Overriding the parameters from Reference Dataset.')\n",
      "/home/umhrysnb/anaconda3/lib/python3.8/site-packages/lightgbm/basic.py:1098: UserWarning: categorical_column in param dict is overridden.\n",
      "  warnings.warn('{} in param dict is overridden.'.format(cat_alias))\n"
     ]
    },
    {
     "name": "stdout",
     "output_type": "stream",
     "text": [
      "Training until validation scores don't improve for 100 rounds\n",
      "Early stopping, best iteration is:\n",
      "[181]\tvalid_0's auc: 0.906366\n",
      "Training until validation scores don't improve for 100 rounds\n",
      "Early stopping, best iteration is:\n",
      "[225]\tvalid_0's auc: 0.912015\n",
      "Training until validation scores don't improve for 100 rounds\n",
      "Early stopping, best iteration is:\n",
      "[289]\tvalid_0's auc: 0.910305\n",
      "Training until validation scores don't improve for 100 rounds\n",
      "Early stopping, best iteration is:\n",
      "[338]\tvalid_0's auc: 0.914123\n",
      "--- FINISHED \\ whole score: 0.9104 ---\n",
      "---- id = 768 -----\n"
     ]
    },
    {
     "name": "stderr",
     "output_type": "stream",
     "text": [
      "/home/umhrysnb/anaconda3/lib/python3.8/site-packages/lightgbm/basic.py:1286: UserWarning: Overriding the parameters from Reference Dataset.\n",
      "  warnings.warn('Overriding the parameters from Reference Dataset.')\n",
      "/home/umhrysnb/anaconda3/lib/python3.8/site-packages/lightgbm/basic.py:1098: UserWarning: categorical_column in param dict is overridden.\n",
      "  warnings.warn('{} in param dict is overridden.'.format(cat_alias))\n"
     ]
    },
    {
     "name": "stdout",
     "output_type": "stream",
     "text": [
      "Training until validation scores don't improve for 100 rounds\n",
      "Early stopping, best iteration is:\n",
      "[542]\tvalid_0's auc: 0.736845\n",
      "Training until validation scores don't improve for 100 rounds\n",
      "Early stopping, best iteration is:\n",
      "[509]\tvalid_0's auc: 0.738196\n",
      "Training until validation scores don't improve for 100 rounds\n",
      "Early stopping, best iteration is:\n",
      "[633]\tvalid_0's auc: 0.734601\n",
      "Training until validation scores don't improve for 100 rounds\n",
      "Early stopping, best iteration is:\n",
      "[434]\tvalid_0's auc: 0.736871\n",
      "--- FINISHED \\ whole score: 0.7366 ---\n",
      "25581\n",
      "===== 5 =====\n",
      "train_features (390621, 333)\n",
      "test_features (14072, 333)\n",
      "---- id = 38 -----\n"
     ]
    },
    {
     "name": "stderr",
     "output_type": "stream",
     "text": [
      "/home/umhrysnb/anaconda3/lib/python3.8/site-packages/lightgbm/basic.py:1286: UserWarning: Overriding the parameters from Reference Dataset.\n",
      "  warnings.warn('Overriding the parameters from Reference Dataset.')\n",
      "/home/umhrysnb/anaconda3/lib/python3.8/site-packages/lightgbm/basic.py:1098: UserWarning: categorical_column in param dict is overridden.\n",
      "  warnings.warn('{} in param dict is overridden.'.format(cat_alias))\n"
     ]
    },
    {
     "name": "stdout",
     "output_type": "stream",
     "text": [
      "Training until validation scores don't improve for 100 rounds\n",
      "Early stopping, best iteration is:\n",
      "[843]\tvalid_0's auc: 0.826703\n",
      "Training until validation scores don't improve for 100 rounds\n",
      "Early stopping, best iteration is:\n",
      "[634]\tvalid_0's auc: 0.822316\n",
      "Training until validation scores don't improve for 100 rounds\n",
      "Early stopping, best iteration is:\n",
      "[764]\tvalid_0's auc: 0.824795\n",
      "Training until validation scores don't improve for 100 rounds\n",
      "Early stopping, best iteration is:\n",
      "[811]\tvalid_0's auc: 0.826303\n",
      "--- FINISHED \\ whole score: 0.8250 ---\n",
      "---- id = 110 -----\n"
     ]
    },
    {
     "name": "stderr",
     "output_type": "stream",
     "text": [
      "/home/umhrysnb/anaconda3/lib/python3.8/site-packages/lightgbm/basic.py:1286: UserWarning: Overriding the parameters from Reference Dataset.\n",
      "  warnings.warn('Overriding the parameters from Reference Dataset.')\n",
      "/home/umhrysnb/anaconda3/lib/python3.8/site-packages/lightgbm/basic.py:1098: UserWarning: categorical_column in param dict is overridden.\n",
      "  warnings.warn('{} in param dict is overridden.'.format(cat_alias))\n"
     ]
    },
    {
     "name": "stdout",
     "output_type": "stream",
     "text": [
      "Training until validation scores don't improve for 100 rounds\n",
      "Early stopping, best iteration is:\n",
      "[162]\tvalid_0's auc: 0.792715\n",
      "Training until validation scores don't improve for 100 rounds\n",
      "Early stopping, best iteration is:\n",
      "[209]\tvalid_0's auc: 0.779777\n",
      "Training until validation scores don't improve for 100 rounds\n",
      "Early stopping, best iteration is:\n",
      "[450]\tvalid_0's auc: 0.780547\n",
      "Training until validation scores don't improve for 100 rounds\n",
      "Early stopping, best iteration is:\n",
      "[300]\tvalid_0's auc: 0.772185\n",
      "--- FINISHED \\ whole score: 0.7788 ---\n",
      "---- id = 113 -----\n"
     ]
    },
    {
     "name": "stderr",
     "output_type": "stream",
     "text": [
      "/home/umhrysnb/anaconda3/lib/python3.8/site-packages/lightgbm/basic.py:1286: UserWarning: Overriding the parameters from Reference Dataset.\n",
      "  warnings.warn('Overriding the parameters from Reference Dataset.')\n",
      "/home/umhrysnb/anaconda3/lib/python3.8/site-packages/lightgbm/basic.py:1098: UserWarning: categorical_column in param dict is overridden.\n",
      "  warnings.warn('{} in param dict is overridden.'.format(cat_alias))\n"
     ]
    },
    {
     "name": "stdout",
     "output_type": "stream",
     "text": [
      "Training until validation scores don't improve for 100 rounds\n",
      "Early stopping, best iteration is:\n",
      "[347]\tvalid_0's auc: 0.791411\n",
      "Training until validation scores don't improve for 100 rounds\n",
      "Early stopping, best iteration is:\n",
      "[455]\tvalid_0's auc: 0.798726\n",
      "Training until validation scores don't improve for 100 rounds\n",
      "Early stopping, best iteration is:\n",
      "[521]\tvalid_0's auc: 0.789442\n",
      "Training until validation scores don't improve for 100 rounds\n",
      "Early stopping, best iteration is:\n",
      "[840]\tvalid_0's auc: 0.792739\n",
      "--- FINISHED \\ whole score: 0.7923 ---\n",
      "---- id = 114 -----\n"
     ]
    },
    {
     "name": "stderr",
     "output_type": "stream",
     "text": [
      "/home/umhrysnb/anaconda3/lib/python3.8/site-packages/lightgbm/basic.py:1286: UserWarning: Overriding the parameters from Reference Dataset.\n",
      "  warnings.warn('Overriding the parameters from Reference Dataset.')\n",
      "/home/umhrysnb/anaconda3/lib/python3.8/site-packages/lightgbm/basic.py:1098: UserWarning: categorical_column in param dict is overridden.\n",
      "  warnings.warn('{} in param dict is overridden.'.format(cat_alias))\n"
     ]
    },
    {
     "name": "stdout",
     "output_type": "stream",
     "text": [
      "Training until validation scores don't improve for 100 rounds\n",
      "Early stopping, best iteration is:\n",
      "[947]\tvalid_0's auc: 0.751419\n",
      "Training until validation scores don't improve for 100 rounds\n",
      "Early stopping, best iteration is:\n",
      "[1016]\tvalid_0's auc: 0.75266\n",
      "Training until validation scores don't improve for 100 rounds\n",
      "Early stopping, best iteration is:\n",
      "[962]\tvalid_0's auc: 0.749285\n",
      "Training until validation scores don't improve for 100 rounds\n",
      "Early stopping, best iteration is:\n",
      "[984]\tvalid_0's auc: 0.751881\n",
      "--- FINISHED \\ whole score: 0.7513 ---\n",
      "---- id = 134 -----\n"
     ]
    },
    {
     "name": "stderr",
     "output_type": "stream",
     "text": [
      "/home/umhrysnb/anaconda3/lib/python3.8/site-packages/lightgbm/basic.py:1286: UserWarning: Overriding the parameters from Reference Dataset.\n",
      "  warnings.warn('Overriding the parameters from Reference Dataset.')\n",
      "/home/umhrysnb/anaconda3/lib/python3.8/site-packages/lightgbm/basic.py:1098: UserWarning: categorical_column in param dict is overridden.\n",
      "  warnings.warn('{} in param dict is overridden.'.format(cat_alias))\n"
     ]
    },
    {
     "name": "stdout",
     "output_type": "stream",
     "text": [
      "Training until validation scores don't improve for 100 rounds\n",
      "Early stopping, best iteration is:\n",
      "[677]\tvalid_0's auc: 0.736669\n",
      "Training until validation scores don't improve for 100 rounds\n",
      "Early stopping, best iteration is:\n",
      "[488]\tvalid_0's auc: 0.738629\n",
      "Training until validation scores don't improve for 100 rounds\n",
      "Early stopping, best iteration is:\n",
      "[470]\tvalid_0's auc: 0.736019\n",
      "Training until validation scores don't improve for 100 rounds\n",
      "Early stopping, best iteration is:\n",
      "[379]\tvalid_0's auc: 0.739471\n",
      "--- FINISHED \\ whole score: 0.7376 ---\n",
      "---- id = 171 -----\n"
     ]
    },
    {
     "name": "stderr",
     "output_type": "stream",
     "text": [
      "/home/umhrysnb/anaconda3/lib/python3.8/site-packages/lightgbm/basic.py:1286: UserWarning: Overriding the parameters from Reference Dataset.\n",
      "  warnings.warn('Overriding the parameters from Reference Dataset.')\n",
      "/home/umhrysnb/anaconda3/lib/python3.8/site-packages/lightgbm/basic.py:1098: UserWarning: categorical_column in param dict is overridden.\n",
      "  warnings.warn('{} in param dict is overridden.'.format(cat_alias))\n"
     ]
    },
    {
     "name": "stdout",
     "output_type": "stream",
     "text": [
      "Training until validation scores don't improve for 100 rounds\n",
      "Early stopping, best iteration is:\n",
      "[1346]\tvalid_0's auc: 0.855869\n",
      "Training until validation scores don't improve for 100 rounds\n",
      "Early stopping, best iteration is:\n",
      "[1267]\tvalid_0's auc: 0.858693\n",
      "Training until validation scores don't improve for 100 rounds\n",
      "Early stopping, best iteration is:\n",
      "[1482]\tvalid_0's auc: 0.856215\n",
      "Training until validation scores don't improve for 100 rounds\n",
      "Early stopping, best iteration is:\n",
      "[1221]\tvalid_0's auc: 0.858622\n",
      "--- FINISHED \\ whole score: 0.8573 ---\n",
      "---- id = 172 -----\n"
     ]
    },
    {
     "name": "stderr",
     "output_type": "stream",
     "text": [
      "/home/umhrysnb/anaconda3/lib/python3.8/site-packages/lightgbm/basic.py:1286: UserWarning: Overriding the parameters from Reference Dataset.\n",
      "  warnings.warn('Overriding the parameters from Reference Dataset.')\n",
      "/home/umhrysnb/anaconda3/lib/python3.8/site-packages/lightgbm/basic.py:1098: UserWarning: categorical_column in param dict is overridden.\n",
      "  warnings.warn('{} in param dict is overridden.'.format(cat_alias))\n"
     ]
    },
    {
     "name": "stdout",
     "output_type": "stream",
     "text": [
      "Training until validation scores don't improve for 100 rounds\n",
      "Early stopping, best iteration is:\n",
      "[662]\tvalid_0's auc: 0.860221\n",
      "Training until validation scores don't improve for 100 rounds\n",
      "Early stopping, best iteration is:\n",
      "[1170]\tvalid_0's auc: 0.862388\n",
      "Training until validation scores don't improve for 100 rounds\n",
      "Early stopping, best iteration is:\n",
      "[642]\tvalid_0's auc: 0.855049\n",
      "Training until validation scores don't improve for 100 rounds\n",
      "Early stopping, best iteration is:\n",
      "[526]\tvalid_0's auc: 0.861975\n",
      "--- FINISHED \\ whole score: 0.8571 ---\n",
      "---- id = 173 -----\n"
     ]
    },
    {
     "name": "stderr",
     "output_type": "stream",
     "text": [
      "/home/umhrysnb/anaconda3/lib/python3.8/site-packages/lightgbm/basic.py:1286: UserWarning: Overriding the parameters from Reference Dataset.\n",
      "  warnings.warn('Overriding the parameters from Reference Dataset.')\n",
      "/home/umhrysnb/anaconda3/lib/python3.8/site-packages/lightgbm/basic.py:1098: UserWarning: categorical_column in param dict is overridden.\n",
      "  warnings.warn('{} in param dict is overridden.'.format(cat_alias))\n"
     ]
    },
    {
     "name": "stdout",
     "output_type": "stream",
     "text": [
      "Training until validation scores don't improve for 100 rounds\n",
      "Early stopping, best iteration is:\n",
      "[1298]\tvalid_0's auc: 0.855751\n",
      "Training until validation scores don't improve for 100 rounds\n",
      "Early stopping, best iteration is:\n",
      "[1382]\tvalid_0's auc: 0.854393\n",
      "Training until validation scores don't improve for 100 rounds\n",
      "Early stopping, best iteration is:\n",
      "[837]\tvalid_0's auc: 0.854453\n",
      "Training until validation scores don't improve for 100 rounds\n",
      "Early stopping, best iteration is:\n",
      "[1319]\tvalid_0's auc: 0.853276\n",
      "--- FINISHED \\ whole score: 0.8543 ---\n",
      "---- id = 376 -----\n"
     ]
    },
    {
     "name": "stderr",
     "output_type": "stream",
     "text": [
      "/home/umhrysnb/anaconda3/lib/python3.8/site-packages/lightgbm/basic.py:1286: UserWarning: Overriding the parameters from Reference Dataset.\n",
      "  warnings.warn('Overriding the parameters from Reference Dataset.')\n",
      "/home/umhrysnb/anaconda3/lib/python3.8/site-packages/lightgbm/basic.py:1098: UserWarning: categorical_column in param dict is overridden.\n",
      "  warnings.warn('{} in param dict is overridden.'.format(cat_alias))\n"
     ]
    },
    {
     "name": "stdout",
     "output_type": "stream",
     "text": [
      "Training until validation scores don't improve for 100 rounds\n",
      "Early stopping, best iteration is:\n",
      "[555]\tvalid_0's auc: 0.749647\n",
      "Training until validation scores don't improve for 100 rounds\n",
      "Early stopping, best iteration is:\n",
      "[646]\tvalid_0's auc: 0.749782\n",
      "Training until validation scores don't improve for 100 rounds\n",
      "Early stopping, best iteration is:\n",
      "[651]\tvalid_0's auc: 0.753035\n",
      "Training until validation scores don't improve for 100 rounds\n",
      "Early stopping, best iteration is:\n",
      "[384]\tvalid_0's auc: 0.747552\n",
      "--- FINISHED \\ whole score: 0.7500 ---\n",
      "---- id = 435 -----\n"
     ]
    },
    {
     "name": "stderr",
     "output_type": "stream",
     "text": [
      "/home/umhrysnb/anaconda3/lib/python3.8/site-packages/lightgbm/basic.py:1286: UserWarning: Overriding the parameters from Reference Dataset.\n",
      "  warnings.warn('Overriding the parameters from Reference Dataset.')\n",
      "/home/umhrysnb/anaconda3/lib/python3.8/site-packages/lightgbm/basic.py:1098: UserWarning: categorical_column in param dict is overridden.\n",
      "  warnings.warn('{} in param dict is overridden.'.format(cat_alias))\n"
     ]
    },
    {
     "name": "stdout",
     "output_type": "stream",
     "text": [
      "Training until validation scores don't improve for 100 rounds\n",
      "Early stopping, best iteration is:\n",
      "[859]\tvalid_0's auc: 0.852529\n",
      "Training until validation scores don't improve for 100 rounds\n",
      "Early stopping, best iteration is:\n",
      "[1093]\tvalid_0's auc: 0.845016\n",
      "Training until validation scores don't improve for 100 rounds\n",
      "Early stopping, best iteration is:\n",
      "[716]\tvalid_0's auc: 0.848101\n",
      "Training until validation scores don't improve for 100 rounds\n",
      "Early stopping, best iteration is:\n",
      "[946]\tvalid_0's auc: 0.851058\n",
      "--- FINISHED \\ whole score: 0.8490 ---\n",
      "---- id = 467 -----\n"
     ]
    },
    {
     "name": "stderr",
     "output_type": "stream",
     "text": [
      "/home/umhrysnb/anaconda3/lib/python3.8/site-packages/lightgbm/basic.py:1286: UserWarning: Overriding the parameters from Reference Dataset.\n",
      "  warnings.warn('Overriding the parameters from Reference Dataset.')\n",
      "/home/umhrysnb/anaconda3/lib/python3.8/site-packages/lightgbm/basic.py:1098: UserWarning: categorical_column in param dict is overridden.\n",
      "  warnings.warn('{} in param dict is overridden.'.format(cat_alias))\n"
     ]
    },
    {
     "name": "stdout",
     "output_type": "stream",
     "text": [
      "Training until validation scores don't improve for 100 rounds\n",
      "Early stopping, best iteration is:\n",
      "[718]\tvalid_0's auc: 0.860096\n",
      "Training until validation scores don't improve for 100 rounds\n",
      "Early stopping, best iteration is:\n",
      "[434]\tvalid_0's auc: 0.859202\n",
      "Training until validation scores don't improve for 100 rounds\n",
      "Early stopping, best iteration is:\n",
      "[402]\tvalid_0's auc: 0.856213\n",
      "Training until validation scores don't improve for 100 rounds\n",
      "Early stopping, best iteration is:\n",
      "[661]\tvalid_0's auc: 0.856928\n",
      "--- FINISHED \\ whole score: 0.8573 ---\n",
      "---- id = 537 -----\n"
     ]
    },
    {
     "name": "stderr",
     "output_type": "stream",
     "text": [
      "/home/umhrysnb/anaconda3/lib/python3.8/site-packages/lightgbm/basic.py:1286: UserWarning: Overriding the parameters from Reference Dataset.\n",
      "  warnings.warn('Overriding the parameters from Reference Dataset.')\n",
      "/home/umhrysnb/anaconda3/lib/python3.8/site-packages/lightgbm/basic.py:1098: UserWarning: categorical_column in param dict is overridden.\n",
      "  warnings.warn('{} in param dict is overridden.'.format(cat_alias))\n"
     ]
    },
    {
     "name": "stdout",
     "output_type": "stream",
     "text": [
      "Training until validation scores don't improve for 100 rounds\n",
      "Early stopping, best iteration is:\n",
      "[1133]\tvalid_0's auc: 0.892378\n",
      "Training until validation scores don't improve for 100 rounds\n",
      "Early stopping, best iteration is:\n",
      "[656]\tvalid_0's auc: 0.893901\n",
      "Training until validation scores don't improve for 100 rounds\n",
      "Early stopping, best iteration is:\n",
      "[833]\tvalid_0's auc: 0.897267\n",
      "Training until validation scores don't improve for 100 rounds\n",
      "Early stopping, best iteration is:\n",
      "[687]\tvalid_0's auc: 0.893945\n",
      "--- FINISHED \\ whole score: 0.8935 ---\n",
      "---- id = 539 -----\n"
     ]
    },
    {
     "name": "stderr",
     "output_type": "stream",
     "text": [
      "/home/umhrysnb/anaconda3/lib/python3.8/site-packages/lightgbm/basic.py:1286: UserWarning: Overriding the parameters from Reference Dataset.\n",
      "  warnings.warn('Overriding the parameters from Reference Dataset.')\n",
      "/home/umhrysnb/anaconda3/lib/python3.8/site-packages/lightgbm/basic.py:1098: UserWarning: categorical_column in param dict is overridden.\n",
      "  warnings.warn('{} in param dict is overridden.'.format(cat_alias))\n"
     ]
    },
    {
     "name": "stdout",
     "output_type": "stream",
     "text": [
      "Training until validation scores don't improve for 100 rounds\n",
      "Early stopping, best iteration is:\n",
      "[800]\tvalid_0's auc: 0.846825\n",
      "Training until validation scores don't improve for 100 rounds\n",
      "Early stopping, best iteration is:\n",
      "[834]\tvalid_0's auc: 0.838502\n",
      "Training until validation scores don't improve for 100 rounds\n",
      "Early stopping, best iteration is:\n",
      "[741]\tvalid_0's auc: 0.846171\n",
      "Training until validation scores don't improve for 100 rounds\n",
      "Early stopping, best iteration is:\n",
      "[480]\tvalid_0's auc: 0.842781\n",
      "--- FINISHED \\ whole score: 0.8431 ---\n",
      "---- id = 629 -----\n"
     ]
    },
    {
     "name": "stderr",
     "output_type": "stream",
     "text": [
      "/home/umhrysnb/anaconda3/lib/python3.8/site-packages/lightgbm/basic.py:1286: UserWarning: Overriding the parameters from Reference Dataset.\n",
      "  warnings.warn('Overriding the parameters from Reference Dataset.')\n",
      "/home/umhrysnb/anaconda3/lib/python3.8/site-packages/lightgbm/basic.py:1098: UserWarning: categorical_column in param dict is overridden.\n",
      "  warnings.warn('{} in param dict is overridden.'.format(cat_alias))\n"
     ]
    },
    {
     "name": "stdout",
     "output_type": "stream",
     "text": [
      "Training until validation scores don't improve for 100 rounds\n",
      "Early stopping, best iteration is:\n",
      "[585]\tvalid_0's auc: 0.89574\n",
      "Training until validation scores don't improve for 100 rounds\n",
      "Early stopping, best iteration is:\n",
      "[199]\tvalid_0's auc: 0.900036\n",
      "Training until validation scores don't improve for 100 rounds\n",
      "Early stopping, best iteration is:\n",
      "[355]\tvalid_0's auc: 0.900761\n",
      "Training until validation scores don't improve for 100 rounds\n",
      "Early stopping, best iteration is:\n",
      "[214]\tvalid_0's auc: 0.895712\n",
      "--- FINISHED \\ whole score: 0.8947 ---\n",
      "---- id = 768 -----\n"
     ]
    },
    {
     "name": "stderr",
     "output_type": "stream",
     "text": [
      "/home/umhrysnb/anaconda3/lib/python3.8/site-packages/lightgbm/basic.py:1286: UserWarning: Overriding the parameters from Reference Dataset.\n",
      "  warnings.warn('Overriding the parameters from Reference Dataset.')\n",
      "/home/umhrysnb/anaconda3/lib/python3.8/site-packages/lightgbm/basic.py:1098: UserWarning: categorical_column in param dict is overridden.\n",
      "  warnings.warn('{} in param dict is overridden.'.format(cat_alias))\n"
     ]
    },
    {
     "name": "stdout",
     "output_type": "stream",
     "text": [
      "Training until validation scores don't improve for 100 rounds\n",
      "Early stopping, best iteration is:\n",
      "[540]\tvalid_0's auc: 0.73541\n",
      "Training until validation scores don't improve for 100 rounds\n",
      "Early stopping, best iteration is:\n",
      "[562]\tvalid_0's auc: 0.730759\n",
      "Training until validation scores don't improve for 100 rounds\n",
      "Early stopping, best iteration is:\n",
      "[371]\tvalid_0's auc: 0.735493\n",
      "Training until validation scores don't improve for 100 rounds\n",
      "Early stopping, best iteration is:\n",
      "[772]\tvalid_0's auc: 0.728219\n",
      "--- FINISHED \\ whole score: 0.7322 ---\n",
      "39653\n",
      "===== 10 =====\n",
      "train_features (391074, 333)\n",
      "test_features (16833, 333)\n",
      "---- id = 38 -----\n"
     ]
    },
    {
     "name": "stderr",
     "output_type": "stream",
     "text": [
      "/home/umhrysnb/anaconda3/lib/python3.8/site-packages/lightgbm/basic.py:1286: UserWarning: Overriding the parameters from Reference Dataset.\n",
      "  warnings.warn('Overriding the parameters from Reference Dataset.')\n",
      "/home/umhrysnb/anaconda3/lib/python3.8/site-packages/lightgbm/basic.py:1098: UserWarning: categorical_column in param dict is overridden.\n",
      "  warnings.warn('{} in param dict is overridden.'.format(cat_alias))\n"
     ]
    },
    {
     "name": "stdout",
     "output_type": "stream",
     "text": [
      "Training until validation scores don't improve for 100 rounds\n",
      "Early stopping, best iteration is:\n",
      "[656]\tvalid_0's auc: 0.822725\n",
      "Training until validation scores don't improve for 100 rounds\n",
      "Early stopping, best iteration is:\n",
      "[996]\tvalid_0's auc: 0.824195\n",
      "Training until validation scores don't improve for 100 rounds\n",
      "Early stopping, best iteration is:\n",
      "[896]\tvalid_0's auc: 0.824584\n",
      "Training until validation scores don't improve for 100 rounds\n",
      "Early stopping, best iteration is:\n",
      "[1068]\tvalid_0's auc: 0.823487\n",
      "--- FINISHED \\ whole score: 0.8236 ---\n",
      "---- id = 110 -----\n"
     ]
    },
    {
     "name": "stderr",
     "output_type": "stream",
     "text": [
      "/home/umhrysnb/anaconda3/lib/python3.8/site-packages/lightgbm/basic.py:1286: UserWarning: Overriding the parameters from Reference Dataset.\n",
      "  warnings.warn('Overriding the parameters from Reference Dataset.')\n",
      "/home/umhrysnb/anaconda3/lib/python3.8/site-packages/lightgbm/basic.py:1098: UserWarning: categorical_column in param dict is overridden.\n",
      "  warnings.warn('{} in param dict is overridden.'.format(cat_alias))\n"
     ]
    },
    {
     "name": "stdout",
     "output_type": "stream",
     "text": [
      "Training until validation scores don't improve for 100 rounds\n",
      "Early stopping, best iteration is:\n",
      "[108]\tvalid_0's auc: 0.775761\n",
      "Training until validation scores don't improve for 100 rounds\n",
      "Early stopping, best iteration is:\n",
      "[165]\tvalid_0's auc: 0.775733\n",
      "Training until validation scores don't improve for 100 rounds\n",
      "Early stopping, best iteration is:\n",
      "[111]\tvalid_0's auc: 0.77797\n",
      "Training until validation scores don't improve for 100 rounds\n",
      "Early stopping, best iteration is:\n",
      "[405]\tvalid_0's auc: 0.768684\n",
      "--- FINISHED \\ whole score: 0.7684 ---\n",
      "---- id = 113 -----\n"
     ]
    },
    {
     "name": "stderr",
     "output_type": "stream",
     "text": [
      "/home/umhrysnb/anaconda3/lib/python3.8/site-packages/lightgbm/basic.py:1286: UserWarning: Overriding the parameters from Reference Dataset.\n",
      "  warnings.warn('Overriding the parameters from Reference Dataset.')\n",
      "/home/umhrysnb/anaconda3/lib/python3.8/site-packages/lightgbm/basic.py:1098: UserWarning: categorical_column in param dict is overridden.\n",
      "  warnings.warn('{} in param dict is overridden.'.format(cat_alias))\n"
     ]
    },
    {
     "name": "stdout",
     "output_type": "stream",
     "text": [
      "Training until validation scores don't improve for 100 rounds\n",
      "Early stopping, best iteration is:\n",
      "[522]\tvalid_0's auc: 0.783108\n",
      "Training until validation scores don't improve for 100 rounds\n",
      "Early stopping, best iteration is:\n",
      "[405]\tvalid_0's auc: 0.786462\n",
      "Training until validation scores don't improve for 100 rounds\n",
      "Early stopping, best iteration is:\n",
      "[638]\tvalid_0's auc: 0.797445\n",
      "Training until validation scores don't improve for 100 rounds\n",
      "Early stopping, best iteration is:\n",
      "[333]\tvalid_0's auc: 0.788521\n",
      "--- FINISHED \\ whole score: 0.7885 ---\n",
      "---- id = 114 -----\n"
     ]
    },
    {
     "name": "stderr",
     "output_type": "stream",
     "text": [
      "/home/umhrysnb/anaconda3/lib/python3.8/site-packages/lightgbm/basic.py:1286: UserWarning: Overriding the parameters from Reference Dataset.\n",
      "  warnings.warn('Overriding the parameters from Reference Dataset.')\n",
      "/home/umhrysnb/anaconda3/lib/python3.8/site-packages/lightgbm/basic.py:1098: UserWarning: categorical_column in param dict is overridden.\n",
      "  warnings.warn('{} in param dict is overridden.'.format(cat_alias))\n"
     ]
    },
    {
     "name": "stdout",
     "output_type": "stream",
     "text": [
      "Training until validation scores don't improve for 100 rounds\n",
      "Early stopping, best iteration is:\n",
      "[948]\tvalid_0's auc: 0.755588\n",
      "Training until validation scores don't improve for 100 rounds\n",
      "Early stopping, best iteration is:\n",
      "[949]\tvalid_0's auc: 0.757083\n",
      "Training until validation scores don't improve for 100 rounds\n",
      "Early stopping, best iteration is:\n",
      "[654]\tvalid_0's auc: 0.756038\n",
      "Training until validation scores don't improve for 100 rounds\n",
      "Early stopping, best iteration is:\n",
      "[885]\tvalid_0's auc: 0.757361\n",
      "--- FINISHED \\ whole score: 0.7565 ---\n",
      "---- id = 134 -----\n"
     ]
    },
    {
     "name": "stderr",
     "output_type": "stream",
     "text": [
      "/home/umhrysnb/anaconda3/lib/python3.8/site-packages/lightgbm/basic.py:1286: UserWarning: Overriding the parameters from Reference Dataset.\n",
      "  warnings.warn('Overriding the parameters from Reference Dataset.')\n",
      "/home/umhrysnb/anaconda3/lib/python3.8/site-packages/lightgbm/basic.py:1098: UserWarning: categorical_column in param dict is overridden.\n",
      "  warnings.warn('{} in param dict is overridden.'.format(cat_alias))\n"
     ]
    },
    {
     "name": "stdout",
     "output_type": "stream",
     "text": [
      "Training until validation scores don't improve for 100 rounds\n",
      "Early stopping, best iteration is:\n",
      "[436]\tvalid_0's auc: 0.74463\n",
      "Training until validation scores don't improve for 100 rounds\n",
      "Early stopping, best iteration is:\n",
      "[422]\tvalid_0's auc: 0.747094\n",
      "Training until validation scores don't improve for 100 rounds\n",
      "Early stopping, best iteration is:\n",
      "[458]\tvalid_0's auc: 0.746465\n",
      "Training until validation scores don't improve for 100 rounds\n",
      "Early stopping, best iteration is:\n",
      "[449]\tvalid_0's auc: 0.747271\n",
      "--- FINISHED \\ whole score: 0.7464 ---\n",
      "---- id = 171 -----\n"
     ]
    },
    {
     "name": "stderr",
     "output_type": "stream",
     "text": [
      "/home/umhrysnb/anaconda3/lib/python3.8/site-packages/lightgbm/basic.py:1286: UserWarning: Overriding the parameters from Reference Dataset.\n",
      "  warnings.warn('Overriding the parameters from Reference Dataset.')\n",
      "/home/umhrysnb/anaconda3/lib/python3.8/site-packages/lightgbm/basic.py:1098: UserWarning: categorical_column in param dict is overridden.\n",
      "  warnings.warn('{} in param dict is overridden.'.format(cat_alias))\n"
     ]
    },
    {
     "name": "stdout",
     "output_type": "stream",
     "text": [
      "Training until validation scores don't improve for 100 rounds\n",
      "Early stopping, best iteration is:\n",
      "[1253]\tvalid_0's auc: 0.847858\n",
      "Training until validation scores don't improve for 100 rounds\n",
      "Early stopping, best iteration is:\n",
      "[953]\tvalid_0's auc: 0.842697\n",
      "Training until validation scores don't improve for 100 rounds\n",
      "Early stopping, best iteration is:\n",
      "[1177]\tvalid_0's auc: 0.843064\n",
      "Training until validation scores don't improve for 100 rounds\n",
      "Early stopping, best iteration is:\n",
      "[1029]\tvalid_0's auc: 0.845674\n",
      "--- FINISHED \\ whole score: 0.8447 ---\n",
      "---- id = 172 -----\n"
     ]
    },
    {
     "name": "stderr",
     "output_type": "stream",
     "text": [
      "/home/umhrysnb/anaconda3/lib/python3.8/site-packages/lightgbm/basic.py:1286: UserWarning: Overriding the parameters from Reference Dataset.\n",
      "  warnings.warn('Overriding the parameters from Reference Dataset.')\n",
      "/home/umhrysnb/anaconda3/lib/python3.8/site-packages/lightgbm/basic.py:1098: UserWarning: categorical_column in param dict is overridden.\n",
      "  warnings.warn('{} in param dict is overridden.'.format(cat_alias))\n"
     ]
    },
    {
     "name": "stdout",
     "output_type": "stream",
     "text": [
      "Training until validation scores don't improve for 100 rounds\n",
      "Early stopping, best iteration is:\n",
      "[652]\tvalid_0's auc: 0.845689\n",
      "Training until validation scores don't improve for 100 rounds\n",
      "Early stopping, best iteration is:\n",
      "[632]\tvalid_0's auc: 0.816848\n",
      "Training until validation scores don't improve for 100 rounds\n",
      "Early stopping, best iteration is:\n",
      "[424]\tvalid_0's auc: 0.850039\n",
      "Training until validation scores don't improve for 100 rounds\n",
      "Early stopping, best iteration is:\n",
      "[312]\tvalid_0's auc: 0.833326\n",
      "--- FINISHED \\ whole score: 0.8337 ---\n",
      "---- id = 173 -----\n"
     ]
    },
    {
     "name": "stderr",
     "output_type": "stream",
     "text": [
      "/home/umhrysnb/anaconda3/lib/python3.8/site-packages/lightgbm/basic.py:1286: UserWarning: Overriding the parameters from Reference Dataset.\n",
      "  warnings.warn('Overriding the parameters from Reference Dataset.')\n",
      "/home/umhrysnb/anaconda3/lib/python3.8/site-packages/lightgbm/basic.py:1098: UserWarning: categorical_column in param dict is overridden.\n",
      "  warnings.warn('{} in param dict is overridden.'.format(cat_alias))\n"
     ]
    },
    {
     "name": "stdout",
     "output_type": "stream",
     "text": [
      "Training until validation scores don't improve for 100 rounds\n",
      "Early stopping, best iteration is:\n",
      "[730]\tvalid_0's auc: 0.846565\n",
      "Training until validation scores don't improve for 100 rounds\n",
      "Early stopping, best iteration is:\n",
      "[875]\tvalid_0's auc: 0.84983\n",
      "Training until validation scores don't improve for 100 rounds\n",
      "Early stopping, best iteration is:\n",
      "[817]\tvalid_0's auc: 0.848977\n",
      "Training until validation scores don't improve for 100 rounds\n",
      "Early stopping, best iteration is:\n",
      "[1166]\tvalid_0's auc: 0.850526\n",
      "--- FINISHED \\ whole score: 0.8489 ---\n",
      "---- id = 376 -----\n"
     ]
    },
    {
     "name": "stderr",
     "output_type": "stream",
     "text": [
      "/home/umhrysnb/anaconda3/lib/python3.8/site-packages/lightgbm/basic.py:1286: UserWarning: Overriding the parameters from Reference Dataset.\n",
      "  warnings.warn('Overriding the parameters from Reference Dataset.')\n",
      "/home/umhrysnb/anaconda3/lib/python3.8/site-packages/lightgbm/basic.py:1098: UserWarning: categorical_column in param dict is overridden.\n",
      "  warnings.warn('{} in param dict is overridden.'.format(cat_alias))\n"
     ]
    },
    {
     "name": "stdout",
     "output_type": "stream",
     "text": [
      "Training until validation scores don't improve for 100 rounds\n",
      "Early stopping, best iteration is:\n",
      "[471]\tvalid_0's auc: 0.758219\n",
      "Training until validation scores don't improve for 100 rounds\n",
      "Early stopping, best iteration is:\n",
      "[546]\tvalid_0's auc: 0.755162\n",
      "Training until validation scores don't improve for 100 rounds\n",
      "Early stopping, best iteration is:\n",
      "[341]\tvalid_0's auc: 0.765126\n",
      "Training until validation scores don't improve for 100 rounds\n",
      "Early stopping, best iteration is:\n",
      "[638]\tvalid_0's auc: 0.758658\n",
      "--- FINISHED \\ whole score: 0.7590 ---\n",
      "---- id = 435 -----\n"
     ]
    },
    {
     "name": "stderr",
     "output_type": "stream",
     "text": [
      "/home/umhrysnb/anaconda3/lib/python3.8/site-packages/lightgbm/basic.py:1286: UserWarning: Overriding the parameters from Reference Dataset.\n",
      "  warnings.warn('Overriding the parameters from Reference Dataset.')\n",
      "/home/umhrysnb/anaconda3/lib/python3.8/site-packages/lightgbm/basic.py:1098: UserWarning: categorical_column in param dict is overridden.\n",
      "  warnings.warn('{} in param dict is overridden.'.format(cat_alias))\n"
     ]
    },
    {
     "name": "stdout",
     "output_type": "stream",
     "text": [
      "Training until validation scores don't improve for 100 rounds\n",
      "Early stopping, best iteration is:\n",
      "[603]\tvalid_0's auc: 0.8404\n",
      "Training until validation scores don't improve for 100 rounds\n",
      "Early stopping, best iteration is:\n",
      "[665]\tvalid_0's auc: 0.84146\n",
      "Training until validation scores don't improve for 100 rounds\n",
      "Early stopping, best iteration is:\n",
      "[837]\tvalid_0's auc: 0.843233\n",
      "Training until validation scores don't improve for 100 rounds\n",
      "Early stopping, best iteration is:\n",
      "[936]\tvalid_0's auc: 0.836356\n",
      "--- FINISHED \\ whole score: 0.8399 ---\n",
      "---- id = 467 -----\n"
     ]
    },
    {
     "name": "stderr",
     "output_type": "stream",
     "text": [
      "/home/umhrysnb/anaconda3/lib/python3.8/site-packages/lightgbm/basic.py:1286: UserWarning: Overriding the parameters from Reference Dataset.\n",
      "  warnings.warn('Overriding the parameters from Reference Dataset.')\n",
      "/home/umhrysnb/anaconda3/lib/python3.8/site-packages/lightgbm/basic.py:1098: UserWarning: categorical_column in param dict is overridden.\n",
      "  warnings.warn('{} in param dict is overridden.'.format(cat_alias))\n"
     ]
    },
    {
     "name": "stdout",
     "output_type": "stream",
     "text": [
      "Training until validation scores don't improve for 100 rounds\n",
      "Early stopping, best iteration is:\n",
      "[328]\tvalid_0's auc: 0.835172\n",
      "Training until validation scores don't improve for 100 rounds\n",
      "Early stopping, best iteration is:\n",
      "[356]\tvalid_0's auc: 0.834336\n",
      "Training until validation scores don't improve for 100 rounds\n",
      "Early stopping, best iteration is:\n",
      "[380]\tvalid_0's auc: 0.853293\n",
      "Training until validation scores don't improve for 100 rounds\n",
      "Early stopping, best iteration is:\n",
      "[269]\tvalid_0's auc: 0.838732\n",
      "--- FINISHED \\ whole score: 0.8402 ---\n",
      "---- id = 537 -----\n"
     ]
    },
    {
     "name": "stderr",
     "output_type": "stream",
     "text": [
      "/home/umhrysnb/anaconda3/lib/python3.8/site-packages/lightgbm/basic.py:1286: UserWarning: Overriding the parameters from Reference Dataset.\n",
      "  warnings.warn('Overriding the parameters from Reference Dataset.')\n",
      "/home/umhrysnb/anaconda3/lib/python3.8/site-packages/lightgbm/basic.py:1098: UserWarning: categorical_column in param dict is overridden.\n",
      "  warnings.warn('{} in param dict is overridden.'.format(cat_alias))\n"
     ]
    },
    {
     "name": "stdout",
     "output_type": "stream",
     "text": [
      "Training until validation scores don't improve for 100 rounds\n",
      "Early stopping, best iteration is:\n",
      "[365]\tvalid_0's auc: 0.877635\n",
      "Training until validation scores don't improve for 100 rounds\n",
      "Early stopping, best iteration is:\n",
      "[761]\tvalid_0's auc: 0.87894\n",
      "Training until validation scores don't improve for 100 rounds\n",
      "Early stopping, best iteration is:\n",
      "[697]\tvalid_0's auc: 0.880638\n",
      "Training until validation scores don't improve for 100 rounds\n",
      "Early stopping, best iteration is:\n",
      "[683]\tvalid_0's auc: 0.877867\n",
      "--- FINISHED \\ whole score: 0.8773 ---\n",
      "---- id = 539 -----\n"
     ]
    },
    {
     "name": "stderr",
     "output_type": "stream",
     "text": [
      "/home/umhrysnb/anaconda3/lib/python3.8/site-packages/lightgbm/basic.py:1286: UserWarning: Overriding the parameters from Reference Dataset.\n",
      "  warnings.warn('Overriding the parameters from Reference Dataset.')\n",
      "/home/umhrysnb/anaconda3/lib/python3.8/site-packages/lightgbm/basic.py:1098: UserWarning: categorical_column in param dict is overridden.\n",
      "  warnings.warn('{} in param dict is overridden.'.format(cat_alias))\n"
     ]
    },
    {
     "name": "stdout",
     "output_type": "stream",
     "text": [
      "Training until validation scores don't improve for 100 rounds\n",
      "Early stopping, best iteration is:\n",
      "[797]\tvalid_0's auc: 0.833892\n",
      "Training until validation scores don't improve for 100 rounds\n",
      "Early stopping, best iteration is:\n",
      "[331]\tvalid_0's auc: 0.826485\n",
      "Training until validation scores don't improve for 100 rounds\n",
      "Early stopping, best iteration is:\n",
      "[820]\tvalid_0's auc: 0.830878\n",
      "Training until validation scores don't improve for 100 rounds\n",
      "Early stopping, best iteration is:\n",
      "[656]\tvalid_0's auc: 0.836986\n",
      "--- FINISHED \\ whole score: 0.8310 ---\n",
      "---- id = 629 -----\n"
     ]
    },
    {
     "name": "stderr",
     "output_type": "stream",
     "text": [
      "/home/umhrysnb/anaconda3/lib/python3.8/site-packages/lightgbm/basic.py:1286: UserWarning: Overriding the parameters from Reference Dataset.\n",
      "  warnings.warn('Overriding the parameters from Reference Dataset.')\n",
      "/home/umhrysnb/anaconda3/lib/python3.8/site-packages/lightgbm/basic.py:1098: UserWarning: categorical_column in param dict is overridden.\n",
      "  warnings.warn('{} in param dict is overridden.'.format(cat_alias))\n"
     ]
    },
    {
     "name": "stdout",
     "output_type": "stream",
     "text": [
      "Training until validation scores don't improve for 100 rounds\n",
      "Early stopping, best iteration is:\n",
      "[412]\tvalid_0's auc: 0.863585\n",
      "Training until validation scores don't improve for 100 rounds\n",
      "Early stopping, best iteration is:\n",
      "[494]\tvalid_0's auc: 0.873393\n",
      "Training until validation scores don't improve for 100 rounds\n",
      "Early stopping, best iteration is:\n",
      "[274]\tvalid_0's auc: 0.868305\n",
      "Training until validation scores don't improve for 100 rounds\n",
      "Early stopping, best iteration is:\n",
      "[194]\tvalid_0's auc: 0.883938\n",
      "--- FINISHED \\ whole score: 0.8674 ---\n",
      "---- id = 768 -----\n"
     ]
    },
    {
     "name": "stderr",
     "output_type": "stream",
     "text": [
      "/home/umhrysnb/anaconda3/lib/python3.8/site-packages/lightgbm/basic.py:1286: UserWarning: Overriding the parameters from Reference Dataset.\n",
      "  warnings.warn('Overriding the parameters from Reference Dataset.')\n",
      "/home/umhrysnb/anaconda3/lib/python3.8/site-packages/lightgbm/basic.py:1098: UserWarning: categorical_column in param dict is overridden.\n",
      "  warnings.warn('{} in param dict is overridden.'.format(cat_alias))\n"
     ]
    },
    {
     "name": "stdout",
     "output_type": "stream",
     "text": [
      "Training until validation scores don't improve for 100 rounds\n",
      "Early stopping, best iteration is:\n",
      "[406]\tvalid_0's auc: 0.72973\n",
      "Training until validation scores don't improve for 100 rounds\n",
      "Early stopping, best iteration is:\n",
      "[586]\tvalid_0's auc: 0.733136\n",
      "Training until validation scores don't improve for 100 rounds\n",
      "Early stopping, best iteration is:\n",
      "[448]\tvalid_0's auc: 0.727884\n",
      "Training until validation scores don't improve for 100 rounds\n",
      "Early stopping, best iteration is:\n",
      "[434]\tvalid_0's auc: 0.736346\n",
      "--- FINISHED \\ whole score: 0.7317 ---\n",
      "56486\n",
      "CPU times: user 2d 1h 17min 34s, sys: 24min 42s, total: 2d 1h 42min 17s\n",
      "Wall time: 2h 9min 51s\n"
     ]
    }
   ],
   "source": [
    "%%time\n",
    "df_pred_all = pd.DataFrame()\n",
    "df_score_all = pd.DataFrame(index=ELAPSED_MIN)\n",
    "models_list_list = []\n",
    "\n",
    "for elapsed_min in ELAPSED_MIN:\n",
    "    print(f'===== {elapsed_min} =====')\n",
    "    train_features, y_train = get_train_all_features(elapsed_min, train_log_list, train_y_list)\n",
    "    test_features = get_test_all_feature(elapsed_min)\n",
    "\n",
    "    df_pred = pd.DataFrame(index=test_features['session_id'])\n",
    "    train_features.drop(columns=['session_id'], inplace=True)\n",
    "    test_features.drop(columns=['session_id'], inplace=True)\n",
    "    \n",
    "    models_list = []\n",
    "    for target in y_train.columns:\n",
    "        if target == 'session_id':\n",
    "            continue\n",
    "        \n",
    "        print(f\"---- id = {target} -----\")\n",
    "        oof, models, score = train_lgbm(train_features, y_train[target])\n",
    "        models_list.append(models)\n",
    "\n",
    "        pred = predict(models, test_features)\n",
    "        df_pred[target] = pred\n",
    "        df_score_all.loc[elapsed_min, target] = score\n",
    "        \n",
    "    models_list_list.append(models_list)\n",
    "    df_pred_all = pd.concat([df_pred_all, df_pred])\n",
    "    print(len(df_pred_all))"
   ]
  },
  {
   "cell_type": "code",
   "execution_count": 43,
   "metadata": {},
   "outputs": [
    {
     "data": {
      "text/html": [
       "<div>\n",
       "<style scoped>\n",
       "    .dataframe tbody tr th:only-of-type {\n",
       "        vertical-align: middle;\n",
       "    }\n",
       "\n",
       "    .dataframe tbody tr th {\n",
       "        vertical-align: top;\n",
       "    }\n",
       "\n",
       "    .dataframe thead th {\n",
       "        text-align: right;\n",
       "    }\n",
       "</style>\n",
       "<table border=\"1\" class=\"dataframe\">\n",
       "  <thead>\n",
       "    <tr style=\"text-align: right;\">\n",
       "      <th></th>\n",
       "      <th>38</th>\n",
       "      <th>110</th>\n",
       "      <th>113</th>\n",
       "      <th>114</th>\n",
       "      <th>134</th>\n",
       "      <th>171</th>\n",
       "      <th>172</th>\n",
       "      <th>173</th>\n",
       "      <th>376</th>\n",
       "      <th>435</th>\n",
       "      <th>467</th>\n",
       "      <th>537</th>\n",
       "      <th>539</th>\n",
       "      <th>629</th>\n",
       "      <th>768</th>\n",
       "    </tr>\n",
       "    <tr>\n",
       "      <th>session_id</th>\n",
       "      <th></th>\n",
       "      <th></th>\n",
       "      <th></th>\n",
       "      <th></th>\n",
       "      <th></th>\n",
       "      <th></th>\n",
       "      <th></th>\n",
       "      <th></th>\n",
       "      <th></th>\n",
       "      <th></th>\n",
       "      <th></th>\n",
       "      <th></th>\n",
       "      <th></th>\n",
       "      <th></th>\n",
       "      <th></th>\n",
       "    </tr>\n",
       "  </thead>\n",
       "  <tbody>\n",
       "    <tr>\n",
       "      <th>663721</th>\n",
       "      <td>0.094643</td>\n",
       "      <td>0.015625</td>\n",
       "      <td>0.017001</td>\n",
       "      <td>0.355180</td>\n",
       "      <td>0.069377</td>\n",
       "      <td>0.063255</td>\n",
       "      <td>0.001227</td>\n",
       "      <td>0.057764</td>\n",
       "      <td>0.103481</td>\n",
       "      <td>0.014642</td>\n",
       "      <td>0.076926</td>\n",
       "      <td>0.001692</td>\n",
       "      <td>0.057854</td>\n",
       "      <td>0.039597</td>\n",
       "      <td>0.018600</td>\n",
       "    </tr>\n",
       "    <tr>\n",
       "      <th>663761</th>\n",
       "      <td>0.205657</td>\n",
       "      <td>0.090208</td>\n",
       "      <td>0.432833</td>\n",
       "      <td>0.508659</td>\n",
       "      <td>0.280001</td>\n",
       "      <td>0.195516</td>\n",
       "      <td>0.558165</td>\n",
       "      <td>0.026732</td>\n",
       "      <td>0.237042</td>\n",
       "      <td>0.004007</td>\n",
       "      <td>0.009743</td>\n",
       "      <td>0.006482</td>\n",
       "      <td>0.321022</td>\n",
       "      <td>0.001656</td>\n",
       "      <td>0.496610</td>\n",
       "    </tr>\n",
       "    <tr>\n",
       "      <th>663763</th>\n",
       "      <td>0.161348</td>\n",
       "      <td>0.063763</td>\n",
       "      <td>0.091986</td>\n",
       "      <td>0.828784</td>\n",
       "      <td>0.509822</td>\n",
       "      <td>0.009552</td>\n",
       "      <td>0.003068</td>\n",
       "      <td>0.004342</td>\n",
       "      <td>0.237736</td>\n",
       "      <td>0.036590</td>\n",
       "      <td>0.053235</td>\n",
       "      <td>0.002092</td>\n",
       "      <td>0.008883</td>\n",
       "      <td>0.013125</td>\n",
       "      <td>0.053889</td>\n",
       "    </tr>\n",
       "    <tr>\n",
       "      <th>663775</th>\n",
       "      <td>0.034102</td>\n",
       "      <td>0.014397</td>\n",
       "      <td>0.014601</td>\n",
       "      <td>0.158829</td>\n",
       "      <td>0.297044</td>\n",
       "      <td>0.128764</td>\n",
       "      <td>0.013532</td>\n",
       "      <td>0.623097</td>\n",
       "      <td>0.048680</td>\n",
       "      <td>0.197361</td>\n",
       "      <td>0.023029</td>\n",
       "      <td>0.005531</td>\n",
       "      <td>0.038842</td>\n",
       "      <td>0.008180</td>\n",
       "      <td>0.199592</td>\n",
       "    </tr>\n",
       "    <tr>\n",
       "      <th>663778</th>\n",
       "      <td>0.278714</td>\n",
       "      <td>0.028037</td>\n",
       "      <td>0.124855</td>\n",
       "      <td>0.212330</td>\n",
       "      <td>0.155835</td>\n",
       "      <td>0.079865</td>\n",
       "      <td>0.008307</td>\n",
       "      <td>0.063698</td>\n",
       "      <td>0.041704</td>\n",
       "      <td>0.102811</td>\n",
       "      <td>0.004546</td>\n",
       "      <td>0.022661</td>\n",
       "      <td>0.058833</td>\n",
       "      <td>0.001202</td>\n",
       "      <td>0.082798</td>\n",
       "    </tr>\n",
       "  </tbody>\n",
       "</table>\n",
       "</div>"
      ],
      "text/plain": [
       "                  38       110       113       114       134       171  \\\n",
       "session_id                                                               \n",
       "663721      0.094643  0.015625  0.017001  0.355180  0.069377  0.063255   \n",
       "663761      0.205657  0.090208  0.432833  0.508659  0.280001  0.195516   \n",
       "663763      0.161348  0.063763  0.091986  0.828784  0.509822  0.009552   \n",
       "663775      0.034102  0.014397  0.014601  0.158829  0.297044  0.128764   \n",
       "663778      0.278714  0.028037  0.124855  0.212330  0.155835  0.079865   \n",
       "\n",
       "                 172       173       376       435       467       537  \\\n",
       "session_id                                                               \n",
       "663721      0.001227  0.057764  0.103481  0.014642  0.076926  0.001692   \n",
       "663761      0.558165  0.026732  0.237042  0.004007  0.009743  0.006482   \n",
       "663763      0.003068  0.004342  0.237736  0.036590  0.053235  0.002092   \n",
       "663775      0.013532  0.623097  0.048680  0.197361  0.023029  0.005531   \n",
       "663778      0.008307  0.063698  0.041704  0.102811  0.004546  0.022661   \n",
       "\n",
       "                 539       629       768  \n",
       "session_id                                \n",
       "663721      0.057854  0.039597  0.018600  \n",
       "663761      0.321022  0.001656  0.496610  \n",
       "663763      0.008883  0.013125  0.053889  \n",
       "663775      0.038842  0.008180  0.199592  \n",
       "663778      0.058833  0.001202  0.082798  "
      ]
     },
     "execution_count": 43,
     "metadata": {},
     "output_type": "execute_result"
    }
   ],
   "source": [
    "df_pred_all.head()"
   ]
  },
  {
   "cell_type": "code",
   "execution_count": 44,
   "metadata": {},
   "outputs": [
    {
     "data": {
      "text/html": [
       "<div>\n",
       "<style scoped>\n",
       "    .dataframe tbody tr th:only-of-type {\n",
       "        vertical-align: middle;\n",
       "    }\n",
       "\n",
       "    .dataframe tbody tr th {\n",
       "        vertical-align: top;\n",
       "    }\n",
       "\n",
       "    .dataframe thead th {\n",
       "        text-align: right;\n",
       "    }\n",
       "</style>\n",
       "<table border=\"1\" class=\"dataframe\">\n",
       "  <thead>\n",
       "    <tr style=\"text-align: right;\">\n",
       "      <th></th>\n",
       "      <th>38</th>\n",
       "      <th>110</th>\n",
       "      <th>113</th>\n",
       "      <th>114</th>\n",
       "      <th>134</th>\n",
       "      <th>171</th>\n",
       "      <th>172</th>\n",
       "      <th>173</th>\n",
       "      <th>376</th>\n",
       "      <th>435</th>\n",
       "      <th>467</th>\n",
       "      <th>537</th>\n",
       "      <th>539</th>\n",
       "      <th>629</th>\n",
       "      <th>768</th>\n",
       "    </tr>\n",
       "  </thead>\n",
       "  <tbody>\n",
       "    <tr>\n",
       "      <th>0</th>\n",
       "      <td>0.828192</td>\n",
       "      <td>0.797225</td>\n",
       "      <td>0.802864</td>\n",
       "      <td>0.760580</td>\n",
       "      <td>0.747055</td>\n",
       "      <td>0.869483</td>\n",
       "      <td>0.870970</td>\n",
       "      <td>0.865886</td>\n",
       "      <td>0.757123</td>\n",
       "      <td>0.869634</td>\n",
       "      <td>0.871702</td>\n",
       "      <td>0.906037</td>\n",
       "      <td>0.859858</td>\n",
       "      <td>0.919209</td>\n",
       "      <td>0.748746</td>\n",
       "    </tr>\n",
       "    <tr>\n",
       "      <th>3</th>\n",
       "      <td>0.826300</td>\n",
       "      <td>0.788931</td>\n",
       "      <td>0.798099</td>\n",
       "      <td>0.755689</td>\n",
       "      <td>0.741911</td>\n",
       "      <td>0.863106</td>\n",
       "      <td>0.863100</td>\n",
       "      <td>0.859192</td>\n",
       "      <td>0.753135</td>\n",
       "      <td>0.855966</td>\n",
       "      <td>0.862599</td>\n",
       "      <td>0.900221</td>\n",
       "      <td>0.850896</td>\n",
       "      <td>0.910415</td>\n",
       "      <td>0.736550</td>\n",
       "    </tr>\n",
       "    <tr>\n",
       "      <th>5</th>\n",
       "      <td>0.825019</td>\n",
       "      <td>0.778846</td>\n",
       "      <td>0.792267</td>\n",
       "      <td>0.751314</td>\n",
       "      <td>0.737595</td>\n",
       "      <td>0.857300</td>\n",
       "      <td>0.857139</td>\n",
       "      <td>0.854285</td>\n",
       "      <td>0.749955</td>\n",
       "      <td>0.848953</td>\n",
       "      <td>0.857325</td>\n",
       "      <td>0.893543</td>\n",
       "      <td>0.843069</td>\n",
       "      <td>0.894679</td>\n",
       "      <td>0.732150</td>\n",
       "    </tr>\n",
       "    <tr>\n",
       "      <th>10</th>\n",
       "      <td>0.823576</td>\n",
       "      <td>0.768379</td>\n",
       "      <td>0.788493</td>\n",
       "      <td>0.756492</td>\n",
       "      <td>0.746358</td>\n",
       "      <td>0.844731</td>\n",
       "      <td>0.833713</td>\n",
       "      <td>0.848877</td>\n",
       "      <td>0.759011</td>\n",
       "      <td>0.839928</td>\n",
       "      <td>0.840199</td>\n",
       "      <td>0.877342</td>\n",
       "      <td>0.831031</td>\n",
       "      <td>0.867362</td>\n",
       "      <td>0.731727</td>\n",
       "    </tr>\n",
       "  </tbody>\n",
       "</table>\n",
       "</div>"
      ],
      "text/plain": [
       "          38       110       113       114       134       171       172  \\\n",
       "0   0.828192  0.797225  0.802864  0.760580  0.747055  0.869483  0.870970   \n",
       "3   0.826300  0.788931  0.798099  0.755689  0.741911  0.863106  0.863100   \n",
       "5   0.825019  0.778846  0.792267  0.751314  0.737595  0.857300  0.857139   \n",
       "10  0.823576  0.768379  0.788493  0.756492  0.746358  0.844731  0.833713   \n",
       "\n",
       "         173       376       435       467       537       539       629  \\\n",
       "0   0.865886  0.757123  0.869634  0.871702  0.906037  0.859858  0.919209   \n",
       "3   0.859192  0.753135  0.855966  0.862599  0.900221  0.850896  0.910415   \n",
       "5   0.854285  0.749955  0.848953  0.857325  0.893543  0.843069  0.894679   \n",
       "10  0.848877  0.759011  0.839928  0.840199  0.877342  0.831031  0.867362   \n",
       "\n",
       "         768  \n",
       "0   0.748746  \n",
       "3   0.736550  \n",
       "5   0.732150  \n",
       "10  0.731727  "
      ]
     },
     "execution_count": 44,
     "metadata": {},
     "output_type": "execute_result"
    }
   ],
   "source": [
    "df_score_all"
   ]
  },
  {
   "cell_type": "code",
   "execution_count": 45,
   "metadata": {},
   "outputs": [
    {
     "name": "stdout",
     "output_type": "stream",
     "text": [
      "0     0.831638\n",
      "3     0.824407\n",
      "5     0.818229\n",
      "10    0.810481\n",
      "dtype: float64\n",
      "- cv = 0.8211888773835395\n"
     ]
    }
   ],
   "source": [
    "cv = df_score_all.mean(axis=1)\n",
    "print(cv)\n",
    "print('- cv =', cv.mean())"
   ]
  },
  {
   "cell_type": "code",
   "execution_count": 46,
   "metadata": {},
   "outputs": [],
   "source": [
    "assert len(df_pred_all) == len(test)"
   ]
  },
  {
   "cell_type": "code",
   "execution_count": 47,
   "metadata": {},
   "outputs": [],
   "source": [
    "submission = pd.merge(test[['session_id']], df_pred_all.reset_index(), on='session_id', how='inner')\n",
    "assert len(submission) == len(test)"
   ]
  },
  {
   "cell_type": "code",
   "execution_count": 48,
   "metadata": {},
   "outputs": [],
   "source": [
    "submission.drop(columns='session_id').to_csv('../outputs/submission.csv', index=False)"
   ]
  },
  {
   "cell_type": "code",
   "execution_count": null,
   "metadata": {},
   "outputs": [],
   "source": []
  },
  {
   "cell_type": "markdown",
   "metadata": {},
   "source": [
    "#### baseline_9: 来店間隔、回数、曜日x時間の来店者数\n",
    "- feat = 333\n",
    "- Wall time: 2h 9min 51s\n",
    "- cv = 0.82118 (0.831/0.824/0.818/0.810)\n",
    "- LB = 0.7665\n",
    "\n",
    "#### baseline_8: クーポン発行とターゲットの購買実績\n",
    "- feat = 344\n",
    "- Wall time: 2h 5min 13s\n",
    "- cv = 0.820398 (0.832/0.822/0.817/0.809)\n",
    "- LB = 0.7484\n",
    "\n",
    "#### baseline_7: userごとのカテゴリの過去の購買実績\n",
    "- feat = 329\n",
    "- Wall time: 1h 59min 16s\n",
    "- cv = 0.82148 (0.832/0.824/0.818/0.810)\n",
    "- LB = 0.7671\n",
    "\n",
    "#### baseline_6: sesssion内のターゲットの購買\n",
    "- feat = 89\n",
    "- Wall time: 37min 47s\n",
    "- cv = 0.66015\n",
    "- LB = 0.6247\n",
    "\n",
    "#### baseline_5\n",
    "- feat = 74\n",
    "- Wall time: 39min 18s\n",
    "- cv = 0.66859\n",
    "- LB = 0.6230"
   ]
  },
  {
   "cell_type": "code",
   "execution_count": null,
   "metadata": {},
   "outputs": [],
   "source": []
  }
 ],
 "metadata": {
  "kernelspec": {
   "display_name": "Python 3",
   "language": "python",
   "name": "python3"
  },
  "language_info": {
   "codemirror_mode": {
    "name": "ipython",
    "version": 3
   },
   "file_extension": ".py",
   "mimetype": "text/x-python",
   "name": "python",
   "nbconvert_exporter": "python",
   "pygments_lexer": "ipython3",
   "version": "3.8.3"
  }
 },
 "nbformat": 4,
 "nbformat_minor": 4
}
