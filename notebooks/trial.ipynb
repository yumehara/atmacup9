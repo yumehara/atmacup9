{
 "cells": [
  {
   "cell_type": "code",
   "execution_count": 1,
   "metadata": {},
   "outputs": [],
   "source": [
    "import gc\n",
    "import numpy as np\n",
    "import matplotlib.pyplot as plt\n",
    "import pandas as pd\n",
    "import feather\n",
    "import datetime\n",
    "from matplotlib_venn import venn2\n",
    "from sklearn import preprocessing\n",
    "from sklearn.model_selection import KFold\n",
    "from sklearn.model_selection import StratifiedKFold\n",
    "import lightgbm as lgbm\n",
    "from sklearn.model_selection import train_test_split\n",
    "from sklearn.metrics import roc_auc_score\n",
    "from sklearn.decomposition import LatentDirichletAllocation as LDA\n",
    "pd.set_option('display.max_Columns', 100)"
   ]
  },
  {
   "cell_type": "code",
   "execution_count": 2,
   "metadata": {},
   "outputs": [],
   "source": [
    "cartlog = pd.read_feather('../inputs/cartlog.f')\n",
    "product_master = pd.read_feather('../inputs/product_master.f')\n",
    "meta = pd.read_feather('../inputs/meta.f')\n",
    "user_master = pd.read_feather('../inputs/user_master.f')\n",
    "test = pd.read_csv('../inputs/test.csv')\n",
    "display_action_id = pd.read_csv('../inputs/display_action_id.csv')\n",
    "\n",
    "product_master['JAN'] = product_master['JAN'].astype(str)"
   ]
  },
  {
   "cell_type": "code",
   "execution_count": 3,
   "metadata": {},
   "outputs": [
    {
     "name": "stdout",
     "output_type": "stream",
     "text": [
      "56486\n"
     ]
    }
   ],
   "source": [
    "test_sessions = test[\"session_id\"].unique()\n",
    "print(len(test_sessions))\n",
    "test_input_log = cartlog[cartlog[\"session_id\"].isin(test_sessions)]"
   ]
  },
  {
   "cell_type": "code",
   "execution_count": 4,
   "metadata": {},
   "outputs": [],
   "source": [
    "target_category = [\n",
    "    38,  # アイスクリーム__ノベルティー\n",
    "    110,  # スナック・キャンディー__ガム\n",
    "    113,  # スナック・キャンディー__シリアル\n",
    "    114,  # スナック・キャンディー__スナック\n",
    "    134,  # チョコ・ビスクラ__チョコレート\n",
    "    171,  # ビール系__RTD\n",
    "    172,  # ビール系__ノンアルコール\n",
    "    173,  # ビール系__ビール系\n",
    "    376,  # 和菓子__米菓\n",
    "    435,  # 大型PET__無糖茶（大型PET）\n",
    "    467,  # 小型PET__コーヒー（小型PET）\n",
    "    537,  # 水・炭酸水__大型PET（炭酸水）\n",
    "    539,  # 水・炭酸水__小型PET（炭酸水）\n",
    "    629,  # 缶飲料__コーヒー（缶）\n",
    "    768,  # 麺類__カップ麺\n",
    "]"
   ]
  },
  {
   "cell_type": "code",
   "execution_count": 5,
   "metadata": {},
   "outputs": [
    {
     "name": "stdout",
     "output_type": "stream",
     "text": [
      "2020-08-01以前:  663708\n",
      "購買が発生:  618462\n",
      "10分以上:  404825\n",
      "積集合:  391383\n",
      "全trainのログ:  10826062\n"
     ]
    }
   ],
   "source": [
    "# 2020-08-01以前で10分以上経過し購買が発生したセッションにtrainデータを絞る\n",
    "tmp_sessions = meta[meta['date'] < '2020-08-01']['session_id'].unique()\n",
    "tmp_log = cartlog[cartlog[\"session_id\"].isin(tmp_sessions)]\n",
    "print('2020-08-01以前: ', len(tmp_sessions))\n",
    "\n",
    "# 購買が発生したセッション\n",
    "payment_sessions = set(tmp_log[tmp_log['is_payment']==1]['session_id'].unique())\n",
    "print('購買が発生: ', len(payment_sessions))\n",
    "# 10分以上のセッション\n",
    "over10min_sessions = set(tmp_log[tmp_log['spend_time']>=600]['session_id'].unique())\n",
    "print('10分以上: ', len(over10min_sessions))\n",
    "# 積集合\n",
    "all_train_sessions = payment_sessions & over10min_sessions\n",
    "print('積集合: ', len(all_train_sessions))\n",
    "\n",
    "# 10分以上の全trainのログデータ\n",
    "all_train_log = tmp_log[tmp_log[\"session_id\"].isin(all_train_sessions)]\n",
    "print('全trainのログ: ', len(all_train_log))"
   ]
  },
  {
   "cell_type": "code",
   "execution_count": 6,
   "metadata": {},
   "outputs": [],
   "source": [
    "def agg_payment(cartlog) -> pd.DataFrame:\n",
    "    \"\"\"セッションごと・商品ごとの購買個数を集計する\"\"\"\n",
    "    # JANコード (vale_1)ごとに商品の購入個数(n_items)を足し算\n",
    "    agg = cartlog.loc[cartlog[\"kind_1\"] == \"商品\"].groupby([\"session_id\", \"value_1\"])[\"n_items\"].sum().reset_index()\n",
    "    agg = agg.rename(columns={\"value_1\": \"JAN\"})\n",
    "    return pd.merge(agg, product_master[[\"JAN\", \"category_id\"]], on=\"JAN\", how=\"inner\").drop(columns=['JAN'])"
   ]
  },
  {
   "cell_type": "code",
   "execution_count": 7,
   "metadata": {},
   "outputs": [],
   "source": [
    "class RetailDataset:\n",
    "    def __init__(self, thres_sec, meta):\n",
    "        self.thres_sec = thres_sec\n",
    "        self.meta = meta.copy()\n",
    "        self.meta['time_elapsed_sec'] = self.meta['time_elapsed'] * 60\n",
    "        self.meta.loc[self.meta['time_elapsed_sec'].isnull(), 'time_elapsed_sec'] = thres_sec\n",
    "        \n",
    "        # all_train_logの中で、指定時間より前のログのみを抽出　-> public_train_log, train_sessions\n",
    "        merge_train = pd.merge(all_train_log, self.meta[[\"session_id\", \"time_elapsed_sec\"]], on=[\"session_id\"], how=\"inner\")\n",
    "        self.public_train_log = merge_train[merge_train['spend_time'] <= merge_train['time_elapsed_sec']]\n",
    "        self.train_sessions = self.public_train_log[\"session_id\"].unique()\n",
    "        \n",
    "    def get_train_input_log(self) -> pd.DataFrame:\n",
    "        return self.public_train_log\n",
    "\n",
    "    def get_train_target(self) -> pd.DataFrame:\n",
    "        \"\"\"学習で使用するセッションの目的変数を取得する\"\"\"\n",
    "        train_target = pd.DataFrame(\n",
    "            index=self.train_sessions,\n",
    "        )\n",
    "        train_target.index.name = \"session_id\"\n",
    "\n",
    "        # time_elapsed以降のデータから購買個数を集計する\n",
    "        merge_train = pd.merge(all_train_log, self.meta[[\"session_id\", \"time_elapsed_sec\"]], on=[\"session_id\"], how=\"inner\")\n",
    "        after_elapsed_log = merge_train[merge_train['spend_time'] > merge_train['time_elapsed_sec']]\n",
    "        \n",
    "        train_item_num = agg_payment(after_elapsed_log)\n",
    "        train_item_num = train_item_num[train_item_num['category_id'].isin(target_category)]\n",
    "        train_target_pos = train_item_num.groupby([\"session_id\", \"category_id\"])[\"n_items\"].sum().unstack().fillna(0).astype(int)\n",
    "        train_target_pos[train_target_pos > 0] = 1\n",
    "        train_target_pos[train_target_pos <= 0] = 0\n",
    "\n",
    "        return train_target.join(train_target_pos).fillna(0).reset_index()"
   ]
  },
  {
   "cell_type": "code",
   "execution_count": 8,
   "metadata": {},
   "outputs": [],
   "source": [
    "def get_train_log(elapsed_min):\n",
    "    dataset = RetailDataset(elapsed_min*60, meta)\n",
    "    train_input_log = dataset.get_train_input_log()\n",
    "    y_train = dataset.get_train_target()\n",
    "    print('train_session', y_train.shape)\n",
    "    return train_input_log, y_train"
   ]
  },
  {
   "cell_type": "code",
   "execution_count": 9,
   "metadata": {},
   "outputs": [],
   "source": [
    "ELAPSED_MIN = [0, 3, 5, 10]\n",
    "# ELAPSED_MIN = [5]"
   ]
  },
  {
   "cell_type": "code",
   "execution_count": 10,
   "metadata": {},
   "outputs": [],
   "source": [
    "def save_train_log():\n",
    "    for elap_min in ELAPSED_MIN:\n",
    "        train_log, train_y = get_train_log(elap_min)\n",
    "        train_log = train_log.reset_index(drop=True)\n",
    "        train_y = train_y.reset_index(drop=True)\n",
    "        train_y.columns = [str(c) for c in train_y.columns]\n",
    "        train_log.to_feather('../inputs/train2_log_{}.f'.format(elap_min))\n",
    "        train_y.to_feather('../inputs/train2_y_{}.f'.format(elap_min))"
   ]
  },
  {
   "cell_type": "code",
   "execution_count": 11,
   "metadata": {},
   "outputs": [],
   "source": [
    "def load_train_log():\n",
    "    train_log = {}\n",
    "    train_y = {}\n",
    "    for elap_min in ELAPSED_MIN:\n",
    "        log = pd.read_feather('../inputs/train2_log_{}.f'.format(elap_min))\n",
    "        y = pd.read_feather('../inputs/train2_y_{}.f'.format(elap_min))\n",
    "        train_log[elap_min] = log\n",
    "        train_y[elap_min] = y\n",
    "    return train_log, train_y"
   ]
  },
  {
   "cell_type": "code",
   "execution_count": 12,
   "metadata": {},
   "outputs": [],
   "source": [
    "# save_train_log()"
   ]
  },
  {
   "cell_type": "markdown",
   "metadata": {},
   "source": [
    "- 0, train_session (378594, 16)\n",
    "- 3, train_session (389649, 16)\n",
    "- 5, train_session (390621, 16)\n",
    "- 10, train_session (391074, 16)"
   ]
  },
  {
   "cell_type": "markdown",
   "metadata": {},
   "source": [
    "### 過去のログデータ"
   ]
  },
  {
   "cell_type": "code",
   "execution_count": 13,
   "metadata": {},
   "outputs": [],
   "source": [
    "payed_item = agg_payment(all_train_log)"
   ]
  },
  {
   "cell_type": "markdown",
   "metadata": {},
   "source": [
    "#### クーポン発行とターゲットカテゴリの購入数の関係"
   ]
  },
  {
   "cell_type": "code",
   "execution_count": 14,
   "metadata": {},
   "outputs": [],
   "source": [
    "def get_coupon_log_data(payed_item):\n",
    "    # train用のデータから購買した商品\n",
    "    payed_item_in_cat = payed_item[payed_item['category_id'].isin(target_category)]\n",
    "    cat_pivot = payed_item_in_cat.pivot_table(\n",
    "        index='session_id', columns='category_id', values='n_items').fillna(0).add_prefix('coupon_').reset_index()\n",
    "\n",
    "    # 発券されたクーポン\n",
    "    coupon = all_train_log[all_train_log['kind_1'] == 'クーポン']\n",
    "    coupon_count = coupon['value_1'].value_counts()\n",
    "    print(len(coupon_count))\n",
    "    session_coupon = coupon[coupon['value_1'].isin(list(coupon_count.index))][['session_id', 'value_1']]\n",
    "    session_coupon = session_coupon.rename(columns={'value_1':'coupon'})\n",
    "    session_coupon = session_coupon.groupby(['session_id', 'coupon']).size().reset_index()\n",
    "\n",
    "    session_cat_coupon = pd.merge(cat_pivot, session_coupon[['session_id', 'coupon']], on='session_id', how='left')\n",
    "    session_cat_coupon['coupon'] = session_cat_coupon['coupon'].fillna(0)\n",
    "    session_cat_coupon.drop(columns=['session_id'], inplace=True)\n",
    "    group_coupon = session_cat_coupon.groupby(['coupon']).mean().reset_index()\n",
    "    return group_coupon"
   ]
  },
  {
   "cell_type": "code",
   "execution_count": 15,
   "metadata": {},
   "outputs": [
    {
     "name": "stdout",
     "output_type": "stream",
     "text": [
      "4952\n"
     ]
    }
   ],
   "source": [
    "group_coupon = get_coupon_log_data(payed_item)"
   ]
  },
  {
   "cell_type": "markdown",
   "metadata": {},
   "source": [
    "### ユーザ情報"
   ]
  },
  {
   "cell_type": "code",
   "execution_count": 16,
   "metadata": {},
   "outputs": [],
   "source": [
    "user_features = pd.merge(meta[[\"session_id\", \"user_id\"]], user_master, on=\"user_id\", how=\"left\")\n",
    "user_features.loc[user_features['age'] >= 80, 'age'] = np.NaN\n",
    "user_features.loc[user_features['age'] < 10, 'age'] = np.NaN\n",
    "user_features.loc[user_features['gender'] > 1, 'gender'] = np.NaN"
   ]
  },
  {
   "cell_type": "code",
   "execution_count": 17,
   "metadata": {},
   "outputs": [],
   "source": [
    "def get_user_item(payed_item):\n",
    "    # train用のデータから購買した商品\n",
    "#     payed_item = agg_payment(all_train_log)\n",
    "    user_payed_item = pd.merge(payed_item, meta[['session_id', 'user_id']], on='session_id', how='left')\n",
    "    group_user_item = user_payed_item.groupby(['user_id', 'category_id'])[['n_items']].sum().reset_index()\n",
    "    pivot_user_item = group_user_item.pivot_table(index='user_id', columns='category_id', values='n_items')\n",
    "    # 全ユーザーの購入数の合計が5000以上のカテゴリに絞り込み\n",
    "    sum_user_item = pivot_user_item.sum()\n",
    "    user_item_index = sum_user_item[sum_user_item > 5000].index\n",
    "    pivot_user_item = pivot_user_item[user_item_index].fillna(0).reset_index()\n",
    "    # trainに存在しない人用に平均値で穴埋め\n",
    "    user_item_mean = pivot_user_item.mean()\n",
    "    # 全ユーザーとマージ\n",
    "    all_user_item = pd.merge(user_master[['user_id']], pivot_user_item, on='user_id', how='left')\n",
    "    # targetのカテゴリは除く\n",
    "    for col in all_user_item.columns:\n",
    "        if (col == 'user_id') or (col in target_category):\n",
    "            continue\n",
    "        new_col = 'user_pay_{}'.format(col)\n",
    "        all_user_item[new_col] = all_user_item[col].fillna(user_item_mean[col]).astype('float32')\n",
    "        all_user_item.loc[all_user_item[new_col]<0, new_col] = 0\n",
    "\n",
    "    return all_user_item.drop(columns=list(user_item_mean.index))"
   ]
  },
  {
   "cell_type": "code",
   "execution_count": 18,
   "metadata": {},
   "outputs": [
    {
     "name": "stdout",
     "output_type": "stream",
     "text": [
      "(40350, 231)\n"
     ]
    }
   ],
   "source": [
    "all_user_item = get_user_item(payed_item)\n",
    "print(all_user_item.shape)"
   ]
  },
  {
   "cell_type": "code",
   "execution_count": 19,
   "metadata": {},
   "outputs": [],
   "source": [
    "def LDA_topic(df_input):\n",
    "    df_cp = df_input.set_index('user_id')\n",
    "    lda = LDA(n_components=10)\n",
    "    lda_out = pd.DataFrame(lda.fit_transform(df_cp), index=df_cp.index).add_prefix('LDA_')\n",
    "    return lda_out.reset_index()"
   ]
  },
  {
   "cell_type": "code",
   "execution_count": 20,
   "metadata": {},
   "outputs": [],
   "source": [
    "# %%time\n",
    "# user_lda = LDA_topic(all_user_item)\n",
    "# user_lda.to_feather('../inputs/user_lda.f')"
   ]
  },
  {
   "cell_type": "code",
   "execution_count": 21,
   "metadata": {},
   "outputs": [],
   "source": [
    "user_lda = pd.read_feather('../inputs/user_lda.f')\n",
    "all_user_item = pd.merge(all_user_item, user_lda, on='user_id', how='left')"
   ]
  },
  {
   "cell_type": "code",
   "execution_count": 22,
   "metadata": {},
   "outputs": [
    {
     "name": "stdout",
     "output_type": "stream",
     "text": [
      "(40350, 241)\n"
     ]
    }
   ],
   "source": [
    "print(all_user_item.shape)"
   ]
  },
  {
   "cell_type": "markdown",
   "metadata": {},
   "source": [
    "### メタ情報"
   ]
  },
  {
   "cell_type": "code",
   "execution_count": 23,
   "metadata": {},
   "outputs": [],
   "source": [
    "meta_features = meta.copy()\n",
    "meta_features['year'] = meta_features['date'].dt.year\n",
    "meta_features['month'] = meta_features['date'].dt.month\n",
    "meta_features['day'] = meta_features['date'].dt.day\n",
    "meta_features['dow'] = meta_features['date'].dt.dayofweek\n",
    "meta_features['doy'] = meta_features['date'].dt.dayofyear\n",
    "le = preprocessing.LabelEncoder()\n",
    "meta_features['userid'] = le.fit_transform(meta_features['user_id'])\n",
    "meta_features.drop(columns=['user_id', 'date', 'time_elapsed', 'date_str'], inplace=True)"
   ]
  },
  {
   "cell_type": "markdown",
   "metadata": {},
   "source": [
    "### ディスプレイアクション"
   ]
  },
  {
   "cell_type": "code",
   "execution_count": 24,
   "metadata": {},
   "outputs": [],
   "source": [
    "disp_name_dic = {}\n",
    "for i, disp in enumerate(display_action_id['display_name'].unique()):\n",
    "    disp_name_dic[disp] = 'disp_cnt_{}'.format(i)\n",
    "    \n",
    "act_name_dic = {}\n",
    "for i, action in enumerate(display_action_id['action_name'].unique()):\n",
    "    act_name_dic[action] = 'act_cnt_{}'.format(i)"
   ]
  },
  {
   "cell_type": "code",
   "execution_count": 25,
   "metadata": {},
   "outputs": [],
   "source": [
    "def get_display_name_feature(input_log):\n",
    "    merge = pd.merge(input_log, display_action_id, on='display_action_id', how='left')\n",
    "    disp_group_count = merge.groupby(['session_id', 'display_name']).size().reset_index().rename(columns={0:'disp_name_count'})\n",
    "    disp_name_pivot = disp_group_count.pivot_table(index='session_id', columns='display_name', values='disp_name_count', aggfunc='sum')\n",
    "    disp_name_pivot = disp_name_pivot.reset_index().fillna(0).rename(columns=disp_name_dic)\n",
    "    \n",
    "    disp_out = disp_name_pivot[['session_id']].copy()\n",
    "    for val in disp_name_dic.values():\n",
    "        disp_out[val] = 0\n",
    "    \n",
    "    for col in disp_name_pivot.columns:\n",
    "        if col == 'session_id':\n",
    "            continue\n",
    "        disp_out[col] = disp_name_pivot[col]\n",
    "    \n",
    "    return disp_out"
   ]
  },
  {
   "cell_type": "code",
   "execution_count": 26,
   "metadata": {},
   "outputs": [],
   "source": [
    "def get_action_name_feature(input_log):\n",
    "    merge = pd.merge(input_log, display_action_id, on='display_action_id', how='left')\n",
    "    act_group_count = merge.groupby(['session_id', 'action_name']).size().reset_index().rename(columns={0:'act_name_count'})\n",
    "    act_name_pivot = act_group_count.pivot_table(index='session_id', columns='action_name', values='act_name_count', aggfunc='sum')\n",
    "    act_name_pivot = act_name_pivot.reset_index().fillna(0).rename(columns=act_name_dic)\n",
    "    \n",
    "    act_out = act_name_pivot[['session_id']].copy()\n",
    "    for val in act_name_dic.values():\n",
    "        act_out[val] = 0\n",
    "    \n",
    "    for col in act_name_pivot.columns:\n",
    "        if col == 'session_id':\n",
    "            continue\n",
    "        act_out[col] = act_name_pivot[col]\n",
    "    \n",
    "    return act_out"
   ]
  },
  {
   "cell_type": "markdown",
   "metadata": {},
   "source": [
    "### セッション単位の特徴量"
   ]
  },
  {
   "cell_type": "code",
   "execution_count": 27,
   "metadata": {},
   "outputs": [],
   "source": [
    "def get_coupon_info(input_log):\n",
    "    session_coupon = input_log[input_log[\"kind_1\"] == \"クーポン\"][['session_id', 'value_1']].rename(columns={'value_1':'coupon'})\n",
    "    session_coupon = pd.merge(session_coupon, group_coupon, on='coupon', how='left')\n",
    "    session_coupon = session_coupon.groupby(['session_id']).sum().reset_index()\n",
    "    return session_coupon"
   ]
  },
  {
   "cell_type": "code",
   "execution_count": 28,
   "metadata": {},
   "outputs": [],
   "source": [
    "def get_pre_payment_item(input_log):\n",
    "    session_unique = input_log['session_id'].unique()\n",
    "    agg = input_log.loc[input_log[\"kind_1\"] == \"商品\"].groupby([\"session_id\", \"value_1\"])[\"n_items\"].sum().reset_index()\n",
    "    agg = agg.rename(columns={\"value_1\": \"JAN\"})\n",
    "    agg = pd.merge(agg, product_master[[\"JAN\", \"category_id\"]], on=\"JAN\", how=\"inner\")\n",
    "    agg = agg[agg['category_id'].isin(target_category)]\n",
    "    agg = agg.groupby([\"session_id\", \"category_id\"])[\"n_items\"].sum().reset_index()\n",
    "    \n",
    "    sesi = np.zeros(len(target_category))\n",
    "    cate = [ct for ct in target_category]\n",
    "    \n",
    "    dummy = pd.DataFrame({'session_id':sesi, 'category_id':cate, 'n_items':sesi})\n",
    "    agg = pd.concat([agg, dummy])\n",
    "    \n",
    "    agg = agg.pivot_table(index='session_id', columns='category_id', values='n_items').fillna(0)\n",
    "    src_columns = ['x_{}'.format(c) for c in agg.columns]\n",
    "    agg.columns = src_columns\n",
    "    \n",
    "    col = ['pre_target_{}'.format(c) for c in target_category]\n",
    "    df_out = pd.DataFrame(index=session_unique, columns=col)\n",
    "    df_out.index.name = \"session_id\"\n",
    "    df_out = df_out.join(agg)\n",
    "    for ct in target_category:\n",
    "        src = 'x_{}'.format(ct)\n",
    "        dst = 'pre_target_{}'.format(ct)\n",
    "        df_out[dst] = df_out[src]\n",
    "    \n",
    "    return df_out.drop(columns=src_columns).fillna(0).reset_index()"
   ]
  },
  {
   "cell_type": "code",
   "execution_count": 29,
   "metadata": {},
   "outputs": [],
   "source": [
    "def get_session_kind_group(input_log):\n",
    "    kind_name ={\n",
    "        'クーポン': 'coupon',\n",
    "        '会計': 'kaikei',\n",
    "        'キー': 'key',\n",
    "        'カテゴリ': 'categry',\n",
    "        'バーコードスキャン': 'barcode',\n",
    "        'UUID': 'uuid',\n",
    "        '使用ポイント': 'usedpoint',\n",
    "        '確認': 'confirm',\n",
    "        'ブランドスイッチ': 'bland',\n",
    "        'レシピ': 'recipe',\n",
    "        'スマホスキャン': 'smartphone',\n",
    "        '磁気スキャン': 'magnetic',\n",
    "        'レコメンド': 'recommend',\n",
    "        '倍率ポイント': 'point',\n",
    "    }\n",
    "    group_count = input_log[input_log['kind_1'] == '商品'].groupby([\"session_id\"]).size().rename('group_count_'+'item')\n",
    "    for kind, name in kind_name.items():\n",
    "        tmp = input_log[input_log['kind_1'] == kind].groupby([\"session_id\"]).size().rename('group_count_'+name)\n",
    "        group_count = pd.concat([group_count, tmp], axis=1)\n",
    "        \n",
    "    return group_count.reset_index()"
   ]
  },
  {
   "cell_type": "code",
   "execution_count": 30,
   "metadata": {},
   "outputs": [],
   "source": [
    "def get_session_info(input_log):\n",
    "    # アクション数\n",
    "    n_actions = input_log.groupby([\"session_id\"]).size().rename(\"n_actions\")\n",
    "    # 経過時間の平均\n",
    "    mean_spend_time = input_log.groupby([\"session_id\"])[\"spend_time\"].mean()\n",
    "    \n",
    "    session_features = pd.concat([\n",
    "        n_actions,\n",
    "        mean_spend_time,\n",
    "    ], axis=1)\n",
    "    return session_features.reset_index()"
   ]
  },
  {
   "cell_type": "markdown",
   "metadata": {},
   "source": [
    "### セッション単位で集計"
   ]
  },
  {
   "cell_type": "code",
   "execution_count": 31,
   "metadata": {},
   "outputs": [],
   "source": [
    "def get_session_features(input_log):\n",
    "    df_ses = pd.DataFrame(columns=['session_id'])\n",
    "    \n",
    "    session_feat = [\n",
    "        get_session_info(input_log),\n",
    "        get_session_kind_group(input_log),\n",
    "        get_display_name_feature(input_log),\n",
    "        get_action_name_feature(input_log),\n",
    "        get_pre_payment_item(input_log),\n",
    "        get_coupon_info(input_log),\n",
    "    ]\n",
    "    \n",
    "    for feat in session_feat:\n",
    "        df_ses = pd.merge(df_ses, feat, on='session_id', how='outer')\n",
    "        \n",
    "    return df_ses"
   ]
  },
  {
   "cell_type": "markdown",
   "metadata": {},
   "source": [
    "### 特徴量を集約する"
   ]
  },
  {
   "cell_type": "code",
   "execution_count": 32,
   "metadata": {},
   "outputs": [],
   "source": [
    "def merge_features(input_log, session):\n",
    "    feat_list = [\n",
    "        get_session_features(input_log),\n",
    "        user_features,\n",
    "        meta_features,\n",
    "    ]\n",
    "    out = pd.DataFrame({\"session_id\": session})\n",
    "    for feat in feat_list:\n",
    "        out = pd.merge(out, feat, on=\"session_id\", how=\"left\")\n",
    "        \n",
    "    # userの情報\n",
    "    out = pd.merge(out, all_user_item, on='user_id', how='left').drop(columns='user_id')\n",
    "\n",
    "    assert len(session) == len(out)\n",
    "    return out"
   ]
  },
  {
   "cell_type": "code",
   "execution_count": 33,
   "metadata": {},
   "outputs": [],
   "source": [
    "def get_train_all_features(elapsed_min, train_log_list, train_y_list):\n",
    "    train_input_log = train_log_list[elapsed_min]\n",
    "    y_train = train_y_list[elapsed_min]\n",
    "    \n",
    "    train_features = merge_features(train_input_log, y_train['session_id'])\n",
    "    print('train_features', train_features.shape)\n",
    "    return train_features, y_train"
   ]
  },
  {
   "cell_type": "code",
   "execution_count": 34,
   "metadata": {},
   "outputs": [],
   "source": [
    "def get_test_all_feature(elapsed_min):\n",
    "    test_meta = meta[meta['session_id'].isin(test_sessions)]\n",
    "    test_meta = test_meta[test_meta['time_elapsed'] == elapsed_min]\n",
    "    test_input_elapsed = pd.merge(test_input_log, test_meta[['session_id']], on='session_id', how='left')\n",
    "    \n",
    "    test_features = merge_features(test_input_elapsed, test_meta['session_id'])\n",
    "    print('test_features', test_features.shape)\n",
    "    return test_features"
   ]
  },
  {
   "cell_type": "code",
   "execution_count": 35,
   "metadata": {},
   "outputs": [],
   "source": [
    "n_fold = 4"
   ]
  },
  {
   "cell_type": "code",
   "execution_count": 36,
   "metadata": {},
   "outputs": [],
   "source": [
    "lgbm_param = {\n",
    "    'objective' : 'binary',\n",
    "    'boosting_type': 'gbdt',\n",
    "    'metric': 'auc',\n",
    "    'seed' : 0,\n",
    "    'learning_rate':  0.1,\n",
    "#   'max_depth': 6,\n",
    "    'feature_fraction': 0.6,\n",
    "    'bagging_fraction': 0.8,\n",
    "    'bagging_freq': 5,\n",
    "    'verbose': -1\n",
    "}"
   ]
  },
  {
   "cell_type": "code",
   "execution_count": 37,
   "metadata": {},
   "outputs": [],
   "source": [
    "def train_lgbm(X, y, params=lgbm_param):\n",
    "\n",
    "    fold = StratifiedKFold(n_splits=n_fold, shuffle=True, random_state=0)\n",
    "    cv = fold.split(X, y)\n",
    "    \n",
    "    models = []\n",
    "    oof_pred = np.zeros_like(y, dtype=np.float)\n",
    "    \n",
    "    cat_feat = ['age', 'gender', 'dow']\n",
    "\n",
    "    for i, (idx_train, idx_valid) in enumerate(cv): \n",
    "        x_train, y_train = X.iloc[idx_train], y.iloc[idx_train]\n",
    "        x_valid, y_valid = X.iloc[idx_valid], y.iloc[idx_valid]\n",
    "        \n",
    "        lgbm_train = lgbm.Dataset(x_train, y_train, categorical_feature = cat_feat)\n",
    "        lgbm_eval = lgbm.Dataset(x_valid, y_valid, reference=lgbm_train, categorical_feature = cat_feat)\n",
    "        \n",
    "        lgbm_model = lgbm.train(params, \n",
    "                                                    lgbm_train, \n",
    "                                                    valid_sets=lgbm_eval,\n",
    "                                                    categorical_feature = cat_feat,\n",
    "                                                    num_boost_round=10000,\n",
    "                                                    early_stopping_rounds=100,\n",
    "                                                    verbose_eval=-1)\n",
    "        y_pred = lgbm_model.predict(x_valid, num_iteration=lgbm_model.best_iteration)\n",
    "        \n",
    "        oof_pred[idx_valid] = y_pred\n",
    "        models.append(lgbm_model)\n",
    "\n",
    "    score = roc_auc_score(y, oof_pred)\n",
    "    print('--- FINISHED \\ whole score: {:.4f} ---'.format(score))\n",
    "    return oof_pred, models, score"
   ]
  },
  {
   "cell_type": "code",
   "execution_count": 38,
   "metadata": {},
   "outputs": [],
   "source": [
    "def predict(models, feature):\n",
    "    pred_list = []\n",
    "    for i, model in enumerate(models):\n",
    "        pred = model.predict(feature, num_iteration = model.best_iteration)\n",
    "        pred_list.append(pred)\n",
    "    \n",
    "    score = np.mean(pred_list, axis=0)\n",
    "    return score"
   ]
  },
  {
   "cell_type": "code",
   "execution_count": 39,
   "metadata": {},
   "outputs": [],
   "source": [
    "train_log_list, train_y_list = load_train_log()"
   ]
  },
  {
   "cell_type": "code",
   "execution_count": 40,
   "metadata": {},
   "outputs": [
    {
     "data": {
      "text/plain": [
       "0"
      ]
     },
     "execution_count": 40,
     "metadata": {},
     "output_type": "execute_result"
    }
   ],
   "source": [
    "gc.collect()"
   ]
  },
  {
   "cell_type": "code",
   "execution_count": 41,
   "metadata": {
    "scrolled": false
   },
   "outputs": [
    {
     "name": "stdout",
     "output_type": "stream",
     "text": [
      "===== 0 =====\n",
      "train_features (378594, 344)\n",
      "test_features (14277, 344)\n",
      "---- id = 38 -----\n"
     ]
    },
    {
     "name": "stderr",
     "output_type": "stream",
     "text": [
      "/home/umhrysnb/anaconda3/lib/python3.8/site-packages/lightgbm/basic.py:1286: UserWarning: Overriding the parameters from Reference Dataset.\n",
      "  warnings.warn('Overriding the parameters from Reference Dataset.')\n",
      "/home/umhrysnb/anaconda3/lib/python3.8/site-packages/lightgbm/basic.py:1098: UserWarning: categorical_column in param dict is overridden.\n",
      "  warnings.warn('{} in param dict is overridden.'.format(cat_alias))\n"
     ]
    },
    {
     "name": "stdout",
     "output_type": "stream",
     "text": [
      "Training until validation scores don't improve for 100 rounds\n",
      "Early stopping, best iteration is:\n",
      "[869]\tvalid_0's auc: 0.824963\n",
      "Training until validation scores don't improve for 100 rounds\n",
      "Early stopping, best iteration is:\n",
      "[870]\tvalid_0's auc: 0.828872\n",
      "Training until validation scores don't improve for 100 rounds\n",
      "Early stopping, best iteration is:\n",
      "[782]\tvalid_0's auc: 0.830242\n",
      "Training until validation scores don't improve for 100 rounds\n",
      "Early stopping, best iteration is:\n",
      "[1010]\tvalid_0's auc: 0.829603\n",
      "--- FINISHED \\ whole score: 0.8284 ---\n",
      "---- id = 110 -----\n"
     ]
    },
    {
     "name": "stderr",
     "output_type": "stream",
     "text": [
      "/home/umhrysnb/anaconda3/lib/python3.8/site-packages/lightgbm/basic.py:1286: UserWarning: Overriding the parameters from Reference Dataset.\n",
      "  warnings.warn('Overriding the parameters from Reference Dataset.')\n",
      "/home/umhrysnb/anaconda3/lib/python3.8/site-packages/lightgbm/basic.py:1098: UserWarning: categorical_column in param dict is overridden.\n",
      "  warnings.warn('{} in param dict is overridden.'.format(cat_alias))\n"
     ]
    },
    {
     "name": "stdout",
     "output_type": "stream",
     "text": [
      "Training until validation scores don't improve for 100 rounds\n",
      "Early stopping, best iteration is:\n",
      "[279]\tvalid_0's auc: 0.799629\n",
      "Training until validation scores don't improve for 100 rounds\n",
      "Early stopping, best iteration is:\n",
      "[360]\tvalid_0's auc: 0.798896\n",
      "Training until validation scores don't improve for 100 rounds\n",
      "Early stopping, best iteration is:\n",
      "[208]\tvalid_0's auc: 0.800357\n",
      "Training until validation scores don't improve for 100 rounds\n",
      "Early stopping, best iteration is:\n",
      "[274]\tvalid_0's auc: 0.802714\n",
      "--- FINISHED \\ whole score: 0.7998 ---\n",
      "---- id = 113 -----\n"
     ]
    },
    {
     "name": "stderr",
     "output_type": "stream",
     "text": [
      "/home/umhrysnb/anaconda3/lib/python3.8/site-packages/lightgbm/basic.py:1286: UserWarning: Overriding the parameters from Reference Dataset.\n",
      "  warnings.warn('Overriding the parameters from Reference Dataset.')\n",
      "/home/umhrysnb/anaconda3/lib/python3.8/site-packages/lightgbm/basic.py:1098: UserWarning: categorical_column in param dict is overridden.\n",
      "  warnings.warn('{} in param dict is overridden.'.format(cat_alias))\n"
     ]
    },
    {
     "name": "stdout",
     "output_type": "stream",
     "text": [
      "Training until validation scores don't improve for 100 rounds\n",
      "Early stopping, best iteration is:\n",
      "[513]\tvalid_0's auc: 0.806866\n",
      "Training until validation scores don't improve for 100 rounds\n",
      "Early stopping, best iteration is:\n",
      "[724]\tvalid_0's auc: 0.800949\n",
      "Training until validation scores don't improve for 100 rounds\n",
      "Early stopping, best iteration is:\n",
      "[407]\tvalid_0's auc: 0.80435\n",
      "Training until validation scores don't improve for 100 rounds\n",
      "Early stopping, best iteration is:\n",
      "[670]\tvalid_0's auc: 0.805409\n",
      "--- FINISHED \\ whole score: 0.8041 ---\n",
      "---- id = 114 -----\n"
     ]
    },
    {
     "name": "stderr",
     "output_type": "stream",
     "text": [
      "/home/umhrysnb/anaconda3/lib/python3.8/site-packages/lightgbm/basic.py:1286: UserWarning: Overriding the parameters from Reference Dataset.\n",
      "  warnings.warn('Overriding the parameters from Reference Dataset.')\n",
      "/home/umhrysnb/anaconda3/lib/python3.8/site-packages/lightgbm/basic.py:1098: UserWarning: categorical_column in param dict is overridden.\n",
      "  warnings.warn('{} in param dict is overridden.'.format(cat_alias))\n"
     ]
    },
    {
     "name": "stdout",
     "output_type": "stream",
     "text": [
      "Training until validation scores don't improve for 100 rounds\n",
      "Early stopping, best iteration is:\n",
      "[1098]\tvalid_0's auc: 0.759229\n",
      "Training until validation scores don't improve for 100 rounds\n",
      "Early stopping, best iteration is:\n",
      "[862]\tvalid_0's auc: 0.760785\n",
      "Training until validation scores don't improve for 100 rounds\n",
      "Early stopping, best iteration is:\n",
      "[1125]\tvalid_0's auc: 0.75905\n",
      "Training until validation scores don't improve for 100 rounds\n",
      "Early stopping, best iteration is:\n",
      "[1304]\tvalid_0's auc: 0.76089\n",
      "--- FINISHED \\ whole score: 0.7600 ---\n",
      "---- id = 134 -----\n"
     ]
    },
    {
     "name": "stderr",
     "output_type": "stream",
     "text": [
      "/home/umhrysnb/anaconda3/lib/python3.8/site-packages/lightgbm/basic.py:1286: UserWarning: Overriding the parameters from Reference Dataset.\n",
      "  warnings.warn('Overriding the parameters from Reference Dataset.')\n",
      "/home/umhrysnb/anaconda3/lib/python3.8/site-packages/lightgbm/basic.py:1098: UserWarning: categorical_column in param dict is overridden.\n",
      "  warnings.warn('{} in param dict is overridden.'.format(cat_alias))\n"
     ]
    },
    {
     "name": "stdout",
     "output_type": "stream",
     "text": [
      "Training until validation scores don't improve for 100 rounds\n",
      "Early stopping, best iteration is:\n",
      "[549]\tvalid_0's auc: 0.745844\n",
      "Training until validation scores don't improve for 100 rounds\n",
      "Early stopping, best iteration is:\n",
      "[517]\tvalid_0's auc: 0.746746\n",
      "Training until validation scores don't improve for 100 rounds\n",
      "Early stopping, best iteration is:\n",
      "[623]\tvalid_0's auc: 0.748349\n",
      "Training until validation scores don't improve for 100 rounds\n",
      "Early stopping, best iteration is:\n",
      "[764]\tvalid_0's auc: 0.745315\n",
      "--- FINISHED \\ whole score: 0.7465 ---\n",
      "---- id = 171 -----\n"
     ]
    },
    {
     "name": "stderr",
     "output_type": "stream",
     "text": [
      "/home/umhrysnb/anaconda3/lib/python3.8/site-packages/lightgbm/basic.py:1286: UserWarning: Overriding the parameters from Reference Dataset.\n",
      "  warnings.warn('Overriding the parameters from Reference Dataset.')\n",
      "/home/umhrysnb/anaconda3/lib/python3.8/site-packages/lightgbm/basic.py:1098: UserWarning: categorical_column in param dict is overridden.\n",
      "  warnings.warn('{} in param dict is overridden.'.format(cat_alias))\n"
     ]
    },
    {
     "name": "stdout",
     "output_type": "stream",
     "text": [
      "Training until validation scores don't improve for 100 rounds\n",
      "Early stopping, best iteration is:\n",
      "[1336]\tvalid_0's auc: 0.869831\n",
      "Training until validation scores don't improve for 100 rounds\n",
      "Early stopping, best iteration is:\n",
      "[1549]\tvalid_0's auc: 0.870365\n",
      "Training until validation scores don't improve for 100 rounds\n",
      "Early stopping, best iteration is:\n",
      "[1322]\tvalid_0's auc: 0.870185\n",
      "Training until validation scores don't improve for 100 rounds\n",
      "Early stopping, best iteration is:\n",
      "[1575]\tvalid_0's auc: 0.874697\n",
      "--- FINISHED \\ whole score: 0.8713 ---\n",
      "---- id = 172 -----\n"
     ]
    },
    {
     "name": "stderr",
     "output_type": "stream",
     "text": [
      "/home/umhrysnb/anaconda3/lib/python3.8/site-packages/lightgbm/basic.py:1286: UserWarning: Overriding the parameters from Reference Dataset.\n",
      "  warnings.warn('Overriding the parameters from Reference Dataset.')\n",
      "/home/umhrysnb/anaconda3/lib/python3.8/site-packages/lightgbm/basic.py:1098: UserWarning: categorical_column in param dict is overridden.\n",
      "  warnings.warn('{} in param dict is overridden.'.format(cat_alias))\n"
     ]
    },
    {
     "name": "stdout",
     "output_type": "stream",
     "text": [
      "Training until validation scores don't improve for 100 rounds\n",
      "Early stopping, best iteration is:\n",
      "[614]\tvalid_0's auc: 0.874764\n",
      "Training until validation scores don't improve for 100 rounds\n",
      "Early stopping, best iteration is:\n",
      "[585]\tvalid_0's auc: 0.873178\n",
      "Training until validation scores don't improve for 100 rounds\n",
      "Early stopping, best iteration is:\n",
      "[532]\tvalid_0's auc: 0.878885\n",
      "Training until validation scores don't improve for 100 rounds\n",
      "Early stopping, best iteration is:\n",
      "[554]\tvalid_0's auc: 0.871779\n",
      "--- FINISHED \\ whole score: 0.8746 ---\n",
      "---- id = 173 -----\n"
     ]
    },
    {
     "name": "stderr",
     "output_type": "stream",
     "text": [
      "/home/umhrysnb/anaconda3/lib/python3.8/site-packages/lightgbm/basic.py:1286: UserWarning: Overriding the parameters from Reference Dataset.\n",
      "  warnings.warn('Overriding the parameters from Reference Dataset.')\n",
      "/home/umhrysnb/anaconda3/lib/python3.8/site-packages/lightgbm/basic.py:1098: UserWarning: categorical_column in param dict is overridden.\n",
      "  warnings.warn('{} in param dict is overridden.'.format(cat_alias))\n"
     ]
    },
    {
     "name": "stdout",
     "output_type": "stream",
     "text": [
      "Training until validation scores don't improve for 100 rounds\n",
      "Early stopping, best iteration is:\n",
      "[1035]\tvalid_0's auc: 0.867356\n",
      "Training until validation scores don't improve for 100 rounds\n",
      "Early stopping, best iteration is:\n",
      "[1049]\tvalid_0's auc: 0.865925\n",
      "Training until validation scores don't improve for 100 rounds\n",
      "Early stopping, best iteration is:\n",
      "[1294]\tvalid_0's auc: 0.866839\n",
      "Training until validation scores don't improve for 100 rounds\n",
      "Early stopping, best iteration is:\n",
      "[1442]\tvalid_0's auc: 0.865498\n",
      "--- FINISHED \\ whole score: 0.8663 ---\n",
      "---- id = 376 -----\n"
     ]
    },
    {
     "name": "stderr",
     "output_type": "stream",
     "text": [
      "/home/umhrysnb/anaconda3/lib/python3.8/site-packages/lightgbm/basic.py:1286: UserWarning: Overriding the parameters from Reference Dataset.\n",
      "  warnings.warn('Overriding the parameters from Reference Dataset.')\n",
      "/home/umhrysnb/anaconda3/lib/python3.8/site-packages/lightgbm/basic.py:1098: UserWarning: categorical_column in param dict is overridden.\n",
      "  warnings.warn('{} in param dict is overridden.'.format(cat_alias))\n"
     ]
    },
    {
     "name": "stdout",
     "output_type": "stream",
     "text": [
      "Training until validation scores don't improve for 100 rounds\n",
      "Early stopping, best iteration is:\n",
      "[618]\tvalid_0's auc: 0.754065\n",
      "Training until validation scores don't improve for 100 rounds\n",
      "Early stopping, best iteration is:\n",
      "[697]\tvalid_0's auc: 0.763436\n",
      "Training until validation scores don't improve for 100 rounds\n",
      "Early stopping, best iteration is:\n",
      "[608]\tvalid_0's auc: 0.755073\n",
      "Training until validation scores don't improve for 100 rounds\n",
      "Early stopping, best iteration is:\n",
      "[538]\tvalid_0's auc: 0.755471\n",
      "--- FINISHED \\ whole score: 0.7570 ---\n",
      "---- id = 435 -----\n"
     ]
    },
    {
     "name": "stderr",
     "output_type": "stream",
     "text": [
      "/home/umhrysnb/anaconda3/lib/python3.8/site-packages/lightgbm/basic.py:1286: UserWarning: Overriding the parameters from Reference Dataset.\n",
      "  warnings.warn('Overriding the parameters from Reference Dataset.')\n",
      "/home/umhrysnb/anaconda3/lib/python3.8/site-packages/lightgbm/basic.py:1098: UserWarning: categorical_column in param dict is overridden.\n",
      "  warnings.warn('{} in param dict is overridden.'.format(cat_alias))\n"
     ]
    },
    {
     "name": "stdout",
     "output_type": "stream",
     "text": [
      "Training until validation scores don't improve for 100 rounds\n",
      "Early stopping, best iteration is:\n",
      "[982]\tvalid_0's auc: 0.866158\n",
      "Training until validation scores don't improve for 100 rounds\n",
      "Early stopping, best iteration is:\n",
      "[1005]\tvalid_0's auc: 0.870717\n",
      "Training until validation scores don't improve for 100 rounds\n",
      "Early stopping, best iteration is:\n",
      "[945]\tvalid_0's auc: 0.871102\n",
      "Training until validation scores don't improve for 100 rounds\n",
      "Early stopping, best iteration is:\n",
      "[1070]\tvalid_0's auc: 0.871622\n",
      "--- FINISHED \\ whole score: 0.8699 ---\n",
      "---- id = 467 -----\n"
     ]
    },
    {
     "name": "stderr",
     "output_type": "stream",
     "text": [
      "/home/umhrysnb/anaconda3/lib/python3.8/site-packages/lightgbm/basic.py:1286: UserWarning: Overriding the parameters from Reference Dataset.\n",
      "  warnings.warn('Overriding the parameters from Reference Dataset.')\n",
      "/home/umhrysnb/anaconda3/lib/python3.8/site-packages/lightgbm/basic.py:1098: UserWarning: categorical_column in param dict is overridden.\n",
      "  warnings.warn('{} in param dict is overridden.'.format(cat_alias))\n"
     ]
    },
    {
     "name": "stdout",
     "output_type": "stream",
     "text": [
      "Training until validation scores don't improve for 100 rounds\n",
      "Early stopping, best iteration is:\n",
      "[462]\tvalid_0's auc: 0.871655\n",
      "Training until validation scores don't improve for 100 rounds\n",
      "Early stopping, best iteration is:\n",
      "[532]\tvalid_0's auc: 0.871621\n",
      "Training until validation scores don't improve for 100 rounds\n",
      "Early stopping, best iteration is:\n",
      "[867]\tvalid_0's auc: 0.871905\n",
      "Training until validation scores don't improve for 100 rounds\n",
      "Early stopping, best iteration is:\n",
      "[662]\tvalid_0's auc: 0.876145\n",
      "--- FINISHED \\ whole score: 0.8723 ---\n",
      "---- id = 537 -----\n"
     ]
    },
    {
     "name": "stderr",
     "output_type": "stream",
     "text": [
      "/home/umhrysnb/anaconda3/lib/python3.8/site-packages/lightgbm/basic.py:1286: UserWarning: Overriding the parameters from Reference Dataset.\n",
      "  warnings.warn('Overriding the parameters from Reference Dataset.')\n",
      "/home/umhrysnb/anaconda3/lib/python3.8/site-packages/lightgbm/basic.py:1098: UserWarning: categorical_column in param dict is overridden.\n",
      "  warnings.warn('{} in param dict is overridden.'.format(cat_alias))\n"
     ]
    },
    {
     "name": "stdout",
     "output_type": "stream",
     "text": [
      "Training until validation scores don't improve for 100 rounds\n",
      "Early stopping, best iteration is:\n",
      "[681]\tvalid_0's auc: 0.912126\n",
      "Training until validation scores don't improve for 100 rounds\n",
      "Early stopping, best iteration is:\n",
      "[581]\tvalid_0's auc: 0.905116\n",
      "Training until validation scores don't improve for 100 rounds\n",
      "Early stopping, best iteration is:\n",
      "[823]\tvalid_0's auc: 0.903634\n",
      "Training until validation scores don't improve for 100 rounds\n",
      "Early stopping, best iteration is:\n",
      "[733]\tvalid_0's auc: 0.90947\n",
      "--- FINISHED \\ whole score: 0.9074 ---\n",
      "---- id = 539 -----\n"
     ]
    },
    {
     "name": "stderr",
     "output_type": "stream",
     "text": [
      "/home/umhrysnb/anaconda3/lib/python3.8/site-packages/lightgbm/basic.py:1286: UserWarning: Overriding the parameters from Reference Dataset.\n",
      "  warnings.warn('Overriding the parameters from Reference Dataset.')\n",
      "/home/umhrysnb/anaconda3/lib/python3.8/site-packages/lightgbm/basic.py:1098: UserWarning: categorical_column in param dict is overridden.\n",
      "  warnings.warn('{} in param dict is overridden.'.format(cat_alias))\n"
     ]
    },
    {
     "name": "stdout",
     "output_type": "stream",
     "text": [
      "Training until validation scores don't improve for 100 rounds\n",
      "Early stopping, best iteration is:\n",
      "[679]\tvalid_0's auc: 0.857123\n",
      "Training until validation scores don't improve for 100 rounds\n",
      "Early stopping, best iteration is:\n",
      "[478]\tvalid_0's auc: 0.860684\n",
      "Training until validation scores don't improve for 100 rounds\n",
      "Early stopping, best iteration is:\n",
      "[728]\tvalid_0's auc: 0.861215\n",
      "Training until validation scores don't improve for 100 rounds\n",
      "Early stopping, best iteration is:\n",
      "[984]\tvalid_0's auc: 0.862415\n",
      "--- FINISHED \\ whole score: 0.8600 ---\n",
      "---- id = 629 -----\n"
     ]
    },
    {
     "name": "stderr",
     "output_type": "stream",
     "text": [
      "/home/umhrysnb/anaconda3/lib/python3.8/site-packages/lightgbm/basic.py:1286: UserWarning: Overriding the parameters from Reference Dataset.\n",
      "  warnings.warn('Overriding the parameters from Reference Dataset.')\n",
      "/home/umhrysnb/anaconda3/lib/python3.8/site-packages/lightgbm/basic.py:1098: UserWarning: categorical_column in param dict is overridden.\n",
      "  warnings.warn('{} in param dict is overridden.'.format(cat_alias))\n"
     ]
    },
    {
     "name": "stdout",
     "output_type": "stream",
     "text": [
      "Training until validation scores don't improve for 100 rounds\n",
      "Early stopping, best iteration is:\n",
      "[359]\tvalid_0's auc: 0.917618\n",
      "Training until validation scores don't improve for 100 rounds\n",
      "Early stopping, best iteration is:\n",
      "[360]\tvalid_0's auc: 0.921065\n",
      "Training until validation scores don't improve for 100 rounds\n",
      "Early stopping, best iteration is:\n",
      "[254]\tvalid_0's auc: 0.928412\n",
      "Training until validation scores don't improve for 100 rounds\n",
      "Early stopping, best iteration is:\n",
      "[429]\tvalid_0's auc: 0.920392\n",
      "--- FINISHED \\ whole score: 0.9212 ---\n",
      "---- id = 768 -----\n"
     ]
    },
    {
     "name": "stderr",
     "output_type": "stream",
     "text": [
      "/home/umhrysnb/anaconda3/lib/python3.8/site-packages/lightgbm/basic.py:1286: UserWarning: Overriding the parameters from Reference Dataset.\n",
      "  warnings.warn('Overriding the parameters from Reference Dataset.')\n",
      "/home/umhrysnb/anaconda3/lib/python3.8/site-packages/lightgbm/basic.py:1098: UserWarning: categorical_column in param dict is overridden.\n",
      "  warnings.warn('{} in param dict is overridden.'.format(cat_alias))\n"
     ]
    },
    {
     "name": "stdout",
     "output_type": "stream",
     "text": [
      "Training until validation scores don't improve for 100 rounds\n",
      "Early stopping, best iteration is:\n",
      "[865]\tvalid_0's auc: 0.74791\n",
      "Training until validation scores don't improve for 100 rounds\n",
      "Early stopping, best iteration is:\n",
      "[673]\tvalid_0's auc: 0.747596\n",
      "Training until validation scores don't improve for 100 rounds\n",
      "Early stopping, best iteration is:\n",
      "[823]\tvalid_0's auc: 0.747437\n",
      "Training until validation scores don't improve for 100 rounds\n",
      "Early stopping, best iteration is:\n",
      "[788]\tvalid_0's auc: 0.749704\n",
      "--- FINISHED \\ whole score: 0.7481 ---\n",
      "14277\n",
      "===== 3 =====\n",
      "train_features (389649, 344)\n",
      "test_features (11304, 344)\n",
      "---- id = 38 -----\n"
     ]
    },
    {
     "name": "stderr",
     "output_type": "stream",
     "text": [
      "/home/umhrysnb/anaconda3/lib/python3.8/site-packages/lightgbm/basic.py:1286: UserWarning: Overriding the parameters from Reference Dataset.\n",
      "  warnings.warn('Overriding the parameters from Reference Dataset.')\n",
      "/home/umhrysnb/anaconda3/lib/python3.8/site-packages/lightgbm/basic.py:1098: UserWarning: categorical_column in param dict is overridden.\n",
      "  warnings.warn('{} in param dict is overridden.'.format(cat_alias))\n"
     ]
    },
    {
     "name": "stdout",
     "output_type": "stream",
     "text": [
      "Training until validation scores don't improve for 100 rounds\n",
      "Early stopping, best iteration is:\n",
      "[748]\tvalid_0's auc: 0.82329\n",
      "Training until validation scores don't improve for 100 rounds\n",
      "Early stopping, best iteration is:\n",
      "[837]\tvalid_0's auc: 0.824223\n",
      "Training until validation scores don't improve for 100 rounds\n",
      "Early stopping, best iteration is:\n",
      "[911]\tvalid_0's auc: 0.822909\n",
      "Training until validation scores don't improve for 100 rounds\n",
      "Early stopping, best iteration is:\n",
      "[716]\tvalid_0's auc: 0.826163\n",
      "--- FINISHED \\ whole score: 0.8240 ---\n",
      "---- id = 110 -----\n"
     ]
    },
    {
     "name": "stderr",
     "output_type": "stream",
     "text": [
      "/home/umhrysnb/anaconda3/lib/python3.8/site-packages/lightgbm/basic.py:1286: UserWarning: Overriding the parameters from Reference Dataset.\n",
      "  warnings.warn('Overriding the parameters from Reference Dataset.')\n",
      "/home/umhrysnb/anaconda3/lib/python3.8/site-packages/lightgbm/basic.py:1098: UserWarning: categorical_column in param dict is overridden.\n",
      "  warnings.warn('{} in param dict is overridden.'.format(cat_alias))\n"
     ]
    },
    {
     "name": "stdout",
     "output_type": "stream",
     "text": [
      "Training until validation scores don't improve for 100 rounds\n",
      "Early stopping, best iteration is:\n",
      "[141]\tvalid_0's auc: 0.794503\n",
      "Training until validation scores don't improve for 100 rounds\n",
      "Early stopping, best iteration is:\n",
      "[233]\tvalid_0's auc: 0.79138\n",
      "Training until validation scores don't improve for 100 rounds\n",
      "Early stopping, best iteration is:\n",
      "[250]\tvalid_0's auc: 0.787751\n",
      "Training until validation scores don't improve for 100 rounds\n",
      "Early stopping, best iteration is:\n",
      "[226]\tvalid_0's auc: 0.789215\n",
      "--- FINISHED \\ whole score: 0.7901 ---\n",
      "---- id = 113 -----\n"
     ]
    },
    {
     "name": "stderr",
     "output_type": "stream",
     "text": [
      "/home/umhrysnb/anaconda3/lib/python3.8/site-packages/lightgbm/basic.py:1286: UserWarning: Overriding the parameters from Reference Dataset.\n",
      "  warnings.warn('Overriding the parameters from Reference Dataset.')\n",
      "/home/umhrysnb/anaconda3/lib/python3.8/site-packages/lightgbm/basic.py:1098: UserWarning: categorical_column in param dict is overridden.\n",
      "  warnings.warn('{} in param dict is overridden.'.format(cat_alias))\n"
     ]
    },
    {
     "name": "stdout",
     "output_type": "stream",
     "text": [
      "Training until validation scores don't improve for 100 rounds\n",
      "Early stopping, best iteration is:\n",
      "[596]\tvalid_0's auc: 0.802269\n",
      "Training until validation scores don't improve for 100 rounds\n",
      "Early stopping, best iteration is:\n",
      "[523]\tvalid_0's auc: 0.791132\n",
      "Training until validation scores don't improve for 100 rounds\n",
      "Early stopping, best iteration is:\n",
      "[624]\tvalid_0's auc: 0.796536\n",
      "Training until validation scores don't improve for 100 rounds\n",
      "Early stopping, best iteration is:\n",
      "[524]\tvalid_0's auc: 0.796667\n",
      "--- FINISHED \\ whole score: 0.7967 ---\n",
      "---- id = 114 -----\n"
     ]
    },
    {
     "name": "stderr",
     "output_type": "stream",
     "text": [
      "/home/umhrysnb/anaconda3/lib/python3.8/site-packages/lightgbm/basic.py:1286: UserWarning: Overriding the parameters from Reference Dataset.\n",
      "  warnings.warn('Overriding the parameters from Reference Dataset.')\n",
      "/home/umhrysnb/anaconda3/lib/python3.8/site-packages/lightgbm/basic.py:1098: UserWarning: categorical_column in param dict is overridden.\n",
      "  warnings.warn('{} in param dict is overridden.'.format(cat_alias))\n"
     ]
    },
    {
     "name": "stdout",
     "output_type": "stream",
     "text": [
      "Training until validation scores don't improve for 100 rounds\n",
      "Early stopping, best iteration is:\n",
      "[1110]\tvalid_0's auc: 0.753248\n",
      "Training until validation scores don't improve for 100 rounds\n",
      "Early stopping, best iteration is:\n",
      "[821]\tvalid_0's auc: 0.754601\n",
      "Training until validation scores don't improve for 100 rounds\n",
      "Early stopping, best iteration is:\n",
      "[953]\tvalid_0's auc: 0.751429\n",
      "Training until validation scores don't improve for 100 rounds\n",
      "Early stopping, best iteration is:\n",
      "[718]\tvalid_0's auc: 0.750234\n",
      "--- FINISHED \\ whole score: 0.7524 ---\n",
      "---- id = 134 -----\n"
     ]
    },
    {
     "name": "stderr",
     "output_type": "stream",
     "text": [
      "/home/umhrysnb/anaconda3/lib/python3.8/site-packages/lightgbm/basic.py:1286: UserWarning: Overriding the parameters from Reference Dataset.\n",
      "  warnings.warn('Overriding the parameters from Reference Dataset.')\n",
      "/home/umhrysnb/anaconda3/lib/python3.8/site-packages/lightgbm/basic.py:1098: UserWarning: categorical_column in param dict is overridden.\n",
      "  warnings.warn('{} in param dict is overridden.'.format(cat_alias))\n"
     ]
    },
    {
     "name": "stdout",
     "output_type": "stream",
     "text": [
      "Training until validation scores don't improve for 100 rounds\n",
      "Early stopping, best iteration is:\n",
      "[662]\tvalid_0's auc: 0.738378\n",
      "Training until validation scores don't improve for 100 rounds\n",
      "Early stopping, best iteration is:\n",
      "[642]\tvalid_0's auc: 0.739769\n",
      "Training until validation scores don't improve for 100 rounds\n",
      "Early stopping, best iteration is:\n",
      "[342]\tvalid_0's auc: 0.737323\n",
      "Training until validation scores don't improve for 100 rounds\n",
      "Early stopping, best iteration is:\n",
      "[829]\tvalid_0's auc: 0.739018\n",
      "--- FINISHED \\ whole score: 0.7385 ---\n",
      "---- id = 171 -----\n"
     ]
    },
    {
     "name": "stderr",
     "output_type": "stream",
     "text": [
      "/home/umhrysnb/anaconda3/lib/python3.8/site-packages/lightgbm/basic.py:1286: UserWarning: Overriding the parameters from Reference Dataset.\n",
      "  warnings.warn('Overriding the parameters from Reference Dataset.')\n",
      "/home/umhrysnb/anaconda3/lib/python3.8/site-packages/lightgbm/basic.py:1098: UserWarning: categorical_column in param dict is overridden.\n",
      "  warnings.warn('{} in param dict is overridden.'.format(cat_alias))\n"
     ]
    },
    {
     "name": "stdout",
     "output_type": "stream",
     "text": [
      "Training until validation scores don't improve for 100 rounds\n",
      "Early stopping, best iteration is:\n",
      "[1293]\tvalid_0's auc: 0.860692\n",
      "Training until validation scores don't improve for 100 rounds\n",
      "Early stopping, best iteration is:\n",
      "[1480]\tvalid_0's auc: 0.859158\n",
      "Training until validation scores don't improve for 100 rounds\n",
      "Early stopping, best iteration is:\n",
      "[1110]\tvalid_0's auc: 0.862346\n",
      "Training until validation scores don't improve for 100 rounds\n",
      "Early stopping, best iteration is:\n",
      "[911]\tvalid_0's auc: 0.864328\n",
      "--- FINISHED \\ whole score: 0.8615 ---\n",
      "---- id = 172 -----\n"
     ]
    },
    {
     "name": "stderr",
     "output_type": "stream",
     "text": [
      "/home/umhrysnb/anaconda3/lib/python3.8/site-packages/lightgbm/basic.py:1286: UserWarning: Overriding the parameters from Reference Dataset.\n",
      "  warnings.warn('Overriding the parameters from Reference Dataset.')\n",
      "/home/umhrysnb/anaconda3/lib/python3.8/site-packages/lightgbm/basic.py:1098: UserWarning: categorical_column in param dict is overridden.\n",
      "  warnings.warn('{} in param dict is overridden.'.format(cat_alias))\n"
     ]
    },
    {
     "name": "stdout",
     "output_type": "stream",
     "text": [
      "Training until validation scores don't improve for 100 rounds\n",
      "Early stopping, best iteration is:\n",
      "[706]\tvalid_0's auc: 0.868988\n",
      "Training until validation scores don't improve for 100 rounds\n",
      "Early stopping, best iteration is:\n",
      "[653]\tvalid_0's auc: 0.860432\n",
      "Training until validation scores don't improve for 100 rounds\n",
      "Early stopping, best iteration is:\n",
      "[562]\tvalid_0's auc: 0.864388\n",
      "Training until validation scores don't improve for 100 rounds\n",
      "Early stopping, best iteration is:\n",
      "[744]\tvalid_0's auc: 0.869498\n",
      "--- FINISHED \\ whole score: 0.8658 ---\n",
      "---- id = 173 -----\n"
     ]
    },
    {
     "name": "stderr",
     "output_type": "stream",
     "text": [
      "/home/umhrysnb/anaconda3/lib/python3.8/site-packages/lightgbm/basic.py:1286: UserWarning: Overriding the parameters from Reference Dataset.\n",
      "  warnings.warn('Overriding the parameters from Reference Dataset.')\n",
      "/home/umhrysnb/anaconda3/lib/python3.8/site-packages/lightgbm/basic.py:1098: UserWarning: categorical_column in param dict is overridden.\n",
      "  warnings.warn('{} in param dict is overridden.'.format(cat_alias))\n"
     ]
    },
    {
     "name": "stdout",
     "output_type": "stream",
     "text": [
      "Training until validation scores don't improve for 100 rounds\n",
      "Early stopping, best iteration is:\n",
      "[1258]\tvalid_0's auc: 0.859332\n",
      "Training until validation scores don't improve for 100 rounds\n",
      "Early stopping, best iteration is:\n",
      "[1235]\tvalid_0's auc: 0.857714\n",
      "Training until validation scores don't improve for 100 rounds\n",
      "Early stopping, best iteration is:\n",
      "[1066]\tvalid_0's auc: 0.85801\n",
      "Training until validation scores don't improve for 100 rounds\n",
      "Early stopping, best iteration is:\n",
      "[1074]\tvalid_0's auc: 0.85798\n",
      "--- FINISHED \\ whole score: 0.8582 ---\n",
      "---- id = 376 -----\n"
     ]
    },
    {
     "name": "stderr",
     "output_type": "stream",
     "text": [
      "/home/umhrysnb/anaconda3/lib/python3.8/site-packages/lightgbm/basic.py:1286: UserWarning: Overriding the parameters from Reference Dataset.\n",
      "  warnings.warn('Overriding the parameters from Reference Dataset.')\n",
      "/home/umhrysnb/anaconda3/lib/python3.8/site-packages/lightgbm/basic.py:1098: UserWarning: categorical_column in param dict is overridden.\n",
      "  warnings.warn('{} in param dict is overridden.'.format(cat_alias))\n"
     ]
    },
    {
     "name": "stdout",
     "output_type": "stream",
     "text": [
      "Training until validation scores don't improve for 100 rounds\n",
      "Early stopping, best iteration is:\n",
      "[583]\tvalid_0's auc: 0.745598\n",
      "Training until validation scores don't improve for 100 rounds\n",
      "Early stopping, best iteration is:\n",
      "[650]\tvalid_0's auc: 0.74912\n",
      "Training until validation scores don't improve for 100 rounds\n",
      "Early stopping, best iteration is:\n",
      "[546]\tvalid_0's auc: 0.752475\n",
      "Training until validation scores don't improve for 100 rounds\n",
      "Early stopping, best iteration is:\n",
      "[561]\tvalid_0's auc: 0.751605\n",
      "--- FINISHED \\ whole score: 0.7497 ---\n",
      "---- id = 435 -----\n"
     ]
    },
    {
     "name": "stderr",
     "output_type": "stream",
     "text": [
      "/home/umhrysnb/anaconda3/lib/python3.8/site-packages/lightgbm/basic.py:1286: UserWarning: Overriding the parameters from Reference Dataset.\n",
      "  warnings.warn('Overriding the parameters from Reference Dataset.')\n",
      "/home/umhrysnb/anaconda3/lib/python3.8/site-packages/lightgbm/basic.py:1098: UserWarning: categorical_column in param dict is overridden.\n",
      "  warnings.warn('{} in param dict is overridden.'.format(cat_alias))\n"
     ]
    },
    {
     "name": "stdout",
     "output_type": "stream",
     "text": [
      "Training until validation scores don't improve for 100 rounds\n",
      "Early stopping, best iteration is:\n",
      "[711]\tvalid_0's auc: 0.855938\n",
      "Training until validation scores don't improve for 100 rounds\n",
      "Early stopping, best iteration is:\n",
      "[715]\tvalid_0's auc: 0.852781\n",
      "Training until validation scores don't improve for 100 rounds\n",
      "Early stopping, best iteration is:\n",
      "[821]\tvalid_0's auc: 0.856021\n",
      "Training until validation scores don't improve for 100 rounds\n",
      "Early stopping, best iteration is:\n",
      "[860]\tvalid_0's auc: 0.856397\n",
      "--- FINISHED \\ whole score: 0.8553 ---\n",
      "---- id = 467 -----\n"
     ]
    },
    {
     "name": "stderr",
     "output_type": "stream",
     "text": [
      "/home/umhrysnb/anaconda3/lib/python3.8/site-packages/lightgbm/basic.py:1286: UserWarning: Overriding the parameters from Reference Dataset.\n",
      "  warnings.warn('Overriding the parameters from Reference Dataset.')\n",
      "/home/umhrysnb/anaconda3/lib/python3.8/site-packages/lightgbm/basic.py:1098: UserWarning: categorical_column in param dict is overridden.\n",
      "  warnings.warn('{} in param dict is overridden.'.format(cat_alias))\n"
     ]
    },
    {
     "name": "stdout",
     "output_type": "stream",
     "text": [
      "Training until validation scores don't improve for 100 rounds\n",
      "Early stopping, best iteration is:\n",
      "[339]\tvalid_0's auc: 0.860624\n",
      "Training until validation scores don't improve for 100 rounds\n",
      "Early stopping, best iteration is:\n",
      "[562]\tvalid_0's auc: 0.867195\n",
      "Training until validation scores don't improve for 100 rounds\n",
      "Early stopping, best iteration is:\n",
      "[587]\tvalid_0's auc: 0.862998\n",
      "Training until validation scores don't improve for 100 rounds\n",
      "Early stopping, best iteration is:\n",
      "[466]\tvalid_0's auc: 0.858375\n",
      "--- FINISHED \\ whole score: 0.8621 ---\n",
      "---- id = 537 -----\n"
     ]
    },
    {
     "name": "stderr",
     "output_type": "stream",
     "text": [
      "/home/umhrysnb/anaconda3/lib/python3.8/site-packages/lightgbm/basic.py:1286: UserWarning: Overriding the parameters from Reference Dataset.\n",
      "  warnings.warn('Overriding the parameters from Reference Dataset.')\n",
      "/home/umhrysnb/anaconda3/lib/python3.8/site-packages/lightgbm/basic.py:1098: UserWarning: categorical_column in param dict is overridden.\n",
      "  warnings.warn('{} in param dict is overridden.'.format(cat_alias))\n"
     ]
    },
    {
     "name": "stdout",
     "output_type": "stream",
     "text": [
      "Training until validation scores don't improve for 100 rounds\n",
      "Early stopping, best iteration is:\n",
      "[1255]\tvalid_0's auc: 0.899308\n",
      "Training until validation scores don't improve for 100 rounds\n",
      "Early stopping, best iteration is:\n",
      "[886]\tvalid_0's auc: 0.895815\n",
      "Training until validation scores don't improve for 100 rounds\n",
      "Early stopping, best iteration is:\n",
      "[650]\tvalid_0's auc: 0.900885\n",
      "Training until validation scores don't improve for 100 rounds\n",
      "Early stopping, best iteration is:\n",
      "[669]\tvalid_0's auc: 0.899412\n",
      "--- FINISHED \\ whole score: 0.8976 ---\n",
      "---- id = 539 -----\n"
     ]
    },
    {
     "name": "stderr",
     "output_type": "stream",
     "text": [
      "/home/umhrysnb/anaconda3/lib/python3.8/site-packages/lightgbm/basic.py:1286: UserWarning: Overriding the parameters from Reference Dataset.\n",
      "  warnings.warn('Overriding the parameters from Reference Dataset.')\n",
      "/home/umhrysnb/anaconda3/lib/python3.8/site-packages/lightgbm/basic.py:1098: UserWarning: categorical_column in param dict is overridden.\n",
      "  warnings.warn('{} in param dict is overridden.'.format(cat_alias))\n"
     ]
    },
    {
     "name": "stdout",
     "output_type": "stream",
     "text": [
      "Training until validation scores don't improve for 100 rounds\n",
      "Early stopping, best iteration is:\n",
      "[644]\tvalid_0's auc: 0.848422\n",
      "Training until validation scores don't improve for 100 rounds\n",
      "Early stopping, best iteration is:\n",
      "[744]\tvalid_0's auc: 0.848514\n",
      "Training until validation scores don't improve for 100 rounds\n",
      "Early stopping, best iteration is:\n",
      "[866]\tvalid_0's auc: 0.85023\n",
      "Training until validation scores don't improve for 100 rounds\n",
      "Early stopping, best iteration is:\n",
      "[658]\tvalid_0's auc: 0.848929\n",
      "--- FINISHED \\ whole score: 0.8489 ---\n",
      "---- id = 629 -----\n"
     ]
    },
    {
     "name": "stderr",
     "output_type": "stream",
     "text": [
      "/home/umhrysnb/anaconda3/lib/python3.8/site-packages/lightgbm/basic.py:1286: UserWarning: Overriding the parameters from Reference Dataset.\n",
      "  warnings.warn('Overriding the parameters from Reference Dataset.')\n",
      "/home/umhrysnb/anaconda3/lib/python3.8/site-packages/lightgbm/basic.py:1098: UserWarning: categorical_column in param dict is overridden.\n",
      "  warnings.warn('{} in param dict is overridden.'.format(cat_alias))\n"
     ]
    },
    {
     "name": "stdout",
     "output_type": "stream",
     "text": [
      "Training until validation scores don't improve for 100 rounds\n",
      "Early stopping, best iteration is:\n",
      "[371]\tvalid_0's auc: 0.904405\n",
      "Training until validation scores don't improve for 100 rounds\n",
      "Early stopping, best iteration is:\n",
      "[208]\tvalid_0's auc: 0.90975\n",
      "Training until validation scores don't improve for 100 rounds\n",
      "Early stopping, best iteration is:\n",
      "[372]\tvalid_0's auc: 0.910264\n",
      "Training until validation scores don't improve for 100 rounds\n",
      "Early stopping, best iteration is:\n",
      "[281]\tvalid_0's auc: 0.9175\n",
      "--- FINISHED \\ whole score: 0.9096 ---\n",
      "---- id = 768 -----\n"
     ]
    },
    {
     "name": "stderr",
     "output_type": "stream",
     "text": [
      "/home/umhrysnb/anaconda3/lib/python3.8/site-packages/lightgbm/basic.py:1286: UserWarning: Overriding the parameters from Reference Dataset.\n",
      "  warnings.warn('Overriding the parameters from Reference Dataset.')\n",
      "/home/umhrysnb/anaconda3/lib/python3.8/site-packages/lightgbm/basic.py:1098: UserWarning: categorical_column in param dict is overridden.\n",
      "  warnings.warn('{} in param dict is overridden.'.format(cat_alias))\n"
     ]
    },
    {
     "name": "stdout",
     "output_type": "stream",
     "text": [
      "Training until validation scores don't improve for 100 rounds\n",
      "Early stopping, best iteration is:\n",
      "[657]\tvalid_0's auc: 0.734493\n",
      "Training until validation scores don't improve for 100 rounds\n",
      "Early stopping, best iteration is:\n",
      "[699]\tvalid_0's auc: 0.736364\n",
      "Training until validation scores don't improve for 100 rounds\n",
      "Early stopping, best iteration is:\n",
      "[724]\tvalid_0's auc: 0.734214\n",
      "Training until validation scores don't improve for 100 rounds\n",
      "Early stopping, best iteration is:\n",
      "[417]\tvalid_0's auc: 0.733535\n",
      "--- FINISHED \\ whole score: 0.7345 ---\n",
      "25581\n",
      "===== 5 =====\n",
      "train_features (390621, 344)\n",
      "test_features (14072, 344)\n",
      "---- id = 38 -----\n"
     ]
    },
    {
     "name": "stderr",
     "output_type": "stream",
     "text": [
      "/home/umhrysnb/anaconda3/lib/python3.8/site-packages/lightgbm/basic.py:1286: UserWarning: Overriding the parameters from Reference Dataset.\n",
      "  warnings.warn('Overriding the parameters from Reference Dataset.')\n",
      "/home/umhrysnb/anaconda3/lib/python3.8/site-packages/lightgbm/basic.py:1098: UserWarning: categorical_column in param dict is overridden.\n",
      "  warnings.warn('{} in param dict is overridden.'.format(cat_alias))\n"
     ]
    },
    {
     "name": "stdout",
     "output_type": "stream",
     "text": [
      "Training until validation scores don't improve for 100 rounds\n",
      "Early stopping, best iteration is:\n",
      "[781]\tvalid_0's auc: 0.825026\n",
      "Training until validation scores don't improve for 100 rounds\n",
      "Early stopping, best iteration is:\n",
      "[625]\tvalid_0's auc: 0.820563\n",
      "Training until validation scores don't improve for 100 rounds\n",
      "Early stopping, best iteration is:\n",
      "[686]\tvalid_0's auc: 0.823571\n",
      "Training until validation scores don't improve for 100 rounds\n",
      "Early stopping, best iteration is:\n",
      "[760]\tvalid_0's auc: 0.824513\n",
      "--- FINISHED \\ whole score: 0.8234 ---\n",
      "---- id = 110 -----\n"
     ]
    },
    {
     "name": "stderr",
     "output_type": "stream",
     "text": [
      "/home/umhrysnb/anaconda3/lib/python3.8/site-packages/lightgbm/basic.py:1286: UserWarning: Overriding the parameters from Reference Dataset.\n",
      "  warnings.warn('Overriding the parameters from Reference Dataset.')\n",
      "/home/umhrysnb/anaconda3/lib/python3.8/site-packages/lightgbm/basic.py:1098: UserWarning: categorical_column in param dict is overridden.\n",
      "  warnings.warn('{} in param dict is overridden.'.format(cat_alias))\n"
     ]
    },
    {
     "name": "stdout",
     "output_type": "stream",
     "text": [
      "Training until validation scores don't improve for 100 rounds\n",
      "Early stopping, best iteration is:\n",
      "[162]\tvalid_0's auc: 0.787275\n",
      "Training until validation scores don't improve for 100 rounds\n",
      "Early stopping, best iteration is:\n",
      "[205]\tvalid_0's auc: 0.786699\n",
      "Training until validation scores don't improve for 100 rounds\n",
      "Early stopping, best iteration is:\n",
      "[137]\tvalid_0's auc: 0.776141\n",
      "Training until validation scores don't improve for 100 rounds\n",
      "Early stopping, best iteration is:\n",
      "[179]\tvalid_0's auc: 0.777742\n",
      "--- FINISHED \\ whole score: 0.7818 ---\n",
      "---- id = 113 -----\n"
     ]
    },
    {
     "name": "stderr",
     "output_type": "stream",
     "text": [
      "/home/umhrysnb/anaconda3/lib/python3.8/site-packages/lightgbm/basic.py:1286: UserWarning: Overriding the parameters from Reference Dataset.\n",
      "  warnings.warn('Overriding the parameters from Reference Dataset.')\n",
      "/home/umhrysnb/anaconda3/lib/python3.8/site-packages/lightgbm/basic.py:1098: UserWarning: categorical_column in param dict is overridden.\n",
      "  warnings.warn('{} in param dict is overridden.'.format(cat_alias))\n"
     ]
    },
    {
     "name": "stdout",
     "output_type": "stream",
     "text": [
      "Training until validation scores don't improve for 100 rounds\n",
      "Early stopping, best iteration is:\n",
      "[445]\tvalid_0's auc: 0.790851\n",
      "Training until validation scores don't improve for 100 rounds\n",
      "Early stopping, best iteration is:\n",
      "[338]\tvalid_0's auc: 0.790997\n",
      "Training until validation scores don't improve for 100 rounds\n",
      "Early stopping, best iteration is:\n",
      "[498]\tvalid_0's auc: 0.784549\n",
      "Training until validation scores don't improve for 100 rounds\n",
      "Early stopping, best iteration is:\n",
      "[526]\tvalid_0's auc: 0.790459\n",
      "--- FINISHED \\ whole score: 0.7890 ---\n",
      "---- id = 114 -----\n"
     ]
    },
    {
     "name": "stderr",
     "output_type": "stream",
     "text": [
      "/home/umhrysnb/anaconda3/lib/python3.8/site-packages/lightgbm/basic.py:1286: UserWarning: Overriding the parameters from Reference Dataset.\n",
      "  warnings.warn('Overriding the parameters from Reference Dataset.')\n",
      "/home/umhrysnb/anaconda3/lib/python3.8/site-packages/lightgbm/basic.py:1098: UserWarning: categorical_column in param dict is overridden.\n",
      "  warnings.warn('{} in param dict is overridden.'.format(cat_alias))\n"
     ]
    },
    {
     "name": "stdout",
     "output_type": "stream",
     "text": [
      "Training until validation scores don't improve for 100 rounds\n",
      "Early stopping, best iteration is:\n",
      "[950]\tvalid_0's auc: 0.74784\n",
      "Training until validation scores don't improve for 100 rounds\n",
      "Early stopping, best iteration is:\n",
      "[718]\tvalid_0's auc: 0.748979\n",
      "Training until validation scores don't improve for 100 rounds\n",
      "Early stopping, best iteration is:\n",
      "[980]\tvalid_0's auc: 0.745926\n",
      "Training until validation scores don't improve for 100 rounds\n",
      "Early stopping, best iteration is:\n",
      "[759]\tvalid_0's auc: 0.7474\n",
      "--- FINISHED \\ whole score: 0.7475 ---\n",
      "---- id = 134 -----\n"
     ]
    },
    {
     "name": "stderr",
     "output_type": "stream",
     "text": [
      "/home/umhrysnb/anaconda3/lib/python3.8/site-packages/lightgbm/basic.py:1286: UserWarning: Overriding the parameters from Reference Dataset.\n",
      "  warnings.warn('Overriding the parameters from Reference Dataset.')\n",
      "/home/umhrysnb/anaconda3/lib/python3.8/site-packages/lightgbm/basic.py:1098: UserWarning: categorical_column in param dict is overridden.\n",
      "  warnings.warn('{} in param dict is overridden.'.format(cat_alias))\n"
     ]
    },
    {
     "name": "stdout",
     "output_type": "stream",
     "text": [
      "Training until validation scores don't improve for 100 rounds\n",
      "Early stopping, best iteration is:\n",
      "[743]\tvalid_0's auc: 0.732702\n",
      "Training until validation scores don't improve for 100 rounds\n",
      "Early stopping, best iteration is:\n",
      "[419]\tvalid_0's auc: 0.733513\n",
      "Training until validation scores don't improve for 100 rounds\n",
      "Early stopping, best iteration is:\n",
      "[485]\tvalid_0's auc: 0.734085\n",
      "Training until validation scores don't improve for 100 rounds\n",
      "Early stopping, best iteration is:\n",
      "[466]\tvalid_0's auc: 0.737411\n",
      "--- FINISHED \\ whole score: 0.7343 ---\n",
      "---- id = 171 -----\n"
     ]
    },
    {
     "name": "stderr",
     "output_type": "stream",
     "text": [
      "/home/umhrysnb/anaconda3/lib/python3.8/site-packages/lightgbm/basic.py:1286: UserWarning: Overriding the parameters from Reference Dataset.\n",
      "  warnings.warn('Overriding the parameters from Reference Dataset.')\n",
      "/home/umhrysnb/anaconda3/lib/python3.8/site-packages/lightgbm/basic.py:1098: UserWarning: categorical_column in param dict is overridden.\n",
      "  warnings.warn('{} in param dict is overridden.'.format(cat_alias))\n"
     ]
    },
    {
     "name": "stdout",
     "output_type": "stream",
     "text": [
      "Training until validation scores don't improve for 100 rounds\n",
      "Early stopping, best iteration is:\n",
      "[1425]\tvalid_0's auc: 0.854287\n",
      "Training until validation scores don't improve for 100 rounds\n",
      "Early stopping, best iteration is:\n",
      "[1250]\tvalid_0's auc: 0.856943\n",
      "Training until validation scores don't improve for 100 rounds\n",
      "Early stopping, best iteration is:\n",
      "[1488]\tvalid_0's auc: 0.852577\n",
      "Training until validation scores don't improve for 100 rounds\n",
      "Early stopping, best iteration is:\n",
      "[1661]\tvalid_0's auc: 0.858323\n",
      "--- FINISHED \\ whole score: 0.8555 ---\n",
      "---- id = 172 -----\n"
     ]
    },
    {
     "name": "stderr",
     "output_type": "stream",
     "text": [
      "/home/umhrysnb/anaconda3/lib/python3.8/site-packages/lightgbm/basic.py:1286: UserWarning: Overriding the parameters from Reference Dataset.\n",
      "  warnings.warn('Overriding the parameters from Reference Dataset.')\n",
      "/home/umhrysnb/anaconda3/lib/python3.8/site-packages/lightgbm/basic.py:1098: UserWarning: categorical_column in param dict is overridden.\n",
      "  warnings.warn('{} in param dict is overridden.'.format(cat_alias))\n"
     ]
    },
    {
     "name": "stdout",
     "output_type": "stream",
     "text": [
      "Training until validation scores don't improve for 100 rounds\n",
      "Early stopping, best iteration is:\n",
      "[690]\tvalid_0's auc: 0.861198\n",
      "Training until validation scores don't improve for 100 rounds\n",
      "Early stopping, best iteration is:\n",
      "[538]\tvalid_0's auc: 0.861666\n",
      "Training until validation scores don't improve for 100 rounds\n",
      "Early stopping, best iteration is:\n",
      "[590]\tvalid_0's auc: 0.857002\n",
      "Training until validation scores don't improve for 100 rounds\n",
      "Early stopping, best iteration is:\n",
      "[570]\tvalid_0's auc: 0.860502\n",
      "--- FINISHED \\ whole score: 0.8600 ---\n",
      "---- id = 173 -----\n"
     ]
    },
    {
     "name": "stderr",
     "output_type": "stream",
     "text": [
      "/home/umhrysnb/anaconda3/lib/python3.8/site-packages/lightgbm/basic.py:1286: UserWarning: Overriding the parameters from Reference Dataset.\n",
      "  warnings.warn('Overriding the parameters from Reference Dataset.')\n",
      "/home/umhrysnb/anaconda3/lib/python3.8/site-packages/lightgbm/basic.py:1098: UserWarning: categorical_column in param dict is overridden.\n",
      "  warnings.warn('{} in param dict is overridden.'.format(cat_alias))\n"
     ]
    },
    {
     "name": "stdout",
     "output_type": "stream",
     "text": [
      "Training until validation scores don't improve for 100 rounds\n",
      "Early stopping, best iteration is:\n",
      "[1240]\tvalid_0's auc: 0.854538\n",
      "Training until validation scores don't improve for 100 rounds\n",
      "Early stopping, best iteration is:\n",
      "[1349]\tvalid_0's auc: 0.853833\n",
      "Training until validation scores don't improve for 100 rounds\n",
      "Early stopping, best iteration is:\n",
      "[980]\tvalid_0's auc: 0.85361\n",
      "Training until validation scores don't improve for 100 rounds\n",
      "Early stopping, best iteration is:\n",
      "[1121]\tvalid_0's auc: 0.85155\n",
      "--- FINISHED \\ whole score: 0.8533 ---\n",
      "---- id = 376 -----\n"
     ]
    },
    {
     "name": "stderr",
     "output_type": "stream",
     "text": [
      "/home/umhrysnb/anaconda3/lib/python3.8/site-packages/lightgbm/basic.py:1286: UserWarning: Overriding the parameters from Reference Dataset.\n",
      "  warnings.warn('Overriding the parameters from Reference Dataset.')\n",
      "/home/umhrysnb/anaconda3/lib/python3.8/site-packages/lightgbm/basic.py:1098: UserWarning: categorical_column in param dict is overridden.\n",
      "  warnings.warn('{} in param dict is overridden.'.format(cat_alias))\n"
     ]
    },
    {
     "name": "stdout",
     "output_type": "stream",
     "text": [
      "Training until validation scores don't improve for 100 rounds\n",
      "Early stopping, best iteration is:\n",
      "[424]\tvalid_0's auc: 0.748187\n",
      "Training until validation scores don't improve for 100 rounds\n",
      "Early stopping, best iteration is:\n",
      "[460]\tvalid_0's auc: 0.746151\n",
      "Training until validation scores don't improve for 100 rounds\n",
      "Early stopping, best iteration is:\n",
      "[669]\tvalid_0's auc: 0.749889\n",
      "Training until validation scores don't improve for 100 rounds\n",
      "Early stopping, best iteration is:\n",
      "[602]\tvalid_0's auc: 0.74716\n",
      "--- FINISHED \\ whole score: 0.7478 ---\n",
      "---- id = 435 -----\n"
     ]
    },
    {
     "name": "stderr",
     "output_type": "stream",
     "text": [
      "/home/umhrysnb/anaconda3/lib/python3.8/site-packages/lightgbm/basic.py:1286: UserWarning: Overriding the parameters from Reference Dataset.\n",
      "  warnings.warn('Overriding the parameters from Reference Dataset.')\n",
      "/home/umhrysnb/anaconda3/lib/python3.8/site-packages/lightgbm/basic.py:1098: UserWarning: categorical_column in param dict is overridden.\n",
      "  warnings.warn('{} in param dict is overridden.'.format(cat_alias))\n"
     ]
    },
    {
     "name": "stdout",
     "output_type": "stream",
     "text": [
      "Training until validation scores don't improve for 100 rounds\n",
      "Early stopping, best iteration is:\n",
      "[751]\tvalid_0's auc: 0.853636\n",
      "Training until validation scores don't improve for 100 rounds\n",
      "Early stopping, best iteration is:\n",
      "[441]\tvalid_0's auc: 0.839465\n",
      "Training until validation scores don't improve for 100 rounds\n",
      "Early stopping, best iteration is:\n",
      "[744]\tvalid_0's auc: 0.846796\n",
      "Training until validation scores don't improve for 100 rounds\n",
      "Early stopping, best iteration is:\n",
      "[897]\tvalid_0's auc: 0.84996\n",
      "--- FINISHED \\ whole score: 0.8473 ---\n",
      "---- id = 467 -----\n"
     ]
    },
    {
     "name": "stderr",
     "output_type": "stream",
     "text": [
      "/home/umhrysnb/anaconda3/lib/python3.8/site-packages/lightgbm/basic.py:1286: UserWarning: Overriding the parameters from Reference Dataset.\n",
      "  warnings.warn('Overriding the parameters from Reference Dataset.')\n",
      "/home/umhrysnb/anaconda3/lib/python3.8/site-packages/lightgbm/basic.py:1098: UserWarning: categorical_column in param dict is overridden.\n",
      "  warnings.warn('{} in param dict is overridden.'.format(cat_alias))\n"
     ]
    },
    {
     "name": "stdout",
     "output_type": "stream",
     "text": [
      "Training until validation scores don't improve for 100 rounds\n",
      "Early stopping, best iteration is:\n",
      "[674]\tvalid_0's auc: 0.85678\n",
      "Training until validation scores don't improve for 100 rounds\n",
      "Early stopping, best iteration is:\n",
      "[534]\tvalid_0's auc: 0.856408\n",
      "Training until validation scores don't improve for 100 rounds\n",
      "Early stopping, best iteration is:\n",
      "[552]\tvalid_0's auc: 0.85768\n",
      "Training until validation scores don't improve for 100 rounds\n",
      "Early stopping, best iteration is:\n",
      "[696]\tvalid_0's auc: 0.856351\n",
      "--- FINISHED \\ whole score: 0.8565 ---\n",
      "---- id = 537 -----\n"
     ]
    },
    {
     "name": "stderr",
     "output_type": "stream",
     "text": [
      "/home/umhrysnb/anaconda3/lib/python3.8/site-packages/lightgbm/basic.py:1286: UserWarning: Overriding the parameters from Reference Dataset.\n",
      "  warnings.warn('Overriding the parameters from Reference Dataset.')\n",
      "/home/umhrysnb/anaconda3/lib/python3.8/site-packages/lightgbm/basic.py:1098: UserWarning: categorical_column in param dict is overridden.\n",
      "  warnings.warn('{} in param dict is overridden.'.format(cat_alias))\n"
     ]
    },
    {
     "name": "stdout",
     "output_type": "stream",
     "text": [
      "Training until validation scores don't improve for 100 rounds\n",
      "Early stopping, best iteration is:\n",
      "[598]\tvalid_0's auc: 0.88837\n",
      "Training until validation scores don't improve for 100 rounds\n",
      "Early stopping, best iteration is:\n",
      "[683]\tvalid_0's auc: 0.893952\n",
      "Training until validation scores don't improve for 100 rounds\n",
      "Early stopping, best iteration is:\n",
      "[781]\tvalid_0's auc: 0.895469\n",
      "Training until validation scores don't improve for 100 rounds\n",
      "Early stopping, best iteration is:\n",
      "[757]\tvalid_0's auc: 0.892627\n",
      "--- FINISHED \\ whole score: 0.8926 ---\n",
      "---- id = 539 -----\n"
     ]
    },
    {
     "name": "stderr",
     "output_type": "stream",
     "text": [
      "/home/umhrysnb/anaconda3/lib/python3.8/site-packages/lightgbm/basic.py:1286: UserWarning: Overriding the parameters from Reference Dataset.\n",
      "  warnings.warn('Overriding the parameters from Reference Dataset.')\n",
      "/home/umhrysnb/anaconda3/lib/python3.8/site-packages/lightgbm/basic.py:1098: UserWarning: categorical_column in param dict is overridden.\n",
      "  warnings.warn('{} in param dict is overridden.'.format(cat_alias))\n"
     ]
    },
    {
     "name": "stdout",
     "output_type": "stream",
     "text": [
      "Training until validation scores don't improve for 100 rounds\n",
      "Early stopping, best iteration is:\n",
      "[1096]\tvalid_0's auc: 0.844383\n",
      "Training until validation scores don't improve for 100 rounds\n",
      "Early stopping, best iteration is:\n",
      "[1088]\tvalid_0's auc: 0.838574\n",
      "Training until validation scores don't improve for 100 rounds\n",
      "Early stopping, best iteration is:\n",
      "[567]\tvalid_0's auc: 0.844087\n",
      "Training until validation scores don't improve for 100 rounds\n",
      "Early stopping, best iteration is:\n",
      "[483]\tvalid_0's auc: 0.839601\n",
      "--- FINISHED \\ whole score: 0.8401 ---\n",
      "---- id = 629 -----\n"
     ]
    },
    {
     "name": "stderr",
     "output_type": "stream",
     "text": [
      "/home/umhrysnb/anaconda3/lib/python3.8/site-packages/lightgbm/basic.py:1286: UserWarning: Overriding the parameters from Reference Dataset.\n",
      "  warnings.warn('Overriding the parameters from Reference Dataset.')\n",
      "/home/umhrysnb/anaconda3/lib/python3.8/site-packages/lightgbm/basic.py:1098: UserWarning: categorical_column in param dict is overridden.\n",
      "  warnings.warn('{} in param dict is overridden.'.format(cat_alias))\n"
     ]
    },
    {
     "name": "stdout",
     "output_type": "stream",
     "text": [
      "Training until validation scores don't improve for 100 rounds\n",
      "Early stopping, best iteration is:\n",
      "[431]\tvalid_0's auc: 0.901537\n",
      "Training until validation scores don't improve for 100 rounds\n",
      "Early stopping, best iteration is:\n",
      "[122]\tvalid_0's auc: 0.896167\n",
      "Training until validation scores don't improve for 100 rounds\n",
      "Early stopping, best iteration is:\n",
      "[337]\tvalid_0's auc: 0.906883\n",
      "Training until validation scores don't improve for 100 rounds\n",
      "Early stopping, best iteration is:\n",
      "[135]\tvalid_0's auc: 0.893378\n",
      "--- FINISHED \\ whole score: 0.8965 ---\n",
      "---- id = 768 -----\n"
     ]
    },
    {
     "name": "stderr",
     "output_type": "stream",
     "text": [
      "/home/umhrysnb/anaconda3/lib/python3.8/site-packages/lightgbm/basic.py:1286: UserWarning: Overriding the parameters from Reference Dataset.\n",
      "  warnings.warn('Overriding the parameters from Reference Dataset.')\n",
      "/home/umhrysnb/anaconda3/lib/python3.8/site-packages/lightgbm/basic.py:1098: UserWarning: categorical_column in param dict is overridden.\n",
      "  warnings.warn('{} in param dict is overridden.'.format(cat_alias))\n"
     ]
    },
    {
     "name": "stdout",
     "output_type": "stream",
     "text": [
      "Training until validation scores don't improve for 100 rounds\n",
      "Early stopping, best iteration is:\n",
      "[625]\tvalid_0's auc: 0.733075\n",
      "Training until validation scores don't improve for 100 rounds\n",
      "Early stopping, best iteration is:\n",
      "[717]\tvalid_0's auc: 0.729923\n",
      "Training until validation scores don't improve for 100 rounds\n",
      "Early stopping, best iteration is:\n",
      "[654]\tvalid_0's auc: 0.731794\n",
      "Training until validation scores don't improve for 100 rounds\n",
      "Early stopping, best iteration is:\n",
      "[580]\tvalid_0's auc: 0.724715\n",
      "--- FINISHED \\ whole score: 0.7299 ---\n",
      "39653\n",
      "===== 10 =====\n",
      "train_features (391074, 344)\n",
      "test_features (16833, 344)\n",
      "---- id = 38 -----\n"
     ]
    },
    {
     "name": "stderr",
     "output_type": "stream",
     "text": [
      "/home/umhrysnb/anaconda3/lib/python3.8/site-packages/lightgbm/basic.py:1286: UserWarning: Overriding the parameters from Reference Dataset.\n",
      "  warnings.warn('Overriding the parameters from Reference Dataset.')\n",
      "/home/umhrysnb/anaconda3/lib/python3.8/site-packages/lightgbm/basic.py:1098: UserWarning: categorical_column in param dict is overridden.\n",
      "  warnings.warn('{} in param dict is overridden.'.format(cat_alias))\n"
     ]
    },
    {
     "name": "stdout",
     "output_type": "stream",
     "text": [
      "Training until validation scores don't improve for 100 rounds\n",
      "Early stopping, best iteration is:\n",
      "[979]\tvalid_0's auc: 0.821299\n",
      "Training until validation scores don't improve for 100 rounds\n",
      "Early stopping, best iteration is:\n",
      "[769]\tvalid_0's auc: 0.818556\n",
      "Training until validation scores don't improve for 100 rounds\n",
      "Early stopping, best iteration is:\n",
      "[715]\tvalid_0's auc: 0.822148\n",
      "Training until validation scores don't improve for 100 rounds\n",
      "Early stopping, best iteration is:\n",
      "[779]\tvalid_0's auc: 0.821085\n",
      "--- FINISHED \\ whole score: 0.8207 ---\n",
      "---- id = 110 -----\n"
     ]
    },
    {
     "name": "stderr",
     "output_type": "stream",
     "text": [
      "/home/umhrysnb/anaconda3/lib/python3.8/site-packages/lightgbm/basic.py:1286: UserWarning: Overriding the parameters from Reference Dataset.\n",
      "  warnings.warn('Overriding the parameters from Reference Dataset.')\n",
      "/home/umhrysnb/anaconda3/lib/python3.8/site-packages/lightgbm/basic.py:1098: UserWarning: categorical_column in param dict is overridden.\n",
      "  warnings.warn('{} in param dict is overridden.'.format(cat_alias))\n"
     ]
    },
    {
     "name": "stdout",
     "output_type": "stream",
     "text": [
      "Training until validation scores don't improve for 100 rounds\n",
      "Early stopping, best iteration is:\n",
      "[240]\tvalid_0's auc: 0.779286\n",
      "Training until validation scores don't improve for 100 rounds\n",
      "Early stopping, best iteration is:\n",
      "[191]\tvalid_0's auc: 0.791178\n",
      "Training until validation scores don't improve for 100 rounds\n",
      "Early stopping, best iteration is:\n",
      "[168]\tvalid_0's auc: 0.779043\n",
      "Training until validation scores don't improve for 100 rounds\n",
      "Early stopping, best iteration is:\n",
      "[365]\tvalid_0's auc: 0.776263\n",
      "--- FINISHED \\ whole score: 0.7790 ---\n",
      "---- id = 113 -----\n"
     ]
    },
    {
     "name": "stderr",
     "output_type": "stream",
     "text": [
      "/home/umhrysnb/anaconda3/lib/python3.8/site-packages/lightgbm/basic.py:1286: UserWarning: Overriding the parameters from Reference Dataset.\n",
      "  warnings.warn('Overriding the parameters from Reference Dataset.')\n",
      "/home/umhrysnb/anaconda3/lib/python3.8/site-packages/lightgbm/basic.py:1098: UserWarning: categorical_column in param dict is overridden.\n",
      "  warnings.warn('{} in param dict is overridden.'.format(cat_alias))\n"
     ]
    },
    {
     "name": "stdout",
     "output_type": "stream",
     "text": [
      "Training until validation scores don't improve for 100 rounds\n",
      "Early stopping, best iteration is:\n",
      "[237]\tvalid_0's auc: 0.774091\n",
      "Training until validation scores don't improve for 100 rounds\n",
      "Early stopping, best iteration is:\n",
      "[263]\tvalid_0's auc: 0.78351\n",
      "Training until validation scores don't improve for 100 rounds\n",
      "Early stopping, best iteration is:\n",
      "[504]\tvalid_0's auc: 0.789236\n",
      "Training until validation scores don't improve for 100 rounds\n",
      "Early stopping, best iteration is:\n",
      "[405]\tvalid_0's auc: 0.787805\n",
      "--- FINISHED \\ whole score: 0.7833 ---\n",
      "---- id = 114 -----\n"
     ]
    },
    {
     "name": "stderr",
     "output_type": "stream",
     "text": [
      "/home/umhrysnb/anaconda3/lib/python3.8/site-packages/lightgbm/basic.py:1286: UserWarning: Overriding the parameters from Reference Dataset.\n",
      "  warnings.warn('Overriding the parameters from Reference Dataset.')\n",
      "/home/umhrysnb/anaconda3/lib/python3.8/site-packages/lightgbm/basic.py:1098: UserWarning: categorical_column in param dict is overridden.\n",
      "  warnings.warn('{} in param dict is overridden.'.format(cat_alias))\n"
     ]
    },
    {
     "name": "stdout",
     "output_type": "stream",
     "text": [
      "Training until validation scores don't improve for 100 rounds\n",
      "Early stopping, best iteration is:\n",
      "[649]\tvalid_0's auc: 0.750734\n",
      "Training until validation scores don't improve for 100 rounds\n",
      "Early stopping, best iteration is:\n",
      "[766]\tvalid_0's auc: 0.751563\n",
      "Training until validation scores don't improve for 100 rounds\n",
      "Early stopping, best iteration is:\n",
      "[802]\tvalid_0's auc: 0.753999\n",
      "Training until validation scores don't improve for 100 rounds\n",
      "Early stopping, best iteration is:\n",
      "[1045]\tvalid_0's auc: 0.752578\n",
      "--- FINISHED \\ whole score: 0.7522 ---\n",
      "---- id = 134 -----\n"
     ]
    },
    {
     "name": "stderr",
     "output_type": "stream",
     "text": [
      "/home/umhrysnb/anaconda3/lib/python3.8/site-packages/lightgbm/basic.py:1286: UserWarning: Overriding the parameters from Reference Dataset.\n",
      "  warnings.warn('Overriding the parameters from Reference Dataset.')\n",
      "/home/umhrysnb/anaconda3/lib/python3.8/site-packages/lightgbm/basic.py:1098: UserWarning: categorical_column in param dict is overridden.\n",
      "  warnings.warn('{} in param dict is overridden.'.format(cat_alias))\n"
     ]
    },
    {
     "name": "stdout",
     "output_type": "stream",
     "text": [
      "Training until validation scores don't improve for 100 rounds\n",
      "Early stopping, best iteration is:\n",
      "[412]\tvalid_0's auc: 0.739511\n",
      "Training until validation scores don't improve for 100 rounds\n",
      "Early stopping, best iteration is:\n",
      "[381]\tvalid_0's auc: 0.741328\n",
      "Training until validation scores don't improve for 100 rounds\n",
      "Early stopping, best iteration is:\n",
      "[611]\tvalid_0's auc: 0.741808\n",
      "Training until validation scores don't improve for 100 rounds\n",
      "Early stopping, best iteration is:\n",
      "[653]\tvalid_0's auc: 0.742988\n",
      "--- FINISHED \\ whole score: 0.7413 ---\n",
      "---- id = 171 -----\n"
     ]
    },
    {
     "name": "stderr",
     "output_type": "stream",
     "text": [
      "/home/umhrysnb/anaconda3/lib/python3.8/site-packages/lightgbm/basic.py:1286: UserWarning: Overriding the parameters from Reference Dataset.\n",
      "  warnings.warn('Overriding the parameters from Reference Dataset.')\n",
      "/home/umhrysnb/anaconda3/lib/python3.8/site-packages/lightgbm/basic.py:1098: UserWarning: categorical_column in param dict is overridden.\n",
      "  warnings.warn('{} in param dict is overridden.'.format(cat_alias))\n"
     ]
    },
    {
     "name": "stdout",
     "output_type": "stream",
     "text": [
      "Training until validation scores don't improve for 100 rounds\n",
      "Early stopping, best iteration is:\n",
      "[1197]\tvalid_0's auc: 0.845956\n",
      "Training until validation scores don't improve for 100 rounds\n",
      "Early stopping, best iteration is:\n",
      "[915]\tvalid_0's auc: 0.840325\n",
      "Training until validation scores don't improve for 100 rounds\n",
      "Early stopping, best iteration is:\n",
      "[840]\tvalid_0's auc: 0.840015\n",
      "Training until validation scores don't improve for 100 rounds\n",
      "Early stopping, best iteration is:\n",
      "[1115]\tvalid_0's auc: 0.842412\n",
      "--- FINISHED \\ whole score: 0.8421 ---\n",
      "---- id = 172 -----\n"
     ]
    },
    {
     "name": "stderr",
     "output_type": "stream",
     "text": [
      "/home/umhrysnb/anaconda3/lib/python3.8/site-packages/lightgbm/basic.py:1286: UserWarning: Overriding the parameters from Reference Dataset.\n",
      "  warnings.warn('Overriding the parameters from Reference Dataset.')\n",
      "/home/umhrysnb/anaconda3/lib/python3.8/site-packages/lightgbm/basic.py:1098: UserWarning: categorical_column in param dict is overridden.\n",
      "  warnings.warn('{} in param dict is overridden.'.format(cat_alias))\n"
     ]
    },
    {
     "name": "stdout",
     "output_type": "stream",
     "text": [
      "Training until validation scores don't improve for 100 rounds\n",
      "Early stopping, best iteration is:\n",
      "[463]\tvalid_0's auc: 0.845822\n",
      "Training until validation scores don't improve for 100 rounds\n",
      "Early stopping, best iteration is:\n",
      "[386]\tvalid_0's auc: 0.820907\n",
      "Training until validation scores don't improve for 100 rounds\n",
      "Early stopping, best iteration is:\n",
      "[472]\tvalid_0's auc: 0.852907\n",
      "Training until validation scores don't improve for 100 rounds\n",
      "Early stopping, best iteration is:\n",
      "[553]\tvalid_0's auc: 0.834233\n",
      "--- FINISHED \\ whole score: 0.8380 ---\n",
      "---- id = 173 -----\n"
     ]
    },
    {
     "name": "stderr",
     "output_type": "stream",
     "text": [
      "/home/umhrysnb/anaconda3/lib/python3.8/site-packages/lightgbm/basic.py:1286: UserWarning: Overriding the parameters from Reference Dataset.\n",
      "  warnings.warn('Overriding the parameters from Reference Dataset.')\n",
      "/home/umhrysnb/anaconda3/lib/python3.8/site-packages/lightgbm/basic.py:1098: UserWarning: categorical_column in param dict is overridden.\n",
      "  warnings.warn('{} in param dict is overridden.'.format(cat_alias))\n"
     ]
    },
    {
     "name": "stdout",
     "output_type": "stream",
     "text": [
      "Training until validation scores don't improve for 100 rounds\n",
      "Early stopping, best iteration is:\n",
      "[937]\tvalid_0's auc: 0.843066\n",
      "Training until validation scores don't improve for 100 rounds\n",
      "Early stopping, best iteration is:\n",
      "[899]\tvalid_0's auc: 0.847513\n",
      "Training until validation scores don't improve for 100 rounds\n",
      "Early stopping, best iteration is:\n",
      "[760]\tvalid_0's auc: 0.847864\n",
      "Training until validation scores don't improve for 100 rounds\n",
      "Early stopping, best iteration is:\n",
      "[796]\tvalid_0's auc: 0.847986\n",
      "--- FINISHED \\ whole score: 0.8465 ---\n",
      "---- id = 376 -----\n"
     ]
    },
    {
     "name": "stderr",
     "output_type": "stream",
     "text": [
      "/home/umhrysnb/anaconda3/lib/python3.8/site-packages/lightgbm/basic.py:1286: UserWarning: Overriding the parameters from Reference Dataset.\n",
      "  warnings.warn('Overriding the parameters from Reference Dataset.')\n",
      "/home/umhrysnb/anaconda3/lib/python3.8/site-packages/lightgbm/basic.py:1098: UserWarning: categorical_column in param dict is overridden.\n",
      "  warnings.warn('{} in param dict is overridden.'.format(cat_alias))\n"
     ]
    },
    {
     "name": "stdout",
     "output_type": "stream",
     "text": [
      "Training until validation scores don't improve for 100 rounds\n",
      "Early stopping, best iteration is:\n",
      "[469]\tvalid_0's auc: 0.756683\n",
      "Training until validation scores don't improve for 100 rounds\n",
      "Early stopping, best iteration is:\n",
      "[429]\tvalid_0's auc: 0.750994\n",
      "Training until validation scores don't improve for 100 rounds\n",
      "Early stopping, best iteration is:\n",
      "[421]\tvalid_0's auc: 0.762106\n",
      "Training until validation scores don't improve for 100 rounds\n",
      "Early stopping, best iteration is:\n",
      "[484]\tvalid_0's auc: 0.754263\n",
      "--- FINISHED \\ whole score: 0.7560 ---\n",
      "---- id = 435 -----\n"
     ]
    },
    {
     "name": "stderr",
     "output_type": "stream",
     "text": [
      "/home/umhrysnb/anaconda3/lib/python3.8/site-packages/lightgbm/basic.py:1286: UserWarning: Overriding the parameters from Reference Dataset.\n",
      "  warnings.warn('Overriding the parameters from Reference Dataset.')\n",
      "/home/umhrysnb/anaconda3/lib/python3.8/site-packages/lightgbm/basic.py:1098: UserWarning: categorical_column in param dict is overridden.\n",
      "  warnings.warn('{} in param dict is overridden.'.format(cat_alias))\n"
     ]
    },
    {
     "name": "stdout",
     "output_type": "stream",
     "text": [
      "Training until validation scores don't improve for 100 rounds\n",
      "Early stopping, best iteration is:\n",
      "[729]\tvalid_0's auc: 0.837297\n",
      "Training until validation scores don't improve for 100 rounds\n",
      "Early stopping, best iteration is:\n",
      "[621]\tvalid_0's auc: 0.837282\n",
      "Training until validation scores don't improve for 100 rounds\n",
      "Early stopping, best iteration is:\n",
      "[411]\tvalid_0's auc: 0.836652\n",
      "Training until validation scores don't improve for 100 rounds\n",
      "Early stopping, best iteration is:\n",
      "[400]\tvalid_0's auc: 0.833435\n",
      "--- FINISHED \\ whole score: 0.8356 ---\n",
      "---- id = 467 -----\n"
     ]
    },
    {
     "name": "stderr",
     "output_type": "stream",
     "text": [
      "/home/umhrysnb/anaconda3/lib/python3.8/site-packages/lightgbm/basic.py:1286: UserWarning: Overriding the parameters from Reference Dataset.\n",
      "  warnings.warn('Overriding the parameters from Reference Dataset.')\n",
      "/home/umhrysnb/anaconda3/lib/python3.8/site-packages/lightgbm/basic.py:1098: UserWarning: categorical_column in param dict is overridden.\n",
      "  warnings.warn('{} in param dict is overridden.'.format(cat_alias))\n"
     ]
    },
    {
     "name": "stdout",
     "output_type": "stream",
     "text": [
      "Training until validation scores don't improve for 100 rounds\n",
      "Early stopping, best iteration is:\n",
      "[265]\tvalid_0's auc: 0.833331\n",
      "Training until validation scores don't improve for 100 rounds\n",
      "Early stopping, best iteration is:\n",
      "[256]\tvalid_0's auc: 0.834293\n",
      "Training until validation scores don't improve for 100 rounds\n",
      "Early stopping, best iteration is:\n",
      "[326]\tvalid_0's auc: 0.853681\n",
      "Training until validation scores don't improve for 100 rounds\n",
      "Early stopping, best iteration is:\n",
      "[309]\tvalid_0's auc: 0.838782\n",
      "--- FINISHED \\ whole score: 0.8401 ---\n",
      "---- id = 537 -----\n"
     ]
    },
    {
     "name": "stderr",
     "output_type": "stream",
     "text": [
      "/home/umhrysnb/anaconda3/lib/python3.8/site-packages/lightgbm/basic.py:1286: UserWarning: Overriding the parameters from Reference Dataset.\n",
      "  warnings.warn('Overriding the parameters from Reference Dataset.')\n",
      "/home/umhrysnb/anaconda3/lib/python3.8/site-packages/lightgbm/basic.py:1098: UserWarning: categorical_column in param dict is overridden.\n",
      "  warnings.warn('{} in param dict is overridden.'.format(cat_alias))\n"
     ]
    },
    {
     "name": "stdout",
     "output_type": "stream",
     "text": [
      "Training until validation scores don't improve for 100 rounds\n",
      "Early stopping, best iteration is:\n",
      "[678]\tvalid_0's auc: 0.880435\n",
      "Training until validation scores don't improve for 100 rounds\n",
      "Early stopping, best iteration is:\n",
      "[760]\tvalid_0's auc: 0.875602\n",
      "Training until validation scores don't improve for 100 rounds\n",
      "Early stopping, best iteration is:\n",
      "[730]\tvalid_0's auc: 0.88465\n",
      "Training until validation scores don't improve for 100 rounds\n",
      "Early stopping, best iteration is:\n",
      "[478]\tvalid_0's auc: 0.876334\n",
      "--- FINISHED \\ whole score: 0.8786 ---\n",
      "---- id = 539 -----\n"
     ]
    },
    {
     "name": "stderr",
     "output_type": "stream",
     "text": [
      "/home/umhrysnb/anaconda3/lib/python3.8/site-packages/lightgbm/basic.py:1286: UserWarning: Overriding the parameters from Reference Dataset.\n",
      "  warnings.warn('Overriding the parameters from Reference Dataset.')\n",
      "/home/umhrysnb/anaconda3/lib/python3.8/site-packages/lightgbm/basic.py:1098: UserWarning: categorical_column in param dict is overridden.\n",
      "  warnings.warn('{} in param dict is overridden.'.format(cat_alias))\n"
     ]
    },
    {
     "name": "stdout",
     "output_type": "stream",
     "text": [
      "Training until validation scores don't improve for 100 rounds\n",
      "Early stopping, best iteration is:\n",
      "[819]\tvalid_0's auc: 0.829019\n",
      "Training until validation scores don't improve for 100 rounds\n",
      "Early stopping, best iteration is:\n",
      "[500]\tvalid_0's auc: 0.82419\n",
      "Training until validation scores don't improve for 100 rounds\n",
      "Early stopping, best iteration is:\n",
      "[339]\tvalid_0's auc: 0.827938\n",
      "Training until validation scores don't improve for 100 rounds\n",
      "Early stopping, best iteration is:\n",
      "[702]\tvalid_0's auc: 0.833456\n",
      "--- FINISHED \\ whole score: 0.8275 ---\n",
      "---- id = 629 -----\n"
     ]
    },
    {
     "name": "stderr",
     "output_type": "stream",
     "text": [
      "/home/umhrysnb/anaconda3/lib/python3.8/site-packages/lightgbm/basic.py:1286: UserWarning: Overriding the parameters from Reference Dataset.\n",
      "  warnings.warn('Overriding the parameters from Reference Dataset.')\n",
      "/home/umhrysnb/anaconda3/lib/python3.8/site-packages/lightgbm/basic.py:1098: UserWarning: categorical_column in param dict is overridden.\n",
      "  warnings.warn('{} in param dict is overridden.'.format(cat_alias))\n"
     ]
    },
    {
     "name": "stdout",
     "output_type": "stream",
     "text": [
      "Training until validation scores don't improve for 100 rounds\n",
      "Early stopping, best iteration is:\n",
      "[382]\tvalid_0's auc: 0.86858\n",
      "Training until validation scores don't improve for 100 rounds\n",
      "Early stopping, best iteration is:\n",
      "[322]\tvalid_0's auc: 0.872693\n",
      "Training until validation scores don't improve for 100 rounds\n",
      "Early stopping, best iteration is:\n",
      "[107]\tvalid_0's auc: 0.876605\n",
      "Training until validation scores don't improve for 100 rounds\n",
      "Early stopping, best iteration is:\n",
      "[386]\tvalid_0's auc: 0.886056\n",
      "--- FINISHED \\ whole score: 0.8693 ---\n",
      "---- id = 768 -----\n"
     ]
    },
    {
     "name": "stderr",
     "output_type": "stream",
     "text": [
      "/home/umhrysnb/anaconda3/lib/python3.8/site-packages/lightgbm/basic.py:1286: UserWarning: Overriding the parameters from Reference Dataset.\n",
      "  warnings.warn('Overriding the parameters from Reference Dataset.')\n",
      "/home/umhrysnb/anaconda3/lib/python3.8/site-packages/lightgbm/basic.py:1098: UserWarning: categorical_column in param dict is overridden.\n",
      "  warnings.warn('{} in param dict is overridden.'.format(cat_alias))\n"
     ]
    },
    {
     "name": "stdout",
     "output_type": "stream",
     "text": [
      "Training until validation scores don't improve for 100 rounds\n",
      "Early stopping, best iteration is:\n",
      "[515]\tvalid_0's auc: 0.726308\n",
      "Training until validation scores don't improve for 100 rounds\n",
      "Early stopping, best iteration is:\n",
      "[409]\tvalid_0's auc: 0.723948\n",
      "Training until validation scores don't improve for 100 rounds\n",
      "Early stopping, best iteration is:\n",
      "[291]\tvalid_0's auc: 0.725047\n",
      "Training until validation scores don't improve for 100 rounds\n",
      "Early stopping, best iteration is:\n",
      "[298]\tvalid_0's auc: 0.731929\n",
      "--- FINISHED \\ whole score: 0.7266 ---\n",
      "56486\n",
      "CPU times: user 1d 21h 20min 32s, sys: 51min 58s, total: 1d 22h 12min 31s\n",
      "Wall time: 2h 5min 13s\n"
     ]
    }
   ],
   "source": [
    "%%time\n",
    "df_pred_all = pd.DataFrame()\n",
    "df_score_all = pd.DataFrame(index=ELAPSED_MIN)\n",
    "models_list_list = []\n",
    "\n",
    "for elapsed_min in ELAPSED_MIN:\n",
    "    print(f'===== {elapsed_min} =====')\n",
    "    train_features, y_train = get_train_all_features(elapsed_min, train_log_list, train_y_list)\n",
    "    test_features = get_test_all_feature(elapsed_min)\n",
    "\n",
    "    df_pred = pd.DataFrame(index=test_features['session_id'])\n",
    "    train_features.drop(columns=['session_id'], inplace=True)\n",
    "    test_features.drop(columns=['session_id'], inplace=True)\n",
    "    \n",
    "    models_list = []\n",
    "    for target in y_train.columns:\n",
    "        if target == 'session_id':\n",
    "            continue\n",
    "        \n",
    "        print(f\"---- id = {target} -----\")\n",
    "        oof, models, score = train_lgbm(train_features, y_train[target])\n",
    "        models_list.append(models)\n",
    "\n",
    "        pred = predict(models, test_features)\n",
    "        df_pred[target] = pred\n",
    "        df_score_all.loc[elapsed_min, target] = score\n",
    "        \n",
    "    models_list_list.append(models_list)\n",
    "    df_pred_all = pd.concat([df_pred_all, df_pred])\n",
    "    print(len(df_pred_all))"
   ]
  },
  {
   "cell_type": "code",
   "execution_count": 42,
   "metadata": {},
   "outputs": [
    {
     "data": {
      "text/html": [
       "<div>\n",
       "<style scoped>\n",
       "    .dataframe tbody tr th:only-of-type {\n",
       "        vertical-align: middle;\n",
       "    }\n",
       "\n",
       "    .dataframe tbody tr th {\n",
       "        vertical-align: top;\n",
       "    }\n",
       "\n",
       "    .dataframe thead th {\n",
       "        text-align: right;\n",
       "    }\n",
       "</style>\n",
       "<table border=\"1\" class=\"dataframe\">\n",
       "  <thead>\n",
       "    <tr style=\"text-align: right;\">\n",
       "      <th></th>\n",
       "      <th>38</th>\n",
       "      <th>110</th>\n",
       "      <th>113</th>\n",
       "      <th>114</th>\n",
       "      <th>134</th>\n",
       "      <th>171</th>\n",
       "      <th>172</th>\n",
       "      <th>173</th>\n",
       "      <th>376</th>\n",
       "      <th>435</th>\n",
       "      <th>467</th>\n",
       "      <th>537</th>\n",
       "      <th>539</th>\n",
       "      <th>629</th>\n",
       "      <th>768</th>\n",
       "    </tr>\n",
       "    <tr>\n",
       "      <th>session_id</th>\n",
       "      <th></th>\n",
       "      <th></th>\n",
       "      <th></th>\n",
       "      <th></th>\n",
       "      <th></th>\n",
       "      <th></th>\n",
       "      <th></th>\n",
       "      <th></th>\n",
       "      <th></th>\n",
       "      <th></th>\n",
       "      <th></th>\n",
       "      <th></th>\n",
       "      <th></th>\n",
       "      <th></th>\n",
       "      <th></th>\n",
       "    </tr>\n",
       "  </thead>\n",
       "  <tbody>\n",
       "    <tr>\n",
       "      <th>663721</th>\n",
       "      <td>0.084830</td>\n",
       "      <td>0.015274</td>\n",
       "      <td>0.016923</td>\n",
       "      <td>0.273338</td>\n",
       "      <td>0.059053</td>\n",
       "      <td>0.093039</td>\n",
       "      <td>0.001064</td>\n",
       "      <td>0.071332</td>\n",
       "      <td>0.143537</td>\n",
       "      <td>0.018601</td>\n",
       "      <td>0.015905</td>\n",
       "      <td>0.001158</td>\n",
       "      <td>0.050283</td>\n",
       "      <td>0.075182</td>\n",
       "      <td>0.022762</td>\n",
       "    </tr>\n",
       "    <tr>\n",
       "      <th>663761</th>\n",
       "      <td>0.225642</td>\n",
       "      <td>0.086428</td>\n",
       "      <td>0.360441</td>\n",
       "      <td>0.494684</td>\n",
       "      <td>0.276311</td>\n",
       "      <td>0.156338</td>\n",
       "      <td>0.399049</td>\n",
       "      <td>0.026057</td>\n",
       "      <td>0.303417</td>\n",
       "      <td>0.005537</td>\n",
       "      <td>0.007680</td>\n",
       "      <td>0.007498</td>\n",
       "      <td>0.280894</td>\n",
       "      <td>0.000838</td>\n",
       "      <td>0.507436</td>\n",
       "    </tr>\n",
       "    <tr>\n",
       "      <th>663763</th>\n",
       "      <td>0.271042</td>\n",
       "      <td>0.054439</td>\n",
       "      <td>0.119405</td>\n",
       "      <td>0.865110</td>\n",
       "      <td>0.448861</td>\n",
       "      <td>0.008613</td>\n",
       "      <td>0.003984</td>\n",
       "      <td>0.002733</td>\n",
       "      <td>0.215836</td>\n",
       "      <td>0.028140</td>\n",
       "      <td>0.057002</td>\n",
       "      <td>0.000732</td>\n",
       "      <td>0.017465</td>\n",
       "      <td>0.013638</td>\n",
       "      <td>0.051168</td>\n",
       "    </tr>\n",
       "    <tr>\n",
       "      <th>663775</th>\n",
       "      <td>0.041786</td>\n",
       "      <td>0.015483</td>\n",
       "      <td>0.020866</td>\n",
       "      <td>0.150245</td>\n",
       "      <td>0.257015</td>\n",
       "      <td>0.131807</td>\n",
       "      <td>0.014734</td>\n",
       "      <td>0.649858</td>\n",
       "      <td>0.045159</td>\n",
       "      <td>0.200413</td>\n",
       "      <td>0.022921</td>\n",
       "      <td>0.002874</td>\n",
       "      <td>0.072442</td>\n",
       "      <td>0.007965</td>\n",
       "      <td>0.224136</td>\n",
       "    </tr>\n",
       "    <tr>\n",
       "      <th>663778</th>\n",
       "      <td>0.245837</td>\n",
       "      <td>0.008837</td>\n",
       "      <td>0.152508</td>\n",
       "      <td>0.201549</td>\n",
       "      <td>0.125345</td>\n",
       "      <td>0.072845</td>\n",
       "      <td>0.009683</td>\n",
       "      <td>0.078135</td>\n",
       "      <td>0.044527</td>\n",
       "      <td>0.064755</td>\n",
       "      <td>0.003676</td>\n",
       "      <td>0.016154</td>\n",
       "      <td>0.040702</td>\n",
       "      <td>0.001603</td>\n",
       "      <td>0.067167</td>\n",
       "    </tr>\n",
       "  </tbody>\n",
       "</table>\n",
       "</div>"
      ],
      "text/plain": [
       "                  38       110       113       114       134       171  \\\n",
       "session_id                                                               \n",
       "663721      0.084830  0.015274  0.016923  0.273338  0.059053  0.093039   \n",
       "663761      0.225642  0.086428  0.360441  0.494684  0.276311  0.156338   \n",
       "663763      0.271042  0.054439  0.119405  0.865110  0.448861  0.008613   \n",
       "663775      0.041786  0.015483  0.020866  0.150245  0.257015  0.131807   \n",
       "663778      0.245837  0.008837  0.152508  0.201549  0.125345  0.072845   \n",
       "\n",
       "                 172       173       376       435       467       537  \\\n",
       "session_id                                                               \n",
       "663721      0.001064  0.071332  0.143537  0.018601  0.015905  0.001158   \n",
       "663761      0.399049  0.026057  0.303417  0.005537  0.007680  0.007498   \n",
       "663763      0.003984  0.002733  0.215836  0.028140  0.057002  0.000732   \n",
       "663775      0.014734  0.649858  0.045159  0.200413  0.022921  0.002874   \n",
       "663778      0.009683  0.078135  0.044527  0.064755  0.003676  0.016154   \n",
       "\n",
       "                 539       629       768  \n",
       "session_id                                \n",
       "663721      0.050283  0.075182  0.022762  \n",
       "663761      0.280894  0.000838  0.507436  \n",
       "663763      0.017465  0.013638  0.051168  \n",
       "663775      0.072442  0.007965  0.224136  \n",
       "663778      0.040702  0.001603  0.067167  "
      ]
     },
     "execution_count": 42,
     "metadata": {},
     "output_type": "execute_result"
    }
   ],
   "source": [
    "df_pred_all.head()"
   ]
  },
  {
   "cell_type": "code",
   "execution_count": 43,
   "metadata": {},
   "outputs": [
    {
     "data": {
      "text/html": [
       "<div>\n",
       "<style scoped>\n",
       "    .dataframe tbody tr th:only-of-type {\n",
       "        vertical-align: middle;\n",
       "    }\n",
       "\n",
       "    .dataframe tbody tr th {\n",
       "        vertical-align: top;\n",
       "    }\n",
       "\n",
       "    .dataframe thead th {\n",
       "        text-align: right;\n",
       "    }\n",
       "</style>\n",
       "<table border=\"1\" class=\"dataframe\">\n",
       "  <thead>\n",
       "    <tr style=\"text-align: right;\">\n",
       "      <th></th>\n",
       "      <th>38</th>\n",
       "      <th>110</th>\n",
       "      <th>113</th>\n",
       "      <th>114</th>\n",
       "      <th>134</th>\n",
       "      <th>171</th>\n",
       "      <th>172</th>\n",
       "      <th>173</th>\n",
       "      <th>376</th>\n",
       "      <th>435</th>\n",
       "      <th>467</th>\n",
       "      <th>537</th>\n",
       "      <th>539</th>\n",
       "      <th>629</th>\n",
       "      <th>768</th>\n",
       "    </tr>\n",
       "  </thead>\n",
       "  <tbody>\n",
       "    <tr>\n",
       "      <th>0</th>\n",
       "      <td>0.828399</td>\n",
       "      <td>0.799798</td>\n",
       "      <td>0.804072</td>\n",
       "      <td>0.759960</td>\n",
       "      <td>0.746501</td>\n",
       "      <td>0.871270</td>\n",
       "      <td>0.874591</td>\n",
       "      <td>0.866333</td>\n",
       "      <td>0.757023</td>\n",
       "      <td>0.869878</td>\n",
       "      <td>0.872320</td>\n",
       "      <td>0.907390</td>\n",
       "      <td>0.860034</td>\n",
       "      <td>0.921245</td>\n",
       "      <td>0.748148</td>\n",
       "    </tr>\n",
       "    <tr>\n",
       "      <th>3</th>\n",
       "      <td>0.824042</td>\n",
       "      <td>0.790052</td>\n",
       "      <td>0.796656</td>\n",
       "      <td>0.752363</td>\n",
       "      <td>0.738530</td>\n",
       "      <td>0.861457</td>\n",
       "      <td>0.865750</td>\n",
       "      <td>0.858235</td>\n",
       "      <td>0.749669</td>\n",
       "      <td>0.855267</td>\n",
       "      <td>0.862127</td>\n",
       "      <td>0.897589</td>\n",
       "      <td>0.848912</td>\n",
       "      <td>0.909648</td>\n",
       "      <td>0.734532</td>\n",
       "    </tr>\n",
       "    <tr>\n",
       "      <th>5</th>\n",
       "      <td>0.823418</td>\n",
       "      <td>0.781807</td>\n",
       "      <td>0.788969</td>\n",
       "      <td>0.747499</td>\n",
       "      <td>0.734321</td>\n",
       "      <td>0.855475</td>\n",
       "      <td>0.859963</td>\n",
       "      <td>0.853301</td>\n",
       "      <td>0.747775</td>\n",
       "      <td>0.847324</td>\n",
       "      <td>0.856509</td>\n",
       "      <td>0.892585</td>\n",
       "      <td>0.840143</td>\n",
       "      <td>0.896547</td>\n",
       "      <td>0.729861</td>\n",
       "    </tr>\n",
       "    <tr>\n",
       "      <th>10</th>\n",
       "      <td>0.820700</td>\n",
       "      <td>0.778953</td>\n",
       "      <td>0.783303</td>\n",
       "      <td>0.752192</td>\n",
       "      <td>0.741331</td>\n",
       "      <td>0.842081</td>\n",
       "      <td>0.838016</td>\n",
       "      <td>0.846482</td>\n",
       "      <td>0.755981</td>\n",
       "      <td>0.835566</td>\n",
       "      <td>0.840053</td>\n",
       "      <td>0.878564</td>\n",
       "      <td>0.827542</td>\n",
       "      <td>0.869294</td>\n",
       "      <td>0.726578</td>\n",
       "    </tr>\n",
       "  </tbody>\n",
       "</table>\n",
       "</div>"
      ],
      "text/plain": [
       "          38       110       113       114       134       171       172  \\\n",
       "0   0.828399  0.799798  0.804072  0.759960  0.746501  0.871270  0.874591   \n",
       "3   0.824042  0.790052  0.796656  0.752363  0.738530  0.861457  0.865750   \n",
       "5   0.823418  0.781807  0.788969  0.747499  0.734321  0.855475  0.859963   \n",
       "10  0.820700  0.778953  0.783303  0.752192  0.741331  0.842081  0.838016   \n",
       "\n",
       "         173       376       435       467       537       539       629  \\\n",
       "0   0.866333  0.757023  0.869878  0.872320  0.907390  0.860034  0.921245   \n",
       "3   0.858235  0.749669  0.855267  0.862127  0.897589  0.848912  0.909648   \n",
       "5   0.853301  0.747775  0.847324  0.856509  0.892585  0.840143  0.896547   \n",
       "10  0.846482  0.755981  0.835566  0.840053  0.878564  0.827542  0.869294   \n",
       "\n",
       "         768  \n",
       "0   0.748148  \n",
       "3   0.734532  \n",
       "5   0.729861  \n",
       "10  0.726578  "
      ]
     },
     "execution_count": 43,
     "metadata": {},
     "output_type": "execute_result"
    }
   ],
   "source": [
    "df_score_all"
   ]
  },
  {
   "cell_type": "code",
   "execution_count": 44,
   "metadata": {},
   "outputs": [
    {
     "name": "stdout",
     "output_type": "stream",
     "text": [
      "0     0.832464\n",
      "3     0.822989\n",
      "5     0.817033\n",
      "10    0.809109\n",
      "dtype: float64\n",
      "- cv = 0.8203987086166658\n"
     ]
    }
   ],
   "source": [
    "cv = df_score_all.mean(axis=1)\n",
    "print(cv)\n",
    "print('- cv =', cv.mean())"
   ]
  },
  {
   "cell_type": "code",
   "execution_count": 45,
   "metadata": {},
   "outputs": [],
   "source": [
    "assert len(df_pred_all) == len(test)"
   ]
  },
  {
   "cell_type": "code",
   "execution_count": 46,
   "metadata": {},
   "outputs": [],
   "source": [
    "submission = pd.merge(test[['session_id']], df_pred_all.reset_index(), on='session_id', how='inner')\n",
    "assert len(submission) == len(test)"
   ]
  },
  {
   "cell_type": "code",
   "execution_count": 48,
   "metadata": {},
   "outputs": [],
   "source": [
    "submission.drop(columns='session_id').to_csv('../outputs/submission.csv', index=False)"
   ]
  },
  {
   "cell_type": "code",
   "execution_count": null,
   "metadata": {},
   "outputs": [],
   "source": []
  },
  {
   "cell_type": "markdown",
   "metadata": {},
   "source": [
    "#### baseline_8: クーポン発行とターゲットの購買実績\n",
    "- feat = 344\n",
    "- Wall time: 2h 5min 13s\n",
    "- cv = 0.820398 (0.832/0.822/0.817/0.809)\n",
    "- LB = \n",
    "\n",
    "#### baseline_7: userごとのカテゴリの過去の購買実績\n",
    "- feat = 329\n",
    "- Wall time: 1h 59min 16s\n",
    "- cv = 0.82148\n",
    "- LB = 0.7671\n",
    "\n",
    "#### baseline_6: sesssion内のターゲットの購買\n",
    "- feat = 89\n",
    "- Wall time: 37min 47s\n",
    "- cv = 0.66015\n",
    "- LB = 0.6247\n",
    "\n",
    "#### baseline_5\n",
    "- feat = 74\n",
    "- Wall time: 39min 18s\n",
    "- cv = 0.66859\n",
    "- LB = 0.6230"
   ]
  },
  {
   "cell_type": "code",
   "execution_count": null,
   "metadata": {},
   "outputs": [],
   "source": []
  }
 ],
 "metadata": {
  "kernelspec": {
   "display_name": "Python 3",
   "language": "python",
   "name": "python3"
  },
  "language_info": {
   "codemirror_mode": {
    "name": "ipython",
    "version": 3
   },
   "file_extension": ".py",
   "mimetype": "text/x-python",
   "name": "python",
   "nbconvert_exporter": "python",
   "pygments_lexer": "ipython3",
   "version": "3.8.3"
  }
 },
 "nbformat": 4,
 "nbformat_minor": 4
}
